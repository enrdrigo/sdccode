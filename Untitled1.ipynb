{
 "cells": [
  {
   "cell_type": "code",
   "execution_count": 1,
   "id": "f5287c2b",
   "metadata": {},
   "outputs": [],
   "source": [
    "import numpy as np\n",
    "from modules import bayesianL\n",
    "from modules import cubicharmonics\n",
    "import matplotlib.pyplot as plt\n",
    "import copy"
   ]
  },
  {
   "cell_type": "code",
   "execution_count": 2,
   "id": "b87a4649",
   "metadata": {},
   "outputs": [
    {
     "name": "stdout",
     "output_type": "stream",
     "text": [
      "[0. 1. 0.] [0. 0. 1.] [1. 0. 0.]\n"
     ]
    }
   ],
   "source": [
    "data=np.transpose(np.loadtxt('../nlttk.out'))\n",
    "\n",
    "sdata, grid = bayesianL.generatesorteddata(data, 500)"
   ]
  },
  {
   "cell_type": "code",
   "execution_count": 3,
   "id": "26006332",
   "metadata": {},
   "outputs": [
    {
     "name": "stdout",
     "output_type": "stream",
     "text": [
      "numero di elementi:  499\n",
      "numero cicli teornicamente necessari 373501\n",
      "numero cicli compiuti 381\n",
      "numero di elementi non equivalenti per simmetria cubica:  118\n"
     ]
    }
   ],
   "source": [
    "#Medio i dati su tutti i punti equivalenti per simmetria cubica e \n",
    "#ritorno la lista dei nuovi dati 'simmetrizzati' in gplot e sd\n",
    "C=bayesianL.cubicarray(list(grid), True)\n",
    "dic, dics=bayesianL.datadicG(data[1][:], data[2][:],cubicharmonics.Gvecgenerateall(500)[1:])\n",
    "gplot, dataplot, datasigmaplot=bayesianL.datiplot(C, dic, dics)\n",
    "sd=np.array([dataplot, datasigmaplot*np.sqrt(10.0)])"
   ]
  },
  {
   "cell_type": "code",
   "execution_count": 4,
   "id": "9533a598",
   "metadata": {},
   "outputs": [],
   "source": [
    "N=343\n",
    "phi0, conta= bayesianL.computephicubichandL(gplot[:N].T, np.ones(len(gplot[:N])), 6, nL=0)\n",
    "phi1, conta= bayesianL.computephicubichandL(gplot[:N].T, np.ones(len(gplot[:N])), 6, nL=1)\n",
    "phi2, conta= bayesianL.computephicubichandL(gplot[:N].T, np.ones(len(gplot[:N])), 6, nL=2)"
   ]
  },
  {
   "cell_type": "code",
   "execution_count": 5,
   "id": "0b160661",
   "metadata": {},
   "outputs": [
    {
     "data": {
      "application/vnd.jupyter.widget-view+json": {
       "model_id": "7c1e959eede54bcb9c66be5d15d379df",
       "version_major": 2,
       "version_minor": 0
      },
      "text/plain": [
       "Canvas(toolbar=Toolbar(toolitems=[('Home', 'Reset original view', 'home', 'home'), ('Back', 'Back to previous …"
      ]
     },
     "metadata": {},
     "output_type": "display_data"
    },
    {
     "data": {
      "text/plain": [
       "<matplotlib.legend.Legend at 0x7ff1ba7a9f10>"
      ]
     },
     "execution_count": 5,
     "metadata": {},
     "output_type": "execute_result"
    }
   ],
   "source": [
    "%matplotlib widget\n",
    "plt.plot(np.linalg.norm(gplot[:N], axis=1), phi0[3], '.', label='L=0')\n",
    "plt.plot(np.linalg.norm(gplot[:N], axis=1), phi1[6], '.', label='L=0,4')\n",
    "plt.plot(np.linalg.norm(gplot, axis=1), phi2[6], '.', label='L=0,4,6')\n",
    "plt.legend()"
   ]
  },
  {
   "cell_type": "code",
   "execution_count": null,
   "id": "5563a5fb",
   "metadata": {},
   "outputs": [],
   "source": []
  },
  {
   "cell_type": "code",
   "execution_count": null,
   "id": "d518cd91",
   "metadata": {},
   "outputs": [],
   "source": []
  }
 ],
 "metadata": {
  "kernelspec": {
   "display_name": "Python 3 (ipykernel)",
   "language": "python",
   "name": "python3"
  },
  "language_info": {
   "codemirror_mode": {
    "name": "ipython",
    "version": 3
   },
   "file_extension": ".py",
   "mimetype": "text/x-python",
   "name": "python",
   "nbconvert_exporter": "python",
   "pygments_lexer": "ipython3",
   "version": "3.9.7"
  }
 },
 "nbformat": 4,
 "nbformat_minor": 5
}
