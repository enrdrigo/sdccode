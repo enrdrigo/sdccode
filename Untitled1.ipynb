{
 "cells": [
  {
   "cell_type": "code",
   "execution_count": 1,
   "id": "93c6d035",
   "metadata": {},
   "outputs": [],
   "source": [
    "import numpy as np\n",
    "from modules import bayesianL\n",
    "from modules import cubicharmonics\n",
    "import matplotlib.pyplot as plt\n",
    "import copy"
   ]
  },
  {
   "cell_type": "code",
   "execution_count": 2,
   "id": "58529fe6",
   "metadata": {},
   "outputs": [
    {
     "name": "stdout",
     "output_type": "stream",
     "text": [
      "[0. 0. 1.] [1. 0. 0.] [0. 1. 0.]\n"
     ]
    }
   ],
   "source": [
    "data=np.transpose(np.loadtxt('../nlttk.out'))\n",
    "\n",
    "sdata, grid = bayesianL.generatesorteddata(data, 500)"
   ]
  },
  {
   "cell_type": "code",
   "execution_count": 3,
   "id": "04608b2c",
   "metadata": {},
   "outputs": [
    {
     "name": "stdout",
     "output_type": "stream",
     "text": [
      "numero di elementi:  499\n",
      "numero cicli teornicamente necessari 373501\n",
      "numero cicli compiuti 381\n",
      "numero di elementi non equivalenti per simmetria cubica:  118\n"
     ]
    }
   ],
   "source": [
    "#Medio i dati su tutti i punti equivalenti per simmetria cubica e \n",
    "#ritorno la lista dei nuovi dati 'simmetrizzati' in gplot e sd\n",
    "C=bayesianL.cubicarray(list(grid), True)\n",
    "dic, dics=bayesianL.datadicG(data[1], data[2],cubicharmonics.Gvecgenerateall(500)[1:])\n",
    "gplot, dataplot, datasigmaplot=bayesianL.datiplot(C, dic, dics)\n",
    "sd=np.array([dataplot, datasigmaplot*np.sqrt(10.0)])"
   ]
  },
  {
   "cell_type": "code",
   "execution_count": 4,
   "id": "063917e9",
   "metadata": {},
   "outputs": [
    {
     "name": "stdout",
     "output_type": "stream",
     "text": [
      "(118, 1)\n",
      "[[33.28718543]]\n",
      "(118, 1)\n",
      "[[18.5925156 ]\n",
      " [ 7.34733491]]\n",
      "(118, 1)\n",
      "[[12.50462183]\n",
      " [ 6.08789378]\n",
      " [ 0.41981371]]\n",
      "(118, 1)\n",
      "[[9.44101791]\n",
      " [3.06360392]\n",
      " [1.09233121]\n",
      " [0.41981371]]\n",
      "(118, 2)\n",
      "[[33.28718543 -1.86695455]]\n",
      "(118, 2)\n",
      "[[18.5925156  -1.22701658]\n",
      " [ 7.34733491 -0.31996899]]\n",
      "(118, 2)\n",
      "[[12.50462183 -0.86827354]\n",
      " [ 6.08789378 -0.35874304]\n",
      " [ 0.41981371  0.01292468]]\n",
      "(118, 2)\n",
      "[[ 9.44101791 -0.63949966]\n",
      " [ 3.06360392 -0.22877388]\n",
      " [ 1.09233121 -0.07790926]\n",
      " [ 0.41981371  0.01292468]]\n",
      "(118, 3)\n",
      "[[33.28718543 -1.86695455 -6.59084647]]\n",
      "(118, 3)\n",
      "[[18.5925156  -1.22701658  1.57064485]\n",
      " [ 7.34733491 -0.31996899 -4.08074566]]\n",
      "(118, 3)\n",
      "[[12.50462183 -0.86827354  4.54270674]\n",
      " [ 6.08789378 -0.35874304 -2.97206189]\n",
      " [ 0.41981371  0.01292468 -0.36956125]]\n",
      "(118, 3)\n",
      "[[ 9.44101791 -0.63949966  5.65841698]\n",
      " [ 3.06360392 -0.22877388 -1.11571024]\n",
      " [ 1.09233121 -0.07790926 -0.55861457]\n",
      " [ 0.41981371  0.01292468 -0.36956125]]\n"
     ]
    }
   ],
   "source": [
    "phi0, conta= bayesianL.computephicubicL(gplot.T, np.ones(len(gplot)), 5, nL=0)\n",
    "phi1, conta= bayesianL.computephicubicL(gplot.T, np.ones(len(gplot)), 5, nL=1)\n",
    "phi2, conta= bayesianL.computephicubicL(gplot.T, np.ones(len(gplot)), 5, nL=2)"
   ]
  },
  {
   "cell_type": "code",
   "execution_count": 22,
   "id": "c059e18e",
   "metadata": {},
   "outputs": [
    {
     "data": {
      "application/vnd.jupyter.widget-view+json": {
       "model_id": "801fc57de08f4adc8dec5377d9d3d114",
       "version_major": 2,
       "version_minor": 0
      },
      "text/plain": [
       "Canvas(toolbar=Toolbar(toolitems=[('Home', 'Reset original view', 'home', 'home'), ('Back', 'Back to previous …"
      ]
     },
     "metadata": {},
     "output_type": "display_data"
    },
    {
     "data": {
      "text/plain": [
       "<matplotlib.legend.Legend at 0x7fefde6ceb20>"
      ]
     },
     "execution_count": 22,
     "metadata": {},
     "output_type": "execute_result"
    }
   ],
   "source": [
    "%matplotlib widget\n",
    "plt.plot(np.linalg.norm(gplot, axis=1), phi0[3], '.', label='L=0')\n",
    "plt.plot(np.linalg.norm(gplot, axis=1), phi0[4], '.', label='L=0,2')\n",
    "#plt.plot(np.linalg.norm(gplot, axis=1), phi2[6], '.', label='L=0,2,4')\n",
    "plt.legend()"
   ]
  },
  {
   "cell_type": "code",
   "execution_count": null,
   "id": "b4c27f3b",
   "metadata": {},
   "outputs": [],
   "source": []
  },
  {
   "cell_type": "code",
   "execution_count": null,
   "id": "a70f7bc1",
   "metadata": {},
   "outputs": [],
   "source": []
  }
 ],
 "metadata": {
  "kernelspec": {
   "display_name": "Python 3 (ipykernel)",
   "language": "python",
   "name": "python3"
  },
  "language_info": {
   "codemirror_mode": {
    "name": "ipython",
    "version": 3
   },
   "file_extension": ".py",
   "mimetype": "text/x-python",
   "name": "python",
   "nbconvert_exporter": "python",
   "pygments_lexer": "ipython3",
   "version": "3.9.7"
  }
 },
 "nbformat": 4,
 "nbformat_minor": 5
}
