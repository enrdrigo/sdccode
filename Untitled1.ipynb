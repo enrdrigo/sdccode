{
 "cells": [
  {
   "cell_type": "code",
   "execution_count": 1,
   "id": "f5287c2b",
   "metadata": {},
   "outputs": [],
   "source": [
    "import numpy as np\n",
    "from modules import bayesianL\n",
    "from modules import cubicharmonics\n",
    "import matplotlib.pyplot as plt\n",
    "import copy"
   ]
  },
  {
   "cell_type": "code",
   "execution_count": 2,
   "id": "b87a4649",
   "metadata": {},
   "outputs": [
    {
     "name": "stdout",
     "output_type": "stream",
     "text": [
      "[0. 0. 1.] [0. 1. 0.] [1. 0. 0.]\n"
     ]
    }
   ],
   "source": [
    "data=np.transpose(np.loadtxt('../nlttk.out'))\n",
    "\n",
    "sdata, grid = bayesianL.generatesorteddata(data, 500)"
   ]
  },
  {
   "cell_type": "code",
   "execution_count": 3,
   "id": "26006332",
   "metadata": {},
   "outputs": [
    {
     "name": "stdout",
     "output_type": "stream",
     "text": [
      "numero di elementi:  499\n",
      "numero cicli teornicamente necessari 373501\n",
      "numero cicli compiuti 381\n",
      "numero di elementi non equivalenti per simmetria cubica:  118\n"
     ]
    }
   ],
   "source": [
    "#Medio i dati su tutti i punti equivalenti per simmetria cubica e \n",
    "#ritorno la lista dei nuovi dati 'simmetrizzati' in gplot e sd\n",
    "C=bayesianL.cubicarray(list(grid), True)\n",
    "dic, dics=bayesianL.datadicG(data[1][:], data[2][:],cubicharmonics.Gvecgenerateall(500)[1:])\n",
    "gplot, dataplot, datasigmaplot=bayesianL.datiplot(C, dic, dics)\n",
    "sd=np.array([dataplot, datasigmaplot*np.sqrt(10.0)])"
   ]
  },
  {
   "cell_type": "code",
   "execution_count": 4,
   "id": "9533a598",
   "metadata": {},
   "outputs": [
    {
     "name": "stdout",
     "output_type": "stream",
     "text": [
      "numero di armoniche cubiche di grado  2  :  1\n",
      "[[0, 0, 2], [0, 2, 0], [2, 0, 0]] 0\n",
      "33.28718542931763 0 0\n",
      "[33.28718543] 0\n",
      "numero di armoniche cubiche di grado  4  :  2\n",
      "[[0, 0, 4], [0, 4, 0], [4, 0, 0]] 0\n",
      "[[0, 2, 2], [2, 0, 2], [2, 2, 0]] 1\n",
      "18.59251560137726 0 0\n",
      "7.347334913970184 1 0\n",
      "[18.5925156] 0\n",
      "numero di armoniche cubiche di grado  6  :  3\n",
      "[[0, 0, 6], [0, 6, 0], [6, 0, 0]] 0\n",
      "[[0, 2, 4], [0, 4, 2], [2, 0, 4], [2, 4, 0], [4, 0, 2], [4, 2, 0]] 1\n",
      "[[2, 2, 2]] 2\n",
      "12.504621826311565 0 0\n",
      "6.0878937750656865 1 0\n",
      "0.41981371296816555 2 0\n",
      "[12.50462183] 0\n",
      "numero di armoniche cubiche di grado  8  :  4\n",
      "[[0, 0, 8], [0, 8, 0], [8, 0, 0]] 0\n",
      "[[0, 2, 6], [0, 6, 2], [2, 0, 6], [2, 6, 0], [6, 0, 2], [6, 2, 0]] 1\n",
      "[[0, 4, 4], [4, 0, 4], [4, 4, 0]] 2\n",
      "[[2, 2, 4], [2, 4, 2], [4, 2, 2]] 3\n",
      "9.441017906567106 0 0\n",
      "3.0636039197444567 1 0\n",
      "1.09233121469245 2 0\n",
      "0.41981371296816555 3 0\n",
      "[9.44101791] 0\n",
      "numero di armoniche cubiche di grado  10  :  5\n",
      "[[0, 0, 10], [0, 10, 0], [10, 0, 0]] 0\n",
      "[[0, 2, 8], [0, 8, 2], [2, 0, 8], [2, 8, 0], [8, 0, 2], [8, 2, 0]] 1\n",
      "[[0, 4, 6], [0, 6, 4], [4, 0, 6], [4, 6, 0], [6, 0, 4], [6, 4, 0]] 2\n",
      "[[2, 2, 6], [2, 6, 2], [6, 2, 2]] 3\n",
      "[[2, 4, 4], [4, 2, 4], [4, 4, 2]] 4\n",
      "7.689212889925283 0 0\n",
      "1.7518050166418255 1 0\n",
      "0.9682992671872201 2 0\n",
      "0.17174981795770553 3 0\n",
      "0.12403194750523001 4 0\n",
      "[7.68921289] 0\n",
      "numero di armoniche cubiche di grado  2  :  1\n",
      "[[0, 0, 2], [0, 2, 0], [2, 0, 0]] 0\n",
      "33.28718542931763 0 0\n",
      "0.3654587599871467 0 1\n",
      "[33.28718543  0.36545876] 0\n"
     ]
    },
    {
     "ename": "IndexError",
     "evalue": "index 1 is out of bounds for axis 0 with size 1",
     "output_type": "error",
     "traceback": [
      "\u001b[0;31m---------------------------------------------------------------------------\u001b[0m",
      "\u001b[0;31mIndexError\u001b[0m                                Traceback (most recent call last)",
      "\u001b[0;32m/var/folders/1x/jxxml8jd56d75klvw4sf34q00000gn/T/ipykernel_2947/3469136711.py\u001b[0m in \u001b[0;36m<module>\u001b[0;34m\u001b[0m\n\u001b[1;32m      1\u001b[0m \u001b[0mN\u001b[0m\u001b[0;34m=\u001b[0m\u001b[0;36m343\u001b[0m\u001b[0;34m\u001b[0m\u001b[0;34m\u001b[0m\u001b[0m\n\u001b[1;32m      2\u001b[0m \u001b[0mphi0\u001b[0m\u001b[0;34m,\u001b[0m \u001b[0mconta\u001b[0m\u001b[0;34m=\u001b[0m \u001b[0mbayesianL\u001b[0m\u001b[0;34m.\u001b[0m\u001b[0mcomputephicubicL\u001b[0m\u001b[0;34m(\u001b[0m\u001b[0mgplot\u001b[0m\u001b[0;34m[\u001b[0m\u001b[0;34m:\u001b[0m\u001b[0mN\u001b[0m\u001b[0;34m]\u001b[0m\u001b[0;34m.\u001b[0m\u001b[0mT\u001b[0m\u001b[0;34m,\u001b[0m \u001b[0mnp\u001b[0m\u001b[0;34m.\u001b[0m\u001b[0mones\u001b[0m\u001b[0;34m(\u001b[0m\u001b[0mlen\u001b[0m\u001b[0;34m(\u001b[0m\u001b[0mgplot\u001b[0m\u001b[0;34m[\u001b[0m\u001b[0;34m:\u001b[0m\u001b[0mN\u001b[0m\u001b[0;34m]\u001b[0m\u001b[0;34m)\u001b[0m\u001b[0;34m)\u001b[0m\u001b[0;34m,\u001b[0m \u001b[0;36m6\u001b[0m\u001b[0;34m,\u001b[0m \u001b[0mnL\u001b[0m\u001b[0;34m=\u001b[0m\u001b[0;36m0\u001b[0m\u001b[0;34m)\u001b[0m\u001b[0;34m\u001b[0m\u001b[0;34m\u001b[0m\u001b[0m\n\u001b[0;32m----> 3\u001b[0;31m \u001b[0mphi1\u001b[0m\u001b[0;34m,\u001b[0m \u001b[0mconta\u001b[0m\u001b[0;34m=\u001b[0m \u001b[0mbayesianL\u001b[0m\u001b[0;34m.\u001b[0m\u001b[0mcomputephicubicL\u001b[0m\u001b[0;34m(\u001b[0m\u001b[0mgplot\u001b[0m\u001b[0;34m[\u001b[0m\u001b[0;34m:\u001b[0m\u001b[0mN\u001b[0m\u001b[0;34m]\u001b[0m\u001b[0;34m.\u001b[0m\u001b[0mT\u001b[0m\u001b[0;34m,\u001b[0m \u001b[0mnp\u001b[0m\u001b[0;34m.\u001b[0m\u001b[0mones\u001b[0m\u001b[0;34m(\u001b[0m\u001b[0mlen\u001b[0m\u001b[0;34m(\u001b[0m\u001b[0mgplot\u001b[0m\u001b[0;34m[\u001b[0m\u001b[0;34m:\u001b[0m\u001b[0mN\u001b[0m\u001b[0;34m]\u001b[0m\u001b[0;34m)\u001b[0m\u001b[0;34m)\u001b[0m\u001b[0;34m,\u001b[0m \u001b[0;36m6\u001b[0m\u001b[0;34m,\u001b[0m \u001b[0mnL\u001b[0m\u001b[0;34m=\u001b[0m\u001b[0;36m1\u001b[0m\u001b[0;34m)\u001b[0m\u001b[0;34m\u001b[0m\u001b[0;34m\u001b[0m\u001b[0m\n\u001b[0m\u001b[1;32m      4\u001b[0m \u001b[0mphi2\u001b[0m\u001b[0;34m,\u001b[0m \u001b[0mconta\u001b[0m\u001b[0;34m=\u001b[0m \u001b[0mbayesianL\u001b[0m\u001b[0;34m.\u001b[0m\u001b[0mcomputephicubicL\u001b[0m\u001b[0;34m(\u001b[0m\u001b[0mgplot\u001b[0m\u001b[0;34m[\u001b[0m\u001b[0;34m:\u001b[0m\u001b[0mN\u001b[0m\u001b[0;34m]\u001b[0m\u001b[0;34m.\u001b[0m\u001b[0mT\u001b[0m\u001b[0;34m,\u001b[0m \u001b[0mnp\u001b[0m\u001b[0;34m.\u001b[0m\u001b[0mones\u001b[0m\u001b[0;34m(\u001b[0m\u001b[0mlen\u001b[0m\u001b[0;34m(\u001b[0m\u001b[0mgplot\u001b[0m\u001b[0;34m[\u001b[0m\u001b[0;34m:\u001b[0m\u001b[0mN\u001b[0m\u001b[0;34m]\u001b[0m\u001b[0;34m)\u001b[0m\u001b[0;34m)\u001b[0m\u001b[0;34m,\u001b[0m \u001b[0;36m6\u001b[0m\u001b[0;34m,\u001b[0m \u001b[0mnL\u001b[0m\u001b[0;34m=\u001b[0m\u001b[0;36m2\u001b[0m\u001b[0;34m)\u001b[0m\u001b[0;34m\u001b[0m\u001b[0;34m\u001b[0m\u001b[0m\n",
      "\u001b[0;32m~/Documents/sdccode/modules/bayesianL.py\u001b[0m in \u001b[0;36mcomputephicubicL\u001b[0;34m(x, betha0, M_v, nL)\u001b[0m\n\u001b[1;32m    269\u001b[0m                 \u001b[0mprint\u001b[0m\u001b[0;34m(\u001b[0m\u001b[0mtest\u001b[0m\u001b[0;34m[\u001b[0m\u001b[0mq\u001b[0m\u001b[0;34m,\u001b[0m \u001b[0mj\u001b[0m\u001b[0;34m]\u001b[0m\u001b[0;34m,\u001b[0m\u001b[0mq\u001b[0m\u001b[0;34m,\u001b[0m \u001b[0mj\u001b[0m\u001b[0;34m)\u001b[0m\u001b[0;34m\u001b[0m\u001b[0;34m\u001b[0m\u001b[0m\n\u001b[1;32m    270\u001b[0m         \u001b[0;32mfor\u001b[0m \u001b[0mj\u001b[0m \u001b[0;32min\u001b[0m \u001b[0mrange\u001b[0m\u001b[0;34m(\u001b[0m\u001b[0mPhicoeffL\u001b[0m\u001b[0;34m.\u001b[0m\u001b[0mshape\u001b[0m\u001b[0;34m[\u001b[0m\u001b[0;36m1\u001b[0m\u001b[0;34m]\u001b[0m\u001b[0;34m)\u001b[0m\u001b[0;34m:\u001b[0m\u001b[0;34m\u001b[0m\u001b[0;34m\u001b[0m\u001b[0m\n\u001b[0;32m--> 271\u001b[0;31m             \u001b[0mprint\u001b[0m\u001b[0;34m(\u001b[0m\u001b[0mPhicoeffL\u001b[0m\u001b[0;34m[\u001b[0m\u001b[0mj\u001b[0m\u001b[0;34m,\u001b[0m\u001b[0;34m:\u001b[0m\u001b[0;34m]\u001b[0m\u001b[0;34m,\u001b[0m \u001b[0mj\u001b[0m\u001b[0;34m)\u001b[0m\u001b[0;34m\u001b[0m\u001b[0;34m\u001b[0m\u001b[0m\n\u001b[0m\u001b[1;32m    272\u001b[0m         \u001b[0;31m# Contraggo le armoniche cubiche ridotte di grado 2*M_v per la matrice dei coefficienti (#x, #c)(#c, #L)-->(#x, #L)\u001b[0m\u001b[0;34m\u001b[0m\u001b[0;34m\u001b[0m\u001b[0m\n\u001b[1;32m    273\u001b[0m         \u001b[0mPhirid\u001b[0m \u001b[0;34m=\u001b[0m \u001b[0;34m(\u001b[0m\u001b[0;34m(\u001b[0m\u001b[0msrid\u001b[0m\u001b[0;34m@\u001b[0m\u001b[0mPhicoeffL\u001b[0m\u001b[0;34m)\u001b[0m\u001b[0;34m.\u001b[0m\u001b[0mT\u001b[0m\u001b[0;34m*\u001b[0m\u001b[0;34m(\u001b[0m\u001b[0mnp\u001b[0m\u001b[0;34m.\u001b[0m\u001b[0mlinalg\u001b[0m\u001b[0;34m.\u001b[0m\u001b[0mnorm\u001b[0m\u001b[0;34m(\u001b[0m\u001b[0mx\u001b[0m\u001b[0;34m,\u001b[0m \u001b[0maxis\u001b[0m\u001b[0;34m=\u001b[0m\u001b[0;36m0\u001b[0m\u001b[0;34m)\u001b[0m\u001b[0;34m)\u001b[0m \u001b[0;34m**\u001b[0m \u001b[0;34m(\u001b[0m\u001b[0;36m2\u001b[0m \u001b[0;34m*\u001b[0m \u001b[0mi\u001b[0m\u001b[0;34m)\u001b[0m\u001b[0;34m)\u001b[0m\u001b[0;34m.\u001b[0m\u001b[0mT\u001b[0m\u001b[0;31m#(PhiL[:nL+1]*(np.linalg.norm(x, axis=0)) ** (2 * i)).T\u001b[0m\u001b[0;34m\u001b[0m\u001b[0;34m\u001b[0m\u001b[0m\n",
      "\u001b[0;31mIndexError\u001b[0m: index 1 is out of bounds for axis 0 with size 1"
     ]
    }
   ],
   "source": [
    "N=343\n",
    "phi0, conta= bayesianL.computephicubicL(gplot[:N].T, np.ones(len(gplot[:N])), 6, nL=0)\n",
    "phi1, conta= bayesianL.computephicubicL(gplot[:N].T, np.ones(len(gplot[:N])), 6, nL=1)\n",
    "phi2, conta= bayesianL.computephicubicL(gplot[:N].T, np.ones(len(gplot[:N])), 6, nL=2)"
   ]
  },
  {
   "cell_type": "code",
   "execution_count": null,
   "id": "0b160661",
   "metadata": {},
   "outputs": [],
   "source": [
    "%matplotlib widget\n",
    "plt.plot(np.linalg.norm(gplot[:N], axis=1), phi0[2], '.', label='L=0')\n",
    "plt.plot(np.linalg.norm(gplot[:N], axis=1), phi1[3], '.', label='L=0,2')\n",
    "#plt.plot(np.linalg.norm(gplot, axis=1), phi2[6], '.', label='L=0,2,4')\n",
    "plt.legend()"
   ]
  },
  {
   "cell_type": "code",
   "execution_count": null,
   "id": "5563a5fb",
   "metadata": {},
   "outputs": [],
   "source": []
  },
  {
   "cell_type": "code",
   "execution_count": null,
   "id": "d518cd91",
   "metadata": {},
   "outputs": [],
   "source": []
  }
 ],
 "metadata": {
  "kernelspec": {
   "display_name": "Python 3 (ipykernel)",
   "language": "python",
   "name": "python3"
  },
  "language_info": {
   "codemirror_mode": {
    "name": "ipython",
    "version": 3
   },
   "file_extension": ".py",
   "mimetype": "text/x-python",
   "name": "python",
   "nbconvert_exporter": "python",
   "pygments_lexer": "ipython3",
   "version": "3.9.7"
  }
 },
 "nbformat": 4,
 "nbformat_minor": 5
}
