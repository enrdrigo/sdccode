{
 "cells": [
  {
   "cell_type": "code",
   "execution_count": 1,
   "id": "b6d1cc29",
   "metadata": {},
   "outputs": [],
   "source": [
    "import numpy as np\n",
    "from modules import bayesianL\n",
    "from modules import cubicharmonics\n",
    "import matplotlib.pyplot as plt\n",
    "import copy\n",
    "\n",
    "def cubicarray(MM, pr=False):\n",
    "    if pr: print('numero di elementi: ', len(MM))\n",
    "    # In input bisogna fornire la lista dei monomi M. Ogni elemento della lista M e'\n",
    "    # una lista [a,b,c] tale per cui M_i=x^{2a}y^{2b}z^{2c} e a+b+c=n, dove n e' il grado del monomio.\n",
    "    # I monomi in input comprendono tutte le permutazioni.\n",
    "    # Voglio ora applicare le permutazioni x,y,z in modo da simmetrizzare i monomi e ottenere le armoniche cubiche.\n",
    "    lenM = len(MM)\n",
    "    M=[]\n",
    "    #Converto M a una lista di liste\n",
    "    for i in range(len(MM)):\n",
    "        M.append(list(MM[i]))\n",
    "    Mt = copy.copy(M)\n",
    "    # devo prima capire nella base dei monomi quali sono legati da permutazione. posso nominarli.\n",
    "    nameC = []\n",
    "    conta = 0\n",
    "    contaci = 0\n",
    "    if pr: print('numero cicli teornicamente necessari', int(len(M) ** 2 * 3 / 2))\n",
    "    for i in range(lenM):\n",
    "        rep = M[i]\n",
    "        # rep (M[i]) e' il mio rappresentante nella lista,\n",
    "        # voglio vedere quali altri elementi sono equivalenti per permutazione a rep\n",
    "        nameC_i = []\n",
    "        if not (rep in Mt): continue\n",
    "        # se rep non sta nella lista temporanea Mt significa che e' equivalente a un elemento precedente: salto il ciclo\n",
    "        nameC_i.append(np.array(rep))\n",
    "        # in nameC_i inserisco gli elementi equivalenti per simmetria a rep\n",
    "        for j in range(i + 1, lenM):\n",
    "            # parto a cercare dall'elemento successivo nella lista, gli altri li ho gia' sicuramente controllati.\n",
    "            Mjt = list(copy.copy(M[j]))\n",
    "        \n",
    "            if rep[0] in Mjt:\n",
    "                Mjt.remove(rep[0])\n",
    "                if rep[1] in Mjt:\n",
    "                    Mjt.remove(rep[1])\n",
    "                    if rep[2] in Mjt:\n",
    "                        # rep e M[j] sono simmetrici per permutazione!\n",
    "                        nameC_i.append(np.array(M[j]))\n",
    "                        Mt.remove(M[j])\n",
    "                        \n",
    "                        # rimuovo da Mt l'elemento M[j] che e' simmetrico per permutazione a rep\n",
    "                        conta += 1\n",
    "        contaci += len(nameC_i)\n",
    "        nameC.append(nameC_i)\n",
    "        # aggiungo la lista degli elementi associati a M[i], nameC_i, alla lista degli elementi NON equivalenti, nameC!\n",
    "    if contaci != len(M): raise ValueError\n",
    "    if pr: print('numero cicli compiuti', conta)\n",
    "    if pr: print('numero di elementi non equivalenti per simmetria cubica: ', len(nameC))\n",
    "    # in output c'e' la lista degli elementi che formano una classe di equivalenza.\n",
    "    return nameC\n",
    "\n",
    "def datadicG(data, sigmadata, G):\n",
    "\n",
    "    dicdata = {}\n",
    "    \n",
    "    dicsigma = {}\n",
    "    \n",
    "    for i in range(len(G)):\n",
    "        dicdata[tuple(G[i])] = data[i]\n",
    "        dicsigma[tuple(G[i])] = sigmadata[i]\n",
    "        \n",
    "    return dicdata, dicsigma\n",
    "\n",
    "def datiplot(C, dic, dics):\n",
    "    gplot=[]\n",
    "    dataplot=[]\n",
    "    datasigmaplot=[]\n",
    "    for i in range(len(C)):\n",
    "        gplot.append(C[i][0])\n",
    "        dataav=0\n",
    "        datasigma=0\n",
    "        for j in range(len(C[i])):\n",
    "            dataav+=dic[tuple(C[i][j])]/len(C[i])  \n",
    "            datasigma+=(dics[tuple(C[i][j])]/len(C[i])  )**2\n",
    "        dataplot.append(dataav)\n",
    "        datasigmaplot.append(np.sqrt(datasigma))\n",
    "    \n",
    "    return np.array(gplot), np.array(dataplot), np.array(datasigmaplot)\n",
    "\n"
   ]
  },
  {
   "cell_type": "code",
   "execution_count": 2,
   "id": "98f0de22",
   "metadata": {},
   "outputs": [
    {
     "name": "stdout",
     "output_type": "stream",
     "text": [
      "[0. 1. 0.] [1. 0. 0.] [0. 0. 1.]\n"
     ]
    }
   ],
   "source": [
    "#Carico i dati in data e li ordino in sdata e grid\n",
    "\n",
    "data=np.transpose(np.loadtxt('../nlttk.out'))\n",
    "\n",
    "sdata, grid = bayesianL.generatesorteddata(data, 500)"
   ]
  },
  {
   "cell_type": "code",
   "execution_count": 3,
   "id": "5900ab30",
   "metadata": {},
   "outputs": [
    {
     "name": "stdout",
     "output_type": "stream",
     "text": [
      "numero di elementi:  499\n",
      "numero cicli teornicamente necessari 373501\n",
      "numero cicli compiuti 381\n",
      "numero di elementi non equivalenti per simmetria cubica:  118\n"
     ]
    }
   ],
   "source": [
    "#Medio i dati su tutti i punti equivalenti per simmetria cubica e ritorno la lista dei nuovi dati 'simmetrizzati'\n",
    "#in gplot e sd\n",
    "C=cubicarray(list(grid), True)\n",
    "dic, dics=datadicG(data[1], data[2],cubicharmonics.Gvecgenerateall(500)[1:])\n",
    "gplot, dataplot, datasigmaplot=datiplot(C, dic, dics)\n",
    "sd=np.array([dataplot, datasigmaplot])"
   ]
  },
  {
   "cell_type": "code",
   "execution_count": 4,
   "id": "6e3d9226",
   "metadata": {},
   "outputs": [
    {
     "name": "stderr",
     "output_type": "stream",
     "text": [
      "WARNING:root:HO IMPOSTATO A MANO CHE 2\\PI/L = 0.13484487571168569\n"
     ]
    },
    {
     "name": "stdout",
     "output_type": "stream",
     "text": [
      "parametri ottimali [   0.49533012  -17.35055934   29.2230084   -66.74101773 -119.79136651\n",
      " -241.85766212 -117.80340288   55.00981355  -15.48742048   50.25328741\n",
      "  -26.81453661   31.61263082  -22.48757593   38.72873981   38.85709273\n",
      "   26.36044947  -18.81729691  -11.24980862  -15.09014409  -19.96185365\n",
      "  -44.07462164  -11.20924265   -2.77822352   12.13151947   -0.34631563\n",
      "   34.81649535   34.12029364   23.6083751   -17.10053123  -19.1295225\n",
      "  -12.63368844]\n",
      "numero di armoniche cubiche 19\n",
      "valore a kmin inferito 0.4654349922988382 bias 0.49533011911271385 dato a kmin 0.7147155658198961\n",
      "determinante matrice delle armoniche cubiche ridotte: 5.943383058344656e+36\n"
     ]
    }
   ],
   "source": [
    "#Calcolo il fit bayesiano con glot e sd come test\n",
    "mN, SN, y_infer, sy_infer=bayesianL.bayesianpol(gplot,sd,12,100,0.001,gplot,True)"
   ]
  },
  {
   "cell_type": "code",
   "execution_count": 5,
   "id": "29958e29",
   "metadata": {
    "scrolled": true
   },
   "outputs": [
    {
     "name": "stderr",
     "output_type": "stream",
     "text": [
      "WARNING:root:HO IMPOSTATO A MANO CHE 2\\PI/L = 0.13484487571168569\n"
     ]
    },
    {
     "name": "stdout",
     "output_type": "stream",
     "text": [
      "parametri ottimali [  0.79176053 -16.09632273  30.83333646 -54.23554706 -16.22712376\n",
      " -69.30445026  -0.54922101   7.65930891 -57.16276544 -20.23968473\n",
      "  -3.20628759 -58.79257311  -2.75245261  21.78089104  29.22622994\n",
      "  20.18467849  -2.46323606   6.50787023  -7.11149174  -7.03450896\n",
      "  -6.9542552   -5.90143271  -0.95716629  16.32893465  11.27049067\n",
      "   0.56796526 -16.56573514  -8.39396127   0.19965894   0.87752371\n",
      "   0.56380362]\n",
      "numero di armoniche cubiche 19\n",
      "valore a kmin inferito 0.6550801412616502 bias 0.791760531914077 dato a kmin 0.7147155658198961\n",
      "determinante matrice delle armoniche cubiche ridotte: -5.3852969149909954e-05\n",
      "grado ottimale 24 grado massimo tentato 28\n"
     ]
    }
   ],
   "source": [
    "#Calcolo il best fit su gplot e sd con 30 dati\n",
    "N=30\n",
    "mN, SN, y_infer, sy_infer, spar, log_evidence_vP=bayesianL.bestfit(gplot, sd, N, gplot, False, True)"
   ]
  },
  {
   "cell_type": "code",
   "execution_count": 6,
   "id": "d95e4d7f",
   "metadata": {},
   "outputs": [
    {
     "data": {
      "application/vnd.jupyter.widget-view+json": {
       "model_id": "fbc88bd2e0264e729465ded2645e7a94",
       "version_major": 2,
       "version_minor": 0
      },
      "text/plain": [
       "Canvas(toolbar=Toolbar(toolitems=[('Home', 'Reset original view', 'home', 'home'), ('Back', 'Back to previous …"
      ]
     },
     "metadata": {},
     "output_type": "display_data"
    },
    {
     "data": {
      "text/plain": [
       "[<matplotlib.lines.Line2D at 0x7fad5446dfa0>]"
      ]
     },
     "execution_count": 6,
     "metadata": {},
     "output_type": "execute_result"
    }
   ],
   "source": [
    "#Plotto la funzione di evidence che ho massimizzato per il best fit nella cella precedente\n",
    "%matplotlib widget\n",
    "plt.plot(log_evidence_vP, '.')"
   ]
  },
  {
   "cell_type": "code",
   "execution_count": 7,
   "id": "dc981405",
   "metadata": {},
   "outputs": [
    {
     "name": "stdout",
     "output_type": "stream",
     "text": [
      "numero di elementi:  499\n",
      "numero cicli teornicamente necessari 373501\n",
      "numero cicli compiuti 381\n",
      "numero di elementi non equivalenti per simmetria cubica:  118\n"
     ]
    },
    {
     "data": {
      "application/vnd.jupyter.widget-view+json": {
       "model_id": "12c1d17e1423478483a23f2f9f6f5a6a",
       "version_major": 2,
       "version_minor": 0
      },
      "text/plain": [
       "Canvas(toolbar=Toolbar(toolitems=[('Home', 'Reset original view', 'home', 'home'), ('Back', 'Back to previous …"
      ]
     },
     "metadata": {},
     "output_type": "display_data"
    },
    {
     "data": {
      "text/plain": [
       "<ErrorbarContainer object of 3 artists>"
      ]
     },
     "execution_count": 7,
     "metadata": {},
     "output_type": "execute_result"
    }
   ],
   "source": [
    "#Plotto il best fit e i dati (gplot e sd)\n",
    "C=cubicarray(list(grid), True)\n",
    "dic, dics=datadicG(data[1], data[2],cubicharmonics.Gvecgenerateall(500)[1:])\n",
    "gplot, dataplot, datasigmaplot=datiplot(C, dic, dics)\n",
    "%matplotlib widget\n",
    "\n",
    "plt.fill_between(np.linalg.norm(gplot[:N], axis=1), y_infer+np.sqrt(sy_infer), y_infer-np.sqrt(sy_infer),  alpha=0.3, color='red')\n",
    "plt.plot(np.linalg.norm(gplot[:N], axis=1), y_infer, '.-', color='red')\n",
    "plt.errorbar(np.linalg.norm(gplot, axis=1), dataplot,datasigmaplot, fmt='.')"
   ]
  },
  {
   "cell_type": "code",
   "execution_count": 15,
   "id": "50bdcc6a",
   "metadata": {
    "scrolled": true
   },
   "outputs": [
    {
     "name": "stderr",
     "output_type": "stream",
     "text": [
      "WARNING:root:HO IMPOSTATO A MANO CHE 2\\PI/L = 0.13484487571168569\n"
     ]
    },
    {
     "name": "stdout",
     "output_type": "stream",
     "text": [
      "parametri ottimali [  0.9515267   -7.82839126  -2.32720451 -12.55498516  -0.90385436\n",
      "   4.36891257  -0.68959113  -5.69299181  -8.9823982   -5.13545449]\n",
      "numero di armoniche cubiche 5\n",
      "valore a kmin inferito 0.7031454705614797 bias 0.9515267033727122 dato a kmin 0.7147155658198961\n",
      "determinante matrice delle armoniche cubiche ridotte: 8.19287222516724e+20\n",
      "grado ottimale 10 grado massimo tentato 28\n",
      "0 [2. 2. 2.] 11\n"
     ]
    },
    {
     "name": "stderr",
     "output_type": "stream",
     "text": [
      "WARNING:root:HO IMPOSTATO A MANO CHE 2\\PI/L = 0.13484487571168569\n"
     ]
    },
    {
     "name": "stdout",
     "output_type": "stream",
     "text": [
      "parametri ottimali [ 0.91889073 -7.6254733   4.99698944 -2.64716865 -0.24044129  0.06412747\n",
      "  1.18158823 -3.34926583  1.03511065 -2.09716385 -1.70030783 -3.43900747\n",
      " -1.03142837]\n",
      "numero di armoniche cubiche 7\n",
      "valore a kmin inferito 0.696507754955347 bias 0.9188907312695247 dato a kmin 0.7147155658198961\n",
      "determinante matrice delle armoniche cubiche ridotte: -50529881.9597916\n",
      "grado ottimale 12 grado massimo tentato 28\n",
      "0 [3. 2. 0.] 12\n"
     ]
    },
    {
     "name": "stderr",
     "output_type": "stream",
     "text": [
      "WARNING:root:HO IMPOSTATO A MANO CHE 2\\PI/L = 0.13484487571168569\n"
     ]
    },
    {
     "name": "stdout",
     "output_type": "stream",
     "text": [
      "parametri ottimali [ 0.82372922 -5.81312729  0.26041856 -4.82127358 -3.52927458 -2.2192458\n",
      " -1.86856391]\n",
      "numero di armoniche cubiche 4\n",
      "valore a kmin inferito 0.6687004521768652 bias 0.8237292212077235 dato a kmin 0.7147155658198961\n",
      "determinante matrice delle armoniche cubiche ridotte: 2.0857217526800675e+19\n",
      "grado ottimale 8 grado massimo tentato 28\n",
      "0 [2. 1. 3.] 13\n"
     ]
    },
    {
     "name": "stderr",
     "output_type": "stream",
     "text": [
      "WARNING:root:HO IMPOSTATO A MANO CHE 2\\PI/L = 0.13484487571168569\n"
     ]
    },
    {
     "name": "stdout",
     "output_type": "stream",
     "text": [
      "parametri ottimali [  0.92372019 -10.19391647   8.48812555 -11.73726531  -9.41252804\n",
      "  -2.96084645  -4.87376536  -3.79767865  -5.71612235  -8.0879263\n",
      "   2.82581532  -2.21386268   1.58942594]\n",
      "numero di armoniche cubiche 7\n",
      "valore a kmin inferito 0.695401498925662 bias 0.9237201935179012 dato a kmin 0.7147155658198961\n",
      "determinante matrice delle armoniche cubiche ridotte: 1.0034115746803996e+18\n",
      "grado ottimale 12 grado massimo tentato 28\n",
      "0 [4. 0. 0.] 14\n"
     ]
    },
    {
     "name": "stderr",
     "output_type": "stream",
     "text": [
      "WARNING:root:HO IMPOSTATO A MANO CHE 2\\PI/L = 0.13484487571168569\n"
     ]
    },
    {
     "name": "stdout",
     "output_type": "stream",
     "text": [
      "parametri ottimali [  0.87861801  -9.49590441   7.12163749 -13.01864365  -9.38255665\n",
      "   6.64822043  -5.28398868  -0.54115996  -8.61425709  -3.68449031\n",
      "   1.94677379  -6.42432659  -1.24661883  -0.78792787   0.95793356\n",
      "  -0.48896302]\n",
      "numero di armoniche cubiche 8\n",
      "valore a kmin inferito 0.6831965018316141 bias 0.8786180131215038 dato a kmin 0.7147155658198961\n",
      "determinante matrice delle armoniche cubiche ridotte: -72353118684062.61\n",
      "grado ottimale 14 grado massimo tentato 28\n",
      "0 [1. 0. 4.] 15\n"
     ]
    },
    {
     "name": "stderr",
     "output_type": "stream",
     "text": [
      "WARNING:root:HO IMPOSTATO A MANO CHE 2\\PI/L = 0.13484487571168569\n"
     ]
    },
    {
     "name": "stdout",
     "output_type": "stream",
     "text": [
      "parametri ottimali [ 0.75147379 -4.86640054  1.29057726 -0.51685148  1.31067195  0.19665759\n",
      "  4.36777989  0.19646776  3.93433011 -1.59869256 -4.21810153  1.27204244\n",
      " -4.28979743  0.96677412  0.87201199  2.09943781]\n",
      "numero di armoniche cubiche 8\n",
      "valore a kmin inferito 0.6471631646600438 bias 0.7514737921234369 dato a kmin 0.7147155658198961\n",
      "determinante matrice delle armoniche cubiche ridotte: 1.5233613642188566e+21\n",
      "grado ottimale 14 grado massimo tentato 28\n",
      "0 [2. 3. 2.] 16\n"
     ]
    },
    {
     "name": "stderr",
     "output_type": "stream",
     "text": [
      "WARNING:root:HO IMPOSTATO A MANO CHE 2\\PI/L = 0.13484487571168569\n"
     ]
    },
    {
     "name": "stdout",
     "output_type": "stream",
     "text": [
      "parametri ottimali [ 0.78405431 -6.86123641  5.66267417  5.22950961  0.08092953  0.37304244\n",
      "  2.69465931 -3.2952274  -2.25697506 -3.85650751  1.85178873 -0.965556\n",
      "  1.5130252 ]\n",
      "numero di armoniche cubiche 7\n",
      "valore a kmin inferito 0.6550422797939968 bias 0.7840543051401516 dato a kmin 0.7147155658198961\n",
      "determinante matrice delle armoniche cubiche ridotte: 3.5714939740589115e+22\n",
      "grado ottimale 12 grado massimo tentato 28\n",
      "0 [1. 4. 1.] 17\n"
     ]
    },
    {
     "name": "stderr",
     "output_type": "stream",
     "text": [
      "WARNING:root:HO IMPOSTATO A MANO CHE 2\\PI/L = 0.13484487571168569\n"
     ]
    },
    {
     "name": "stdout",
     "output_type": "stream",
     "text": [
      "parametri ottimali [ 0.77197216 -6.89927084  3.86821724 -5.84021597  1.89744704 -0.12307784\n",
      "  5.49869872 -3.7469348   6.46061211 -8.01854054  3.62694771  7.14227304\n",
      "  1.7483834 ]\n",
      "numero di armoniche cubiche 7\n",
      "valore a kmin inferito 0.6502984807418264 bias 0.7719721635660104 dato a kmin 0.7147155658198961\n",
      "determinante matrice delle armoniche cubiche ridotte: 7.7367773963667e+17\n",
      "grado ottimale 12 grado massimo tentato 28\n",
      "0 [3. 0. 3.] 18\n"
     ]
    },
    {
     "name": "stderr",
     "output_type": "stream",
     "text": [
      "WARNING:root:HO IMPOSTATO A MANO CHE 2\\PI/L = 0.13484487571168569\n"
     ]
    },
    {
     "name": "stdout",
     "output_type": "stream",
     "text": [
      "parametri ottimali [   0.87275318  -12.92885176   18.64136497 -116.24217229  -27.3011636\n",
      "  -53.24892755  -15.39188192   14.07182048   -1.06385749    7.29451427\n",
      "   -2.27170779   -1.18554994   -0.58361981]\n",
      "numero di armoniche cubiche 7\n",
      "valore a kmin inferito 0.6812757800629184 bias 0.8727531794497172 dato a kmin 0.7147155658198961\n",
      "determinante matrice delle armoniche cubiche ridotte: 7.821307439721336e+26\n",
      "grado ottimale 12 grado massimo tentato 28\n",
      "0 [3. 1. 3.] 19\n"
     ]
    },
    {
     "name": "stderr",
     "output_type": "stream",
     "text": [
      "WARNING:root:HO IMPOSTATO A MANO CHE 2\\PI/L = 0.13484487571168569\n"
     ]
    },
    {
     "name": "stdout",
     "output_type": "stream",
     "text": [
      "parametri ottimali [  0.84663807 -12.26973199  22.75110883 -53.68315673 -18.62266554\n",
      " -56.29916466 -15.28560214  11.6742609   -6.42187276   5.0039822\n",
      "  -1.73915855   3.82853142  -0.59145261]\n",
      "numero di armoniche cubiche 7\n",
      "valore a kmin inferito 0.6737865322163823 bias 0.8466380680418129 dato a kmin 0.7147155658198961\n",
      "determinante matrice delle armoniche cubiche ridotte: 6.877087722366867e+26\n",
      "grado ottimale 12 grado massimo tentato 28\n",
      "0 [2. 4. 0.] 20\n"
     ]
    },
    {
     "name": "stderr",
     "output_type": "stream",
     "text": [
      "WARNING:root:HO IMPOSTATO A MANO CHE 2\\PI/L = 0.13484487571168569\n"
     ]
    },
    {
     "name": "stdout",
     "output_type": "stream",
     "text": [
      "parametri ottimali [  0.80351028 -10.38041425   5.90285214 -34.96812354  -0.51170462\n",
      "  -2.94963382   0.23288497 -15.54709204   1.70544116 -14.670196\n",
      "  17.52837893  19.05776963  17.81936991  -3.00299603   1.57952582\n",
      "  -3.6947649 ]\n",
      "numero di armoniche cubiche 8\n",
      "valore a kmin inferito 0.6605229342105957 bias 0.8035102813433124 dato a kmin 0.7147155658198961\n",
      "determinante matrice delle armoniche cubiche ridotte: 3.6714823021846934e+24\n",
      "grado ottimale 14 grado massimo tentato 28\n",
      "0 [4. 2. 1.] 21\n"
     ]
    },
    {
     "name": "stderr",
     "output_type": "stream",
     "text": [
      "WARNING:root:HO IMPOSTATO A MANO CHE 2\\PI/L = 0.13484487571168569\n"
     ]
    },
    {
     "name": "stdout",
     "output_type": "stream",
     "text": [
      "parametri ottimali [  0.80168967 -10.70282224  -1.59856332 -40.82693864   0.11478125\n",
      "   0.69092787  -1.03404707   1.16711305  32.36460807  -3.03637019\n",
      "  -1.09767534 -17.57254109   4.91202873   2.81549775   7.07969593\n",
      "  -0.21659182]\n",
      "numero di armoniche cubiche 8\n",
      "valore a kmin inferito 0.6620120474603856 bias 0.8016896710355905 dato a kmin 0.7147155658198961\n",
      "determinante matrice delle armoniche cubiche ridotte: 1.87341600303573e+25\n",
      "grado ottimale 14 grado massimo tentato 28\n",
      "0 [3. 3. 2.] 22\n"
     ]
    },
    {
     "name": "stderr",
     "output_type": "stream",
     "text": [
      "WARNING:root:HO IMPOSTATO A MANO CHE 2\\PI/L = 0.13484487571168569\n"
     ]
    },
    {
     "name": "stdout",
     "output_type": "stream",
     "text": [
      "parametri ottimali [   0.80168991  -12.63843204  -39.51263344 -155.3534636   -68.27450585\n",
      " -103.11795816  -19.28206913    1.21546444  -18.94829506   10.59252253\n",
      "    0.73008583    4.58943216   -2.60772061]\n",
      "numero di armoniche cubiche 7\n",
      "valore a kmin inferito 0.6541865232793093 bias 0.8016899068985297 dato a kmin 0.7147155658198961\n",
      "determinante matrice delle armoniche cubiche ridotte: 6.818382163904132e+23\n",
      "grado ottimale 12 grado massimo tentato 28\n",
      "0 [2. 2. 4.] 23\n"
     ]
    },
    {
     "name": "stderr",
     "output_type": "stream",
     "text": [
      "WARNING:root:HO IMPOSTATO A MANO CHE 2\\PI/L = 0.13484487571168569\n"
     ]
    },
    {
     "name": "stdout",
     "output_type": "stream",
     "text": [
      "parametri ottimali [  0.83350458 -14.63157284  15.89319504 -62.98036345 -15.59312844\n",
      "  22.58063182 -14.54856979   4.09629329 -39.00463895  22.98433674\n",
      " -23.89516903  -0.71752763 -43.92479384  38.37075129  -5.63756678\n",
      "  35.45127561 -13.53558054 -15.75782842 -16.00109841  -2.18620109\n",
      "   9.96028223   2.88855297]\n",
      "numero di armoniche cubiche 12\n",
      "valore a kmin inferito 0.6712823297290501 bias 0.8335045779691916 dato a kmin 0.7147155658198961\n",
      "determinante matrice delle armoniche cubiche ridotte: 1010272321625.0936\n",
      "grado ottimale 18 grado massimo tentato 28\n",
      "0 [0. 5. 0.] 24\n"
     ]
    },
    {
     "name": "stderr",
     "output_type": "stream",
     "text": [
      "WARNING:root:HO IMPOSTATO A MANO CHE 2\\PI/L = 0.13484487571168569\n"
     ]
    },
    {
     "name": "stdout",
     "output_type": "stream",
     "text": [
      "parametri ottimali [  0.768946   -11.06257665  10.28554008 -10.77718592  -2.74730256\n",
      "   0.27398417  -2.7351416   -6.84194572  -4.07710086  -2.43972996\n",
      "  -4.34492194   1.39684777  -2.22378121   1.09091354  -1.34030456\n",
      "  -0.95069072   8.9633453   -2.43268232   0.28497192   3.29459307\n",
      "  -6.38545359   4.41610113  -6.53006068   4.44359556  -3.52907818]\n",
      "numero di armoniche cubiche 14\n",
      "valore a kmin inferito 0.6473633159076059 bias 0.7689459993433488 dato a kmin 0.7147155658198961\n",
      "determinante matrice delle armoniche cubiche ridotte: 14772123.94322372\n",
      "grado ottimale 20 grado massimo tentato 28\n",
      "0 [3. 0. 4.] 25\n"
     ]
    },
    {
     "name": "stderr",
     "output_type": "stream",
     "text": [
      "WARNING:root:HO IMPOSTATO A MANO CHE 2\\PI/L = 0.13484487571168569\n"
     ]
    },
    {
     "name": "stdout",
     "output_type": "stream",
     "text": [
      "parametri ottimali [   0.85262376  -18.6976499    38.14115617  -62.53730431  -79.30051061\n",
      "  -96.05867426 -112.12392101   67.71518696   18.98996691   97.44044386\n",
      "    0.76183918   12.47248023  -12.8268441   -55.98175678  -12.0643702\n",
      "  -65.52970191   31.74706988    3.20100623   39.69851918]\n",
      "numero di armoniche cubiche 10\n",
      "valore a kmin inferito 0.6746687434247528 bias 0.8526237581054288 dato a kmin 0.7147155658198961\n",
      "determinante matrice delle armoniche cubiche ridotte: 1.0132069789857202e+29\n",
      "grado ottimale 16 grado massimo tentato 28\n",
      "0 [1. 4. 3.] 26\n"
     ]
    },
    {
     "name": "stderr",
     "output_type": "stream",
     "text": [
      "WARNING:root:HO IMPOSTATO A MANO CHE 2\\PI/L = 0.13484487571168569\n"
     ]
    },
    {
     "name": "stdout",
     "output_type": "stream",
     "text": [
      "parametri ottimali [  0.78035541 -13.64862488  18.48221926 -31.95794737 -27.45006214\n",
      " -29.51202865 -36.51780619  -0.2974666  -15.1951093    0.898454\n",
      "   6.19817729  11.58941048  23.82980108   9.3386673   23.36179661\n",
      "   0.38025802  -4.76247769  -2.30643422  -9.31951299   2.70296236\n",
      " -26.21723425   0.59834987  -0.91567333   7.99159814  -1.1895469\n",
      "  -4.35167349   4.2559551    0.08538003]\n",
      "numero di armoniche cubiche 16\n",
      "valore a kmin inferito 0.650096203261633 bias 0.78035540769267 dato a kmin 0.7147155658198961\n",
      "determinante matrice delle armoniche cubiche ridotte: -0.1752289973527777\n",
      "grado ottimale 22 grado massimo tentato 28\n",
      "0 [1. 0. 5.] 27\n"
     ]
    },
    {
     "name": "stderr",
     "output_type": "stream",
     "text": [
      "WARNING:root:HO IMPOSTATO A MANO CHE 2\\PI/L = 0.13484487571168569\n"
     ]
    },
    {
     "name": "stdout",
     "output_type": "stream",
     "text": [
      "parametri ottimali [  0.75902022 -12.07380819  12.4709791    4.85018538   9.98901457\n",
      " -38.43168514  14.03713492   0.09350596 -25.28656666 -12.37017562\n",
      " -10.65019662  -5.36537726  -3.32784086  -1.72908323  34.41277417\n",
      "   0.96899787  12.63712938 -25.92441529   4.00634402  13.43370506\n",
      "  -7.52175201   9.81148453 -11.82969095   6.52639322  -6.92919828]\n",
      "numero di armoniche cubiche 14\n",
      "valore a kmin inferito 0.6432139139175586 bias 0.7590202213502509 dato a kmin 0.7147155658198961\n",
      "determinante matrice delle armoniche cubiche ridotte: 6.828787758690212e+20\n",
      "grado ottimale 20 grado massimo tentato 28\n",
      "0 [3. 3. 3.] 28\n"
     ]
    },
    {
     "name": "stderr",
     "output_type": "stream",
     "text": [
      "WARNING:root:HO IMPOSTATO A MANO CHE 2\\PI/L = 0.13484487571168569\n"
     ]
    },
    {
     "name": "stdout",
     "output_type": "stream",
     "text": [
      "parametri ottimali [  0.77785404 -14.14010797  17.63521992  13.21216692  -4.10987081\n",
      " -38.66687477   6.31186518  18.39790206 -33.99531896   6.62528162\n",
      "  -3.14771798 -44.99611374 -13.87342741   1.93596837  35.21311741\n",
      "   7.1793389   -5.59627458   3.36528765  -3.50081092   2.83918227\n",
      "  -7.50053113  -3.35460537   2.32052821   7.73890041  12.3574572\n",
      "   5.79941334 -14.16301503  -3.4591493 ]\n",
      "numero di armoniche cubiche 16\n",
      "valore a kmin inferito 0.6508950275516383 bias 0.7778540368957194 dato a kmin 0.7147155658198961\n",
      "determinante matrice delle armoniche cubiche ridotte: 176.04958272673903\n",
      "grado ottimale 20 grado massimo tentato 28\n",
      "0 [1. 5. 1.] 29\n"
     ]
    },
    {
     "name": "stderr",
     "output_type": "stream",
     "text": [
      "WARNING:root:HO IMPOSTATO A MANO CHE 2\\PI/L = 0.13484487571168569\n"
     ]
    },
    {
     "name": "stdout",
     "output_type": "stream",
     "text": [
      "parametri ottimali [  0.79176053 -16.09632273  30.83333646 -54.23554706 -16.22712376\n",
      " -69.30445026  -0.54922101   7.65930891 -57.16276544 -20.23968473\n",
      "  -3.20628759 -58.79257311  -2.75245261  21.78089104  29.22622994\n",
      "  20.18467849  -2.46323606   6.50787023  -7.11149174  -7.03450896\n",
      "  -6.9542552   -5.90143271  -0.95716629  16.32893465  11.27049067\n",
      "   0.56796526 -16.56573514  -8.39396127   0.19965894   0.87752371\n",
      "   0.56380362]\n",
      "numero di armoniche cubiche 19\n",
      "valore a kmin inferito 0.6550801412616502 bias 0.791760531914077 dato a kmin 0.7147155658198961\n",
      "determinante matrice delle armoniche cubiche ridotte: -5.3852969149909954e-05\n",
      "grado ottimale 24 grado massimo tentato 28\n",
      "0 [2. 5. 0.] 30\n"
     ]
    },
    {
     "name": "stderr",
     "output_type": "stream",
     "text": [
      "WARNING:root:HO IMPOSTATO A MANO CHE 2\\PI/L = 0.13484487571168569\n"
     ]
    },
    {
     "name": "stdout",
     "output_type": "stream",
     "text": [
      "parametri ottimali [ 7.48778552e-01 -1.34808955e+01  1.45556293e+01 -2.88647554e+01\n",
      "  2.18707715e-02 -1.98614208e+01  4.85441977e+00 -2.77830630e+01\n",
      "  1.58266427e+01 -2.36485641e+01  2.13131631e+01  5.10615201e+00\n",
      "  1.71842123e+01 -2.16125792e+00 -7.24613613e+00 -3.91100963e+00\n",
      "  9.28762720e+00  1.89577921e+01  1.09983085e+01  7.69560506e-01\n",
      " -5.46951401e+00 -4.45826032e+00  6.08068260e-01  2.35112539e+01\n",
      "  3.24151084e+00 -1.75402423e+01 -9.20736349e+00 -1.06872142e+01\n",
      "  1.14264855e+01 -3.25108139e+00  6.45648901e+00]\n",
      "numero di armoniche cubiche 19\n",
      "valore a kmin inferito 0.6367039390986592 bias 0.7487785524144276 dato a kmin 0.7147155658198961\n",
      "determinante matrice delle armoniche cubiche ridotte: 53.11803529932513\n",
      "grado ottimale 24 grado massimo tentato 28\n",
      "0 [4. 2. 3.] 31\n"
     ]
    },
    {
     "name": "stderr",
     "output_type": "stream",
     "text": [
      "WARNING:root:HO IMPOSTATO A MANO CHE 2\\PI/L = 0.13484487571168569\n"
     ]
    },
    {
     "name": "stdout",
     "output_type": "stream",
     "text": [
      "parametri ottimali [   0.74912802  -15.18510503   21.13074052  -71.52899722  -65.14204123\n",
      " -283.62477257  -49.91411719   15.13932763  -53.60270795    2.20445632\n",
      "   -5.43943531   -1.49713895   -2.43507413]\n",
      "numero di armoniche cubiche 7\n",
      "valore a kmin inferito 0.6321776304281878 bias 0.7491280160383429 dato a kmin 0.7147155658198961\n",
      "determinante matrice delle armoniche cubiche ridotte: 3.9962889974477706e+27\n",
      "grado ottimale 12 grado massimo tentato 28\n",
      "0 [1. 5. 2.] 32\n"
     ]
    },
    {
     "name": "stderr",
     "output_type": "stream",
     "text": [
      "WARNING:root:HO IMPOSTATO A MANO CHE 2\\PI/L = 0.13484487571168569\n"
     ]
    },
    {
     "name": "stdout",
     "output_type": "stream",
     "text": [
      "parametri ottimali [  0.74185896 -14.52750735  13.06744629 -45.69746289 -14.55626334\n",
      " -43.90300743  -6.12403639 -30.66752994  24.02013361 -18.85358559\n",
      "  47.96528868 -30.9079437   24.72144796 -11.25185424  86.01537439\n",
      "  -7.45718991   5.73046069 -40.56673146   8.5071478   -6.41269839\n",
      "   2.29204111  -5.9768737 ]\n",
      "numero di armoniche cubiche 12\n",
      "valore a kmin inferito 0.6317167827908512 bias 0.7418589597107514 dato a kmin 0.7147155658198961\n",
      "determinante matrice delle armoniche cubiche ridotte: 6.439096939405362e+27\n",
      "grado ottimale 18 grado massimo tentato 28\n",
      "0 [4. 4. 0.] 33\n"
     ]
    },
    {
     "name": "stderr",
     "output_type": "stream",
     "text": [
      "WARNING:root:HO IMPOSTATO A MANO CHE 2\\PI/L = 0.13484487571168569\n"
     ]
    },
    {
     "name": "stdout",
     "output_type": "stream",
     "text": [
      "parametri ottimali [   0.79405008  -19.88354524  -13.53618118 -172.01639117   -6.34263806\n",
      "  116.61336639   14.29611534   19.00968283   16.49814825  -41.0607734\n",
      "    7.2527529    22.76960593   27.72615982   48.87403403   43.26006736\n",
      "   42.10663344    9.90134527   15.12529607    0.74494349  -37.51795064\n",
      "  -28.62391654  -37.33019922  -35.76103881  -42.95084629  -17.2241546\n",
      "  -12.85781219  -21.34273912   -2.17227891   40.36619264   45.17006433\n",
      "   21.40278906]\n",
      "numero di armoniche cubiche 19\n",
      "valore a kmin inferito 0.6539238332768594 bias 0.7940500820244734 dato a kmin 0.7147155658198961\n",
      "determinante matrice delle armoniche cubiche ridotte: 252728675.39318168\n",
      "grado ottimale 24 grado massimo tentato 28\n",
      "0 [4. 1. 4.] 34\n"
     ]
    },
    {
     "name": "stderr",
     "output_type": "stream",
     "text": [
      "WARNING:root:HO IMPOSTATO A MANO CHE 2\\PI/L = 0.13484487571168569\n"
     ]
    },
    {
     "name": "stdout",
     "output_type": "stream",
     "text": [
      "parametri ottimali [  0.74442103 -16.44041187   6.8497657  -94.47885318  -6.87954392\n",
      "  68.25092674   0.87028912   7.34023626  30.02820958   8.54486099\n",
      " -16.25667889  24.76575609  -7.61057156  43.02541199 -17.29904162\n",
      "  25.38013702  15.93786275  29.99413668   3.09217148 -17.01310747\n",
      "  26.1327627    4.02509197 -15.76116304 -28.02126268  -8.49513661\n",
      "  -7.30372656 -25.10731608 -10.45271985  -8.58450921 -14.37312784\n",
      " -14.16464387  14.36059669  22.39590445  15.32484492]\n",
      "numero di armoniche cubiche 21\n",
      "valore a kmin inferito 0.6317398586135036 bias 0.7444210347928023 dato a kmin 0.7147155658198961\n",
      "determinante matrice delle armoniche cubiche ridotte: 0.006163206699758807\n",
      "grado ottimale 26 grado massimo tentato 28\n",
      "0 [5. 2. 2.] 35\n"
     ]
    },
    {
     "name": "stderr",
     "output_type": "stream",
     "text": [
      "WARNING:root:HO IMPOSTATO A MANO CHE 2\\PI/L = 0.13484487571168569\n"
     ]
    },
    {
     "name": "stdout",
     "output_type": "stream",
     "text": [
      "parametri ottimali [   0.77862723  -20.56452592  -15.61288967 -195.66600875    2.21376653\n",
      "  127.26104308   -5.15483106    0.39028729   64.33870984   -8.22116803\n",
      "   45.79413619   29.66355762   39.00352221   67.37023628    9.0044511\n",
      "   51.26897299  -50.35849649   24.4513411   -40.72360537  -15.89563668\n",
      "  -11.44051871  -14.83757441   15.86181734   -6.42980506   -3.76905383\n",
      "  -41.01533457  -52.82807207   -1.98390304   -9.09529439   12.17063766\n",
      "    2.0253995    26.72560166   15.75196322    5.7549959 ]\n",
      "numero di armoniche cubiche 21\n",
      "valore a kmin inferito 0.6460450054322316 bias 0.7786272337538449 dato a kmin 0.7147155658198961\n",
      "determinante matrice delle armoniche cubiche ridotte: 0.0017494383254799\n",
      "grado ottimale 26 grado massimo tentato 28\n",
      "0 [3. 5. 0.] 36\n"
     ]
    },
    {
     "name": "stderr",
     "output_type": "stream",
     "text": [
      "WARNING:root:HO IMPOSTATO A MANO CHE 2\\PI/L = 0.13484487571168569\n"
     ]
    },
    {
     "name": "stdout",
     "output_type": "stream",
     "text": [
      "parametri ottimali [   0.81389264  -25.22837189  -49.87498612 -276.62750287   18.59636073\n",
      "  238.94821471    6.69455702   12.47457892    8.60003056   13.65439382\n",
      "   58.22928753   16.91726074   38.40215487   41.70404409   13.66516648\n",
      "   23.40555144  -71.95694031  -15.49938028  -59.81117483  -55.25862407\n",
      "    4.4711923     0.40105157   71.6178995    23.10827098   39.24760796\n",
      "   -7.90675088  -72.42049025  -30.15057217  -12.04805579   32.93537065\n",
      "    6.23994223]\n",
      "numero di armoniche cubiche 19\n",
      "valore a kmin inferito 0.6599363589852405 bias 0.813892638189634 dato a kmin 0.7147155658198961\n",
      "determinante matrice delle armoniche cubiche ridotte: 2.5853316531640954e+17\n",
      "grado ottimale 24 grado massimo tentato 28\n",
      "0 [4. 3. 3.] 37\n"
     ]
    },
    {
     "name": "stderr",
     "output_type": "stream",
     "text": [
      "WARNING:root:HO IMPOSTATO A MANO CHE 2\\PI/L = 0.13484487571168569\n"
     ]
    },
    {
     "name": "stdout",
     "output_type": "stream",
     "text": [
      "parametri ottimali [   0.78652866  -23.30095037  -47.71836077 -248.34849357   18.66668463\n",
      "  198.09781225   -9.01373209   28.00480272   39.09227915   40.84307688\n",
      "   35.48841372  -16.22794553    1.94543257   48.189151     46.17198326\n",
      "   21.32469888  -42.80030268   19.15264169  -37.48767562  -28.77406546\n",
      "  -31.15375754   13.51709307    6.58487115  -17.48052879   11.81212934\n",
      "   -8.45522278  -25.060411    -24.57663215    9.26385533   23.44552724\n",
      "   10.01963702]\n",
      "numero di armoniche cubiche 19\n",
      "valore a kmin inferito 0.64839266043729 bias 0.7865286590937604 dato a kmin 0.7147155658198961\n",
      "determinante matrice delle armoniche cubiche ridotte: 4987322289117.461\n",
      "grado ottimale 22 grado massimo tentato 28\n",
      "0 [1. 5. 3.] 38\n"
     ]
    },
    {
     "name": "stderr",
     "output_type": "stream",
     "text": [
      "WARNING:root:HO IMPOSTATO A MANO CHE 2\\PI/L = 0.13484487571168569\n"
     ]
    },
    {
     "name": "stdout",
     "output_type": "stream",
     "text": [
      "parametri ottimali [   0.76721081  -22.01405542  -51.34040922 -239.02406045   17.42986593\n",
      "  172.63998547  -10.90930258   -1.80394525  -27.07467594   37.81937452\n",
      "   21.9413813    -8.58608004  -18.67586904   64.04440077   73.41127151\n",
      "   28.27987326  -23.20417599    6.77270694   -5.86226392  -19.24477192\n",
      "  -29.7797143     8.33269835    3.60686672   19.61923355   -5.28307513\n",
      "  -49.58621747  -78.34772023  -31.14059365   27.97243333   37.86145975\n",
      "   17.75970094]\n",
      "numero di armoniche cubiche 19\n",
      "valore a kmin inferito 0.6400033407489336 bias 0.7672108079291606 dato a kmin 0.7147155658198961\n",
      "determinante matrice delle armoniche cubiche ridotte: 51958718082611.695\n",
      "grado ottimale 24 grado massimo tentato 28\n",
      "0 [4. 4. 2.] 39\n"
     ]
    },
    {
     "name": "stderr",
     "output_type": "stream",
     "text": [
      "WARNING:root:HO IMPOSTATO A MANO CHE 2\\PI/L = 0.13484487571168569\n"
     ]
    },
    {
     "name": "stdout",
     "output_type": "stream",
     "text": [
      "parametri ottimali [ 7.27334795e-01 -1.85192157e+01 -8.24466796e+01 -2.48369208e+02\n",
      "  1.42433499e+02  3.32426765e+02  1.68733332e+01 -1.15785297e+01\n",
      " -2.61524500e+01  1.78024069e+00 -9.46725141e+00 -4.14383418e+01\n",
      "  1.87272558e+00  4.06841905e+01  5.55754289e+01  1.11256051e+01\n",
      " -1.47845749e+01 -2.36153489e+00 -1.05379589e+01 -1.14130921e+01\n",
      " -1.94935238e+01  2.25406222e-01]\n",
      "numero di armoniche cubiche 12\n",
      "valore a kmin inferito 0.6215219869934342 bias 0.727334794740552 dato a kmin 0.7147155658198961\n",
      "determinante matrice delle armoniche cubiche ridotte: 9.368602687183423e+22\n",
      "grado ottimale 18 grado massimo tentato 28\n",
      "0 [6. 0. 0.] 40\n"
     ]
    },
    {
     "name": "stderr",
     "output_type": "stream",
     "text": [
      "WARNING:root:HO IMPOSTATO A MANO CHE 2\\PI/L = 0.13484487571168569\n"
     ]
    },
    {
     "name": "stdout",
     "output_type": "stream",
     "text": [
      "parametri ottimali [  0.65483934 -13.18643065 -12.67293186 -59.5939042  -16.43037314\n",
      "   2.86933729 -21.84572597  -5.90558515 -14.60851177  23.03465123\n",
      "   1.42280003   2.1466098  -12.7153764   15.78386423  15.54087334\n",
      "   6.7004328    9.46792267  13.95212127   4.76374641  -9.34700857\n",
      " -11.15986564  -3.14891355]\n",
      "numero di armoniche cubiche 12\n",
      "valore a kmin inferito 0.5802974079871831 bias 0.6548393396718584 dato a kmin 0.7147155658198961\n",
      "determinante matrice delle armoniche cubiche ridotte: 1.232462200123114e+22\n",
      "grado ottimale 18 grado massimo tentato 28\n",
      "0 [6. 1. 0.] 41\n"
     ]
    },
    {
     "name": "stderr",
     "output_type": "stream",
     "text": [
      "WARNING:root:HO IMPOSTATO A MANO CHE 2\\PI/L = 0.13484487571168569\n"
     ]
    },
    {
     "name": "stdout",
     "output_type": "stream",
     "text": [
      "parametri ottimali [  0.69354661 -16.51544604 -10.0395147  -65.4646958  -30.27835263\n",
      "  -0.88553086 -37.03067078 -16.04168683 -34.80512394  28.15307059\n",
      " -12.60714661 -13.8706113  -20.42484616   2.37645576  -3.38953713\n",
      "  -1.67787921   6.15839387  12.76332517   4.47382686  14.92968072\n",
      "  13.74269972   2.09230657   3.55018211  -0.89459386   6.03537335\n",
      "   2.58223162  11.18416006   4.59509279  -9.85610721 -13.35464369\n",
      "  -7.56541511]\n",
      "numero di armoniche cubiche 19\n",
      "valore a kmin inferito 0.6039964044252374 bias 0.6935466104297506 dato a kmin 0.7147155658198961\n",
      "determinante matrice delle armoniche cubiche ridotte: 130753380158238.33\n",
      "grado ottimale 20 grado massimo tentato 28\n",
      "0 [6. 1. 1.] 42\n"
     ]
    },
    {
     "name": "stderr",
     "output_type": "stream",
     "text": [
      "WARNING:root:HO IMPOSTATO A MANO CHE 2\\PI/L = 0.13484487571168569\n"
     ]
    },
    {
     "name": "stdout",
     "output_type": "stream",
     "text": [
      "parametri ottimali [  0.68606678 -16.32703037  -5.45272038 -53.2612281  -24.12165791\n",
      "   5.07754022 -33.81168869 -11.122312   -27.12111983  37.8796393\n",
      "  -2.02712492   9.88414281 -31.15919347  14.11434699  -0.82308421\n",
      "   9.48531056  10.62489255   7.77601637  18.88866603   1.10485499\n",
      "  18.11001901 -16.16249969  -4.99136321  -2.36130605  -0.81276693\n",
      "  -3.51214445 -14.85397915  15.43975017  -1.60927101  -2.93749881\n",
      " -11.87024787   0.47843269   4.06676586   1.00710573]\n",
      "numero di armoniche cubiche 21\n",
      "valore a kmin inferito 0.5997833571135066 bias 0.6860667792477074 dato a kmin 0.7147155658198961\n",
      "determinante matrice delle armoniche cubiche ridotte: 407651581142.6089\n",
      "grado ottimale 24 grado massimo tentato 28\n",
      "0 [3. 2. 5.] 43\n"
     ]
    },
    {
     "name": "stderr",
     "output_type": "stream",
     "text": [
      "WARNING:root:HO IMPOSTATO A MANO CHE 2\\PI/L = 0.13484487571168569\n"
     ]
    },
    {
     "name": "stdout",
     "output_type": "stream",
     "text": [
      "parametri ottimali [  0.69286269 -17.41818401   6.36082034 -51.65620696 -25.72820503\n",
      "  12.64478102 -33.68440011  -5.4345917  -27.85160901  30.63318193\n",
      "  -5.0358962   -2.21970975 -21.58250096   7.74897076  -7.61067247\n",
      "   6.52916754  -4.89775718   0.22417031  -9.12834046   4.74830461\n",
      "   0.07199381 -25.7758773  -14.30623364 -29.30198037  20.12506999\n",
      " -18.7195529   13.80026677  13.39079814  26.90427613  16.30528496\n",
      " -10.70584882   8.53966967  -9.18108352  -0.95226296 -12.39922824\n",
      "  -0.93567088  -0.75688601]\n",
      "numero di armoniche cubiche 24\n",
      "valore a kmin inferito 0.60375672125797 bias 0.6928626940687068 dato a kmin 0.7147155658198961\n",
      "determinante matrice delle armoniche cubiche ridotte: 36817734.59777156\n",
      "grado ottimale 20 grado massimo tentato 28\n",
      "0 [2. 0. 6.] 44\n"
     ]
    },
    {
     "name": "stderr",
     "output_type": "stream",
     "text": [
      "WARNING:root:HO IMPOSTATO A MANO CHE 2\\PI/L = 0.13484487571168569\n"
     ]
    },
    {
     "name": "stdout",
     "output_type": "stream",
     "text": [
      "parametri ottimali [   0.71233058  -19.52276704   10.63655671 -108.92981601  -27.69511805\n",
      "  -21.68389279  -27.52327783  -24.61304393  -21.67163162  -11.75778769\n",
      "   32.75041769   -8.54451772   25.92821969    4.07337428  -31.67878703\n",
      "    1.07334643  -13.48361772    5.88971597  -14.70121809    3.80872841\n",
      "   -5.92611419   -2.27671932  -17.26881346   16.22280527  -14.41868748\n",
      "    9.24960918   -3.8739507    29.37282395    7.01427305    7.34649388\n",
      "   -1.68986593   -5.26358449    3.21539056  -11.66343442    0.38065634\n",
      "   -6.04553255    2.19928495]\n",
      "numero di armoniche cubiche 24\n",
      "valore a kmin inferito 0.615164713718408 bias 0.7123305826910393 dato a kmin 0.7147155658198961\n",
      "determinante matrice delle armoniche cubiche ridotte: 5.238553337729444e+16\n",
      "grado ottimale 26 grado massimo tentato 28\n",
      "0 [6. 1. 2.] 45\n"
     ]
    },
    {
     "name": "stderr",
     "output_type": "stream",
     "text": [
      "WARNING:root:HO IMPOSTATO A MANO CHE 2\\PI/L = 0.13484487571168569\n"
     ]
    },
    {
     "name": "stdout",
     "output_type": "stream",
     "text": [
      "parametri ottimali [   0.71521791  -20.81948871    3.31521031 -136.50920612  -46.38972144\n",
      "  -25.48975089  -56.12200691   -6.60944798  -16.74175152   33.84341831\n",
      "   20.91380251  -37.97092182   -1.8745727    -4.81408834  -40.87380301\n",
      "  -12.20234932  -22.69381764   36.87624593  -18.03475297   19.80059403\n",
      "   19.48417267   11.76203854   -0.33940803    7.0126555    26.13769352\n",
      "  -16.1808842   -20.49426024   -6.57611633   20.72806897    5.54620595\n",
      "  -10.50975156   -9.34874678  -11.27698837  -17.54246966    0.75034778\n",
      "    8.7383344    15.5227091 ]\n",
      "numero di armoniche cubiche 24\n",
      "valore a kmin inferito 0.6156735195719799 bias 0.7152179094721376 dato a kmin 0.7147155658198961\n",
      "determinante matrice delle armoniche cubiche ridotte: 1.4105300531935078e+16\n",
      "grado ottimale 28 grado massimo tentato 28\n",
      "0 [5. 0. 4.] 46\n"
     ]
    },
    {
     "name": "stderr",
     "output_type": "stream",
     "text": [
      "WARNING:root:HO IMPOSTATO A MANO CHE 2\\PI/L = 0.13484487571168569\n"
     ]
    },
    {
     "name": "stdout",
     "output_type": "stream",
     "text": [
      "parametri ottimali [   0.74168291  -25.09598553   10.65917707 -201.5649338  -237.38251865\n",
      " -549.83851455 -244.46019689  -13.91639037 -469.5019829    30.31969252\n",
      "   63.10430285  340.02982341   25.48763743  -28.3312494    14.9196286\n",
      "  -34.64804968  -27.8105713  -130.58378342  -11.0422496    14.57631988\n",
      "   53.79791294   16.27757967   19.15174316    1.94790067   16.26947704\n",
      "  -11.43293074   -4.93537326  -11.92981021]\n",
      "numero di armoniche cubiche 16\n",
      "valore a kmin inferito 0.627618267836635 bias 0.7416829110098822 dato a kmin 0.7147155658198961\n",
      "determinante matrice delle armoniche cubiche ridotte: 5.056219163322914e+34\n",
      "grado ottimale 22 grado massimo tentato 28\n",
      "0 [4. 4. 3.] 47\n"
     ]
    },
    {
     "name": "stderr",
     "output_type": "stream",
     "text": [
      "WARNING:root:HO IMPOSTATO A MANO CHE 2\\PI/L = 0.13484487571168569\n"
     ]
    },
    {
     "name": "stdout",
     "output_type": "stream",
     "text": [
      "parametri ottimali [   0.72468435  -23.29317001    5.63238399 -162.9794289  -127.77382021\n",
      " -165.62903612  -85.61465037    3.79639628  -89.67236708   28.63151955\n",
      "   27.90757649  -38.48700866   18.98431806    3.84382579   65.37532403\n",
      "  -22.69240358  -40.75888513   34.38729369  -33.63626713   25.32277679\n",
      "  -61.86136401   45.82145726  -20.82662817  -10.12320338  -16.71820271\n",
      "   33.5064099    59.44984621    9.20406729  -15.51317592  -38.09179022\n",
      "   -5.20993895   -0.35469786    7.16032173   -0.40869238]\n",
      "numero di armoniche cubiche 21\n",
      "valore a kmin inferito 0.6201553806068185 bias 0.7246843469498145 dato a kmin 0.7147155658198961\n",
      "determinante matrice delle armoniche cubiche ridotte: 3.9716682149724716e+21\n",
      "grado ottimale 24 grado massimo tentato 28\n",
      "0 [1. 4. 5.] 48\n"
     ]
    },
    {
     "name": "stderr",
     "output_type": "stream",
     "text": [
      "WARNING:root:HO IMPOSTATO A MANO CHE 2\\PI/L = 0.13484487571168569\n"
     ]
    },
    {
     "name": "stdout",
     "output_type": "stream",
     "text": [
      "parametri ottimali [   0.72173748  -23.73955313   29.81872644 -129.26125501 -130.83237644\n",
      " -167.43995855  -95.55472858   51.69562388  -75.91604104   50.10833488\n",
      "   12.23062165   23.09225206   -9.78052384  -16.62157867   28.33627253\n",
      "  -17.25655394  -20.98540304   36.29183599    4.95467252   34.39893216\n",
      "  -89.15031958    6.21518924  -19.06606988   35.98392269  -19.83899148\n",
      "  -21.3197077    28.44588972   18.80780741   63.56942116  -24.9138885\n",
      "   29.96137412  -54.57066185   -2.96383889  -54.38906682   16.29775739\n",
      "    4.87291215   22.29413862]\n",
      "numero di armoniche cubiche 24\n",
      "valore a kmin inferito 0.6181314981248202 bias 0.7217374769356047 dato a kmin 0.7147155658198961\n",
      "determinante matrice delle armoniche cubiche ridotte: 1.3809232303823664e+20\n",
      "grado ottimale 28 grado massimo tentato 28\n",
      "0 [3. 3. 5.] 49\n"
     ]
    },
    {
     "name": "stderr",
     "output_type": "stream",
     "text": [
      "WARNING:root:HO IMPOSTATO A MANO CHE 2\\PI/L = 0.13484487571168569\n"
     ]
    },
    {
     "name": "stdout",
     "output_type": "stream",
     "text": [
      "parametri ottimali [ 7.29828403e-01 -2.54292822e+01  5.01072908e+01 -9.49102523e+01\n",
      " -1.74940329e+02 -4.96683047e+02 -1.98982870e+02  4.99740852e+01\n",
      " -7.03767427e+01  2.71471795e+01  5.40051343e+01  2.61840475e+01\n",
      "  1.53201286e+01 -4.15806681e+01  4.83606064e+00 -3.13419956e+01\n",
      " -6.48879739e+01  3.62581520e+01  2.89979929e-01  7.66959548e+01\n",
      " -2.03736412e+01  3.90781428e+01 -2.15353816e+01  1.73080225e+01\n",
      " -2.87643054e+01 -7.77245972e+00 -2.10409122e+01 -1.01043584e+00\n",
      "  3.05482372e+01 -1.97181746e+01  1.28610187e+01 -3.11109770e+01\n",
      "  3.92200933e+01 -7.99436879e+00  9.90105181e+00 -1.57565282e+01\n",
      "  1.58195515e+00]\n",
      "numero di armoniche cubiche 24\n",
      "valore a kmin inferito 0.6219782419492133 bias 0.7298284027153517 dato a kmin 0.7147155658198961\n",
      "determinante matrice delle armoniche cubiche ridotte: 60758279529308.43\n",
      "grado ottimale 28 grado massimo tentato 28\n",
      "0 [2. 6. 2.] 50\n"
     ]
    },
    {
     "name": "stderr",
     "output_type": "stream",
     "text": [
      "WARNING:root:HO IMPOSTATO A MANO CHE 2\\PI/L = 0.13484487571168569\n"
     ]
    },
    {
     "name": "stdout",
     "output_type": "stream",
     "text": [
      "parametri ottimali [   0.73562829  -26.96556234   45.50255342 -126.42083376 -239.28165135\n",
      " -490.82559424 -240.92997305   74.20030945 -162.94276538   55.09804945\n",
      "   38.89321559  134.01442548    8.49587992  -40.91090596   54.70173756\n",
      "  -25.28717324  -35.22451462  -55.63025268    9.14671626   35.33853771\n",
      "  -49.34491076   -3.21585536  -24.81527897   58.65280834  -25.35369537\n",
      "   47.75547553   22.01163701   65.75064972   14.40633012  -80.08201692\n",
      "  -21.15947231  -62.61527103   64.07881094  -27.96553875   24.12538774\n",
      "  -20.08238191   12.79967509]\n",
      "numero di armoniche cubiche 24\n",
      "valore a kmin inferito 0.624919251434242 bias 0.7356282942516283 dato a kmin 0.7147155658198961\n",
      "determinante matrice delle armoniche cubiche ridotte: 9099566026372.186\n",
      "grado ottimale 28 grado massimo tentato 28\n",
      "0 [2. 4. 5.] 51\n"
     ]
    },
    {
     "name": "stderr",
     "output_type": "stream",
     "text": [
      "WARNING:root:HO IMPOSTATO A MANO CHE 2\\PI/L = 0.13484487571168569\n"
     ]
    },
    {
     "name": "stdout",
     "output_type": "stream",
     "text": [
      "parametri ottimali [   0.71900929  -25.3996643    49.6368254   -91.11860975 -191.62853431\n",
      " -495.84359853 -243.85959329   36.54437701 -101.26155944   13.18292725\n",
      "   62.79167865   33.98682533   42.56295106  -27.65138196  122.61888044\n",
      "   -5.66374043  -34.81017692  -72.26775059  -49.77480066  -42.79572169\n",
      "    6.78744212   35.14205206   61.97150693  -34.1653875    16.6471251\n",
      "   20.1755258    31.73388115  -37.58921089   41.41871538   60.31996517\n",
      "   73.3088213  -100.23084259  -72.07817604  -61.17678783   37.03059724\n",
      "   15.35802677   11.91546762]\n",
      "numero di armoniche cubiche 24\n",
      "valore a kmin inferito 0.6166279152113684 bias 0.7190092941327282 dato a kmin 0.7147155658198961\n",
      "determinante matrice delle armoniche cubiche ridotte: 95749347357.91159\n",
      "grado ottimale 28 grado massimo tentato 28\n",
      "0 [0. 3. 6.] 52\n"
     ]
    },
    {
     "name": "stderr",
     "output_type": "stream",
     "text": [
      "WARNING:root:HO IMPOSTATO A MANO CHE 2\\PI/L = 0.13484487571168569\n"
     ]
    },
    {
     "name": "stdout",
     "output_type": "stream",
     "text": [
      "parametri ottimali [   0.72644747  -26.82883423   68.46171193 -124.00448928 -106.90649803\n",
      " -214.51911506 -116.00269903   60.96962433  -23.94306324   52.20702872\n",
      "   63.18446271   -2.00708885   20.69496451  -85.51829998   52.50205736\n",
      "  -52.0398333     0.82500073  -27.45103385    5.5852144    11.0457596\n",
      "   -3.01098776   19.53600285   11.12563781    3.01879891    0.84644491\n",
      "   16.95310362    4.28647952    2.59395679  -20.93096243   -2.30888835\n",
      "   -9.85858087   -1.39161265   -4.51000581   -0.25810719    3.74584305\n",
      "    3.24991458    2.68994608]\n",
      "numero di armoniche cubiche 24\n",
      "valore a kmin inferito 0.6209975467624511 bias 0.7264474677236226 dato a kmin 0.7147155658198961\n",
      "determinante matrice delle armoniche cubiche ridotte: 4.773377248336128e+22\n",
      "grado ottimale 28 grado massimo tentato 28\n",
      "0 [6. 1. 3.] 53\n"
     ]
    },
    {
     "name": "stderr",
     "output_type": "stream",
     "text": [
      "WARNING:root:HO IMPOSTATO A MANO CHE 2\\PI/L = 0.13484487571168569\n"
     ]
    },
    {
     "name": "stdout",
     "output_type": "stream",
     "text": [
      "parametri ottimali [   0.72196472  -27.03284916   64.29032286 -147.45654952 -134.50154872\n",
      " -216.64409418 -140.83457519   77.59477292  -21.8075575    78.7861212\n",
      "   53.89577482  -25.45148741    0.60243682  -99.24062349  100.2072966\n",
      "  -51.9158027    35.50041834  -52.51133159   32.22627712   -0.3808621\n",
      "  -10.23933825    4.3938325    -1.16022944   20.32803255  -10.44620449\n",
      "   -1.49573389   -9.36195851   -3.7442483     2.42625623  -10.75485989\n",
      "    2.36447017   11.33798701   23.21287561   14.5436779    -9.44843927\n",
      "  -10.80927368   -9.97328437]\n",
      "numero di armoniche cubiche 24\n",
      "valore a kmin inferito 0.6184310521950637 bias 0.7219647185714118 dato a kmin 0.7147155658198961\n",
      "determinante matrice delle armoniche cubiche ridotte: 1.5440654775848413e+21\n",
      "grado ottimale 28 grado massimo tentato 28\n",
      "0 [4. 4. 4.] 54\n"
     ]
    },
    {
     "name": "stderr",
     "output_type": "stream",
     "text": [
      "WARNING:root:HO IMPOSTATO A MANO CHE 2\\PI/L = 0.13484487571168569\n"
     ]
    },
    {
     "name": "stdout",
     "output_type": "stream",
     "text": [
      "parametri ottimali [   0.70863952  -26.18740569   61.24829519 -138.38393855 -139.83720673\n",
      " -129.79768278 -102.5538609    95.42640141   -9.80097873   91.60308761\n",
      "   43.23759638  -85.79783537  -30.97906768 -120.19571441  129.25287084\n",
      "  -50.58843336   38.29751374  -32.11880483   43.53243406   43.66755164\n",
      "  -25.79155607   16.52906855   -8.89467868    9.7827051   -14.81789775\n",
      "  -50.77615032   20.95704168  -17.00135433   44.97053256  -32.72919327\n",
      "   17.01157655  -11.72371639   14.50524786   -3.70854615]\n",
      "numero di armoniche cubiche 21\n",
      "valore a kmin inferito 0.6108830989891761 bias 0.7086395207703363 dato a kmin 0.7147155658198961\n",
      "determinante matrice delle armoniche cubiche ridotte: 2.5357203894639788e+28\n",
      "grado ottimale 26 grado massimo tentato 28\n",
      "0 [2. 6. 3.] 55\n"
     ]
    },
    {
     "name": "stderr",
     "output_type": "stream",
     "text": [
      "WARNING:root:HO IMPOSTATO A MANO CHE 2\\PI/L = 0.13484487571168569\n"
     ]
    },
    {
     "name": "stdout",
     "output_type": "stream",
     "text": [
      "parametri ottimali [   0.71313765  -27.49372403   58.38545852 -176.17426933 -173.33877413\n",
      "  -37.17826199 -116.01642833  159.80041629 -199.02758385  127.42500148\n",
      "  -69.4051175    37.53113067  -95.36014651  -39.76972357  146.15644636\n",
      "  -15.13282084   67.7260693   -50.1138058    66.52123375  -42.5480895\n",
      "  -18.48904503  -12.71868422   45.89948046  -14.00968597    2.65420708\n",
      "  -18.34966461   10.84144968  -11.9026439   -40.87365529   -6.79344703\n",
      "  -16.00334653   30.38370266    7.4737336    15.82789126]\n",
      "numero di armoniche cubiche 21\n",
      "valore a kmin inferito 0.6134858743142118 bias 0.7131376501620136 dato a kmin 0.7147155658198961\n",
      "determinante matrice delle armoniche cubiche ridotte: 2.307406846052112e+25\n",
      "grado ottimale 26 grado massimo tentato 28\n",
      "0 [0. 7. 0.] 56\n"
     ]
    },
    {
     "name": "stderr",
     "output_type": "stream",
     "text": [
      "WARNING:root:HO IMPOSTATO A MANO CHE 2\\PI/L = 0.13484487571168569\n"
     ]
    },
    {
     "name": "stdout",
     "output_type": "stream",
     "text": [
      "parametri ottimali [   0.68837618  -24.31256774   41.8566725   -91.65400962 -102.38140103\n",
      "   -4.55775131  -70.52004733   57.8769286   -62.51095685   61.2608577\n",
      "  -22.74870626  -57.9916961   -44.0480703    -4.33764668   73.79023691\n",
      "   -7.12081814   31.92367776   13.48959023   22.08046354   -9.51444423\n",
      "    4.73697115   10.2799742   -19.75395376   -3.88100627   -8.24968964\n",
      "   -3.60656464  -14.96410662    1.59683224   30.81092981  -38.65640861\n",
      "    1.97594851  -41.12851486   33.18824465  -27.03388399   22.24243708\n",
      "    1.26828815   19.90885713]\n",
      "numero di armoniche cubiche 24\n",
      "valore a kmin inferito 0.6008453710778537 bias 0.688376178449254 dato a kmin 0.7147155658198961\n",
      "determinante matrice delle armoniche cubiche ridotte: 9.20910541372535e+20\n",
      "grado ottimale 26 grado massimo tentato 28\n",
      "0 [4. 3. 5.] 57\n"
     ]
    },
    {
     "name": "stderr",
     "output_type": "stream",
     "text": [
      "WARNING:root:HO IMPOSTATO A MANO CHE 2\\PI/L = 0.13484487571168569\n"
     ]
    },
    {
     "name": "stdout",
     "output_type": "stream",
     "text": [
      "parametri ottimali [   0.70099032  -26.91248047   59.00315423  -82.27740521 -190.14098475\n",
      " -206.6214793  -149.32883044  111.03264356   26.13390269  103.31499174\n",
      "   43.73131755  -76.80479737  -33.49776778 -137.62819017  157.0387873\n",
      "  -43.5438067    73.01631084 -141.93845552   33.13357557   -8.998976\n",
      "   54.48244077    0.9583297    29.8754018    12.39896751   11.13496625\n",
      "  -33.2555861    82.33380834   18.0815642    86.98178299 -178.92497144\n",
      "  -14.58806221 -146.42752431   96.30075182  -44.76925463   69.68971432\n",
      "   -9.75615624   32.06552491]\n",
      "numero di armoniche cubiche 24\n",
      "valore a kmin inferito 0.6070863917342069 bias 0.7009903171061684 dato a kmin 0.7147155658198961\n",
      "determinante matrice delle armoniche cubiche ridotte: 7.852823577979347e+19\n",
      "grado ottimale 28 grado massimo tentato 28\n",
      "0 [0. 7. 1.] 58\n"
     ]
    },
    {
     "name": "stderr",
     "output_type": "stream",
     "text": [
      "WARNING:root:HO IMPOSTATO A MANO CHE 2\\PI/L = 0.13484487571168569\n"
     ]
    },
    {
     "name": "stdout",
     "output_type": "stream",
     "text": [
      "parametri ottimali [   0.6944622   -26.44662845   53.8466972   -73.84183122 -163.44051953\n",
      "  -95.96993804 -115.40237468   73.74302096  -96.75388642   43.59342\n",
      "   20.80592     -31.49619482  -20.94530336  -86.47687153  134.31954444\n",
      "  -23.99826931   66.77464675  -83.62602934   29.98382521   15.7739244\n",
      "   20.39988776   15.97178295  -20.27122013   15.0359289   -12.42612286\n",
      "  -45.17088653   41.78390696   -1.97766581   67.70767585 -115.49410155\n",
      "   -2.96510558  -57.0645506    63.29602475  -14.93927502   25.51317028\n",
      "   -3.55372051   14.40711056]\n",
      "numero di armoniche cubiche 24\n",
      "valore a kmin inferito 0.6038632962131015 bias 0.694462197378627 dato a kmin 0.7147155658198961\n",
      "determinante matrice delle armoniche cubiche ridotte: 6.449461413064871e+25\n",
      "grado ottimale 28 grado massimo tentato 28\n",
      "0 [5. 5. 0.] 59\n"
     ]
    },
    {
     "name": "stderr",
     "output_type": "stream",
     "text": [
      "WARNING:root:HO IMPOSTATO A MANO CHE 2\\PI/L = 0.13484487571168569\n"
     ]
    },
    {
     "name": "stdout",
     "output_type": "stream",
     "text": [
      "parametri ottimali [   0.68478095  -25.77809507   47.36233375  -59.10867249 -182.17539917\n",
      " -246.74808208 -151.15978516  -10.29775792 -165.06337834  -36.74221602\n",
      "   46.75638061   16.60061564    9.5078862    29.49023487  122.23914854\n",
      "   45.71581654  -65.38372562  -82.51700485  -39.72750821   34.85395349\n",
      "   57.218277     20.715124    -30.54301299  -78.26063165  -32.8209776\n",
      "   22.73375707   44.94981035   26.28636325   -2.69222377  -10.28488461\n",
      "   -7.30639897   -0.76481363    3.55974677    1.19880528]\n",
      "numero di armoniche cubiche 21\n",
      "valore a kmin inferito 0.5977687253819776 bias 0.6847809452144852 dato a kmin 0.7147155658198961\n",
      "determinante matrice delle armoniche cubiche ridotte: 1.395468172158928e+36\n",
      "grado ottimale 26 grado massimo tentato 28\n",
      "0 [5. 5. 1.] 60\n"
     ]
    },
    {
     "name": "stderr",
     "output_type": "stream",
     "text": [
      "WARNING:root:HO IMPOSTATO A MANO CHE 2\\PI/L = 0.13484487571168569\n"
     ]
    },
    {
     "name": "stdout",
     "output_type": "stream",
     "text": [
      "parametri ottimali [   0.66899918  -24.15646279   36.36994934  -55.91345565 -207.15639154\n",
      " -382.81728805 -193.19315214  -43.45690607 -154.61399386  -56.90463437\n",
      "   27.74525556  -34.53795474    9.68372702   76.11395376  162.0452471\n",
      "   70.46970361  -94.43902334  -96.58998111  -74.48665575   11.0351411\n",
      "  -20.41505891   -1.93686443    3.80468885  -10.05902421    6.40901004\n",
      "   57.98598903  148.16379295   70.25602442  -45.55474854  -98.82323037\n",
      "  -52.67201251  -12.62043061  -40.19645238  -18.1870566    14.23480166\n",
      "   35.93406237   17.85231123]\n",
      "numero di armoniche cubiche 24\n",
      "valore a kmin inferito 0.5887098578643581 bias 0.668999176181055 dato a kmin 0.7147155658198961\n",
      "determinante matrice delle armoniche cubiche ridotte: 1.7071633322391231e+30\n",
      "grado ottimale 28 grado massimo tentato 28\n",
      "0 [1. 7. 1.] 61\n"
     ]
    },
    {
     "name": "stderr",
     "output_type": "stream",
     "text": [
      "WARNING:root:HO IMPOSTATO A MANO CHE 2\\PI/L = 0.13484487571168569\n"
     ]
    },
    {
     "name": "stdout",
     "output_type": "stream",
     "text": [
      "parametri ottimali [   0.6844511   -27.12557408   41.24670024  -77.97348361 -259.10975433\n",
      " -380.96010721 -243.99170299   12.31811785 -106.39288407   25.43487081\n",
      "   24.36221777  -60.0222276   -20.2926192   110.76935419  325.53829579\n",
      "  111.62712234 -249.07491149 -424.30387672 -236.3808986   254.61728607\n",
      "  419.10658455  271.43275239 -112.89185157 -217.04363357 -106.55303206\n",
      "   -8.22482269    0.52492323  -34.07317489    3.19593011   10.26799164\n",
      "   12.09483402   10.25260358   12.46490878   10.61552851]\n",
      "numero di armoniche cubiche 21\n",
      "valore a kmin inferito 0.5969869387282766 bias 0.6844510987225324 dato a kmin 0.7147155658198961\n",
      "determinante matrice delle armoniche cubiche ridotte: 1.3362908473797892e+38\n",
      "grado ottimale 26 grado massimo tentato 28\n",
      "0 [4. 0. 6.] 62\n"
     ]
    },
    {
     "name": "stderr",
     "output_type": "stream",
     "text": [
      "WARNING:root:HO IMPOSTATO A MANO CHE 2\\PI/L = 0.13484487571168569\n"
     ]
    },
    {
     "name": "stdout",
     "output_type": "stream",
     "text": [
      "parametri ottimali [   0.66388689  -24.93469755   39.95095955  -77.1465836  -109.06771788\n",
      "  -44.32504589  -82.48496357    2.32870766 -168.12910645   -9.31888643\n",
      "   33.12992876   20.66886788   -1.41831279   28.59943591  153.00411714\n",
      "   47.46382354  -51.9714851   -76.1149524   -25.55630085  -26.0130936\n",
      " -104.04345749  -47.88111383   63.8936093   117.92410492   49.93847823\n",
      "  -13.74546613  -13.76734788    3.338524    -20.11229948  -28.92407494\n",
      "  -18.5435566     9.45939115   10.9506724     5.32778158]\n",
      "numero di armoniche cubiche 21\n",
      "valore a kmin inferito 0.5847951250792751 bias 0.6638868866813719 dato a kmin 0.7147155658198961\n",
      "determinante matrice delle armoniche cubiche ridotte: 9.867677519202706e+40\n",
      "grado ottimale 26 grado massimo tentato 28\n",
      "0 [7. 0. 2.] 63\n"
     ]
    },
    {
     "name": "stderr",
     "output_type": "stream",
     "text": [
      "WARNING:root:HO IMPOSTATO A MANO CHE 2\\PI/L = 0.13484487571168569\n"
     ]
    },
    {
     "name": "stdout",
     "output_type": "stream",
     "text": [
      "parametri ottimali [   0.6659443   -26.11682354   40.74607445  -89.07917294 -133.32671403\n",
      "  -35.08387378 -105.2923531    15.09007499 -204.709951     14.72594336\n",
      "   55.15030107   89.29033112   14.15689833   -3.31331354  134.90432864\n",
      "   19.33088123  -62.26143207 -118.53080935  -43.75625321   14.60272619\n",
      "  -44.60778812    6.6706002    57.86053995  106.73887156   40.61455662\n",
      "  -37.26868285  -52.45940666  -27.06301229  -10.80418737   -0.5533653\n",
      "   -4.10770554   10.76605742    5.8262012     5.56112878]\n",
      "numero di armoniche cubiche 21\n",
      "valore a kmin inferito 0.5851523865236891 bias 0.6659443002992925 dato a kmin 0.7147155658198961\n",
      "determinante matrice delle armoniche cubiche ridotte: 6.644595543108052e+42\n",
      "grado ottimale 26 grado massimo tentato 28\n",
      "0 [6. 4. 1.] 64\n"
     ]
    },
    {
     "name": "stderr",
     "output_type": "stream",
     "text": [
      "WARNING:root:HO IMPOSTATO A MANO CHE 2\\PI/L = 0.13484487571168569\n"
     ]
    },
    {
     "name": "stdout",
     "output_type": "stream",
     "text": [
      "parametri ottimali [   0.66682055  -26.62190264   31.44138013 -102.65434949 -111.58064966\n",
      "   -9.95826465 -106.03758712  -18.3707944  -186.68405218   66.39127868\n",
      "   66.5583147    83.26197014  -31.86813344   19.22182749  115.04823233\n",
      "   30.45856261  -50.57951519  -28.38191489    8.6555008   -15.62837813\n",
      " -124.3926865   -43.43391228   45.27468675   70.540712     23.90682056\n",
      "  -17.81202471   53.5035735    16.27428852   -3.33965537  -36.23027974\n",
      "  -13.97243382    1.2428745   -35.13269553   -7.56754617    1.37794611\n",
      "   24.67965345    6.53840201]\n",
      "numero di armoniche cubiche 24\n",
      "valore a kmin inferito 0.5860349704720124 bias 0.6668205489409296 dato a kmin 0.7147155658198961\n",
      "determinante matrice delle armoniche cubiche ridotte: 2.412216727181559e+41\n",
      "grado ottimale 28 grado massimo tentato 28\n",
      "0 [5. 2. 5.] 65\n"
     ]
    },
    {
     "name": "stderr",
     "output_type": "stream",
     "text": [
      "WARNING:root:HO IMPOSTATO A MANO CHE 2\\PI/L = 0.13484487571168569\n"
     ]
    },
    {
     "name": "stdout",
     "output_type": "stream",
     "text": [
      "parametri ottimali [   0.67686801  -28.42418486   41.79681218 -101.3599449  -156.49680747\n",
      "  -67.41176842 -132.15585504  -10.83693549 -236.36144728    8.84730362\n",
      "   59.84301511   64.80108233    1.08923618   52.5440066   192.32283102\n",
      "   63.24897472  -65.04528817  -51.17943168  -33.86819722  -64.94312148\n",
      " -162.22617097  -51.53332456   85.76362778  115.80990591   56.5453095\n",
      "    7.10471172   13.09876518    3.85221263  -28.15250047  -20.81279705\n",
      "  -14.67917993   -3.3789429   -18.23526296   -6.83927041    6.19399325\n",
      "   12.18919447    5.8741452 ]\n",
      "numero di armoniche cubiche 24\n",
      "valore a kmin inferito 0.5924864741190224 bias 0.6768680052348222 dato a kmin 0.7147155658198961\n",
      "determinante matrice delle armoniche cubiche ridotte: 3.869453019627904e+38\n",
      "grado ottimale 28 grado massimo tentato 28\n",
      "0 [1. 7. 2.] 66\n"
     ]
    },
    {
     "name": "stderr",
     "output_type": "stream",
     "text": [
      "WARNING:root:HO IMPOSTATO A MANO CHE 2\\PI/L = 0.13484487571168569\n"
     ]
    },
    {
     "name": "stdout",
     "output_type": "stream",
     "text": [
      "parametri ottimali [   0.66948732  -27.76742113   36.75510735  -96.97289475 -129.98742387\n",
      "  -15.15927437 -105.11260245  -27.61921158 -248.67407485   -9.89439102\n",
      "   66.15107728  103.00549207   18.68985344   39.16297119  116.91355949\n",
      "   41.21903234  -71.87279766  -51.63130452  -40.28774758  -24.92792376\n",
      "  -84.21931266  -20.45648061   82.54323535   56.51742889   48.11580423\n",
      "  -18.16728105   66.77247304    5.65488117  -44.80954086  -72.40471744\n",
      "  -37.04045071   26.3840178   -11.26582433    7.87684061   -1.14412771\n",
      "   20.95096041    5.39214166]\n",
      "numero di armoniche cubiche 24\n",
      "valore a kmin inferito 0.5883239028537569 bias 0.6694873234388516 dato a kmin 0.7147155658198961\n",
      "determinante matrice delle armoniche cubiche ridotte: 1.611708047415447e+41\n",
      "grado ottimale 28 grado massimo tentato 28\n",
      "0 [6. 3. 3.] 67\n"
     ]
    },
    {
     "name": "stderr",
     "output_type": "stream",
     "text": [
      "WARNING:root:HO IMPOSTATO A MANO CHE 2\\PI/L = 0.13484487571168569\n"
     ]
    },
    {
     "name": "stdout",
     "output_type": "stream",
     "text": [
      "parametri ottimali [   0.6733141   -28.67177997   36.17244097  -97.44284966 -164.57636479\n",
      "  -89.9316277  -135.68089662  -13.18838772 -168.79048591   30.99791193\n",
      "   69.08832941   60.46262604   -0.64259142   33.46936086   99.40846703\n",
      "   30.68830035  -65.65700009  -16.32578574  -27.16249562  -12.91096615\n",
      "  -48.02481533  -14.77703213   57.58717881  -12.87966382   39.26591757\n",
      "  -28.24503941   34.23083742   -6.65593271  -15.99883381   -4.42905596\n",
      "  -22.92908352   26.19556933   -5.89384719   10.1906174    -8.83775004\n",
      "    2.3343624     1.22024593]\n",
      "numero di armoniche cubiche 24\n",
      "valore a kmin inferito 0.5909201482351975 bias 0.6733141025380573 dato a kmin 0.7147155658198961\n",
      "determinante matrice delle armoniche cubiche ridotte: 1.971789593732274e+37\n",
      "grado ottimale 26 grado massimo tentato 28\n",
      "0 [2. 4. 6.] 68\n"
     ]
    },
    {
     "name": "stderr",
     "output_type": "stream",
     "text": [
      "WARNING:root:HO IMPOSTATO A MANO CHE 2\\PI/L = 0.13484487571168569\n"
     ]
    },
    {
     "name": "stdout",
     "output_type": "stream",
     "text": [
      "parametri ottimali [   0.6772028   -29.73161026   50.76505304  -86.58965135 -187.26661791\n",
      " -145.68274533 -156.94709376  -18.3724136  -236.95400362  -52.59898396\n",
      "   81.90418444   71.86701942   50.84364719   33.8008634   189.38500386\n",
      "   54.19277646  -81.6555822  -160.25792693  -72.21634289  -20.921635\n",
      "   25.63245236   -0.52459974   64.66536156   23.26415308   32.62716936\n",
      "   -3.11225142    1.60172805    5.16068078  -33.13987847  -38.19784001\n",
      "  -30.82652999   19.82473243   31.08926224   15.61683296   -4.01600678\n",
      "   -7.09019749   -1.25977085]\n",
      "numero di armoniche cubiche 24\n",
      "valore a kmin inferito 0.5933431271935518 bias 0.6772027961262224 dato a kmin 0.7147155658198961\n",
      "determinante matrice delle armoniche cubiche ridotte: 8.426526659546304e+39\n",
      "grado ottimale 28 grado massimo tentato 28\n",
      "0 [4. 5. 4.] 69\n"
     ]
    },
    {
     "name": "stderr",
     "output_type": "stream",
     "text": [
      "WARNING:root:HO IMPOSTATO A MANO CHE 2\\PI/L = 0.13484487571168569\n"
     ]
    },
    {
     "name": "stdout",
     "output_type": "stream",
     "text": [
      "parametri ottimali [   0.69353663  -32.79387286   65.915403    -72.35284829 -277.08362218\n",
      " -300.07979814 -183.31908967  -66.48287436 -187.93769123 -140.98002607\n",
      "  153.28436723 -240.32033077  123.00559671   62.61524718  646.2929709\n",
      "   49.27796104 -207.03202545 -415.68567251 -168.25181263    0.80247939\n",
      "   54.95956271   73.9986084   115.28354429 -106.91073185   48.47620871\n",
      "   46.12256475  167.87426315  -25.05618304  -78.06615669   19.75262693\n",
      "  -14.53103393  -28.41392729 -121.45871212   -8.87958167   31.15508819\n",
      "   49.04958166   12.14803168]\n",
      "numero di armoniche cubiche 24\n",
      "valore a kmin inferito 0.6029204597877763 bias 0.6935366294950831 dato a kmin 0.7147155658198961\n",
      "determinante matrice delle armoniche cubiche ridotte: 3.9811006045286798e+37\n",
      "grado ottimale 28 grado massimo tentato 28\n",
      "0 [2. 7. 2.] 70\n"
     ]
    },
    {
     "name": "stderr",
     "output_type": "stream",
     "text": [
      "WARNING:root:HO IMPOSTATO A MANO CHE 2\\PI/L = 0.13484487571168569\n"
     ]
    },
    {
     "name": "stdout",
     "output_type": "stream",
     "text": [
      "parametri ottimali [   0.69371885  -33.48370725   57.4487956  -101.0800664  -257.02538532\n",
      " -183.99163295 -180.02070979   -9.11503391 -168.7502559   -16.27332968\n",
      "   81.07064075 -199.26480187   22.89541653   80.80028855  585.04323546\n",
      "   49.10420605 -150.85152759 -461.59511605 -118.44519747  -15.46721405\n",
      "  227.33616958   99.15089479   73.32444262 -143.19388222    8.56505108\n",
      "   64.56729496   27.47271606  -42.12591897  -67.40240198   92.46657677\n",
      "    7.71241437  -36.46418853  -91.27795219   -8.70835003   33.10015801\n",
      "   28.83270604   10.05418652]\n",
      "numero di armoniche cubiche 24\n",
      "valore a kmin inferito 0.6031636015498293 bias 0.6937188496458051 dato a kmin 0.7147155658198961\n",
      "determinante matrice delle armoniche cubiche ridotte: 1.6181771044554404e+40\n",
      "grado ottimale 28 grado massimo tentato 28\n",
      "0 [3. 0. 7.] 71\n"
     ]
    },
    {
     "name": "stderr",
     "output_type": "stream",
     "text": [
      "WARNING:root:HO IMPOSTATO A MANO CHE 2\\PI/L = 0.13484487571168569\n"
     ]
    },
    {
     "name": "stdout",
     "output_type": "stream",
     "text": [
      "parametri ottimali [   0.65723842  -29.26994861   50.52200619 -137.04699356 -173.54575174\n",
      " -108.46736775 -142.2307855    77.23100496  -89.86274595  122.42299888\n",
      "   34.28999146   35.04183224  -36.22574562  -11.0646868   103.46163238\n",
      "   -8.40626211  -42.75956296 -129.51633464  -37.35466097  -46.69603546\n",
      "  141.26462566   36.41426215   40.55582509 -144.35093228   14.9219865\n",
      "  112.58727372   67.13535932   17.21409798  -70.16880708   36.84409592\n",
      "  -23.30155574  -62.76809824  -65.67375785  -27.56635121   43.37279229\n",
      "   25.55015865   21.73971061]\n",
      "numero di armoniche cubiche 24\n",
      "valore a kmin inferito 0.5793685805911142 bias 0.657238416406888 dato a kmin 0.7147155658198961\n",
      "determinante matrice delle armoniche cubiche ridotte: 2.645712294902621e+43\n",
      "grado ottimale 26 grado massimo tentato 28\n",
      "0 [1. 7. 3.] 72\n"
     ]
    },
    {
     "name": "stderr",
     "output_type": "stream",
     "text": [
      "WARNING:root:HO IMPOSTATO A MANO CHE 2\\PI/L = 0.13484487571168569\n"
     ]
    },
    {
     "name": "stdout",
     "output_type": "stream",
     "text": [
      "parametri ottimali [   0.63567378  -26.60688433   36.32539151 -133.49345601 -128.63071684\n",
      "   -7.95779284 -105.85308682   59.15837696  -85.51715039  109.81307203\n",
      "   13.31431913  -49.12942284  -56.92608899  -12.29931728  170.61878764\n",
      "   -1.45400424  -20.82097486  -92.72723577   10.67429995   10.49602325\n",
      "   -5.95345379    8.87710746   12.18030749   23.61566706   -4.94800124\n",
      "   -5.91123135   -0.51931447   -2.01499378   -2.92090566  -10.42244002\n",
      "    0.3555547     1.6090763     4.35394968    0.52824714]\n",
      "numero di armoniche cubiche 21\n",
      "valore a kmin inferito 0.5658504260521913 bias 0.6356737795811326 dato a kmin 0.7147155658198961\n",
      "determinante matrice delle armoniche cubiche ridotte: 8.849712149952298e+45\n",
      "grado ottimale 26 grado massimo tentato 28\n",
      "0 [3. 5. 5.] 73\n"
     ]
    },
    {
     "name": "stderr",
     "output_type": "stream",
     "text": [
      "WARNING:root:HO IMPOSTATO A MANO CHE 2\\PI/L = 0.13484487571168569\n"
     ]
    },
    {
     "name": "stdout",
     "output_type": "stream",
     "text": [
      "parametri ottimali [   0.6545075   -30.03485936   52.20087162 -138.59101494 -207.15195429\n",
      " -117.72690981 -156.62785815  106.12063873  -77.81130321  133.39162502\n",
      "   22.95818032  -28.98327089  -52.867941    -25.20047548  181.4020401\n",
      "   -3.49191664  -27.84220592 -103.06783417  -11.20363876  -14.99930076\n",
      "    8.30478879   25.44707971    9.29967317  -31.24489664   -6.85458896\n",
      "   77.89532445   59.23415082   19.51605401  -34.73810888   -8.67619916\n",
      "  -10.27452249  -47.36858435  -33.83865413  -19.544469     27.77347154\n",
      "   16.86917199   12.45032769]\n",
      "numero di armoniche cubiche 24\n",
      "valore a kmin inferito 0.5774782499583188 bias 0.6545074960995008 dato a kmin 0.7147155658198961\n",
      "determinante matrice delle armoniche cubiche ridotte: 1.1001287095646241e+42\n",
      "grado ottimale 28 grado massimo tentato 28\n",
      "0 [4. 6. 3.] 74\n"
     ]
    },
    {
     "name": "stderr",
     "output_type": "stream",
     "text": [
      "WARNING:root:HO IMPOSTATO A MANO CHE 2\\PI/L = 0.13484487571168569\n"
     ]
    },
    {
     "name": "stdout",
     "output_type": "stream",
     "text": [
      "parametri ottimali [   0.62886245  -26.59156631   37.79901506 -115.62519082 -170.65553939\n",
      " -128.30355931 -122.81596015   70.88934465  -52.49285099   97.73457935\n",
      "   20.92041742   15.25724056  -40.34267819  -17.01169302   44.6772119\n",
      "   -6.75037858  -22.26218207   19.23278106   11.85780743    9.12993729\n",
      "  -66.59823702   -0.24738613   15.17534982   40.94654461    1.35053783\n",
      "   -8.05852971   -8.35189705   -1.59400338]\n",
      "numero di armoniche cubiche 16\n",
      "valore a kmin inferito 0.5613512093835282 bias 0.6288624451628267 dato a kmin 0.7147155658198961\n",
      "determinante matrice delle armoniche cubiche ridotte: 1.929142379256732e+45\n",
      "grado ottimale 22 grado massimo tentato 28\n",
      "0 [0. 6. 5.] 75\n"
     ]
    },
    {
     "name": "stderr",
     "output_type": "stream",
     "text": [
      "WARNING:root:HO IMPOSTATO A MANO CHE 2\\PI/L = 0.13484487571168569\n"
     ]
    },
    {
     "name": "stdout",
     "output_type": "stream",
     "text": [
      "parametri ottimali [   0.64925016  -30.08613594   49.30186459 -138.90726706 -257.03679102\n",
      " -217.74318028 -184.99652533  112.50474902 -152.79990515  113.28910124\n",
      "   47.26108737  140.83597815  -25.92345115  -74.86720467   55.54967969\n",
      "  -44.76532255  -39.9445212  -172.5188891     6.38747084  103.82287574\n",
      "  172.26962314   65.81592151  -22.42190156  -18.78613776  -26.42336884\n",
      "  -59.12300025 -142.05610118  -38.81124561   30.09638394   99.05257441\n",
      "   21.59757707   19.43250625   11.1887198    11.52152548  -13.39860057\n",
      "  -19.11022987   -7.49455533]\n",
      "numero di armoniche cubiche 24\n",
      "valore a kmin inferito 0.5746369642365465 bias 0.6492501634057444 dato a kmin 0.7147155658198961\n",
      "determinante matrice delle armoniche cubiche ridotte: 1.4877540999115297e+34\n",
      "grado ottimale 28 grado massimo tentato 28\n",
      "0 [7. 3. 2.] 76\n"
     ]
    },
    {
     "name": "stderr",
     "output_type": "stream",
     "text": [
      "WARNING:root:HO IMPOSTATO A MANO CHE 2\\PI/L = 0.13484487571168569\n"
     ]
    },
    {
     "name": "stdout",
     "output_type": "stream",
     "text": [
      "parametri ottimali [   0.62774975  -27.11382248   33.5886618  -124.06294109 -194.25395111\n",
      " -151.90184617 -146.2450338    83.96718695  -68.07623978  107.84395508\n",
      "    9.10672702   58.45881393  -48.69984329   -0.69477392   10.77452652\n",
      "    3.35142393  -41.48235135   17.5994908    -4.68844951   26.66523241\n",
      "  -53.30675847   14.67873732    5.0512892    35.15875677   -3.6378119\n",
      "   -5.34707059   -7.08479865   -1.67127053]\n",
      "numero di armoniche cubiche 16\n",
      "valore a kmin inferito 0.561214642813512 bias 0.6277497484108273 dato a kmin 0.7147155658198961\n",
      "determinante matrice delle armoniche cubiche ridotte: 1.8424295414363453e+45\n",
      "grado ottimale 22 grado massimo tentato 28\n",
      "0 [1. 5. 6.] 77\n"
     ]
    },
    {
     "name": "stderr",
     "output_type": "stream",
     "text": [
      "WARNING:root:HO IMPOSTATO A MANO CHE 2\\PI/L = 0.13484487571168569\n"
     ]
    },
    {
     "name": "stdout",
     "output_type": "stream",
     "text": [
      "parametri ottimali [   0.64104889  -29.51674031   48.83205877 -126.35178082 -235.65036704\n",
      " -208.6019106  -180.49650654  131.57755392  -35.4244863   139.65493924\n",
      "  -11.9799534    79.85099205  -63.4855831    31.94213829  -20.63862873\n",
      "   21.82968417  -97.80547707   17.69654701  -46.68409168   69.67325582\n",
      "   -6.73819803   57.68638707  -65.20452629  -35.18761887  -42.23661581\n",
      "  107.69129859   19.86069679   51.6688868   -75.03492243   16.63692035\n",
      "  -44.63126234   16.37342479  -11.00725192   13.18997712]\n",
      "numero di armoniche cubiche 21\n",
      "valore a kmin inferito 0.5699958286076732 bias 0.6410488866896267 dato a kmin 0.7147155658198961\n",
      "determinante matrice delle armoniche cubiche ridotte: 2.1340638938065365e+44\n",
      "grado ottimale 24 grado massimo tentato 28\n",
      "0 [6. 5. 2.] 78\n"
     ]
    },
    {
     "name": "stderr",
     "output_type": "stream",
     "text": [
      "WARNING:root:HO IMPOSTATO A MANO CHE 2\\PI/L = 0.13484487571168569\n"
     ]
    },
    {
     "name": "stdout",
     "output_type": "stream",
     "text": [
      "parametri ottimali [   0.63300079  -28.87752396   36.0679483  -140.2975249  -232.36763617\n",
      " -222.33220079 -181.33188964   81.35524672 -113.84512186  124.13545364\n",
      "   33.13890104  187.48488408  -46.01947608   33.30967325  -65.04259492\n",
      "   22.65903074 -108.83252248  -43.9659276   -78.21403077   39.51721806\n",
      "   74.81397289   81.63728106    0.31954264  -18.82655213  -11.91505494\n",
      "   17.64337159  -70.49838201  -19.40603344   11.60362215   58.08428498\n",
      "   14.8958924   -23.99407084   10.60818205  -10.52225911    5.48358879\n",
      "  -15.99945164    3.51096592]\n",
      "numero di armoniche cubiche 24\n",
      "valore a kmin inferito 0.5646561980259674 bias 0.6330007894782992 dato a kmin 0.7147155658198961\n",
      "determinante matrice delle armoniche cubiche ridotte: 2.504856420871255e+41\n",
      "grado ottimale 28 grado massimo tentato 28\n",
      "0 [0. 7. 4.] 79\n"
     ]
    },
    {
     "name": "stderr",
     "output_type": "stream",
     "text": [
      "WARNING:root:HO IMPOSTATO A MANO CHE 2\\PI/L = 0.13484487571168569\n"
     ]
    },
    {
     "name": "stdout",
     "output_type": "stream",
     "text": [
      "parametri ottimali [   0.62348283  -27.81180561   32.4963914  -129.6651601  -270.65784646\n",
      " -311.90053587 -211.11624792  100.71420881  -34.96557492  132.52977036\n",
      "   43.8172135   176.55171436  -28.44706277   36.42253367  -82.77168392\n",
      "   24.42755793 -187.39224856  -96.02929421 -146.93774491  104.0283541\n",
      "  110.79410891  147.5003368    28.91990288   34.70990728   -3.44762825\n",
      "   19.16055436  -67.6227494   -33.61566128  -21.89247043   11.95327431\n",
      "    7.23741442  -46.58911022   -8.29008049  -19.02665691   29.07988871\n",
      "    7.87419868   12.24519371]\n",
      "numero di armoniche cubiche 24\n",
      "valore a kmin inferito 0.5585369211583235 bias 0.6234828303810495 dato a kmin 0.7147155658198961\n",
      "determinante matrice delle armoniche cubiche ridotte: 1.023749898647788e+37\n",
      "grado ottimale 26 grado massimo tentato 28\n",
      "0 [5. 4. 5.] 80\n"
     ]
    },
    {
     "name": "stderr",
     "output_type": "stream",
     "text": [
      "WARNING:root:HO IMPOSTATO A MANO CHE 2\\PI/L = 0.13484487571168569\n"
     ]
    },
    {
     "name": "stdout",
     "output_type": "stream",
     "text": [
      "parametri ottimali [   0.63680701  -30.83031122   45.99582898 -138.9679324  -369.51783791\n",
      " -406.69809059 -253.45614116  168.91150517  -49.16501217  178.65546485\n",
      "   82.93159333  284.26153933  -44.88590325  -65.97052694 -230.16998741\n",
      "  -30.16418589 -179.34976683   95.55687777  -64.87445514  178.2618213\n",
      "  -56.53472078  133.30795306   94.43748506  116.1311959    14.07220085\n",
      " -145.03241217  -95.7702492  -108.69272254   -3.05697078   -3.83900382\n",
      "   22.4109238    33.18450644   28.75041944   28.52345578   -1.97933701\n",
      "   -5.17928627   -9.02681758]\n",
      "numero di armoniche cubiche 24\n",
      "valore a kmin inferito 0.5665535002006392 bias 0.6368070073171581 dato a kmin 0.7147155658198961\n",
      "determinante matrice delle armoniche cubiche ridotte: 2.489481067889623e+37\n",
      "grado ottimale 26 grado massimo tentato 28\n",
      "0 [4. 1. 7.] 81\n"
     ]
    },
    {
     "name": "stderr",
     "output_type": "stream",
     "text": [
      "WARNING:root:HO IMPOSTATO A MANO CHE 2\\PI/L = 0.13484487571168569\n"
     ]
    },
    {
     "name": "stdout",
     "output_type": "stream",
     "text": [
      "parametri ottimali [   0.64033987  -31.79178719   59.9942663  -158.95469665 -290.65516058\n",
      " -317.28982612 -207.80209487  183.91476016  -26.5577952   194.85726427\n",
      "   10.43700582  209.99381552  -89.03911353    3.25916334 -173.25571645\n",
      "    7.71078276 -236.12697668   58.43979103 -100.21967214  231.91049979\n",
      "  -64.65142341  168.68736302   45.08172785  164.12811787   -9.25688781\n",
      " -137.97114853 -137.0297997  -114.12675975   21.92157215   -2.33490048\n",
      "   39.29582359   30.55942028   60.72148211   26.82660287  -10.17511685\n",
      "  -24.55969097  -12.63290968]\n",
      "numero di armoniche cubiche 24\n",
      "valore a kmin inferito 0.5690778599294287 bias 0.6403398748920746 dato a kmin 0.7147155658198961\n",
      "determinante matrice delle armoniche cubiche ridotte: 1.893148988379829e+44\n",
      "grado ottimale 28 grado massimo tentato 28\n",
      "0 [3. 3. 7.] 82\n"
     ]
    },
    {
     "name": "stderr",
     "output_type": "stream",
     "text": [
      "WARNING:root:HO IMPOSTATO A MANO CHE 2\\PI/L = 0.13484487571168569\n"
     ]
    },
    {
     "name": "stdout",
     "output_type": "stream",
     "text": [
      "parametri ottimali [   0.62221027  -30.16455183   68.10269462 -201.05252467 -260.94842822\n",
      " -251.8702602  -235.49799217  243.65803413  -37.09120847  275.32367841\n",
      "  -93.82816564  203.77688028 -151.84058068   55.08540129 -146.76889974\n",
      "   16.41219608 -206.77605996   85.28759578  -68.60977499  179.94494516\n",
      " -166.18272247  149.68249601   64.11465182  224.66761471   -6.75927808\n",
      " -120.71350285  -77.39002825 -125.39151386   -5.30101626  -62.85271118\n",
      "   41.77509349   43.51303826   54.48737547   47.48253066  -10.81729999\n",
      "  -12.88814989  -25.62282664]\n",
      "numero di armoniche cubiche 24\n",
      "valore a kmin inferito 0.5559555512335339 bias 0.6222102711300244 dato a kmin 0.7147155658198961\n",
      "determinante matrice delle armoniche cubiche ridotte: 9.9401163089181e+37\n",
      "grado ottimale 28 grado massimo tentato 28\n",
      "0 [4. 4. 6.] 83\n"
     ]
    },
    {
     "name": "stderr",
     "output_type": "stream",
     "text": [
      "WARNING:root:HO IMPOSTATO A MANO CHE 2\\PI/L = 0.13484487571168569\n"
     ]
    },
    {
     "name": "stdout",
     "output_type": "stream",
     "text": [
      "parametri ottimali [   0.6109105   -28.45389598   68.43227614 -135.84814122 -237.48972725\n",
      " -364.3264295  -234.63798435  205.41152533   55.03678234  224.72894791\n",
      "  -71.62359704  195.47315886  -84.24660322   16.80210211 -139.7001555\n",
      "  -22.70554832  -91.24836901    3.16784988  -24.68174289   88.4675944\n",
      "  -77.07748345   73.31015252   14.06235782  150.10710821   14.7675537\n",
      "  -28.59663324  -26.02316291  -55.61991242   -1.13219904  -59.63775457\n",
      "    7.73713908   -9.30952407   29.75509226   10.6852067     7.69877697\n",
      "   -1.32679904   -2.41957517]\n",
      "numero di armoniche cubiche 24\n",
      "valore a kmin inferito 0.5490356516123744 bias 0.6109104980703337 dato a kmin 0.7147155658198961\n",
      "determinante matrice delle armoniche cubiche ridotte: 3.722844516244327e+35\n",
      "grado ottimale 28 grado massimo tentato 28\n",
      "0 [4. 7. 2.] 84\n"
     ]
    },
    {
     "name": "stderr",
     "output_type": "stream",
     "text": [
      "WARNING:root:HO IMPOSTATO A MANO CHE 2\\PI/L = 0.13484487571168569\n"
     ]
    },
    {
     "name": "stdout",
     "output_type": "stream",
     "text": [
      "parametri ottimali [   0.60326884  -27.64759471   57.14668913 -139.07649049 -223.9857617\n",
      " -317.30913706 -214.77510073  149.47918026  -39.53296158  173.04723758\n",
      "  -14.77324827  212.39768057  -50.68603456    8.18919091 -133.55619956\n",
      "  -21.79485864 -104.52365808  102.85509909  -18.09099727   47.35970001\n",
      " -206.24735706   28.79668207   97.69134892  213.71124921   60.57730447\n",
      "  -72.9233674   -52.98353091  -72.43842009  -26.27827283  -60.59086489\n",
      "   -5.32622051   34.6570816    50.4568994    32.48849641   -7.45692049\n",
      "  -12.62239309  -10.94799042]\n",
      "numero di armoniche cubiche 24\n",
      "valore a kmin inferito 0.543998613019038 bias 0.6032688378294538 dato a kmin 0.7147155658198961\n",
      "determinante matrice delle armoniche cubiche ridotte: 7.698969802120284e+35\n",
      "grado ottimale 28 grado massimo tentato 28\n",
      "0 [5. 6. 3.] 85\n"
     ]
    },
    {
     "name": "stderr",
     "output_type": "stream",
     "text": [
      "WARNING:root:HO IMPOSTATO A MANO CHE 2\\PI/L = 0.13484487571168569\n"
     ]
    },
    {
     "name": "stdout",
     "output_type": "stream",
     "text": [
      "parametri ottimali [ 6.36888169e-01 -3.37348370e+01  6.92926947e+01 -1.97125440e+02\n",
      " -3.47978042e+02 -5.04077911e+02 -2.88525760e+02  1.59902812e+02\n",
      " -4.50396228e+02  1.74791826e+02  6.60259720e+01  9.65874025e+02\n",
      " -2.53261430e+01 -2.08632416e+01 -6.38128689e+02 -4.43107013e+01\n",
      " -1.78408571e+02 -1.63581364e+02 -6.94591509e+01  5.22400800e+01\n",
      "  3.46016958e+02  9.87485548e+01  1.53607860e+02  1.63877307e+02\n",
      "  6.00337807e+01 -5.63609859e+01 -3.11557627e+02 -1.10559566e+02\n",
      " -3.71369215e+01  2.43500342e+01  2.27356399e+01 -9.02140563e+00\n",
      "  7.98857143e+01  1.58677325e+01  1.67218375e+01 -2.46243160e+01\n",
      " -4.69000875e+00]\n",
      "numero di armoniche cubiche 24\n",
      "valore a kmin inferito 0.5663236801699508 bias 0.6368881687384904 dato a kmin 0.7147155658198961\n",
      "determinante matrice delle armoniche cubiche ridotte: 1.8991454790623778e+36\n",
      "grado ottimale 28 grado massimo tentato 28\n",
      "0 [0. 6. 6.] 86\n"
     ]
    },
    {
     "name": "stderr",
     "output_type": "stream",
     "text": [
      "WARNING:root:HO IMPOSTATO A MANO CHE 2\\PI/L = 0.13484487571168569\n"
     ]
    },
    {
     "name": "stdout",
     "output_type": "stream",
     "text": [
      "parametri ottimali [   0.62438367  -31.9057609    69.50753598 -175.07617195 -325.40899853\n",
      " -533.65179562 -285.38765752  229.07024842   17.62155092  232.31085519\n",
      "  -63.01241695  269.47923673 -109.41903445   88.72537785 -104.60059257\n",
      "   42.19110911 -238.68278731 -301.94867068 -155.31135053  158.63762613\n",
      "  305.32850591  191.32948309  -33.00633413    6.5128072   -40.09209518\n",
      "   40.25590557  -99.42907431  -49.21447038   51.10922713   79.51330588\n",
      "   56.60389237 -130.18687883  -88.78044136  -57.81531647   55.72680642\n",
      "   38.68674866   24.61398154]\n",
      "numero di armoniche cubiche 24\n",
      "valore a kmin inferito 0.5585107805803429 bias 0.6243836723565964 dato a kmin 0.7147155658198961\n",
      "determinante matrice delle armoniche cubiche ridotte: 2.6747851357334353e+38\n",
      "grado ottimale 28 grado massimo tentato 28\n",
      "0 [6. 6. 1.] 87\n"
     ]
    },
    {
     "name": "stderr",
     "output_type": "stream",
     "text": [
      "WARNING:root:HO IMPOSTATO A MANO CHE 2\\PI/L = 0.13484487571168569\n"
     ]
    },
    {
     "name": "stdout",
     "output_type": "stream",
     "text": [
      "parametri ottimali [ 6.18776061e-01 -3.16542337e+01  5.10332568e+01 -2.20162145e+02\n",
      " -3.93145394e+02 -8.27655796e+02 -3.72103091e+02  2.51596515e+02\n",
      "  3.54295696e+02  3.49328556e+02  3.81376877e+01  2.32448799e+02\n",
      " -1.13597360e+02 -6.12255825e+01 -2.79568567e+02 -5.65912622e+01\n",
      " -1.63405589e+02 -2.57191368e+02 -5.19528622e+01  1.49442852e+02\n",
      "  4.44876858e+02  1.59765807e+02  1.59157715e+01 -6.50485906e+00\n",
      " -2.34336944e+01 -5.97465851e+00 -1.70284190e+02 -7.23352403e+01\n",
      "  2.78255545e+00  4.98575918e+01  3.79462056e+01 -5.08218293e+01\n",
      " -1.48071432e+01 -1.32507393e+01  2.75874867e+01  1.25482773e+01\n",
      "  6.50960692e+00]\n",
      "numero di armoniche cubiche 24\n",
      "valore a kmin inferito 0.554540891169885 bias 0.6187760606777011 dato a kmin 0.7147155658198961\n",
      "determinante matrice delle armoniche cubiche ridotte: 3.2992811478615385e+37\n",
      "grado ottimale 28 grado massimo tentato 28\n",
      "0 [5. 7. 0.] 88\n"
     ]
    },
    {
     "name": "stderr",
     "output_type": "stream",
     "text": [
      "WARNING:root:HO IMPOSTATO A MANO CHE 2\\PI/L = 0.13484487571168569\n"
     ]
    },
    {
     "name": "stdout",
     "output_type": "stream",
     "text": [
      "parametri ottimali [ 5.94000822e-01 -2.78290315e+01  2.68955057e+01 -1.98134434e+02\n",
      " -4.47909717e+02 -1.11234208e+03 -4.48799246e+02  2.08847182e+02\n",
      "  3.50891329e+02  3.21302555e+02  5.90296774e+01  2.63814119e+02\n",
      " -6.97200429e+01 -2.36663541e+01 -1.22973807e+02 -2.87302979e+01\n",
      " -1.45748935e+02 -2.76489160e+02 -5.40471742e+01  1.28298457e+02\n",
      "  3.30838309e+02  1.08198187e+02 -1.00205085e+01 -5.90000881e+01\n",
      " -1.90686469e+01  1.42135312e+01 -2.06331559e+01 -8.21047937e+00\n",
      " -3.85751762e+01 -3.12878153e+01 -2.35157320e+01  1.41857111e+01\n",
      "  1.88710745e+01  1.40832722e+01]\n",
      "numero di armoniche cubiche 21\n",
      "valore a kmin inferito 0.5381056028312756 bias 0.5940008217476727 dato a kmin 0.7147155658198961\n",
      "determinante matrice delle armoniche cubiche ridotte: 7.625152366505828e+39\n",
      "grado ottimale 26 grado massimo tentato 28\n",
      "0 [3. 7. 4.] 89\n"
     ]
    },
    {
     "name": "stderr",
     "output_type": "stream",
     "text": [
      "WARNING:root:HO IMPOSTATO A MANO CHE 2\\PI/L = 0.13484487571168569\n"
     ]
    },
    {
     "name": "stdout",
     "output_type": "stream",
     "text": [
      "parametri ottimali [ 5.98724598e-01 -2.86710904e+01  3.40929346e+01 -1.51987921e+02\n",
      " -6.05859322e+02 -1.53851149e+03 -4.77445177e+02  1.96159551e+02\n",
      "  4.41582482e+02  1.68767392e+02  2.12008969e+02  3.53113776e+02\n",
      "  1.10483504e+02 -2.85864784e+02 -5.70569186e+02 -1.84814347e+02\n",
      " -4.19529596e+01  2.00991809e+01 -1.35818290e+01  2.05609900e+02\n",
      "  3.43485249e+02  1.26333540e+02 -3.82806965e+01 -7.66566881e+01\n",
      " -3.09078369e+01 -4.60175384e+01 -8.22718414e+01 -2.53255257e+01\n",
      "  1.34950883e+01  2.74868490e+01  8.96831029e+00]\n",
      "numero di armoniche cubiche 19\n",
      "valore a kmin inferito 0.5418103010568694 bias 0.5987245978231202 dato a kmin 0.7147155658198961\n",
      "determinante matrice delle armoniche cubiche ridotte: 2.5803657952197616e+39\n",
      "grado ottimale 24 grado massimo tentato 28\n",
      "0 [1. 5. 7.] 90\n"
     ]
    },
    {
     "name": "stderr",
     "output_type": "stream",
     "text": [
      "WARNING:root:HO IMPOSTATO A MANO CHE 2\\PI/L = 0.13484487571168569\n"
     ]
    },
    {
     "name": "stdout",
     "output_type": "stream",
     "text": [
      "parametri ottimali [   0.56732283  -24.16151284   31.84897063 -136.00806088 -191.37231514\n",
      " -396.78713265 -172.46966063   56.0933989   -31.89520116  110.39248723\n",
      "   92.22777496  322.61772579   10.70302187  -42.69215274 -117.07197531\n",
      "  -33.87877154 -121.67024242 -207.46608327  -56.17715768  106.58262185\n",
      "  165.85759858   63.7984935    89.27765735   64.0655163    59.38996669\n",
      " -146.14947275 -126.97771622  -77.82962537    1.12078778   17.90225108\n",
      "  -20.48891123   78.51604162   66.65979936   44.92409574  -32.28995366\n",
      "  -35.96440658  -11.71569761]\n",
      "numero di armoniche cubiche 24\n",
      "valore a kmin inferito 0.5198502763527841 bias 0.5673228342487181 dato a kmin 0.7147155658198961\n",
      "determinante matrice delle armoniche cubiche ridotte: 1.0196557378443685e+37\n",
      "grado ottimale 28 grado massimo tentato 28\n",
      "0 [5. 5. 5.] 91\n"
     ]
    },
    {
     "name": "stderr",
     "output_type": "stream",
     "text": [
      "WARNING:root:HO IMPOSTATO A MANO CHE 2\\PI/L = 0.13484487571168569\n"
     ]
    },
    {
     "name": "stdout",
     "output_type": "stream",
     "text": [
      "parametri ottimali [ 5.82250090e-01 -2.68792736e+01  4.56413662e+01 -1.03628164e+02\n",
      " -2.53888031e+02 -6.12830631e+02 -1.73492819e+02 -9.16225510e+00\n",
      " -2.58632126e+02  8.27768024e+00  2.70357231e+02  9.66369639e+02\n",
      "  1.25204375e+02 -1.27263841e+02 -4.91514414e+02 -6.60555321e+01\n",
      " -2.43784509e+02 -5.88707660e+02 -1.24787074e+02  1.39666807e+02\n",
      "  2.69020172e+02  1.04176405e+02  2.12617863e+02  5.56007899e+02\n",
      "  8.99870047e+01 -1.40641053e+02 -2.36866652e+02 -1.06089557e+02\n",
      " -1.07410857e+02 -3.11032946e+02 -1.92091646e+01  1.05880866e+02\n",
      "  2.33265731e+02  4.79036546e+01 -1.88844939e+01 -2.98693466e+01\n",
      " -1.21326541e+01]\n",
      "numero di armoniche cubiche 24\n",
      "valore a kmin inferito 0.5303252524098168 bias 0.5822500899556491 dato a kmin 0.7147155658198961\n",
      "determinante matrice delle armoniche cubiche ridotte: 6.441053579161545e+33\n",
      "grado ottimale 28 grado massimo tentato 28\n",
      "0 [2. 6. 6.] 92\n"
     ]
    },
    {
     "name": "stderr",
     "output_type": "stream",
     "text": [
      "WARNING:root:HO IMPOSTATO A MANO CHE 2\\PI/L = 0.13484487571168569\n"
     ]
    },
    {
     "name": "stdout",
     "output_type": "stream",
     "text": [
      "parametri ottimali [   0.56233923  -24.55576836   41.91007106 -115.11442289 -234.86801755\n",
      " -481.47673565 -187.01618977   99.62494053  -98.1028053   120.28557028\n",
      "   77.64715073  406.30167528   -1.19894691  -43.61260922  132.21631504\n",
      "  -23.81990949 -101.9505401  -312.68759317  -31.1148146    62.14559252\n",
      " -310.68141686   31.6159223    85.57818932  271.95736278   37.80033928\n",
      "  -83.57949293  170.064302    -50.18004235  -15.70784361 -105.17853484\n",
      "   -2.53859258   42.72241257  -36.57370655   24.79484331  -13.60792487\n",
      "   28.67526939   -9.35910612]\n",
      "numero di armoniche cubiche 24\n",
      "valore a kmin inferito 0.5156815996553481 bias 0.5623392296433617 dato a kmin 0.7147155658198961\n",
      "determinante matrice delle armoniche cubiche ridotte: 2.8294162411873983e+28\n",
      "grado ottimale 28 grado massimo tentato 28\n",
      "0 [4. 5. 6.] 93\n"
     ]
    },
    {
     "name": "stderr",
     "output_type": "stream",
     "text": [
      "WARNING:root:HO IMPOSTATO A MANO CHE 2\\PI/L = 0.13484487571168569\n"
     ]
    },
    {
     "name": "stdout",
     "output_type": "stream",
     "text": [
      "parametri ottimali [ 5.62852841e-01 -2.53078008e+01  4.88450341e+01 -1.09097931e+02\n",
      " -2.68093356e+02 -5.94420465e+02 -2.30523679e+02  1.15352385e+02\n",
      "  3.59167647e+01  1.24354582e+02  1.00712638e+02  2.59213076e+02\n",
      "  2.13130593e+01 -7.29620923e+01  6.05239809e+01 -2.52052379e+01\n",
      " -1.57693742e+02 -1.04954602e+02 -5.54138365e+01  1.55993610e+02\n",
      " -2.46067946e+02  3.54040594e+01  1.27761706e+02  6.91060354e+01\n",
      "  5.60729172e+01 -2.08456456e+02  2.26007621e+02 -6.31300773e+01\n",
      "  7.61265596e-01 -7.24607020e+01 -6.18126898e+00  9.99043218e+01\n",
      " -8.49971988e+01  3.20884073e+01 -3.72484260e+01  5.03583548e+01\n",
      " -9.79179675e+00]\n",
      "numero di armoniche cubiche 24\n",
      "valore a kmin inferito 0.5156274039018723 bias 0.5628528406660702 dato a kmin 0.7147155658198961\n",
      "determinante matrice delle armoniche cubiche ridotte: 7.3880010798082685e+25\n",
      "grado ottimale 28 grado massimo tentato 28\n",
      "0 [7. 5. 2.] 94\n"
     ]
    },
    {
     "name": "stderr",
     "output_type": "stream",
     "text": [
      "WARNING:root:HO IMPOSTATO A MANO CHE 2\\PI/L = 0.13484487571168569\n"
     ]
    },
    {
     "name": "stdout",
     "output_type": "stream",
     "text": [
      "parametri ottimali [ 5.71574716e-01 -2.66760572e+01  4.50378425e+01 -1.11020849e+02\n",
      " -3.29038762e+02 -8.03213933e+02 -2.63740656e+02  8.37490071e+00\n",
      " -1.56886058e+02  1.74178498e+01  2.72116998e+02  7.38073014e+02\n",
      "  1.82950604e+02 -1.31265587e+02 -4.19170505e+02 -1.08859938e+02\n",
      " -1.43198571e+02 -4.09021100e+01 -8.67567727e+01 -2.31992762e+01\n",
      " -2.26916087e+02  9.30276252e+00  2.61170832e+02  4.68886956e+02\n",
      "  1.56735847e+02 -8.20136897e+01 -8.27914352e+01 -6.42608101e+01\n",
      " -1.14632273e+02 -2.07907108e+02 -6.46265588e+01  6.12049966e+01\n",
      "  9.79221321e+01  3.78889765e+01]\n",
      "numero di armoniche cubiche 21\n",
      "valore a kmin inferito 0.5224520677752825 bias 0.5715747156188717 dato a kmin 0.7147155658198961\n",
      "determinante matrice delle armoniche cubiche ridotte: 8.332574131810479e+35\n",
      "grado ottimale 26 grado massimo tentato 28\n",
      "0 [4. 4. 7.] 95\n"
     ]
    },
    {
     "name": "stderr",
     "output_type": "stream",
     "text": [
      "WARNING:root:HO IMPOSTATO A MANO CHE 2\\PI/L = 0.13484487571168569\n"
     ]
    },
    {
     "name": "stdout",
     "output_type": "stream",
     "text": [
      "parametri ottimali [ 5.93314350e-01 -3.03919419e+01  6.52950505e+01 -8.36890389e+01\n",
      " -5.64005578e+02 -1.90433799e+03 -6.56215666e+02  3.06090901e+02\n",
      "  1.11905688e+03  4.20863062e+02  3.52252123e+01 -1.40986087e+02\n",
      " -7.38317554e+01 -9.04590747e+01 -4.02539922e+02 -1.24811322e+02\n",
      " -1.41193164e+02 -1.19650290e+02 -5.51375335e+01  2.10568529e+02\n",
      "  7.37224069e+02  2.59203779e+02 -1.21757142e+02 -5.73561481e+02\n",
      " -1.80766649e+02  9.73450044e+01  2.07139674e+02  6.33251767e+01\n",
      " -1.37762358e+01  5.74088645e+01  1.20866259e+01 -6.57601261e+01\n",
      " -1.49200924e+02 -5.19451061e+01  3.20180103e+01  5.71187960e+01\n",
      "  2.27053030e+01]\n",
      "numero di armoniche cubiche 24\n",
      "valore a kmin inferito 0.5383267660262183 bias 0.5933143499634149 dato a kmin 0.7147155658198961\n",
      "determinante matrice delle armoniche cubiche ridotte: 3.4330827914961358e+31\n",
      "grado ottimale 28 grado massimo tentato 28\n",
      "0 [6. 3. 6.] 96\n"
     ]
    },
    {
     "name": "stderr",
     "output_type": "stream",
     "text": [
      "WARNING:root:HO IMPOSTATO A MANO CHE 2\\PI/L = 0.13484487571168569\n"
     ]
    },
    {
     "name": "stdout",
     "output_type": "stream",
     "text": [
      "parametri ottimali [ 5.81301116e-01 -2.90088377e+01  6.39791444e+01 -6.96916958e+01\n",
      " -5.87546490e+02 -2.01427551e+03 -7.11341962e+02  3.21718249e+02\n",
      "  1.20478993e+03  4.39702299e+02  2.20280429e+01 -3.45691394e+02\n",
      " -1.04327199e+02 -1.06297972e+02 -2.24725258e+02 -9.91894315e+01\n",
      " -1.38657402e+02  1.09949189e+02 -1.61114115e+01  2.44103883e+02\n",
      "  2.70162512e+02  1.81008331e+02 -2.48482721e+01 -3.77790829e+02\n",
      " -1.07282406e+02 -1.25620858e+02  2.09573353e+02 -2.27246875e+01\n",
      "  5.79442188e+01  1.05935323e+02  5.74867054e+01  1.47118294e+01\n",
      " -2.02493112e+02 -3.37388098e+01 -1.14375071e+01  6.95418872e+01\n",
      "  7.19487986e+00]\n",
      "numero di armoniche cubiche 24\n",
      "valore a kmin inferito 0.5295925726703077 bias 0.5813011158424671 dato a kmin 0.7147155658198961\n",
      "determinante matrice delle armoniche cubiche ridotte: 1.2666992955012236e+30\n",
      "grado ottimale 28 grado massimo tentato 28\n",
      "0 [5. 7. 3.] 97\n"
     ]
    },
    {
     "name": "stderr",
     "output_type": "stream",
     "text": [
      "WARNING:root:HO IMPOSTATO A MANO CHE 2\\PI/L = 0.13484487571168569\n"
     ]
    },
    {
     "name": "stdout",
     "output_type": "stream",
     "text": [
      "parametri ottimali [ 5.61712333e-01 -2.62625450e+01  4.98491904e+01 -7.83631379e+01\n",
      " -4.69488593e+02 -1.42603896e+03 -4.55297495e+02  8.10394489e+01\n",
      "  2.42758409e+02  8.21838341e+01  2.27065598e+02  4.88989056e+02\n",
      "  1.76043195e+02 -1.75141272e+02 -5.11506892e+02 -1.66032211e+02\n",
      " -8.22522461e+01  2.33112991e+01 -3.85762289e+01  4.89881501e+01\n",
      "  9.24485510e+01  5.06853703e+01  1.21697510e+02  1.23014873e+02\n",
      "  7.62739460e+01 -5.15827041e+01 -6.81922432e+01 -4.34384203e+01\n",
      " -5.84038734e+01 -6.15209102e+01 -3.61478960e+01  3.29849431e+01\n",
      "  3.71605182e+01  2.30011914e+01]\n",
      "numero di armoniche cubiche 21\n",
      "valore a kmin inferito 0.5154836461013197 bias 0.5617123329746098 dato a kmin 0.7147155658198961\n",
      "determinante matrice delle armoniche cubiche ridotte: 1.2064143326921572e+32\n",
      "grado ottimale 26 grado massimo tentato 28\n",
      "0 [0. 7. 6.] 98\n"
     ]
    },
    {
     "name": "stderr",
     "output_type": "stream",
     "text": [
      "WARNING:root:HO IMPOSTATO A MANO CHE 2\\PI/L = 0.13484487571168569\n"
     ]
    },
    {
     "name": "stdout",
     "output_type": "stream",
     "text": [
      "parametri ottimali [ 5.75417640e-01 -2.97128522e+01  6.18873789e+01 -1.62970775e+02\n",
      " -7.61892753e+02 -2.08813518e+03 -7.72872488e+02  4.02679534e+02\n",
      "  8.15264606e+02  4.11061506e+02  1.27880721e+02  3.37876894e+02\n",
      "  6.40641942e+01 -2.75306756e+02 -5.75242485e+02 -2.44489755e+02\n",
      "  5.20106553e+01  3.33670293e+02  9.08327533e+01 -8.11718199e+01\n",
      " -3.21315425e+02 -5.42203194e+01  1.98873471e+02  2.82191588e+02\n",
      "  1.31785551e+02  1.62005414e+02  2.42846879e+02  9.04050081e+01\n",
      " -4.62291249e+02 -5.72686187e+02 -3.05461012e+02  2.60421661e+02\n",
      "  3.09840473e+02  1.79391836e+02 -3.74625698e+01 -4.69535484e+01\n",
      " -2.60365223e+01]\n",
      "numero di armoniche cubiche 24\n",
      "valore a kmin inferito 0.5245311456901812 bias 0.5754176401588174 dato a kmin 0.7147155658198961\n",
      "determinante matrice delle armoniche cubiche ridotte: 1.985950060129818e+23\n",
      "grado ottimale 28 grado massimo tentato 28\n",
      "0 [6. 1. 7.] 99\n"
     ]
    },
    {
     "name": "stderr",
     "output_type": "stream",
     "text": [
      "WARNING:root:HO IMPOSTATO A MANO CHE 2\\PI/L = 0.13484487571168569\n"
     ]
    },
    {
     "name": "stdout",
     "output_type": "stream",
     "text": [
      "parametri ottimali [ 5.72667113e-01 -2.91662113e+01  6.66002920e+01 -1.39389444e+02\n",
      " -4.04872888e+02 -1.02259853e+03 -4.19658141e+02  1.93032426e+02\n",
      "  1.45872001e+02  1.94384342e+02  4.89217955e+01  4.65095226e+02\n",
      "  5.06522601e+01  9.47389329e+01 -1.86196930e+02  2.10021930e+01\n",
      " -3.38732153e+02 -2.00563466e+02 -2.38272560e+02  1.18285451e+02\n",
      " -8.04032673e+01  1.11529755e+02 -4.69142991e+00  6.59781281e+01\n",
      " -3.73846821e+00  2.84485517e+02  3.77417461e+02  1.94996965e+02\n",
      " -1.73452457e+02 -1.73967318e+02 -1.23384556e+02 -1.39732181e+02\n",
      " -1.98980805e+02 -1.05294899e+02  9.89864176e+01  1.13280554e+02\n",
      "  7.48793085e+01]\n",
      "numero di armoniche cubiche 24\n",
      "valore a kmin inferito 0.5233041663529095 bias 0.5726671126063563 dato a kmin 0.7147155658198961\n",
      "determinante matrice delle armoniche cubiche ridotte: 1.9010907700021775e+30\n",
      "grado ottimale 28 grado massimo tentato 28\n",
      "0 [5. 5. 6.] 100\n"
     ]
    },
    {
     "name": "stderr",
     "output_type": "stream",
     "text": [
      "WARNING:root:HO IMPOSTATO A MANO CHE 2\\PI/L = 0.13484487571168569\n"
     ]
    },
    {
     "name": "stdout",
     "output_type": "stream",
     "text": [
      "parametri ottimali [ 5.75433352e-01 -3.01531727e+01  7.31799547e+01 -1.15425576e+02\n",
      " -4.55234540e+02 -1.23284888e+03 -4.73750087e+02  2.38521329e+02\n",
      "  3.08814261e+02  2.47685517e+02  1.03285563e+02  5.05369643e+02\n",
      "  7.37906975e+01 -2.96283262e+01 -2.17508913e+02 -5.61984485e+01\n",
      " -3.59603730e+02 -3.50512645e+02 -2.24328387e+02  2.41737294e+02\n",
      " -7.56691765e+01  1.40822761e+02  2.09267664e+02  4.67182059e+02\n",
      "  1.66522369e+02 -1.59337379e+02  6.68733872e+01 -8.88229904e+01\n",
      " -7.76503333e+01 -2.59957333e+02 -7.08366087e+01  4.53219719e+01\n",
      " -6.55844454e+01  1.22113811e+01  8.83751118e+00  9.14125525e+01\n",
      "  1.95186276e+01]\n",
      "numero di armoniche cubiche 24\n",
      "valore a kmin inferito 0.5252514337416164 bias 0.5754333524177355 dato a kmin 0.7147155658198961\n",
      "determinante matrice delle armoniche cubiche ridotte: 2.1573579613713935e+29\n",
      "grado ottimale 28 grado massimo tentato 28\n",
      "0 [6. 4. 6.] 101\n"
     ]
    },
    {
     "name": "stderr",
     "output_type": "stream",
     "text": [
      "WARNING:root:HO IMPOSTATO A MANO CHE 2\\PI/L = 0.13484487571168569\n"
     ]
    },
    {
     "name": "stdout",
     "output_type": "stream",
     "text": [
      "parametri ottimali [ 5.81555791e-01 -3.18637292e+01  8.16149904e+01 -9.56984684e+01\n",
      " -4.94853409e+02 -1.37343802e+03 -5.05465103e+02  1.50361623e+02\n",
      " -1.15816892e+02  9.51957458e+01  1.84431894e+02  8.80843421e+02\n",
      "  1.79333915e+02 -2.24548136e+01 -1.02847684e+01 -5.57970512e+00\n",
      " -3.17211711e+02 -7.76166887e+02 -2.35083817e+02 -3.82846372e+00\n",
      " -6.96125108e+01 -3.50193467e+01  4.63629449e+02  5.86134128e+02\n",
      "  2.94811580e+02 -1.64521528e+02  1.70980689e+02 -2.73421980e+01\n",
      " -2.36397332e+02 -3.53986639e+02 -1.68321289e+02  1.60145029e+02\n",
      " -6.97638506e+01  5.31256263e+01 -2.06338240e+01  9.85217431e+01\n",
      "  1.05664368e+01]\n",
      "numero di armoniche cubiche 24\n",
      "valore a kmin inferito 0.5294532754444283 bias 0.5815557911393191 dato a kmin 0.7147155658198961\n",
      "determinante matrice delle armoniche cubiche ridotte: 2.99427769606606e+28\n",
      "grado ottimale 28 grado massimo tentato 28\n",
      "0 [2. 7. 6.] 102\n"
     ]
    },
    {
     "name": "stderr",
     "output_type": "stream",
     "text": [
      "WARNING:root:HO IMPOSTATO A MANO CHE 2\\PI/L = 0.13484487571168569\n"
     ]
    },
    {
     "name": "stdout",
     "output_type": "stream",
     "text": [
      "parametri ottimali [ 5.69600541e-01 -3.00314098e+01  7.51839224e+01 -9.29204588e+01\n",
      " -4.86408926e+02 -1.37008684e+03 -5.17416566e+02  1.60852217e+02\n",
      "  4.73189511e+01  1.24482796e+02  1.66364468e+02  8.45728881e+02\n",
      "  2.01007068e+02  3.61279655e+00 -4.81177644e+02 -9.28889063e+01\n",
      " -4.19877255e+02 -1.98123902e+02 -2.41113030e+02  2.89609778e+02\n",
      " -6.90398983e+01  1.70478621e+02  4.66187770e+01  3.86688580e+02\n",
      "  8.70183119e+01 -1.33524761e+01 -3.55041052e+01 -5.49140299e+01\n",
      "  3.95987039e+01 -1.35978917e+02  5.30318352e+00 -1.59891160e+02\n",
      "  8.50416592e+00 -5.46388668e+01  7.99258309e+01  1.65455338e+01\n",
      "  3.13977778e+01]\n",
      "numero di armoniche cubiche 24\n",
      "valore a kmin inferito 0.5211214258454955 bias 0.5696005406592233 dato a kmin 0.7147155658198961\n",
      "determinante matrice delle armoniche cubiche ridotte: 4.061904772616617e+25\n",
      "grado ottimale 26 grado massimo tentato 28\n",
      "0 [4. 7. 5.] 103\n"
     ]
    },
    {
     "name": "stderr",
     "output_type": "stream",
     "text": [
      "WARNING:root:HO IMPOSTATO A MANO CHE 2\\PI/L = 0.13484487571168569\n"
     ]
    },
    {
     "name": "stdout",
     "output_type": "stream",
     "text": [
      "parametri ottimali [ 5.91652839e-01 -3.44942091e+01  8.94518231e+01 -1.83159555e+01\n",
      " -5.77403639e+02 -1.92540248e+03 -5.51432666e+02 -2.66346873e+02\n",
      " -8.99383767e+02 -3.55715493e+02  8.03580394e+02  2.02171134e+03\n",
      "  7.03583948e+02 -2.11851885e+02 -2.01751772e+02 -1.24058880e+02\n",
      " -8.02324811e+02 -1.78245265e+03 -6.03381728e+02  2.88094121e+02\n",
      "  5.10292790e+02  1.82562417e+02  8.53971609e+02  1.08300257e+03\n",
      "  5.22649992e+02 -5.62342923e+02 -3.76509893e+02 -2.87999202e+02\n",
      " -2.19460376e+02 -3.73722021e+02 -1.44221676e+02  2.35964642e+02\n",
      "  1.56400779e+02  1.18602041e+02 -3.89924856e+01  1.18028611e+01\n",
      " -1.43147763e+01]\n",
      "numero di armoniche cubiche 24\n",
      "valore a kmin inferito 0.5368621984080474 bias 0.591652839208902 dato a kmin 0.7147155658198961\n",
      "determinante matrice delle armoniche cubiche ridotte: 1.190874729287743e+26\n",
      "grado ottimale 28 grado massimo tentato 28\n",
      "0 [6. 3. 7.] 104\n"
     ]
    },
    {
     "name": "stderr",
     "output_type": "stream",
     "text": [
      "WARNING:root:HO IMPOSTATO A MANO CHE 2\\PI/L = 0.13484487571168569\n"
     ]
    },
    {
     "name": "stdout",
     "output_type": "stream",
     "text": [
      "parametri ottimali [ 5.44929775e-01 -2.59239456e+01  5.16977761e+01  4.01812858e+01\n",
      " -3.36835868e+02 -1.53031976e+03 -4.42264917e+02 -8.00596904e+01\n",
      "  4.93347475e+02  2.96372667e+01  3.55022041e+02  1.94257148e+02\n",
      "  2.01707055e+02 -5.29953839e+01 -2.48245400e+02 -6.23732538e+01\n",
      " -4.39121590e+02  3.71303947e+01 -1.86824465e+02  2.72107013e+02\n",
      " -6.33326387e+00  1.09296664e+02  2.29821821e+02 -8.11169059e+00\n",
      "  9.95780020e+01 -2.81602489e+02  4.32027025e+01 -1.08372209e+02\n",
      "  7.46946126e+01 -1.98610101e+01  2.58781572e+01]\n",
      "numero di armoniche cubiche 19\n",
      "valore a kmin inferito 0.5037762711476044 bias 0.5449297747643667 dato a kmin 0.7147155658198961\n",
      "determinante matrice delle armoniche cubiche ridotte: 5.651643370277607e+30\n",
      "grado ottimale 20 grado massimo tentato 28\n",
      "0 [6. 6. 5.] 105\n"
     ]
    },
    {
     "name": "stderr",
     "output_type": "stream",
     "text": [
      "WARNING:root:HO IMPOSTATO A MANO CHE 2\\PI/L = 0.13484487571168569\n"
     ]
    },
    {
     "name": "stdout",
     "output_type": "stream",
     "text": [
      "parametri ottimali [ 5.34323637e-01 -2.47601780e+01  5.00947961e+01  3.37788097e+01\n",
      " -2.12837696e+02 -1.03487066e+03 -2.17730169e+02 -5.41317087e+01\n",
      "  3.90960511e+02  1.59878342e+01  2.57175703e+02 -4.45051977e+01\n",
      "  9.27943632e+01 -6.54829076e+01 -3.64948228e+01 -2.37407085e+01\n",
      " -3.34019789e+02  2.54882724e+01 -1.35867416e+02  2.04893593e+02\n",
      "  2.94013255e+01  8.55867940e+01  3.11971155e+02 -6.57223018e+01\n",
      "  1.31930089e+02 -3.78031895e+02  2.16939547e+01 -1.64741357e+02\n",
      "  1.09258620e+02  6.67530823e+00  4.90510780e+01]\n",
      "numero di armoniche cubiche 19\n",
      "valore a kmin inferito 0.49572859036158184 bias 0.5343236368237039 dato a kmin 0.7147155658198961\n",
      "determinante matrice delle armoniche cubiche ridotte: 1.0482952057556466e+32\n",
      "grado ottimale 22 grado massimo tentato 28\n",
      "0 [7. 0. 7.] 106\n"
     ]
    },
    {
     "name": "stderr",
     "output_type": "stream",
     "text": [
      "WARNING:root:HO IMPOSTATO A MANO CHE 2\\PI/L = 0.13484487571168569\n"
     ]
    },
    {
     "name": "stdout",
     "output_type": "stream",
     "text": [
      "parametri ottimali [ 5.55857415e-01 -2.88981480e+01  6.39099243e+01  5.16771567e+01\n",
      " -2.24482078e+02 -1.05216980e+03 -2.20907338e+02  4.02929980e+01\n",
      " -3.50923939e+02 -5.91583476e+01  4.84179469e+01  1.04072792e+03\n",
      "  1.21940579e+02 -1.46610743e+02 -1.67038996e+02 -8.38094818e+01\n",
      " -3.69286852e+02 -1.11285300e+03 -2.59318747e+02  1.99265807e+03\n",
      "  6.10329143e+02  9.94436400e+02 -2.73325047e+03  5.61437183e+02\n",
      " -1.25087104e+03  9.41346430e+02 -4.53986490e+02  4.12343185e+02\n",
      "  1.01867894e+03 -8.42151784e+01  4.49279200e+02 -1.02844561e+03\n",
      "  9.80291156e+01 -4.50872081e+02  2.75680842e+02 -5.42263900e+00\n",
      "  1.21415674e+02]\n",
      "numero di armoniche cubiche 24\n",
      "valore a kmin inferito 0.5118188287493531 bias 0.5558574147075545 dato a kmin 0.7147155658198961\n",
      "determinante matrice delle armoniche cubiche ridotte: 1.3158614830572752e+26\n",
      "grado ottimale 24 grado massimo tentato 28\n",
      "0 [7. 1. 7.] 107\n"
     ]
    },
    {
     "name": "stderr",
     "output_type": "stream",
     "text": [
      "WARNING:root:HO IMPOSTATO A MANO CHE 2\\PI/L = 0.13484487571168569\n"
     ]
    },
    {
     "name": "stdout",
     "output_type": "stream",
     "text": [
      "parametri ottimali [   0.48290475  -17.48294647   27.6632297    29.5418746   -61.60038037\n",
      " -286.70720052  -58.72716658   43.82004965 -110.51363534   -5.38128879\n",
      "  -38.4995939   140.13203048   -6.59583943  -45.14857899  -28.84995523\n",
      "  -24.11548937   80.60599301  -24.8904028    39.97157466  -29.99955918\n",
      "    9.46603241  -15.03506379]\n",
      "numero di armoniche cubiche 12\n",
      "valore a kmin inferito 0.4563116587747672 bias 0.48290475041813075 dato a kmin 0.7147155658198961\n",
      "determinante matrice delle armoniche cubiche ridotte: 2.151041351157165e+41\n",
      "grado ottimale 16 grado massimo tentato 28\n",
      "0 [7. 5. 5.] 108\n"
     ]
    },
    {
     "name": "stderr",
     "output_type": "stream",
     "text": [
      "WARNING:root:HO IMPOSTATO A MANO CHE 2\\PI/L = 0.13484487571168569\n"
     ]
    },
    {
     "name": "stdout",
     "output_type": "stream",
     "text": [
      "parametri ottimali [   0.49295342  -19.26366074   33.43037243   28.81557057  -56.7450217\n",
      " -276.87671469  -36.46009459   36.95792496 -112.03123299   -6.68201893\n",
      "  -40.59745779  127.47864683  -18.04904641    7.15767073  -19.60310364\n",
      "    5.77308943  -14.10234044  -33.67783854   -5.35489857   40.93215548\n",
      "   17.15650639   19.23811878  -20.9337247    -2.4001679   -10.46401445]\n",
      "numero di armoniche cubiche 14\n",
      "valore a kmin inferito 0.4642248868704225 bias 0.49295341949789784 dato a kmin 0.7147155658198961\n",
      "determinante matrice delle armoniche cubiche ridotte: 3.3111056471747595e+41\n",
      "grado ottimale 18 grado massimo tentato 28\n",
      "0 [4. 6. 7.] 109\n"
     ]
    },
    {
     "name": "stderr",
     "output_type": "stream",
     "text": [
      "WARNING:root:HO IMPOSTATO A MANO CHE 2\\PI/L = 0.13484487571168569\n"
     ]
    },
    {
     "name": "stdout",
     "output_type": "stream",
     "text": [
      "parametri ottimali [   0.4391567   -12.40808552   15.23885454   20.82725938  -26.55578992\n",
      " -144.71022907  -26.65342826   20.16894332  -29.98193725    1.61839578\n",
      "  -30.11712656   33.25748975  -12.47912053   21.52230567  -11.92071099\n",
      "    9.89381831   -6.54790116    2.93501124   -2.67988888]\n",
      "numero di armoniche cubiche 10\n",
      "valore a kmin inferito 0.4207535140313321 bias 0.43915669877959546 dato a kmin 0.7147155658198961\n",
      "determinante matrice delle armoniche cubiche ridotte: 4.915341990210079e+40\n",
      "grado ottimale 16 grado massimo tentato 28\n",
      "0 [2. 7. 7.] 110\n"
     ]
    },
    {
     "name": "stderr",
     "output_type": "stream",
     "text": [
      "WARNING:root:HO IMPOSTATO A MANO CHE 2\\PI/L = 0.13484487571168569\n"
     ]
    },
    {
     "name": "stdout",
     "output_type": "stream",
     "text": [
      "parametri ottimali [   0.43819257  -12.4829028    14.42281707   21.64816849  -16.72274639\n",
      " -130.59865438  -20.70909365    6.26598409  -42.40746428  -10.46865293\n",
      "  -11.24977451   34.52853146   -1.0715303     4.13043327   -6.50839016\n",
      "    1.89060297]\n",
      "numero di armoniche cubiche 8\n",
      "valore a kmin inferito 0.4199721831349356 bias 0.4381925701607323 dato a kmin 0.7147155658198961\n",
      "determinante matrice delle armoniche cubiche ridotte: 1.517120438695609e+39\n",
      "grado ottimale 12 grado massimo tentato 28\n",
      "0 [3. 7. 7.] 111\n"
     ]
    },
    {
     "name": "stderr",
     "output_type": "stream",
     "text": [
      "WARNING:root:HO IMPOSTATO A MANO CHE 2\\PI/L = 0.13484487571168569\n"
     ]
    },
    {
     "name": "stdout",
     "output_type": "stream",
     "text": [
      "parametri ottimali [ 5.39701505e-01 -2.83561443e+01  5.68431381e+01  4.13430016e+01\n",
      " -4.63211671e+01 -8.98657362e+02 -1.54718419e+02 -2.94161525e+02\n",
      "  2.17799767e+02 -1.09402618e+02  7.79610206e+02  3.06281458e+02\n",
      "  3.96593737e+02 -6.52778380e+02 -1.16460819e+02 -3.31023236e+02\n",
      " -5.35710375e+01 -4.06077564e+02 -5.56231654e+01 -4.76255245e+02\n",
      "  1.17605166e+02 -1.96270379e+02  1.50595876e+03  4.89596812e+02\n",
      "  7.31609646e+02 -4.52719745e+02 -2.12804268e+02 -2.48180252e+02\n",
      " -6.34140700e+02 -1.83204988e+02 -2.85259725e+02  1.69289949e+01\n",
      " -1.79006442e+00  9.40412507e+00  2.37286429e+02  8.23581692e+01\n",
      "  1.09622189e+02]\n",
      "numero di armoniche cubiche 24\n",
      "valore a kmin inferito 0.49991426303065173 bias 0.5397015050218591 dato a kmin 0.7147155658198961\n",
      "determinante matrice delle armoniche cubiche ridotte: 8.581318372607618e+20\n",
      "grado ottimale 20 grado massimo tentato 28\n",
      "0 [6. 6. 6.] 112\n"
     ]
    },
    {
     "name": "stderr",
     "output_type": "stream",
     "text": [
      "WARNING:root:HO IMPOSTATO A MANO CHE 2\\PI/L = 0.13484487571168569\n"
     ]
    },
    {
     "name": "stdout",
     "output_type": "stream",
     "text": [
      "parametri ottimali [ 5.19590321e-01 -2.57008482e+01  5.80466888e+01  7.02803451e+00\n",
      " -9.20940587e+01 -6.26994988e+02 -1.20807995e+02 -4.13355889e+01\n",
      "  2.49408490e+01 -2.43142846e+01  3.44201485e+02  1.88486610e+02\n",
      "  1.63167046e+02 -2.18732646e+02 -6.17972352e+01 -9.71955107e+01\n",
      " -6.28793570e+02 -1.37801859e+02 -2.83952795e+02  5.03732821e+02\n",
      "  1.64925889e+02  2.39770552e+02  9.43763284e+02 -1.39427705e+01\n",
      "  3.83745521e+02 -1.30107533e+03 -9.56836414e+01 -5.48353306e+02\n",
      "  4.31387181e+02  5.01641941e+01  1.83892858e+02]\n",
      "numero di armoniche cubiche 19\n",
      "valore a kmin inferito 0.48423190835102486 bias 0.5195903210806626 dato a kmin 0.7147155658198961\n",
      "determinante matrice delle armoniche cubiche ridotte: 1.1220917968569882e+30\n",
      "grado ottimale 16 grado massimo tentato 28\n",
      "0 [7. 5. 6.] 113\n"
     ]
    },
    {
     "name": "stderr",
     "output_type": "stream",
     "text": [
      "WARNING:root:HO IMPOSTATO A MANO CHE 2\\PI/L = 0.13484487571168569\n"
     ]
    },
    {
     "name": "stdout",
     "output_type": "stream",
     "text": [
      "parametri ottimali [   0.48733591  -20.12023121   23.37778475   89.01662766    8.0818628\n",
      " -398.75054509  -20.57951742  -41.62896133 -191.68680416  -82.67756022\n",
      "   30.06362763  206.46489889   42.31916536  -27.54265559  -32.06740702\n",
      "   -9.18314357  -38.80854537  -43.87841498  -21.7462106    82.15180632\n",
      "   17.74574404   33.65020582  -35.6166137    -2.25110405  -14.19208901]\n",
      "numero di armoniche cubiche 14\n",
      "valore a kmin inferito 0.45977017925922076 bias 0.48733590935165705 dato a kmin 0.7147155658198961\n",
      "determinante matrice delle armoniche cubiche ridotte: 1.1790899571772167e+37\n",
      "grado ottimale 16 grado massimo tentato 28\n",
      "0 [4. 7. 7.] 114\n"
     ]
    }
   ],
   "source": [
    "#Calcolo il best fit includendo sempre piu' punti \n",
    "predb=[]\n",
    "spredb=[]\n",
    "Npointsb=[]\n",
    "r=0\n",
    "for N in range(10, 114):\n",
    "    \n",
    "    mN, SN, y_infer, sy_infer, spar, log_evidence_vP=bayesianL.bestfit(gplot, sd, N+1, gplot, False, True)\n",
    "    Npointsb.append(np.linalg.norm(gplot[N+1]))\n",
    "    print(r, gplot[N+1], N+1)\n",
    "    predb.append(mN[0])\n",
    "    spredb.append(SN[0,0])"
   ]
  },
  {
   "cell_type": "code",
   "execution_count": 16,
   "id": "6c580235",
   "metadata": {
    "scrolled": false
   },
   "outputs": [
    {
     "name": "stderr",
     "output_type": "stream",
     "text": [
      "WARNING:root:HO IMPOSTATO A MANO CHE 2\\PI/L = 0.13484487571168569\n",
      "WARNING:root:HO IMPOSTATO A MANO CHE 2\\PI/L = 0.13484487571168569\n",
      "WARNING:root:HO IMPOSTATO A MANO CHE 2\\PI/L = 0.13484487571168569\n",
      "WARNING:root:HO IMPOSTATO A MANO CHE 2\\PI/L = 0.13484487571168569\n",
      "WARNING:root:HO IMPOSTATO A MANO CHE 2\\PI/L = 0.13484487571168569\n",
      "WARNING:root:HO IMPOSTATO A MANO CHE 2\\PI/L = 0.13484487571168569\n",
      "WARNING:root:HO IMPOSTATO A MANO CHE 2\\PI/L = 0.13484487571168569\n",
      "WARNING:root:HO IMPOSTATO A MANO CHE 2\\PI/L = 0.13484487571168569\n",
      "WARNING:root:HO IMPOSTATO A MANO CHE 2\\PI/L = 0.13484487571168569\n"
     ]
    },
    {
     "name": "stdout",
     "output_type": "stream",
     "text": [
      "model average prediction 0.7872885136439942 0.013021111306251715\n"
     ]
    }
   ],
   "source": [
    "#Calcolo il model averaging su gplot  e sd con 30 punti\n",
    "N=20\n",
    "mr, sr, logevidence= bayesianL.bayesianmodelprediction(gplot, sd, N, gplot, False, True)"
   ]
  },
  {
   "cell_type": "code",
   "execution_count": 17,
   "id": "668790b9",
   "metadata": {
    "scrolled": true
   },
   "outputs": [
    {
     "name": "stderr",
     "output_type": "stream",
     "text": [
      "WARNING:root:HO IMPOSTATO A MANO CHE 2\\PI/L = 0.13484487571168569\n",
      "WARNING:root:HO IMPOSTATO A MANO CHE 2\\PI/L = 0.13484487571168569\n",
      "WARNING:root:HO IMPOSTATO A MANO CHE 2\\PI/L = 0.13484487571168569\n",
      "WARNING:root:HO IMPOSTATO A MANO CHE 2\\PI/L = 0.13484487571168569\n",
      "WARNING:root:HO IMPOSTATO A MANO CHE 2\\PI/L = 0.13484487571168569\n",
      "WARNING:root:HO IMPOSTATO A MANO CHE 2\\PI/L = 0.13484487571168569\n",
      "WARNING:root:HO IMPOSTATO A MANO CHE 2\\PI/L = 0.13484487571168569\n",
      "WARNING:root:HO IMPOSTATO A MANO CHE 2\\PI/L = 0.13484487571168569\n",
      "WARNING:root:HO IMPOSTATO A MANO CHE 2\\PI/L = 0.13484487571168569\n",
      "WARNING:root:HO IMPOSTATO A MANO CHE 2\\PI/L = 0.13484487571168569\n",
      "WARNING:root:HO IMPOSTATO A MANO CHE 2\\PI/L = 0.13484487571168569\n",
      "WARNING:root:HO IMPOSTATO A MANO CHE 2\\PI/L = 0.13484487571168569\n"
     ]
    },
    {
     "name": "stdout",
     "output_type": "stream",
     "text": [
      "model average prediction 0.5148256033159574 0.01648907684421719\n",
      "0 [2. 2. 2.] 11\n"
     ]
    },
    {
     "name": "stderr",
     "output_type": "stream",
     "text": [
      "WARNING:root:HO IMPOSTATO A MANO CHE 2\\PI/L = 0.13484487571168569\n",
      "WARNING:root:HO IMPOSTATO A MANO CHE 2\\PI/L = 0.13484487571168569\n",
      "WARNING:root:HO IMPOSTATO A MANO CHE 2\\PI/L = 0.13484487571168569\n",
      "WARNING:root:HO IMPOSTATO A MANO CHE 2\\PI/L = 0.13484487571168569\n",
      "WARNING:root:HO IMPOSTATO A MANO CHE 2\\PI/L = 0.13484487571168569\n",
      "WARNING:root:HO IMPOSTATO A MANO CHE 2\\PI/L = 0.13484487571168569\n"
     ]
    },
    {
     "name": "stdout",
     "output_type": "stream",
     "text": [
      "model average prediction 0.46630215587260937 0.014758902149765218\n",
      "0 [3. 2. 0.] 12\n"
     ]
    },
    {
     "name": "stderr",
     "output_type": "stream",
     "text": [
      "WARNING:root:HO IMPOSTATO A MANO CHE 2\\PI/L = 0.13484487571168569\n",
      "WARNING:root:HO IMPOSTATO A MANO CHE 2\\PI/L = 0.13484487571168569\n",
      "WARNING:root:HO IMPOSTATO A MANO CHE 2\\PI/L = 0.13484487571168569\n",
      "WARNING:root:HO IMPOSTATO A MANO CHE 2\\PI/L = 0.13484487571168569\n",
      "WARNING:root:HO IMPOSTATO A MANO CHE 2\\PI/L = 0.13484487571168569\n",
      "WARNING:root:HO IMPOSTATO A MANO CHE 2\\PI/L = 0.13484487571168569\n",
      "WARNING:root:HO IMPOSTATO A MANO CHE 2\\PI/L = 0.13484487571168569\n"
     ]
    },
    {
     "name": "stdout",
     "output_type": "stream",
     "text": [
      "model average prediction 0.42655017067821016 0.014536128189463456\n",
      "0 [2. 1. 3.] 13\n"
     ]
    },
    {
     "name": "stderr",
     "output_type": "stream",
     "text": [
      "WARNING:root:HO IMPOSTATO A MANO CHE 2\\PI/L = 0.13484487571168569\n",
      "WARNING:root:HO IMPOSTATO A MANO CHE 2\\PI/L = 0.13484487571168569\n",
      "WARNING:root:HO IMPOSTATO A MANO CHE 2\\PI/L = 0.13484487571168569\n",
      "WARNING:root:HO IMPOSTATO A MANO CHE 2\\PI/L = 0.13484487571168569\n",
      "WARNING:root:HO IMPOSTATO A MANO CHE 2\\PI/L = 0.13484487571168569\n",
      "WARNING:root:HO IMPOSTATO A MANO CHE 2\\PI/L = 0.13484487571168569\n",
      "WARNING:root:HO IMPOSTATO A MANO CHE 2\\PI/L = 0.13484487571168569\n"
     ]
    },
    {
     "name": "stdout",
     "output_type": "stream",
     "text": [
      "model average prediction 0.42596537493936615 0.01520373701006373\n",
      "0 [4. 0. 0.] 14\n"
     ]
    },
    {
     "name": "stderr",
     "output_type": "stream",
     "text": [
      "WARNING:root:HO IMPOSTATO A MANO CHE 2\\PI/L = 0.13484487571168569\n",
      "WARNING:root:HO IMPOSTATO A MANO CHE 2\\PI/L = 0.13484487571168569\n",
      "WARNING:root:HO IMPOSTATO A MANO CHE 2\\PI/L = 0.13484487571168569\n",
      "WARNING:root:HO IMPOSTATO A MANO CHE 2\\PI/L = 0.13484487571168569\n",
      "WARNING:root:HO IMPOSTATO A MANO CHE 2\\PI/L = 0.13484487571168569\n",
      "WARNING:root:HO IMPOSTATO A MANO CHE 2\\PI/L = 0.13484487571168569\n",
      "WARNING:root:HO IMPOSTATO A MANO CHE 2\\PI/L = 0.13484487571168569\n"
     ]
    },
    {
     "name": "stdout",
     "output_type": "stream",
     "text": [
      "model average prediction 0.38233282445488964 0.014256687605504989\n",
      "0 [1. 0. 4.] 15\n"
     ]
    },
    {
     "name": "stderr",
     "output_type": "stream",
     "text": [
      "WARNING:root:HO IMPOSTATO A MANO CHE 2\\PI/L = 0.13484487571168569\n",
      "WARNING:root:HO IMPOSTATO A MANO CHE 2\\PI/L = 0.13484487571168569\n",
      "WARNING:root:HO IMPOSTATO A MANO CHE 2\\PI/L = 0.13484487571168569\n",
      "WARNING:root:HO IMPOSTATO A MANO CHE 2\\PI/L = 0.13484487571168569\n",
      "WARNING:root:HO IMPOSTATO A MANO CHE 2\\PI/L = 0.13484487571168569\n",
      "WARNING:root:HO IMPOSTATO A MANO CHE 2\\PI/L = 0.13484487571168569\n",
      "WARNING:root:HO IMPOSTATO A MANO CHE 2\\PI/L = 0.13484487571168569\n",
      "WARNING:root:HO IMPOSTATO A MANO CHE 2\\PI/L = 0.13484487571168569\n"
     ]
    },
    {
     "name": "stdout",
     "output_type": "stream",
     "text": [
      "model average prediction 0.3320155831871392 0.011866385344739534\n",
      "0 [2. 3. 2.] 16\n"
     ]
    },
    {
     "name": "stderr",
     "output_type": "stream",
     "text": [
      "WARNING:root:HO IMPOSTATO A MANO CHE 2\\PI/L = 0.13484487571168569\n",
      "WARNING:root:HO IMPOSTATO A MANO CHE 2\\PI/L = 0.13484487571168569\n",
      "WARNING:root:HO IMPOSTATO A MANO CHE 2\\PI/L = 0.13484487571168569\n",
      "WARNING:root:HO IMPOSTATO A MANO CHE 2\\PI/L = 0.13484487571168569\n",
      "WARNING:root:HO IMPOSTATO A MANO CHE 2\\PI/L = 0.13484487571168569\n",
      "WARNING:root:HO IMPOSTATO A MANO CHE 2\\PI/L = 0.13484487571168569\n",
      "WARNING:root:HO IMPOSTATO A MANO CHE 2\\PI/L = 0.13484487571168569\n",
      "WARNING:root:HO IMPOSTATO A MANO CHE 2\\PI/L = 0.13484487571168569\n"
     ]
    },
    {
     "name": "stdout",
     "output_type": "stream",
     "text": [
      "model average prediction 0.29633777445043913 0.012170006558165261\n",
      "0 [1. 4. 1.] 17\n"
     ]
    },
    {
     "name": "stderr",
     "output_type": "stream",
     "text": [
      "WARNING:root:HO IMPOSTATO A MANO CHE 2\\PI/L = 0.13484487571168569\n",
      "WARNING:root:HO IMPOSTATO A MANO CHE 2\\PI/L = 0.13484487571168569\n",
      "WARNING:root:HO IMPOSTATO A MANO CHE 2\\PI/L = 0.13484487571168569\n",
      "WARNING:root:HO IMPOSTATO A MANO CHE 2\\PI/L = 0.13484487571168569\n",
      "WARNING:root:HO IMPOSTATO A MANO CHE 2\\PI/L = 0.13484487571168569\n",
      "WARNING:root:HO IMPOSTATO A MANO CHE 2\\PI/L = 0.13484487571168569\n",
      "WARNING:root:HO IMPOSTATO A MANO CHE 2\\PI/L = 0.13484487571168569\n",
      "WARNING:root:HO IMPOSTATO A MANO CHE 2\\PI/L = 0.13484487571168569\n"
     ]
    },
    {
     "name": "stdout",
     "output_type": "stream",
     "text": [
      "model average prediction 0.2817960272556232 0.011721722441613432\n",
      "0 [3. 0. 3.] 18\n"
     ]
    },
    {
     "name": "stderr",
     "output_type": "stream",
     "text": [
      "WARNING:root:HO IMPOSTATO A MANO CHE 2\\PI/L = 0.13484487571168569\n",
      "WARNING:root:HO IMPOSTATO A MANO CHE 2\\PI/L = 0.13484487571168569\n",
      "WARNING:root:HO IMPOSTATO A MANO CHE 2\\PI/L = 0.13484487571168569\n",
      "WARNING:root:HO IMPOSTATO A MANO CHE 2\\PI/L = 0.13484487571168569\n",
      "WARNING:root:HO IMPOSTATO A MANO CHE 2\\PI/L = 0.13484487571168569\n",
      "WARNING:root:HO IMPOSTATO A MANO CHE 2\\PI/L = 0.13484487571168569\n",
      "WARNING:root:HO IMPOSTATO A MANO CHE 2\\PI/L = 0.13484487571168569\n"
     ]
    },
    {
     "name": "stdout",
     "output_type": "stream",
     "text": [
      "model average prediction 0.27925471445133426 0.013271398411449604\n",
      "0 [3. 1. 3.] 19\n"
     ]
    },
    {
     "name": "stderr",
     "output_type": "stream",
     "text": [
      "WARNING:root:HO IMPOSTATO A MANO CHE 2\\PI/L = 0.13484487571168569\n",
      "WARNING:root:HO IMPOSTATO A MANO CHE 2\\PI/L = 0.13484487571168569\n",
      "WARNING:root:HO IMPOSTATO A MANO CHE 2\\PI/L = 0.13484487571168569\n",
      "WARNING:root:HO IMPOSTATO A MANO CHE 2\\PI/L = 0.13484487571168569\n",
      "WARNING:root:HO IMPOSTATO A MANO CHE 2\\PI/L = 0.13484487571168569\n",
      "WARNING:root:HO IMPOSTATO A MANO CHE 2\\PI/L = 0.13484487571168569\n",
      "WARNING:root:HO IMPOSTATO A MANO CHE 2\\PI/L = 0.13484487571168569\n",
      "WARNING:root:HO IMPOSTATO A MANO CHE 2\\PI/L = 0.13484487571168569\n",
      "WARNING:root:HO IMPOSTATO A MANO CHE 2\\PI/L = 0.13484487571168569\n"
     ]
    },
    {
     "name": "stdout",
     "output_type": "stream",
     "text": [
      "model average prediction 0.7872885136439942 0.013021111306251715\n",
      "0 [2. 4. 0.] 20\n"
     ]
    },
    {
     "name": "stderr",
     "output_type": "stream",
     "text": [
      "WARNING:root:HO IMPOSTATO A MANO CHE 2\\PI/L = 0.13484487571168569\n",
      "WARNING:root:HO IMPOSTATO A MANO CHE 2\\PI/L = 0.13484487571168569\n",
      "WARNING:root:HO IMPOSTATO A MANO CHE 2\\PI/L = 0.13484487571168569\n",
      "WARNING:root:HO IMPOSTATO A MANO CHE 2\\PI/L = 0.13484487571168569\n",
      "WARNING:root:HO IMPOSTATO A MANO CHE 2\\PI/L = 0.13484487571168569\n",
      "WARNING:root:HO IMPOSTATO A MANO CHE 2\\PI/L = 0.13484487571168569\n",
      "WARNING:root:HO IMPOSTATO A MANO CHE 2\\PI/L = 0.13484487571168569\n",
      "WARNING:root:HO IMPOSTATO A MANO CHE 2\\PI/L = 0.13484487571168569\n",
      "WARNING:root:HO IMPOSTATO A MANO CHE 2\\PI/L = 0.13484487571168569\n"
     ]
    },
    {
     "name": "stdout",
     "output_type": "stream",
     "text": [
      "model average prediction 0.7394867039573718 0.012203660125685675\n",
      "0 [4. 2. 1.] 21\n"
     ]
    },
    {
     "name": "stderr",
     "output_type": "stream",
     "text": [
      "WARNING:root:HO IMPOSTATO A MANO CHE 2\\PI/L = 0.13484487571168569\n",
      "WARNING:root:HO IMPOSTATO A MANO CHE 2\\PI/L = 0.13484487571168569\n",
      "WARNING:root:HO IMPOSTATO A MANO CHE 2\\PI/L = 0.13484487571168569\n",
      "WARNING:root:HO IMPOSTATO A MANO CHE 2\\PI/L = 0.13484487571168569\n",
      "WARNING:root:HO IMPOSTATO A MANO CHE 2\\PI/L = 0.13484487571168569\n",
      "WARNING:root:HO IMPOSTATO A MANO CHE 2\\PI/L = 0.13484487571168569\n",
      "WARNING:root:HO IMPOSTATO A MANO CHE 2\\PI/L = 0.13484487571168569\n",
      "WARNING:root:HO IMPOSTATO A MANO CHE 2\\PI/L = 0.13484487571168569\n",
      "WARNING:root:HO IMPOSTATO A MANO CHE 2\\PI/L = 0.13484487571168569\n"
     ]
    },
    {
     "name": "stdout",
     "output_type": "stream",
     "text": [
      "model average prediction 0.7266249092954263 0.012448075855985487\n",
      "0 [3. 3. 2.] 22\n"
     ]
    },
    {
     "name": "stderr",
     "output_type": "stream",
     "text": [
      "WARNING:root:HO IMPOSTATO A MANO CHE 2\\PI/L = 0.13484487571168569\n",
      "WARNING:root:HO IMPOSTATO A MANO CHE 2\\PI/L = 0.13484487571168569\n",
      "WARNING:root:HO IMPOSTATO A MANO CHE 2\\PI/L = 0.13484487571168569\n",
      "WARNING:root:HO IMPOSTATO A MANO CHE 2\\PI/L = 0.13484487571168569\n",
      "WARNING:root:HO IMPOSTATO A MANO CHE 2\\PI/L = 0.13484487571168569\n",
      "WARNING:root:HO IMPOSTATO A MANO CHE 2\\PI/L = 0.13484487571168569\n",
      "WARNING:root:HO IMPOSTATO A MANO CHE 2\\PI/L = 0.13484487571168569\n",
      "WARNING:root:HO IMPOSTATO A MANO CHE 2\\PI/L = 0.13484487571168569\n"
     ]
    },
    {
     "name": "stdout",
     "output_type": "stream",
     "text": [
      "model average prediction 0.7092371544580511 0.012851114149898483\n",
      "0 [2. 2. 4.] 23\n"
     ]
    },
    {
     "name": "stderr",
     "output_type": "stream",
     "text": [
      "WARNING:root:HO IMPOSTATO A MANO CHE 2\\PI/L = 0.13484487571168569\n",
      "WARNING:root:HO IMPOSTATO A MANO CHE 2\\PI/L = 0.13484487571168569\n",
      "WARNING:root:HO IMPOSTATO A MANO CHE 2\\PI/L = 0.13484487571168569\n",
      "WARNING:root:HO IMPOSTATO A MANO CHE 2\\PI/L = 0.13484487571168569\n",
      "WARNING:root:HO IMPOSTATO A MANO CHE 2\\PI/L = 0.13484487571168569\n",
      "WARNING:root:HO IMPOSTATO A MANO CHE 2\\PI/L = 0.13484487571168569\n",
      "WARNING:root:HO IMPOSTATO A MANO CHE 2\\PI/L = 0.13484487571168569\n",
      "WARNING:root:HO IMPOSTATO A MANO CHE 2\\PI/L = 0.13484487571168569\n",
      "WARNING:root:HO IMPOSTATO A MANO CHE 2\\PI/L = 0.13484487571168569\n",
      "WARNING:root:HO IMPOSTATO A MANO CHE 2\\PI/L = 0.13484487571168569\n"
     ]
    },
    {
     "name": "stdout",
     "output_type": "stream",
     "text": [
      "model average prediction 0.70670059273902 0.012274108291440978\n",
      "0 [0. 5. 0.] 24\n"
     ]
    },
    {
     "name": "stderr",
     "output_type": "stream",
     "text": [
      "WARNING:root:HO IMPOSTATO A MANO CHE 2\\PI/L = 0.13484487571168569\n",
      "WARNING:root:HO IMPOSTATO A MANO CHE 2\\PI/L = 0.13484487571168569\n",
      "WARNING:root:HO IMPOSTATO A MANO CHE 2\\PI/L = 0.13484487571168569\n",
      "WARNING:root:HO IMPOSTATO A MANO CHE 2\\PI/L = 0.13484487571168569\n",
      "WARNING:root:HO IMPOSTATO A MANO CHE 2\\PI/L = 0.13484487571168569\n",
      "WARNING:root:HO IMPOSTATO A MANO CHE 2\\PI/L = 0.13484487571168569\n",
      "WARNING:root:HO IMPOSTATO A MANO CHE 2\\PI/L = 0.13484487571168569\n",
      "WARNING:root:HO IMPOSTATO A MANO CHE 2\\PI/L = 0.13484487571168569\n",
      "WARNING:root:HO IMPOSTATO A MANO CHE 2\\PI/L = 0.13484487571168569\n",
      "WARNING:root:HO IMPOSTATO A MANO CHE 2\\PI/L = 0.13484487571168569\n"
     ]
    },
    {
     "name": "stdout",
     "output_type": "stream",
     "text": [
      "model average prediction 0.6828306941759571 0.01150490641377512\n",
      "0 [3. 0. 4.] 25\n"
     ]
    },
    {
     "name": "stderr",
     "output_type": "stream",
     "text": [
      "WARNING:root:HO IMPOSTATO A MANO CHE 2\\PI/L = 0.13484487571168569\n",
      "WARNING:root:HO IMPOSTATO A MANO CHE 2\\PI/L = 0.13484487571168569\n",
      "WARNING:root:HO IMPOSTATO A MANO CHE 2\\PI/L = 0.13484487571168569\n",
      "WARNING:root:HO IMPOSTATO A MANO CHE 2\\PI/L = 0.13484487571168569\n",
      "WARNING:root:HO IMPOSTATO A MANO CHE 2\\PI/L = 0.13484487571168569\n",
      "WARNING:root:HO IMPOSTATO A MANO CHE 2\\PI/L = 0.13484487571168569\n",
      "WARNING:root:HO IMPOSTATO A MANO CHE 2\\PI/L = 0.13484487571168569\n",
      "WARNING:root:HO IMPOSTATO A MANO CHE 2\\PI/L = 0.13484487571168569\n",
      "WARNING:root:HO IMPOSTATO A MANO CHE 2\\PI/L = 0.13484487571168569\n",
      "WARNING:root:HO IMPOSTATO A MANO CHE 2\\PI/L = 0.13484487571168569\n"
     ]
    },
    {
     "name": "stdout",
     "output_type": "stream",
     "text": [
      "model average prediction 0.7046762418588154 0.012993316491201223\n",
      "0 [1. 4. 3.] 26\n"
     ]
    },
    {
     "name": "stderr",
     "output_type": "stream",
     "text": [
      "WARNING:root:HO IMPOSTATO A MANO CHE 2\\PI/L = 0.13484487571168569\n",
      "WARNING:root:HO IMPOSTATO A MANO CHE 2\\PI/L = 0.13484487571168569\n",
      "WARNING:root:HO IMPOSTATO A MANO CHE 2\\PI/L = 0.13484487571168569\n",
      "WARNING:root:HO IMPOSTATO A MANO CHE 2\\PI/L = 0.13484487571168569\n",
      "WARNING:root:HO IMPOSTATO A MANO CHE 2\\PI/L = 0.13484487571168569\n",
      "WARNING:root:HO IMPOSTATO A MANO CHE 2\\PI/L = 0.13484487571168569\n",
      "WARNING:root:HO IMPOSTATO A MANO CHE 2\\PI/L = 0.13484487571168569\n",
      "WARNING:root:HO IMPOSTATO A MANO CHE 2\\PI/L = 0.13484487571168569\n",
      "WARNING:root:HO IMPOSTATO A MANO CHE 2\\PI/L = 0.13484487571168569\n",
      "WARNING:root:HO IMPOSTATO A MANO CHE 2\\PI/L = 0.13484487571168569\n",
      "WARNING:root:HO IMPOSTATO A MANO CHE 2\\PI/L = 0.13484487571168569\n"
     ]
    },
    {
     "name": "stdout",
     "output_type": "stream",
     "text": [
      "model average prediction 0.6928729996018461 0.01211476286636642\n",
      "0 [1. 0. 5.] 27\n"
     ]
    },
    {
     "name": "stderr",
     "output_type": "stream",
     "text": [
      "WARNING:root:HO IMPOSTATO A MANO CHE 2\\PI/L = 0.13484487571168569\n",
      "WARNING:root:HO IMPOSTATO A MANO CHE 2\\PI/L = 0.13484487571168569\n",
      "WARNING:root:HO IMPOSTATO A MANO CHE 2\\PI/L = 0.13484487571168569\n",
      "WARNING:root:HO IMPOSTATO A MANO CHE 2\\PI/L = 0.13484487571168569\n",
      "WARNING:root:HO IMPOSTATO A MANO CHE 2\\PI/L = 0.13484487571168569\n",
      "WARNING:root:HO IMPOSTATO A MANO CHE 2\\PI/L = 0.13484487571168569\n",
      "WARNING:root:HO IMPOSTATO A MANO CHE 2\\PI/L = 0.13484487571168569\n",
      "WARNING:root:HO IMPOSTATO A MANO CHE 2\\PI/L = 0.13484487571168569\n",
      "WARNING:root:HO IMPOSTATO A MANO CHE 2\\PI/L = 0.13484487571168569\n",
      "WARNING:root:HO IMPOSTATO A MANO CHE 2\\PI/L = 0.13484487571168569\n"
     ]
    },
    {
     "name": "stdout",
     "output_type": "stream",
     "text": [
      "model average prediction 0.655579683579086 0.011189402037224298\n",
      "0 [3. 3. 3.] 28\n"
     ]
    },
    {
     "name": "stderr",
     "output_type": "stream",
     "text": [
      "WARNING:root:HO IMPOSTATO A MANO CHE 2\\PI/L = 0.13484487571168569\n",
      "WARNING:root:HO IMPOSTATO A MANO CHE 2\\PI/L = 0.13484487571168569\n",
      "WARNING:root:HO IMPOSTATO A MANO CHE 2\\PI/L = 0.13484487571168569\n",
      "WARNING:root:HO IMPOSTATO A MANO CHE 2\\PI/L = 0.13484487571168569\n",
      "WARNING:root:HO IMPOSTATO A MANO CHE 2\\PI/L = 0.13484487571168569\n",
      "WARNING:root:HO IMPOSTATO A MANO CHE 2\\PI/L = 0.13484487571168569\n",
      "WARNING:root:HO IMPOSTATO A MANO CHE 2\\PI/L = 0.13484487571168569\n",
      "WARNING:root:HO IMPOSTATO A MANO CHE 2\\PI/L = 0.13484487571168569\n",
      "WARNING:root:HO IMPOSTATO A MANO CHE 2\\PI/L = 0.13484487571168569\n",
      "WARNING:root:HO IMPOSTATO A MANO CHE 2\\PI/L = 0.13484487571168569\n",
      "WARNING:root:HO IMPOSTATO A MANO CHE 2\\PI/L = 0.13484487571168569\n",
      "WARNING:root:HO IMPOSTATO A MANO CHE 2\\PI/L = 0.13484487571168569\n"
     ]
    },
    {
     "name": "stdout",
     "output_type": "stream",
     "text": [
      "model average prediction 0.6546663170392464 0.011033443170910798\n",
      "0 [1. 5. 1.] 29\n"
     ]
    },
    {
     "name": "stderr",
     "output_type": "stream",
     "text": [
      "WARNING:root:HO IMPOSTATO A MANO CHE 2\\PI/L = 0.13484487571168569\n",
      "WARNING:root:HO IMPOSTATO A MANO CHE 2\\PI/L = 0.13484487571168569\n",
      "WARNING:root:HO IMPOSTATO A MANO CHE 2\\PI/L = 0.13484487571168569\n",
      "WARNING:root:HO IMPOSTATO A MANO CHE 2\\PI/L = 0.13484487571168569\n",
      "WARNING:root:HO IMPOSTATO A MANO CHE 2\\PI/L = 0.13484487571168569\n",
      "WARNING:root:HO IMPOSTATO A MANO CHE 2\\PI/L = 0.13484487571168569\n",
      "WARNING:root:HO IMPOSTATO A MANO CHE 2\\PI/L = 0.13484487571168569\n",
      "WARNING:root:HO IMPOSTATO A MANO CHE 2\\PI/L = 0.13484487571168569\n",
      "WARNING:root:HO IMPOSTATO A MANO CHE 2\\PI/L = 0.13484487571168569\n",
      "WARNING:root:HO IMPOSTATO A MANO CHE 2\\PI/L = 0.13484487571168569\n",
      "WARNING:root:HO IMPOSTATO A MANO CHE 2\\PI/L = 0.13484487571168569\n"
     ]
    },
    {
     "name": "stdout",
     "output_type": "stream",
     "text": [
      "model average prediction 0.698077054556457 0.012363945577065142\n",
      "0 [2. 5. 0.] 30\n"
     ]
    },
    {
     "name": "stderr",
     "output_type": "stream",
     "text": [
      "WARNING:root:HO IMPOSTATO A MANO CHE 2\\PI/L = 0.13484487571168569\n",
      "WARNING:root:HO IMPOSTATO A MANO CHE 2\\PI/L = 0.13484487571168569\n",
      "WARNING:root:HO IMPOSTATO A MANO CHE 2\\PI/L = 0.13484487571168569\n",
      "WARNING:root:HO IMPOSTATO A MANO CHE 2\\PI/L = 0.13484487571168569\n",
      "WARNING:root:HO IMPOSTATO A MANO CHE 2\\PI/L = 0.13484487571168569\n",
      "WARNING:root:HO IMPOSTATO A MANO CHE 2\\PI/L = 0.13484487571168569\n",
      "WARNING:root:HO IMPOSTATO A MANO CHE 2\\PI/L = 0.13484487571168569\n",
      "WARNING:root:HO IMPOSTATO A MANO CHE 2\\PI/L = 0.13484487571168569\n",
      "WARNING:root:HO IMPOSTATO A MANO CHE 2\\PI/L = 0.13484487571168569\n",
      "WARNING:root:HO IMPOSTATO A MANO CHE 2\\PI/L = 0.13484487571168569\n",
      "WARNING:root:HO IMPOSTATO A MANO CHE 2\\PI/L = 0.13484487571168569\n",
      "WARNING:root:HO IMPOSTATO A MANO CHE 2\\PI/L = 0.13484487571168569\n"
     ]
    },
    {
     "name": "stdout",
     "output_type": "stream",
     "text": [
      "model average prediction 0.6556136260626366 0.011108959405550069\n",
      "0 [4. 2. 3.] 31\n"
     ]
    },
    {
     "name": "stderr",
     "output_type": "stream",
     "text": [
      "WARNING:root:HO IMPOSTATO A MANO CHE 2\\PI/L = 0.13484487571168569\n",
      "WARNING:root:HO IMPOSTATO A MANO CHE 2\\PI/L = 0.13484487571168569\n",
      "WARNING:root:HO IMPOSTATO A MANO CHE 2\\PI/L = 0.13484487571168569\n",
      "WARNING:root:HO IMPOSTATO A MANO CHE 2\\PI/L = 0.13484487571168569\n",
      "WARNING:root:HO IMPOSTATO A MANO CHE 2\\PI/L = 0.13484487571168569\n",
      "WARNING:root:HO IMPOSTATO A MANO CHE 2\\PI/L = 0.13484487571168569\n",
      "WARNING:root:HO IMPOSTATO A MANO CHE 2\\PI/L = 0.13484487571168569\n",
      "WARNING:root:HO IMPOSTATO A MANO CHE 2\\PI/L = 0.13484487571168569\n",
      "WARNING:root:HO IMPOSTATO A MANO CHE 2\\PI/L = 0.13484487571168569\n",
      "WARNING:root:HO IMPOSTATO A MANO CHE 2\\PI/L = 0.13484487571168569\n",
      "WARNING:root:HO IMPOSTATO A MANO CHE 2\\PI/L = 0.13484487571168569\n"
     ]
    },
    {
     "name": "stdout",
     "output_type": "stream",
     "text": [
      "model average prediction 0.6495042481589203 0.011596317457165176\n",
      "0 [1. 5. 2.] 32\n"
     ]
    },
    {
     "name": "stderr",
     "output_type": "stream",
     "text": [
      "WARNING:root:HO IMPOSTATO A MANO CHE 2\\PI/L = 0.13484487571168569\n",
      "WARNING:root:HO IMPOSTATO A MANO CHE 2\\PI/L = 0.13484487571168569\n",
      "WARNING:root:HO IMPOSTATO A MANO CHE 2\\PI/L = 0.13484487571168569\n",
      "WARNING:root:HO IMPOSTATO A MANO CHE 2\\PI/L = 0.13484487571168569\n",
      "WARNING:root:HO IMPOSTATO A MANO CHE 2\\PI/L = 0.13484487571168569\n",
      "WARNING:root:HO IMPOSTATO A MANO CHE 2\\PI/L = 0.13484487571168569\n",
      "WARNING:root:HO IMPOSTATO A MANO CHE 2\\PI/L = 0.13484487571168569\n",
      "WARNING:root:HO IMPOSTATO A MANO CHE 2\\PI/L = 0.13484487571168569\n",
      "WARNING:root:HO IMPOSTATO A MANO CHE 2\\PI/L = 0.13484487571168569\n",
      "WARNING:root:HO IMPOSTATO A MANO CHE 2\\PI/L = 0.13484487571168569\n",
      "WARNING:root:HO IMPOSTATO A MANO CHE 2\\PI/L = 0.13484487571168569\n"
     ]
    },
    {
     "name": "stdout",
     "output_type": "stream",
     "text": [
      "model average prediction 0.6405907401097999 0.011607126668558215\n",
      "0 [4. 4. 0.] 33\n"
     ]
    },
    {
     "name": "stderr",
     "output_type": "stream",
     "text": [
      "WARNING:root:HO IMPOSTATO A MANO CHE 2\\PI/L = 0.13484487571168569\n",
      "WARNING:root:HO IMPOSTATO A MANO CHE 2\\PI/L = 0.13484487571168569\n",
      "WARNING:root:HO IMPOSTATO A MANO CHE 2\\PI/L = 0.13484487571168569\n",
      "WARNING:root:HO IMPOSTATO A MANO CHE 2\\PI/L = 0.13484487571168569\n",
      "WARNING:root:HO IMPOSTATO A MANO CHE 2\\PI/L = 0.13484487571168569\n",
      "WARNING:root:HO IMPOSTATO A MANO CHE 2\\PI/L = 0.13484487571168569\n",
      "WARNING:root:HO IMPOSTATO A MANO CHE 2\\PI/L = 0.13484487571168569\n",
      "WARNING:root:HO IMPOSTATO A MANO CHE 2\\PI/L = 0.13484487571168569\n",
      "WARNING:root:HO IMPOSTATO A MANO CHE 2\\PI/L = 0.13484487571168569\n",
      "WARNING:root:HO IMPOSTATO A MANO CHE 2\\PI/L = 0.13484487571168569\n",
      "WARNING:root:HO IMPOSTATO A MANO CHE 2\\PI/L = 0.13484487571168569\n",
      "WARNING:root:HO IMPOSTATO A MANO CHE 2\\PI/L = 0.13484487571168569\n"
     ]
    },
    {
     "name": "stdout",
     "output_type": "stream",
     "text": [
      "model average prediction 0.6509325253125439 0.011822186037113453\n",
      "0 [4. 1. 4.] 34\n"
     ]
    },
    {
     "name": "stderr",
     "output_type": "stream",
     "text": [
      "WARNING:root:HO IMPOSTATO A MANO CHE 2\\PI/L = 0.13484487571168569\n",
      "WARNING:root:HO IMPOSTATO A MANO CHE 2\\PI/L = 0.13484487571168569\n",
      "WARNING:root:HO IMPOSTATO A MANO CHE 2\\PI/L = 0.13484487571168569\n",
      "WARNING:root:HO IMPOSTATO A MANO CHE 2\\PI/L = 0.13484487571168569\n",
      "WARNING:root:HO IMPOSTATO A MANO CHE 2\\PI/L = 0.13484487571168569\n",
      "WARNING:root:HO IMPOSTATO A MANO CHE 2\\PI/L = 0.13484487571168569\n",
      "WARNING:root:HO IMPOSTATO A MANO CHE 2\\PI/L = 0.13484487571168569\n",
      "WARNING:root:HO IMPOSTATO A MANO CHE 2\\PI/L = 0.13484487571168569\n",
      "WARNING:root:HO IMPOSTATO A MANO CHE 2\\PI/L = 0.13484487571168569\n",
      "WARNING:root:HO IMPOSTATO A MANO CHE 2\\PI/L = 0.13484487571168569\n",
      "WARNING:root:HO IMPOSTATO A MANO CHE 2\\PI/L = 0.13484487571168569\n",
      "WARNING:root:HO IMPOSTATO A MANO CHE 2\\PI/L = 0.13484487571168569\n"
     ]
    },
    {
     "name": "stdout",
     "output_type": "stream",
     "text": [
      "model average prediction 0.6373959860979059 0.011292631314034777\n",
      "0 [5. 2. 2.] 35\n"
     ]
    },
    {
     "name": "stderr",
     "output_type": "stream",
     "text": [
      "WARNING:root:HO IMPOSTATO A MANO CHE 2\\PI/L = 0.13484487571168569\n",
      "WARNING:root:HO IMPOSTATO A MANO CHE 2\\PI/L = 0.13484487571168569\n",
      "WARNING:root:HO IMPOSTATO A MANO CHE 2\\PI/L = 0.13484487571168569\n",
      "WARNING:root:HO IMPOSTATO A MANO CHE 2\\PI/L = 0.13484487571168569\n",
      "WARNING:root:HO IMPOSTATO A MANO CHE 2\\PI/L = 0.13484487571168569\n",
      "WARNING:root:HO IMPOSTATO A MANO CHE 2\\PI/L = 0.13484487571168569\n",
      "WARNING:root:HO IMPOSTATO A MANO CHE 2\\PI/L = 0.13484487571168569\n",
      "WARNING:root:HO IMPOSTATO A MANO CHE 2\\PI/L = 0.13484487571168569\n",
      "WARNING:root:HO IMPOSTATO A MANO CHE 2\\PI/L = 0.13484487571168569\n",
      "WARNING:root:HO IMPOSTATO A MANO CHE 2\\PI/L = 0.13484487571168569\n",
      "WARNING:root:HO IMPOSTATO A MANO CHE 2\\PI/L = 0.13484487571168569\n",
      "WARNING:root:HO IMPOSTATO A MANO CHE 2\\PI/L = 0.13484487571168569\n"
     ]
    },
    {
     "name": "stdout",
     "output_type": "stream",
     "text": [
      "model average prediction 0.648484395696839 0.011972878432203854\n",
      "0 [3. 5. 0.] 36\n"
     ]
    },
    {
     "name": "stderr",
     "output_type": "stream",
     "text": [
      "WARNING:root:HO IMPOSTATO A MANO CHE 2\\PI/L = 0.13484487571168569\n",
      "WARNING:root:HO IMPOSTATO A MANO CHE 2\\PI/L = 0.13484487571168569\n",
      "WARNING:root:HO IMPOSTATO A MANO CHE 2\\PI/L = 0.13484487571168569\n",
      "WARNING:root:HO IMPOSTATO A MANO CHE 2\\PI/L = 0.13484487571168569\n",
      "WARNING:root:HO IMPOSTATO A MANO CHE 2\\PI/L = 0.13484487571168569\n",
      "WARNING:root:HO IMPOSTATO A MANO CHE 2\\PI/L = 0.13484487571168569\n",
      "WARNING:root:HO IMPOSTATO A MANO CHE 2\\PI/L = 0.13484487571168569\n",
      "WARNING:root:HO IMPOSTATO A MANO CHE 2\\PI/L = 0.13484487571168569\n",
      "WARNING:root:HO IMPOSTATO A MANO CHE 2\\PI/L = 0.13484487571168569\n",
      "WARNING:root:HO IMPOSTATO A MANO CHE 2\\PI/L = 0.13484487571168569\n",
      "WARNING:root:HO IMPOSTATO A MANO CHE 2\\PI/L = 0.13484487571168569\n"
     ]
    },
    {
     "name": "stdout",
     "output_type": "stream",
     "text": [
      "model average prediction 0.6245852096285599 0.01214253907612832\n",
      "0 [4. 3. 3.] 37\n"
     ]
    },
    {
     "name": "stderr",
     "output_type": "stream",
     "text": [
      "WARNING:root:HO IMPOSTATO A MANO CHE 2\\PI/L = 0.13484487571168569\n",
      "WARNING:root:HO IMPOSTATO A MANO CHE 2\\PI/L = 0.13484487571168569\n",
      "WARNING:root:HO IMPOSTATO A MANO CHE 2\\PI/L = 0.13484487571168569\n",
      "WARNING:root:HO IMPOSTATO A MANO CHE 2\\PI/L = 0.13484487571168569\n",
      "WARNING:root:HO IMPOSTATO A MANO CHE 2\\PI/L = 0.13484487571168569\n",
      "WARNING:root:HO IMPOSTATO A MANO CHE 2\\PI/L = 0.13484487571168569\n",
      "WARNING:root:HO IMPOSTATO A MANO CHE 2\\PI/L = 0.13484487571168569\n",
      "WARNING:root:HO IMPOSTATO A MANO CHE 2\\PI/L = 0.13484487571168569\n",
      "WARNING:root:HO IMPOSTATO A MANO CHE 2\\PI/L = 0.13484487571168569\n",
      "WARNING:root:HO IMPOSTATO A MANO CHE 2\\PI/L = 0.13484487571168569\n",
      "WARNING:root:HO IMPOSTATO A MANO CHE 2\\PI/L = 0.13484487571168569\n"
     ]
    },
    {
     "name": "stdout",
     "output_type": "stream",
     "text": [
      "model average prediction 0.6022713400131642 0.011025697438068078\n",
      "0 [1. 5. 3.] 38\n"
     ]
    },
    {
     "name": "stderr",
     "output_type": "stream",
     "text": [
      "WARNING:root:HO IMPOSTATO A MANO CHE 2\\PI/L = 0.13484487571168569\n",
      "WARNING:root:HO IMPOSTATO A MANO CHE 2\\PI/L = 0.13484487571168569\n",
      "WARNING:root:HO IMPOSTATO A MANO CHE 2\\PI/L = 0.13484487571168569\n",
      "WARNING:root:HO IMPOSTATO A MANO CHE 2\\PI/L = 0.13484487571168569\n",
      "WARNING:root:HO IMPOSTATO A MANO CHE 2\\PI/L = 0.13484487571168569\n",
      "WARNING:root:HO IMPOSTATO A MANO CHE 2\\PI/L = 0.13484487571168569\n",
      "WARNING:root:HO IMPOSTATO A MANO CHE 2\\PI/L = 0.13484487571168569\n",
      "WARNING:root:HO IMPOSTATO A MANO CHE 2\\PI/L = 0.13484487571168569\n",
      "WARNING:root:HO IMPOSTATO A MANO CHE 2\\PI/L = 0.13484487571168569\n",
      "WARNING:root:HO IMPOSTATO A MANO CHE 2\\PI/L = 0.13484487571168569\n",
      "WARNING:root:HO IMPOSTATO A MANO CHE 2\\PI/L = 0.13484487571168569\n",
      "WARNING:root:HO IMPOSTATO A MANO CHE 2\\PI/L = 0.13484487571168569\n"
     ]
    },
    {
     "name": "stdout",
     "output_type": "stream",
     "text": [
      "model average prediction 0.6161224299178001 0.0113422916535804\n",
      "0 [4. 4. 2.] 39\n"
     ]
    },
    {
     "name": "stderr",
     "output_type": "stream",
     "text": [
      "WARNING:root:HO IMPOSTATO A MANO CHE 2\\PI/L = 0.13484487571168569\n",
      "WARNING:root:HO IMPOSTATO A MANO CHE 2\\PI/L = 0.13484487571168569\n",
      "WARNING:root:HO IMPOSTATO A MANO CHE 2\\PI/L = 0.13484487571168569\n",
      "WARNING:root:HO IMPOSTATO A MANO CHE 2\\PI/L = 0.13484487571168569\n",
      "WARNING:root:HO IMPOSTATO A MANO CHE 2\\PI/L = 0.13484487571168569\n",
      "WARNING:root:HO IMPOSTATO A MANO CHE 2\\PI/L = 0.13484487571168569\n",
      "WARNING:root:HO IMPOSTATO A MANO CHE 2\\PI/L = 0.13484487571168569\n",
      "WARNING:root:HO IMPOSTATO A MANO CHE 2\\PI/L = 0.13484487571168569\n",
      "WARNING:root:HO IMPOSTATO A MANO CHE 2\\PI/L = 0.13484487571168569\n",
      "WARNING:root:HO IMPOSTATO A MANO CHE 2\\PI/L = 0.13484487571168569\n",
      "WARNING:root:HO IMPOSTATO A MANO CHE 2\\PI/L = 0.13484487571168569\n"
     ]
    },
    {
     "name": "stdout",
     "output_type": "stream",
     "text": [
      "model average prediction 0.580357992042373 0.010401581145607717\n",
      "0 [6. 0. 0.] 40\n"
     ]
    },
    {
     "name": "stderr",
     "output_type": "stream",
     "text": [
      "WARNING:root:HO IMPOSTATO A MANO CHE 2\\PI/L = 0.13484487571168569\n",
      "WARNING:root:HO IMPOSTATO A MANO CHE 2\\PI/L = 0.13484487571168569\n",
      "WARNING:root:HO IMPOSTATO A MANO CHE 2\\PI/L = 0.13484487571168569\n",
      "WARNING:root:HO IMPOSTATO A MANO CHE 2\\PI/L = 0.13484487571168569\n",
      "WARNING:root:HO IMPOSTATO A MANO CHE 2\\PI/L = 0.13484487571168569\n",
      "WARNING:root:HO IMPOSTATO A MANO CHE 2\\PI/L = 0.13484487571168569\n",
      "WARNING:root:HO IMPOSTATO A MANO CHE 2\\PI/L = 0.13484487571168569\n",
      "WARNING:root:HO IMPOSTATO A MANO CHE 2\\PI/L = 0.13484487571168569\n",
      "WARNING:root:HO IMPOSTATO A MANO CHE 2\\PI/L = 0.13484487571168569\n",
      "WARNING:root:HO IMPOSTATO A MANO CHE 2\\PI/L = 0.13484487571168569\n"
     ]
    },
    {
     "name": "stdout",
     "output_type": "stream",
     "text": [
      "model average prediction 0.5639336366879488 0.010210693234658579\n",
      "0 [6. 1. 0.] 41\n"
     ]
    },
    {
     "name": "stderr",
     "output_type": "stream",
     "text": [
      "WARNING:root:HO IMPOSTATO A MANO CHE 2\\PI/L = 0.13484487571168569\n",
      "WARNING:root:HO IMPOSTATO A MANO CHE 2\\PI/L = 0.13484487571168569\n",
      "WARNING:root:HO IMPOSTATO A MANO CHE 2\\PI/L = 0.13484487571168569\n",
      "WARNING:root:HO IMPOSTATO A MANO CHE 2\\PI/L = 0.13484487571168569\n",
      "WARNING:root:HO IMPOSTATO A MANO CHE 2\\PI/L = 0.13484487571168569\n",
      "WARNING:root:HO IMPOSTATO A MANO CHE 2\\PI/L = 0.13484487571168569\n",
      "WARNING:root:HO IMPOSTATO A MANO CHE 2\\PI/L = 0.13484487571168569\n",
      "WARNING:root:HO IMPOSTATO A MANO CHE 2\\PI/L = 0.13484487571168569\n",
      "WARNING:root:HO IMPOSTATO A MANO CHE 2\\PI/L = 0.13484487571168569\n",
      "WARNING:root:HO IMPOSTATO A MANO CHE 2\\PI/L = 0.13484487571168569\n"
     ]
    },
    {
     "name": "stdout",
     "output_type": "stream",
     "text": [
      "model average prediction 0.5709003792837242 0.010729383672321749\n",
      "0 [6. 1. 1.] 42\n"
     ]
    },
    {
     "name": "stderr",
     "output_type": "stream",
     "text": [
      "WARNING:root:HO IMPOSTATO A MANO CHE 2\\PI/L = 0.13484487571168569\n",
      "WARNING:root:HO IMPOSTATO A MANO CHE 2\\PI/L = 0.13484487571168569\n",
      "WARNING:root:HO IMPOSTATO A MANO CHE 2\\PI/L = 0.13484487571168569\n",
      "WARNING:root:HO IMPOSTATO A MANO CHE 2\\PI/L = 0.13484487571168569\n",
      "WARNING:root:HO IMPOSTATO A MANO CHE 2\\PI/L = 0.13484487571168569\n",
      "WARNING:root:HO IMPOSTATO A MANO CHE 2\\PI/L = 0.13484487571168569\n",
      "WARNING:root:HO IMPOSTATO A MANO CHE 2\\PI/L = 0.13484487571168569\n",
      "WARNING:root:HO IMPOSTATO A MANO CHE 2\\PI/L = 0.13484487571168569\n",
      "WARNING:root:HO IMPOSTATO A MANO CHE 2\\PI/L = 0.13484487571168569\n",
      "WARNING:root:HO IMPOSTATO A MANO CHE 2\\PI/L = 0.13484487571168569\n",
      "WARNING:root:HO IMPOSTATO A MANO CHE 2\\PI/L = 0.13484487571168569\n",
      "WARNING:root:HO IMPOSTATO A MANO CHE 2\\PI/L = 0.13484487571168569\n"
     ]
    },
    {
     "name": "stdout",
     "output_type": "stream",
     "text": [
      "model average prediction 0.592945757993806 0.010508505402453685\n",
      "0 [3. 2. 5.] 43\n"
     ]
    },
    {
     "name": "stderr",
     "output_type": "stream",
     "text": [
      "WARNING:root:HO IMPOSTATO A MANO CHE 2\\PI/L = 0.13484487571168569\n",
      "WARNING:root:HO IMPOSTATO A MANO CHE 2\\PI/L = 0.13484487571168569\n",
      "WARNING:root:HO IMPOSTATO A MANO CHE 2\\PI/L = 0.13484487571168569\n",
      "WARNING:root:HO IMPOSTATO A MANO CHE 2\\PI/L = 0.13484487571168569\n",
      "WARNING:root:HO IMPOSTATO A MANO CHE 2\\PI/L = 0.13484487571168569\n",
      "WARNING:root:HO IMPOSTATO A MANO CHE 2\\PI/L = 0.13484487571168569\n",
      "WARNING:root:HO IMPOSTATO A MANO CHE 2\\PI/L = 0.13484487571168569\n",
      "WARNING:root:HO IMPOSTATO A MANO CHE 2\\PI/L = 0.13484487571168569\n",
      "WARNING:root:HO IMPOSTATO A MANO CHE 2\\PI/L = 0.13484487571168569\n",
      "WARNING:root:HO IMPOSTATO A MANO CHE 2\\PI/L = 0.13484487571168569\n",
      "WARNING:root:HO IMPOSTATO A MANO CHE 2\\PI/L = 0.13484487571168569\n"
     ]
    },
    {
     "name": "stdout",
     "output_type": "stream",
     "text": [
      "model average prediction 0.5696125184662305 0.010410466903749848\n",
      "0 [2. 0. 6.] 44\n"
     ]
    },
    {
     "name": "stderr",
     "output_type": "stream",
     "text": [
      "WARNING:root:HO IMPOSTATO A MANO CHE 2\\PI/L = 0.13484487571168569\n",
      "WARNING:root:HO IMPOSTATO A MANO CHE 2\\PI/L = 0.13484487571168569\n",
      "WARNING:root:HO IMPOSTATO A MANO CHE 2\\PI/L = 0.13484487571168569\n",
      "WARNING:root:HO IMPOSTATO A MANO CHE 2\\PI/L = 0.13484487571168569\n",
      "WARNING:root:HO IMPOSTATO A MANO CHE 2\\PI/L = 0.13484487571168569\n",
      "WARNING:root:HO IMPOSTATO A MANO CHE 2\\PI/L = 0.13484487571168569\n",
      "WARNING:root:HO IMPOSTATO A MANO CHE 2\\PI/L = 0.13484487571168569\n",
      "WARNING:root:HO IMPOSTATO A MANO CHE 2\\PI/L = 0.13484487571168569\n",
      "WARNING:root:HO IMPOSTATO A MANO CHE 2\\PI/L = 0.13484487571168569\n",
      "WARNING:root:HO IMPOSTATO A MANO CHE 2\\PI/L = 0.13484487571168569\n",
      "WARNING:root:HO IMPOSTATO A MANO CHE 2\\PI/L = 0.13484487571168569\n",
      "WARNING:root:HO IMPOSTATO A MANO CHE 2\\PI/L = 0.13484487571168569\n",
      "WARNING:root:HO IMPOSTATO A MANO CHE 2\\PI/L = 0.13484487571168569\n"
     ]
    },
    {
     "name": "stdout",
     "output_type": "stream",
     "text": [
      "model average prediction 0.5968408713453133 0.010722200990584439\n",
      "0 [6. 1. 2.] 45\n"
     ]
    },
    {
     "name": "stderr",
     "output_type": "stream",
     "text": [
      "WARNING:root:HO IMPOSTATO A MANO CHE 2\\PI/L = 0.13484487571168569\n",
      "WARNING:root:HO IMPOSTATO A MANO CHE 2\\PI/L = 0.13484487571168569\n",
      "WARNING:root:HO IMPOSTATO A MANO CHE 2\\PI/L = 0.13484487571168569\n",
      "WARNING:root:HO IMPOSTATO A MANO CHE 2\\PI/L = 0.13484487571168569\n",
      "WARNING:root:HO IMPOSTATO A MANO CHE 2\\PI/L = 0.13484487571168569\n",
      "WARNING:root:HO IMPOSTATO A MANO CHE 2\\PI/L = 0.13484487571168569\n",
      "WARNING:root:HO IMPOSTATO A MANO CHE 2\\PI/L = 0.13484487571168569\n",
      "WARNING:root:HO IMPOSTATO A MANO CHE 2\\PI/L = 0.13484487571168569\n",
      "WARNING:root:HO IMPOSTATO A MANO CHE 2\\PI/L = 0.13484487571168569\n",
      "WARNING:root:HO IMPOSTATO A MANO CHE 2\\PI/L = 0.13484487571168569\n",
      "WARNING:root:HO IMPOSTATO A MANO CHE 2\\PI/L = 0.13484487571168569\n",
      "WARNING:root:HO IMPOSTATO A MANO CHE 2\\PI/L = 0.13484487571168569\n",
      "WARNING:root:HO IMPOSTATO A MANO CHE 2\\PI/L = 0.13484487571168569\n",
      "WARNING:root:HO IMPOSTATO A MANO CHE 2\\PI/L = 0.13484487571168569\n"
     ]
    },
    {
     "name": "stdout",
     "output_type": "stream",
     "text": [
      "model average prediction 0.5961234604500703 0.01039981974799326\n",
      "0 [5. 0. 4.] 46\n"
     ]
    },
    {
     "name": "stderr",
     "output_type": "stream",
     "text": [
      "WARNING:root:HO IMPOSTATO A MANO CHE 2\\PI/L = 0.13484487571168569\n",
      "WARNING:root:HO IMPOSTATO A MANO CHE 2\\PI/L = 0.13484487571168569\n",
      "WARNING:root:HO IMPOSTATO A MANO CHE 2\\PI/L = 0.13484487571168569\n",
      "WARNING:root:HO IMPOSTATO A MANO CHE 2\\PI/L = 0.13484487571168569\n",
      "WARNING:root:HO IMPOSTATO A MANO CHE 2\\PI/L = 0.13484487571168569\n",
      "WARNING:root:HO IMPOSTATO A MANO CHE 2\\PI/L = 0.13484487571168569\n",
      "WARNING:root:HO IMPOSTATO A MANO CHE 2\\PI/L = 0.13484487571168569\n",
      "WARNING:root:HO IMPOSTATO A MANO CHE 2\\PI/L = 0.13484487571168569\n",
      "WARNING:root:HO IMPOSTATO A MANO CHE 2\\PI/L = 0.13484487571168569\n",
      "WARNING:root:HO IMPOSTATO A MANO CHE 2\\PI/L = 0.13484487571168569\n",
      "WARNING:root:HO IMPOSTATO A MANO CHE 2\\PI/L = 0.13484487571168569\n",
      "WARNING:root:HO IMPOSTATO A MANO CHE 2\\PI/L = 0.13484487571168569\n"
     ]
    },
    {
     "name": "stdout",
     "output_type": "stream",
     "text": [
      "model average prediction 0.601322850984099 0.01166720250791842\n",
      "0 [4. 4. 3.] 47\n"
     ]
    },
    {
     "name": "stderr",
     "output_type": "stream",
     "text": [
      "WARNING:root:HO IMPOSTATO A MANO CHE 2\\PI/L = 0.13484487571168569\n",
      "WARNING:root:HO IMPOSTATO A MANO CHE 2\\PI/L = 0.13484487571168569\n",
      "WARNING:root:HO IMPOSTATO A MANO CHE 2\\PI/L = 0.13484487571168569\n",
      "WARNING:root:HO IMPOSTATO A MANO CHE 2\\PI/L = 0.13484487571168569\n",
      "WARNING:root:HO IMPOSTATO A MANO CHE 2\\PI/L = 0.13484487571168569\n",
      "WARNING:root:HO IMPOSTATO A MANO CHE 2\\PI/L = 0.13484487571168569\n",
      "WARNING:root:HO IMPOSTATO A MANO CHE 2\\PI/L = 0.13484487571168569\n",
      "WARNING:root:HO IMPOSTATO A MANO CHE 2\\PI/L = 0.13484487571168569\n",
      "WARNING:root:HO IMPOSTATO A MANO CHE 2\\PI/L = 0.13484487571168569\n",
      "WARNING:root:HO IMPOSTATO A MANO CHE 2\\PI/L = 0.13484487571168569\n",
      "WARNING:root:HO IMPOSTATO A MANO CHE 2\\PI/L = 0.13484487571168569\n",
      "WARNING:root:HO IMPOSTATO A MANO CHE 2\\PI/L = 0.13484487571168569\n",
      "WARNING:root:HO IMPOSTATO A MANO CHE 2\\PI/L = 0.13484487571168569\n"
     ]
    },
    {
     "name": "stdout",
     "output_type": "stream",
     "text": [
      "model average prediction 0.5977451161379136 0.011096530333922654\n",
      "0 [1. 4. 5.] 48\n"
     ]
    },
    {
     "name": "stderr",
     "output_type": "stream",
     "text": [
      "WARNING:root:HO IMPOSTATO A MANO CHE 2\\PI/L = 0.13484487571168569\n",
      "WARNING:root:HO IMPOSTATO A MANO CHE 2\\PI/L = 0.13484487571168569\n",
      "WARNING:root:HO IMPOSTATO A MANO CHE 2\\PI/L = 0.13484487571168569\n",
      "WARNING:root:HO IMPOSTATO A MANO CHE 2\\PI/L = 0.13484487571168569\n",
      "WARNING:root:HO IMPOSTATO A MANO CHE 2\\PI/L = 0.13484487571168569\n",
      "WARNING:root:HO IMPOSTATO A MANO CHE 2\\PI/L = 0.13484487571168569\n",
      "WARNING:root:HO IMPOSTATO A MANO CHE 2\\PI/L = 0.13484487571168569\n",
      "WARNING:root:HO IMPOSTATO A MANO CHE 2\\PI/L = 0.13484487571168569\n",
      "WARNING:root:HO IMPOSTATO A MANO CHE 2\\PI/L = 0.13484487571168569\n",
      "WARNING:root:HO IMPOSTATO A MANO CHE 2\\PI/L = 0.13484487571168569\n",
      "WARNING:root:HO IMPOSTATO A MANO CHE 2\\PI/L = 0.13484487571168569\n",
      "WARNING:root:HO IMPOSTATO A MANO CHE 2\\PI/L = 0.13484487571168569\n",
      "WARNING:root:HO IMPOSTATO A MANO CHE 2\\PI/L = 0.13484487571168569\n",
      "WARNING:root:HO IMPOSTATO A MANO CHE 2\\PI/L = 0.13484487571168569\n"
     ]
    },
    {
     "name": "stdout",
     "output_type": "stream",
     "text": [
      "model average prediction 0.6016167590815898 0.010761686168111732\n",
      "0 [3. 3. 5.] 49\n"
     ]
    },
    {
     "name": "stderr",
     "output_type": "stream",
     "text": [
      "WARNING:root:HO IMPOSTATO A MANO CHE 2\\PI/L = 0.13484487571168569\n",
      "WARNING:root:HO IMPOSTATO A MANO CHE 2\\PI/L = 0.13484487571168569\n",
      "WARNING:root:HO IMPOSTATO A MANO CHE 2\\PI/L = 0.13484487571168569\n",
      "WARNING:root:HO IMPOSTATO A MANO CHE 2\\PI/L = 0.13484487571168569\n",
      "WARNING:root:HO IMPOSTATO A MANO CHE 2\\PI/L = 0.13484487571168569\n",
      "WARNING:root:HO IMPOSTATO A MANO CHE 2\\PI/L = 0.13484487571168569\n",
      "WARNING:root:HO IMPOSTATO A MANO CHE 2\\PI/L = 0.13484487571168569\n",
      "WARNING:root:HO IMPOSTATO A MANO CHE 2\\PI/L = 0.13484487571168569\n",
      "WARNING:root:HO IMPOSTATO A MANO CHE 2\\PI/L = 0.13484487571168569\n",
      "WARNING:root:HO IMPOSTATO A MANO CHE 2\\PI/L = 0.13484487571168569\n",
      "WARNING:root:HO IMPOSTATO A MANO CHE 2\\PI/L = 0.13484487571168569\n",
      "WARNING:root:HO IMPOSTATO A MANO CHE 2\\PI/L = 0.13484487571168569\n",
      "WARNING:root:HO IMPOSTATO A MANO CHE 2\\PI/L = 0.13484487571168569\n",
      "WARNING:root:HO IMPOSTATO A MANO CHE 2\\PI/L = 0.13484487571168569\n"
     ]
    },
    {
     "name": "stdout",
     "output_type": "stream",
     "text": [
      "model average prediction 0.595161235809019 0.010773944202253862\n",
      "0 [2. 6. 2.] 50\n"
     ]
    },
    {
     "name": "stderr",
     "output_type": "stream",
     "text": [
      "WARNING:root:HO IMPOSTATO A MANO CHE 2\\PI/L = 0.13484487571168569\n",
      "WARNING:root:HO IMPOSTATO A MANO CHE 2\\PI/L = 0.13484487571168569\n",
      "WARNING:root:HO IMPOSTATO A MANO CHE 2\\PI/L = 0.13484487571168569\n",
      "WARNING:root:HO IMPOSTATO A MANO CHE 2\\PI/L = 0.13484487571168569\n",
      "WARNING:root:HO IMPOSTATO A MANO CHE 2\\PI/L = 0.13484487571168569\n",
      "WARNING:root:HO IMPOSTATO A MANO CHE 2\\PI/L = 0.13484487571168569\n",
      "WARNING:root:HO IMPOSTATO A MANO CHE 2\\PI/L = 0.13484487571168569\n",
      "WARNING:root:HO IMPOSTATO A MANO CHE 2\\PI/L = 0.13484487571168569\n",
      "WARNING:root:HO IMPOSTATO A MANO CHE 2\\PI/L = 0.13484487571168569\n",
      "WARNING:root:HO IMPOSTATO A MANO CHE 2\\PI/L = 0.13484487571168569\n",
      "WARNING:root:HO IMPOSTATO A MANO CHE 2\\PI/L = 0.13484487571168569\n",
      "WARNING:root:HO IMPOSTATO A MANO CHE 2\\PI/L = 0.13484487571168569\n",
      "WARNING:root:HO IMPOSTATO A MANO CHE 2\\PI/L = 0.13484487571168569\n"
     ]
    },
    {
     "name": "stdout",
     "output_type": "stream",
     "text": [
      "model average prediction 0.5913892331260042 0.011182331944166679\n",
      "0 [2. 4. 5.] 51\n"
     ]
    },
    {
     "name": "stderr",
     "output_type": "stream",
     "text": [
      "WARNING:root:HO IMPOSTATO A MANO CHE 2\\PI/L = 0.13484487571168569\n",
      "WARNING:root:HO IMPOSTATO A MANO CHE 2\\PI/L = 0.13484487571168569\n",
      "WARNING:root:HO IMPOSTATO A MANO CHE 2\\PI/L = 0.13484487571168569\n",
      "WARNING:root:HO IMPOSTATO A MANO CHE 2\\PI/L = 0.13484487571168569\n",
      "WARNING:root:HO IMPOSTATO A MANO CHE 2\\PI/L = 0.13484487571168569\n",
      "WARNING:root:HO IMPOSTATO A MANO CHE 2\\PI/L = 0.13484487571168569\n",
      "WARNING:root:HO IMPOSTATO A MANO CHE 2\\PI/L = 0.13484487571168569\n",
      "WARNING:root:HO IMPOSTATO A MANO CHE 2\\PI/L = 0.13484487571168569\n",
      "WARNING:root:HO IMPOSTATO A MANO CHE 2\\PI/L = 0.13484487571168569\n",
      "WARNING:root:HO IMPOSTATO A MANO CHE 2\\PI/L = 0.13484487571168569\n",
      "WARNING:root:HO IMPOSTATO A MANO CHE 2\\PI/L = 0.13484487571168569\n",
      "WARNING:root:HO IMPOSTATO A MANO CHE 2\\PI/L = 0.13484487571168569\n",
      "WARNING:root:HO IMPOSTATO A MANO CHE 2\\PI/L = 0.13484487571168569\n",
      "WARNING:root:HO IMPOSTATO A MANO CHE 2\\PI/L = 0.13484487571168569\n"
     ]
    },
    {
     "name": "stdout",
     "output_type": "stream",
     "text": [
      "model average prediction 0.590366423613737 0.010760894246841388\n",
      "0 [0. 3. 6.] 52\n"
     ]
    },
    {
     "name": "stderr",
     "output_type": "stream",
     "text": [
      "WARNING:root:HO IMPOSTATO A MANO CHE 2\\PI/L = 0.13484487571168569\n",
      "WARNING:root:HO IMPOSTATO A MANO CHE 2\\PI/L = 0.13484487571168569\n",
      "WARNING:root:HO IMPOSTATO A MANO CHE 2\\PI/L = 0.13484487571168569\n",
      "WARNING:root:HO IMPOSTATO A MANO CHE 2\\PI/L = 0.13484487571168569\n",
      "WARNING:root:HO IMPOSTATO A MANO CHE 2\\PI/L = 0.13484487571168569\n",
      "WARNING:root:HO IMPOSTATO A MANO CHE 2\\PI/L = 0.13484487571168569\n",
      "WARNING:root:HO IMPOSTATO A MANO CHE 2\\PI/L = 0.13484487571168569\n",
      "WARNING:root:HO IMPOSTATO A MANO CHE 2\\PI/L = 0.13484487571168569\n",
      "WARNING:root:HO IMPOSTATO A MANO CHE 2\\PI/L = 0.13484487571168569\n",
      "WARNING:root:HO IMPOSTATO A MANO CHE 2\\PI/L = 0.13484487571168569\n",
      "WARNING:root:HO IMPOSTATO A MANO CHE 2\\PI/L = 0.13484487571168569\n",
      "WARNING:root:HO IMPOSTATO A MANO CHE 2\\PI/L = 0.13484487571168569\n",
      "WARNING:root:HO IMPOSTATO A MANO CHE 2\\PI/L = 0.13484487571168569\n",
      "WARNING:root:HO IMPOSTATO A MANO CHE 2\\PI/L = 0.13484487571168569\n"
     ]
    },
    {
     "name": "stdout",
     "output_type": "stream",
     "text": [
      "model average prediction 0.5919383857933849 0.011030593694930847\n",
      "0 [6. 1. 3.] 53\n"
     ]
    },
    {
     "name": "stderr",
     "output_type": "stream",
     "text": [
      "WARNING:root:HO IMPOSTATO A MANO CHE 2\\PI/L = 0.13484487571168569\n",
      "WARNING:root:HO IMPOSTATO A MANO CHE 2\\PI/L = 0.13484487571168569\n",
      "WARNING:root:HO IMPOSTATO A MANO CHE 2\\PI/L = 0.13484487571168569\n",
      "WARNING:root:HO IMPOSTATO A MANO CHE 2\\PI/L = 0.13484487571168569\n",
      "WARNING:root:HO IMPOSTATO A MANO CHE 2\\PI/L = 0.13484487571168569\n",
      "WARNING:root:HO IMPOSTATO A MANO CHE 2\\PI/L = 0.13484487571168569\n",
      "WARNING:root:HO IMPOSTATO A MANO CHE 2\\PI/L = 0.13484487571168569\n",
      "WARNING:root:HO IMPOSTATO A MANO CHE 2\\PI/L = 0.13484487571168569\n",
      "WARNING:root:HO IMPOSTATO A MANO CHE 2\\PI/L = 0.13484487571168569\n",
      "WARNING:root:HO IMPOSTATO A MANO CHE 2\\PI/L = 0.13484487571168569\n",
      "WARNING:root:HO IMPOSTATO A MANO CHE 2\\PI/L = 0.13484487571168569\n",
      "WARNING:root:HO IMPOSTATO A MANO CHE 2\\PI/L = 0.13484487571168569\n",
      "WARNING:root:HO IMPOSTATO A MANO CHE 2\\PI/L = 0.13484487571168569\n"
     ]
    },
    {
     "name": "stdout",
     "output_type": "stream",
     "text": [
      "model average prediction 0.5763261235481455 0.011005530741429976\n",
      "0 [4. 4. 4.] 54\n"
     ]
    },
    {
     "name": "stderr",
     "output_type": "stream",
     "text": [
      "WARNING:root:HO IMPOSTATO A MANO CHE 2\\PI/L = 0.13484487571168569\n",
      "WARNING:root:HO IMPOSTATO A MANO CHE 2\\PI/L = 0.13484487571168569\n",
      "WARNING:root:HO IMPOSTATO A MANO CHE 2\\PI/L = 0.13484487571168569\n",
      "WARNING:root:HO IMPOSTATO A MANO CHE 2\\PI/L = 0.13484487571168569\n",
      "WARNING:root:HO IMPOSTATO A MANO CHE 2\\PI/L = 0.13484487571168569\n",
      "WARNING:root:HO IMPOSTATO A MANO CHE 2\\PI/L = 0.13484487571168569\n",
      "WARNING:root:HO IMPOSTATO A MANO CHE 2\\PI/L = 0.13484487571168569\n",
      "WARNING:root:HO IMPOSTATO A MANO CHE 2\\PI/L = 0.13484487571168569\n",
      "WARNING:root:HO IMPOSTATO A MANO CHE 2\\PI/L = 0.13484487571168569\n",
      "WARNING:root:HO IMPOSTATO A MANO CHE 2\\PI/L = 0.13484487571168569\n",
      "WARNING:root:HO IMPOSTATO A MANO CHE 2\\PI/L = 0.13484487571168569\n",
      "WARNING:root:HO IMPOSTATO A MANO CHE 2\\PI/L = 0.13484487571168569\n",
      "WARNING:root:HO IMPOSTATO A MANO CHE 2\\PI/L = 0.13484487571168569\n",
      "WARNING:root:HO IMPOSTATO A MANO CHE 2\\PI/L = 0.13484487571168569\n"
     ]
    },
    {
     "name": "stdout",
     "output_type": "stream",
     "text": [
      "model average prediction 0.5736111615290154 0.010387016805921736\n",
      "0 [2. 6. 3.] 55\n"
     ]
    },
    {
     "name": "stderr",
     "output_type": "stream",
     "text": [
      "WARNING:root:HO IMPOSTATO A MANO CHE 2\\PI/L = 0.13484487571168569\n",
      "WARNING:root:HO IMPOSTATO A MANO CHE 2\\PI/L = 0.13484487571168569\n",
      "WARNING:root:HO IMPOSTATO A MANO CHE 2\\PI/L = 0.13484487571168569\n",
      "WARNING:root:HO IMPOSTATO A MANO CHE 2\\PI/L = 0.13484487571168569\n",
      "WARNING:root:HO IMPOSTATO A MANO CHE 2\\PI/L = 0.13484487571168569\n",
      "WARNING:root:HO IMPOSTATO A MANO CHE 2\\PI/L = 0.13484487571168569\n",
      "WARNING:root:HO IMPOSTATO A MANO CHE 2\\PI/L = 0.13484487571168569\n",
      "WARNING:root:HO IMPOSTATO A MANO CHE 2\\PI/L = 0.13484487571168569\n",
      "WARNING:root:HO IMPOSTATO A MANO CHE 2\\PI/L = 0.13484487571168569\n",
      "WARNING:root:HO IMPOSTATO A MANO CHE 2\\PI/L = 0.13484487571168569\n",
      "WARNING:root:HO IMPOSTATO A MANO CHE 2\\PI/L = 0.13484487571168569\n",
      "WARNING:root:HO IMPOSTATO A MANO CHE 2\\PI/L = 0.13484487571168569\n",
      "WARNING:root:HO IMPOSTATO A MANO CHE 2\\PI/L = 0.13484487571168569\n"
     ]
    },
    {
     "name": "stdout",
     "output_type": "stream",
     "text": [
      "model average prediction 0.5698368970295784 0.010432427271404442\n",
      "0 [0. 7. 0.] 56\n"
     ]
    },
    {
     "name": "stderr",
     "output_type": "stream",
     "text": [
      "WARNING:root:HO IMPOSTATO A MANO CHE 2\\PI/L = 0.13484487571168569\n",
      "WARNING:root:HO IMPOSTATO A MANO CHE 2\\PI/L = 0.13484487571168569\n",
      "WARNING:root:HO IMPOSTATO A MANO CHE 2\\PI/L = 0.13484487571168569\n",
      "WARNING:root:HO IMPOSTATO A MANO CHE 2\\PI/L = 0.13484487571168569\n",
      "WARNING:root:HO IMPOSTATO A MANO CHE 2\\PI/L = 0.13484487571168569\n",
      "WARNING:root:HO IMPOSTATO A MANO CHE 2\\PI/L = 0.13484487571168569\n",
      "WARNING:root:HO IMPOSTATO A MANO CHE 2\\PI/L = 0.13484487571168569\n",
      "WARNING:root:HO IMPOSTATO A MANO CHE 2\\PI/L = 0.13484487571168569\n",
      "WARNING:root:HO IMPOSTATO A MANO CHE 2\\PI/L = 0.13484487571168569\n",
      "WARNING:root:HO IMPOSTATO A MANO CHE 2\\PI/L = 0.13484487571168569\n",
      "WARNING:root:HO IMPOSTATO A MANO CHE 2\\PI/L = 0.13484487571168569\n",
      "WARNING:root:HO IMPOSTATO A MANO CHE 2\\PI/L = 0.13484487571168569\n",
      "WARNING:root:HO IMPOSTATO A MANO CHE 2\\PI/L = 0.13484487571168569\n",
      "WARNING:root:HO IMPOSTATO A MANO CHE 2\\PI/L = 0.13484487571168569\n"
     ]
    },
    {
     "name": "stdout",
     "output_type": "stream",
     "text": [
      "model average prediction 0.5498681853628227 0.010249169227139423\n",
      "0 [4. 3. 5.] 57\n"
     ]
    },
    {
     "name": "stderr",
     "output_type": "stream",
     "text": [
      "WARNING:root:HO IMPOSTATO A MANO CHE 2\\PI/L = 0.13484487571168569\n",
      "WARNING:root:HO IMPOSTATO A MANO CHE 2\\PI/L = 0.13484487571168569\n",
      "WARNING:root:HO IMPOSTATO A MANO CHE 2\\PI/L = 0.13484487571168569\n",
      "WARNING:root:HO IMPOSTATO A MANO CHE 2\\PI/L = 0.13484487571168569\n",
      "WARNING:root:HO IMPOSTATO A MANO CHE 2\\PI/L = 0.13484487571168569\n",
      "WARNING:root:HO IMPOSTATO A MANO CHE 2\\PI/L = 0.13484487571168569\n",
      "WARNING:root:HO IMPOSTATO A MANO CHE 2\\PI/L = 0.13484487571168569\n",
      "WARNING:root:HO IMPOSTATO A MANO CHE 2\\PI/L = 0.13484487571168569\n",
      "WARNING:root:HO IMPOSTATO A MANO CHE 2\\PI/L = 0.13484487571168569\n",
      "WARNING:root:HO IMPOSTATO A MANO CHE 2\\PI/L = 0.13484487571168569\n",
      "WARNING:root:HO IMPOSTATO A MANO CHE 2\\PI/L = 0.13484487571168569\n",
      "WARNING:root:HO IMPOSTATO A MANO CHE 2\\PI/L = 0.13484487571168569\n"
     ]
    },
    {
     "name": "stdout",
     "output_type": "stream",
     "text": [
      "model average prediction 0.548646561303861 0.010347281144229921\n",
      "0 [0. 7. 1.] 58\n"
     ]
    },
    {
     "name": "stderr",
     "output_type": "stream",
     "text": [
      "WARNING:root:HO IMPOSTATO A MANO CHE 2\\PI/L = 0.13484487571168569\n",
      "WARNING:root:HO IMPOSTATO A MANO CHE 2\\PI/L = 0.13484487571168569\n",
      "WARNING:root:HO IMPOSTATO A MANO CHE 2\\PI/L = 0.13484487571168569\n",
      "WARNING:root:HO IMPOSTATO A MANO CHE 2\\PI/L = 0.13484487571168569\n",
      "WARNING:root:HO IMPOSTATO A MANO CHE 2\\PI/L = 0.13484487571168569\n",
      "WARNING:root:HO IMPOSTATO A MANO CHE 2\\PI/L = 0.13484487571168569\n",
      "WARNING:root:HO IMPOSTATO A MANO CHE 2\\PI/L = 0.13484487571168569\n",
      "WARNING:root:HO IMPOSTATO A MANO CHE 2\\PI/L = 0.13484487571168569\n",
      "WARNING:root:HO IMPOSTATO A MANO CHE 2\\PI/L = 0.13484487571168569\n",
      "WARNING:root:HO IMPOSTATO A MANO CHE 2\\PI/L = 0.13484487571168569\n",
      "WARNING:root:HO IMPOSTATO A MANO CHE 2\\PI/L = 0.13484487571168569\n",
      "WARNING:root:HO IMPOSTATO A MANO CHE 2\\PI/L = 0.13484487571168569\n",
      "WARNING:root:HO IMPOSTATO A MANO CHE 2\\PI/L = 0.13484487571168569\n"
     ]
    },
    {
     "name": "stdout",
     "output_type": "stream",
     "text": [
      "model average prediction 0.5516839882679929 0.010478403034011317\n",
      "0 [5. 5. 0.] 59\n"
     ]
    },
    {
     "name": "stderr",
     "output_type": "stream",
     "text": [
      "WARNING:root:HO IMPOSTATO A MANO CHE 2\\PI/L = 0.13484487571168569\n",
      "WARNING:root:HO IMPOSTATO A MANO CHE 2\\PI/L = 0.13484487571168569\n",
      "WARNING:root:HO IMPOSTATO A MANO CHE 2\\PI/L = 0.13484487571168569\n",
      "WARNING:root:HO IMPOSTATO A MANO CHE 2\\PI/L = 0.13484487571168569\n",
      "WARNING:root:HO IMPOSTATO A MANO CHE 2\\PI/L = 0.13484487571168569\n",
      "WARNING:root:HO IMPOSTATO A MANO CHE 2\\PI/L = 0.13484487571168569\n",
      "WARNING:root:HO IMPOSTATO A MANO CHE 2\\PI/L = 0.13484487571168569\n",
      "WARNING:root:HO IMPOSTATO A MANO CHE 2\\PI/L = 0.13484487571168569\n",
      "WARNING:root:HO IMPOSTATO A MANO CHE 2\\PI/L = 0.13484487571168569\n",
      "WARNING:root:HO IMPOSTATO A MANO CHE 2\\PI/L = 0.13484487571168569\n",
      "WARNING:root:HO IMPOSTATO A MANO CHE 2\\PI/L = 0.13484487571168569\n",
      "WARNING:root:HO IMPOSTATO A MANO CHE 2\\PI/L = 0.13484487571168569\n",
      "WARNING:root:HO IMPOSTATO A MANO CHE 2\\PI/L = 0.13484487571168569\n"
     ]
    },
    {
     "name": "stdout",
     "output_type": "stream",
     "text": [
      "model average prediction 0.5395403485856121 0.010142944886236085\n",
      "0 [5. 5. 1.] 60\n"
     ]
    },
    {
     "name": "stderr",
     "output_type": "stream",
     "text": [
      "WARNING:root:HO IMPOSTATO A MANO CHE 2\\PI/L = 0.13484487571168569\n",
      "WARNING:root:HO IMPOSTATO A MANO CHE 2\\PI/L = 0.13484487571168569\n",
      "WARNING:root:HO IMPOSTATO A MANO CHE 2\\PI/L = 0.13484487571168569\n",
      "WARNING:root:HO IMPOSTATO A MANO CHE 2\\PI/L = 0.13484487571168569\n",
      "WARNING:root:HO IMPOSTATO A MANO CHE 2\\PI/L = 0.13484487571168569\n",
      "WARNING:root:HO IMPOSTATO A MANO CHE 2\\PI/L = 0.13484487571168569\n",
      "WARNING:root:HO IMPOSTATO A MANO CHE 2\\PI/L = 0.13484487571168569\n",
      "WARNING:root:HO IMPOSTATO A MANO CHE 2\\PI/L = 0.13484487571168569\n",
      "WARNING:root:HO IMPOSTATO A MANO CHE 2\\PI/L = 0.13484487571168569\n",
      "WARNING:root:HO IMPOSTATO A MANO CHE 2\\PI/L = 0.13484487571168569\n",
      "WARNING:root:HO IMPOSTATO A MANO CHE 2\\PI/L = 0.13484487571168569\n",
      "WARNING:root:HO IMPOSTATO A MANO CHE 2\\PI/L = 0.13484487571168569\n",
      "WARNING:root:HO IMPOSTATO A MANO CHE 2\\PI/L = 0.13484487571168569\n",
      "WARNING:root:HO IMPOSTATO A MANO CHE 2\\PI/L = 0.13484487571168569\n"
     ]
    },
    {
     "name": "stdout",
     "output_type": "stream",
     "text": [
      "model average prediction 0.5293257794807107 0.009571567768305528\n",
      "0 [1. 7. 1.] 61\n"
     ]
    },
    {
     "name": "stderr",
     "output_type": "stream",
     "text": [
      "WARNING:root:HO IMPOSTATO A MANO CHE 2\\PI/L = 0.13484487571168569\n",
      "WARNING:root:HO IMPOSTATO A MANO CHE 2\\PI/L = 0.13484487571168569\n",
      "WARNING:root:HO IMPOSTATO A MANO CHE 2\\PI/L = 0.13484487571168569\n",
      "WARNING:root:HO IMPOSTATO A MANO CHE 2\\PI/L = 0.13484487571168569\n",
      "WARNING:root:HO IMPOSTATO A MANO CHE 2\\PI/L = 0.13484487571168569\n",
      "WARNING:root:HO IMPOSTATO A MANO CHE 2\\PI/L = 0.13484487571168569\n",
      "WARNING:root:HO IMPOSTATO A MANO CHE 2\\PI/L = 0.13484487571168569\n",
      "WARNING:root:HO IMPOSTATO A MANO CHE 2\\PI/L = 0.13484487571168569\n",
      "WARNING:root:HO IMPOSTATO A MANO CHE 2\\PI/L = 0.13484487571168569\n",
      "WARNING:root:HO IMPOSTATO A MANO CHE 2\\PI/L = 0.13484487571168569\n",
      "WARNING:root:HO IMPOSTATO A MANO CHE 2\\PI/L = 0.13484487571168569\n",
      "WARNING:root:HO IMPOSTATO A MANO CHE 2\\PI/L = 0.13484487571168569\n"
     ]
    },
    {
     "name": "stdout",
     "output_type": "stream",
     "text": [
      "model average prediction 0.5282628853579695 0.009656051031252917\n",
      "0 [4. 0. 6.] 62\n"
     ]
    },
    {
     "name": "stderr",
     "output_type": "stream",
     "text": [
      "WARNING:root:HO IMPOSTATO A MANO CHE 2\\PI/L = 0.13484487571168569\n",
      "WARNING:root:HO IMPOSTATO A MANO CHE 2\\PI/L = 0.13484487571168569\n",
      "WARNING:root:HO IMPOSTATO A MANO CHE 2\\PI/L = 0.13484487571168569\n",
      "WARNING:root:HO IMPOSTATO A MANO CHE 2\\PI/L = 0.13484487571168569\n",
      "WARNING:root:HO IMPOSTATO A MANO CHE 2\\PI/L = 0.13484487571168569\n",
      "WARNING:root:HO IMPOSTATO A MANO CHE 2\\PI/L = 0.13484487571168569\n",
      "WARNING:root:HO IMPOSTATO A MANO CHE 2\\PI/L = 0.13484487571168569\n",
      "WARNING:root:HO IMPOSTATO A MANO CHE 2\\PI/L = 0.13484487571168569\n",
      "WARNING:root:HO IMPOSTATO A MANO CHE 2\\PI/L = 0.13484487571168569\n",
      "WARNING:root:HO IMPOSTATO A MANO CHE 2\\PI/L = 0.13484487571168569\n",
      "WARNING:root:HO IMPOSTATO A MANO CHE 2\\PI/L = 0.13484487571168569\n",
      "WARNING:root:HO IMPOSTATO A MANO CHE 2\\PI/L = 0.13484487571168569\n",
      "WARNING:root:HO IMPOSTATO A MANO CHE 2\\PI/L = 0.13484487571168569\n",
      "WARNING:root:HO IMPOSTATO A MANO CHE 2\\PI/L = 0.13484487571168569\n"
     ]
    },
    {
     "name": "stdout",
     "output_type": "stream",
     "text": [
      "model average prediction 0.5309666425806431 0.009323035749384005\n",
      "0 [7. 0. 2.] 63\n"
     ]
    },
    {
     "name": "stderr",
     "output_type": "stream",
     "text": [
      "WARNING:root:HO IMPOSTATO A MANO CHE 2\\PI/L = 0.13484487571168569\n",
      "WARNING:root:HO IMPOSTATO A MANO CHE 2\\PI/L = 0.13484487571168569\n",
      "WARNING:root:HO IMPOSTATO A MANO CHE 2\\PI/L = 0.13484487571168569\n",
      "WARNING:root:HO IMPOSTATO A MANO CHE 2\\PI/L = 0.13484487571168569\n",
      "WARNING:root:HO IMPOSTATO A MANO CHE 2\\PI/L = 0.13484487571168569\n",
      "WARNING:root:HO IMPOSTATO A MANO CHE 2\\PI/L = 0.13484487571168569\n",
      "WARNING:root:HO IMPOSTATO A MANO CHE 2\\PI/L = 0.13484487571168569\n",
      "WARNING:root:HO IMPOSTATO A MANO CHE 2\\PI/L = 0.13484487571168569\n",
      "WARNING:root:HO IMPOSTATO A MANO CHE 2\\PI/L = 0.13484487571168569\n",
      "WARNING:root:HO IMPOSTATO A MANO CHE 2\\PI/L = 0.13484487571168569\n",
      "WARNING:root:HO IMPOSTATO A MANO CHE 2\\PI/L = 0.13484487571168569\n",
      "WARNING:root:HO IMPOSTATO A MANO CHE 2\\PI/L = 0.13484487571168569\n",
      "WARNING:root:HO IMPOSTATO A MANO CHE 2\\PI/L = 0.13484487571168569\n",
      "WARNING:root:HO IMPOSTATO A MANO CHE 2\\PI/L = 0.13484487571168569\n"
     ]
    },
    {
     "name": "stdout",
     "output_type": "stream",
     "text": [
      "model average prediction 0.5321854608624996 0.009504432596309557\n",
      "0 [6. 4. 1.] 64\n"
     ]
    },
    {
     "name": "stderr",
     "output_type": "stream",
     "text": [
      "WARNING:root:HO IMPOSTATO A MANO CHE 2\\PI/L = 0.13484487571168569\n",
      "WARNING:root:HO IMPOSTATO A MANO CHE 2\\PI/L = 0.13484487571168569\n",
      "WARNING:root:HO IMPOSTATO A MANO CHE 2\\PI/L = 0.13484487571168569\n",
      "WARNING:root:HO IMPOSTATO A MANO CHE 2\\PI/L = 0.13484487571168569\n",
      "WARNING:root:HO IMPOSTATO A MANO CHE 2\\PI/L = 0.13484487571168569\n",
      "WARNING:root:HO IMPOSTATO A MANO CHE 2\\PI/L = 0.13484487571168569\n",
      "WARNING:root:HO IMPOSTATO A MANO CHE 2\\PI/L = 0.13484487571168569\n",
      "WARNING:root:HO IMPOSTATO A MANO CHE 2\\PI/L = 0.13484487571168569\n",
      "WARNING:root:HO IMPOSTATO A MANO CHE 2\\PI/L = 0.13484487571168569\n",
      "WARNING:root:HO IMPOSTATO A MANO CHE 2\\PI/L = 0.13484487571168569\n",
      "WARNING:root:HO IMPOSTATO A MANO CHE 2\\PI/L = 0.13484487571168569\n",
      "WARNING:root:HO IMPOSTATO A MANO CHE 2\\PI/L = 0.13484487571168569\n",
      "WARNING:root:HO IMPOSTATO A MANO CHE 2\\PI/L = 0.13484487571168569\n",
      "WARNING:root:HO IMPOSTATO A MANO CHE 2\\PI/L = 0.13484487571168569\n"
     ]
    },
    {
     "name": "stdout",
     "output_type": "stream",
     "text": [
      "model average prediction 0.524878691611356 0.009312757931731561\n",
      "0 [5. 2. 5.] 65\n"
     ]
    },
    {
     "name": "stderr",
     "output_type": "stream",
     "text": [
      "WARNING:root:HO IMPOSTATO A MANO CHE 2\\PI/L = 0.13484487571168569\n",
      "WARNING:root:HO IMPOSTATO A MANO CHE 2\\PI/L = 0.13484487571168569\n",
      "WARNING:root:HO IMPOSTATO A MANO CHE 2\\PI/L = 0.13484487571168569\n",
      "WARNING:root:HO IMPOSTATO A MANO CHE 2\\PI/L = 0.13484487571168569\n",
      "WARNING:root:HO IMPOSTATO A MANO CHE 2\\PI/L = 0.13484487571168569\n",
      "WARNING:root:HO IMPOSTATO A MANO CHE 2\\PI/L = 0.13484487571168569\n",
      "WARNING:root:HO IMPOSTATO A MANO CHE 2\\PI/L = 0.13484487571168569\n",
      "WARNING:root:HO IMPOSTATO A MANO CHE 2\\PI/L = 0.13484487571168569\n",
      "WARNING:root:HO IMPOSTATO A MANO CHE 2\\PI/L = 0.13484487571168569\n",
      "WARNING:root:HO IMPOSTATO A MANO CHE 2\\PI/L = 0.13484487571168569\n",
      "WARNING:root:HO IMPOSTATO A MANO CHE 2\\PI/L = 0.13484487571168569\n",
      "WARNING:root:HO IMPOSTATO A MANO CHE 2\\PI/L = 0.13484487571168569\n",
      "WARNING:root:HO IMPOSTATO A MANO CHE 2\\PI/L = 0.13484487571168569\n"
     ]
    },
    {
     "name": "stdout",
     "output_type": "stream",
     "text": [
      "model average prediction 0.5200164420536211 0.009587336649698432\n",
      "0 [1. 7. 2.] 66\n"
     ]
    },
    {
     "name": "stderr",
     "output_type": "stream",
     "text": [
      "WARNING:root:HO IMPOSTATO A MANO CHE 2\\PI/L = 0.13484487571168569\n",
      "WARNING:root:HO IMPOSTATO A MANO CHE 2\\PI/L = 0.13484487571168569\n",
      "WARNING:root:HO IMPOSTATO A MANO CHE 2\\PI/L = 0.13484487571168569\n",
      "WARNING:root:HO IMPOSTATO A MANO CHE 2\\PI/L = 0.13484487571168569\n",
      "WARNING:root:HO IMPOSTATO A MANO CHE 2\\PI/L = 0.13484487571168569\n",
      "WARNING:root:HO IMPOSTATO A MANO CHE 2\\PI/L = 0.13484487571168569\n",
      "WARNING:root:HO IMPOSTATO A MANO CHE 2\\PI/L = 0.13484487571168569\n",
      "WARNING:root:HO IMPOSTATO A MANO CHE 2\\PI/L = 0.13484487571168569\n",
      "WARNING:root:HO IMPOSTATO A MANO CHE 2\\PI/L = 0.13484487571168569\n",
      "WARNING:root:HO IMPOSTATO A MANO CHE 2\\PI/L = 0.13484487571168569\n",
      "WARNING:root:HO IMPOSTATO A MANO CHE 2\\PI/L = 0.13484487571168569\n",
      "WARNING:root:HO IMPOSTATO A MANO CHE 2\\PI/L = 0.13484487571168569\n",
      "WARNING:root:HO IMPOSTATO A MANO CHE 2\\PI/L = 0.13484487571168569\n"
     ]
    },
    {
     "name": "stdout",
     "output_type": "stream",
     "text": [
      "model average prediction 0.5219098493959267 0.009666631209199339\n",
      "0 [6. 3. 3.] 67\n"
     ]
    },
    {
     "name": "stderr",
     "output_type": "stream",
     "text": [
      "WARNING:root:HO IMPOSTATO A MANO CHE 2\\PI/L = 0.13484487571168569\n",
      "WARNING:root:HO IMPOSTATO A MANO CHE 2\\PI/L = 0.13484487571168569\n",
      "WARNING:root:HO IMPOSTATO A MANO CHE 2\\PI/L = 0.13484487571168569\n",
      "WARNING:root:HO IMPOSTATO A MANO CHE 2\\PI/L = 0.13484487571168569\n",
      "WARNING:root:HO IMPOSTATO A MANO CHE 2\\PI/L = 0.13484487571168569\n",
      "WARNING:root:HO IMPOSTATO A MANO CHE 2\\PI/L = 0.13484487571168569\n",
      "WARNING:root:HO IMPOSTATO A MANO CHE 2\\PI/L = 0.13484487571168569\n",
      "WARNING:root:HO IMPOSTATO A MANO CHE 2\\PI/L = 0.13484487571168569\n",
      "WARNING:root:HO IMPOSTATO A MANO CHE 2\\PI/L = 0.13484487571168569\n",
      "WARNING:root:HO IMPOSTATO A MANO CHE 2\\PI/L = 0.13484487571168569\n",
      "WARNING:root:HO IMPOSTATO A MANO CHE 2\\PI/L = 0.13484487571168569\n",
      "WARNING:root:HO IMPOSTATO A MANO CHE 2\\PI/L = 0.13484487571168569\n",
      "WARNING:root:HO IMPOSTATO A MANO CHE 2\\PI/L = 0.13484487571168569\n",
      "WARNING:root:HO IMPOSTATO A MANO CHE 2\\PI/L = 0.13484487571168569\n"
     ]
    },
    {
     "name": "stdout",
     "output_type": "stream",
     "text": [
      "model average prediction 0.527917498083049 0.009573638433459283\n",
      "0 [2. 4. 6.] 68\n"
     ]
    },
    {
     "name": "stderr",
     "output_type": "stream",
     "text": [
      "WARNING:root:HO IMPOSTATO A MANO CHE 2\\PI/L = 0.13484487571168569\n",
      "WARNING:root:HO IMPOSTATO A MANO CHE 2\\PI/L = 0.13484487571168569\n",
      "WARNING:root:HO IMPOSTATO A MANO CHE 2\\PI/L = 0.13484487571168569\n",
      "WARNING:root:HO IMPOSTATO A MANO CHE 2\\PI/L = 0.13484487571168569\n",
      "WARNING:root:HO IMPOSTATO A MANO CHE 2\\PI/L = 0.13484487571168569\n",
      "WARNING:root:HO IMPOSTATO A MANO CHE 2\\PI/L = 0.13484487571168569\n",
      "WARNING:root:HO IMPOSTATO A MANO CHE 2\\PI/L = 0.13484487571168569\n",
      "WARNING:root:HO IMPOSTATO A MANO CHE 2\\PI/L = 0.13484487571168569\n",
      "WARNING:root:HO IMPOSTATO A MANO CHE 2\\PI/L = 0.13484487571168569\n",
      "WARNING:root:HO IMPOSTATO A MANO CHE 2\\PI/L = 0.13484487571168569\n",
      "WARNING:root:HO IMPOSTATO A MANO CHE 2\\PI/L = 0.13484487571168569\n",
      "WARNING:root:HO IMPOSTATO A MANO CHE 2\\PI/L = 0.13484487571168569\n",
      "WARNING:root:HO IMPOSTATO A MANO CHE 2\\PI/L = 0.13484487571168569\n",
      "WARNING:root:HO IMPOSTATO A MANO CHE 2\\PI/L = 0.13484487571168569\n"
     ]
    },
    {
     "name": "stdout",
     "output_type": "stream",
     "text": [
      "model average prediction 0.5286602283004238 0.009800126519697359\n",
      "0 [4. 5. 4.] 69\n"
     ]
    },
    {
     "name": "stderr",
     "output_type": "stream",
     "text": [
      "WARNING:root:HO IMPOSTATO A MANO CHE 2\\PI/L = 0.13484487571168569\n",
      "WARNING:root:HO IMPOSTATO A MANO CHE 2\\PI/L = 0.13484487571168569\n",
      "WARNING:root:HO IMPOSTATO A MANO CHE 2\\PI/L = 0.13484487571168569\n",
      "WARNING:root:HO IMPOSTATO A MANO CHE 2\\PI/L = 0.13484487571168569\n",
      "WARNING:root:HO IMPOSTATO A MANO CHE 2\\PI/L = 0.13484487571168569\n",
      "WARNING:root:HO IMPOSTATO A MANO CHE 2\\PI/L = 0.13484487571168569\n",
      "WARNING:root:HO IMPOSTATO A MANO CHE 2\\PI/L = 0.13484487571168569\n",
      "WARNING:root:HO IMPOSTATO A MANO CHE 2\\PI/L = 0.13484487571168569\n",
      "WARNING:root:HO IMPOSTATO A MANO CHE 2\\PI/L = 0.13484487571168569\n",
      "WARNING:root:HO IMPOSTATO A MANO CHE 2\\PI/L = 0.13484487571168569\n",
      "WARNING:root:HO IMPOSTATO A MANO CHE 2\\PI/L = 0.13484487571168569\n",
      "WARNING:root:HO IMPOSTATO A MANO CHE 2\\PI/L = 0.13484487571168569\n",
      "WARNING:root:HO IMPOSTATO A MANO CHE 2\\PI/L = 0.13484487571168569\n",
      "WARNING:root:HO IMPOSTATO A MANO CHE 2\\PI/L = 0.13484487571168569\n"
     ]
    },
    {
     "name": "stdout",
     "output_type": "stream",
     "text": [
      "model average prediction 0.5288500417631633 0.0098914905309376\n",
      "0 [2. 7. 2.] 70\n"
     ]
    },
    {
     "name": "stderr",
     "output_type": "stream",
     "text": [
      "WARNING:root:HO IMPOSTATO A MANO CHE 2\\PI/L = 0.13484487571168569\n",
      "WARNING:root:HO IMPOSTATO A MANO CHE 2\\PI/L = 0.13484487571168569\n",
      "WARNING:root:HO IMPOSTATO A MANO CHE 2\\PI/L = 0.13484487571168569\n",
      "WARNING:root:HO IMPOSTATO A MANO CHE 2\\PI/L = 0.13484487571168569\n",
      "WARNING:root:HO IMPOSTATO A MANO CHE 2\\PI/L = 0.13484487571168569\n",
      "WARNING:root:HO IMPOSTATO A MANO CHE 2\\PI/L = 0.13484487571168569\n",
      "WARNING:root:HO IMPOSTATO A MANO CHE 2\\PI/L = 0.13484487571168569\n",
      "WARNING:root:HO IMPOSTATO A MANO CHE 2\\PI/L = 0.13484487571168569\n",
      "WARNING:root:HO IMPOSTATO A MANO CHE 2\\PI/L = 0.13484487571168569\n",
      "WARNING:root:HO IMPOSTATO A MANO CHE 2\\PI/L = 0.13484487571168569\n",
      "WARNING:root:HO IMPOSTATO A MANO CHE 2\\PI/L = 0.13484487571168569\n",
      "WARNING:root:HO IMPOSTATO A MANO CHE 2\\PI/L = 0.13484487571168569\n",
      "WARNING:root:HO IMPOSTATO A MANO CHE 2\\PI/L = 0.13484487571168569\n",
      "WARNING:root:HO IMPOSTATO A MANO CHE 2\\PI/L = 0.13484487571168569\n"
     ]
    },
    {
     "name": "stdout",
     "output_type": "stream",
     "text": [
      "model average prediction 0.5338140888745576 0.0099689460709446\n",
      "0 [3. 0. 7.] 71\n"
     ]
    },
    {
     "name": "stderr",
     "output_type": "stream",
     "text": [
      "WARNING:root:HO IMPOSTATO A MANO CHE 2\\PI/L = 0.13484487571168569\n",
      "WARNING:root:HO IMPOSTATO A MANO CHE 2\\PI/L = 0.13484487571168569\n",
      "WARNING:root:HO IMPOSTATO A MANO CHE 2\\PI/L = 0.13484487571168569\n",
      "WARNING:root:HO IMPOSTATO A MANO CHE 2\\PI/L = 0.13484487571168569\n",
      "WARNING:root:HO IMPOSTATO A MANO CHE 2\\PI/L = 0.13484487571168569\n",
      "WARNING:root:HO IMPOSTATO A MANO CHE 2\\PI/L = 0.13484487571168569\n",
      "WARNING:root:HO IMPOSTATO A MANO CHE 2\\PI/L = 0.13484487571168569\n",
      "WARNING:root:HO IMPOSTATO A MANO CHE 2\\PI/L = 0.13484487571168569\n",
      "WARNING:root:HO IMPOSTATO A MANO CHE 2\\PI/L = 0.13484487571168569\n",
      "WARNING:root:HO IMPOSTATO A MANO CHE 2\\PI/L = 0.13484487571168569\n",
      "WARNING:root:HO IMPOSTATO A MANO CHE 2\\PI/L = 0.13484487571168569\n",
      "WARNING:root:HO IMPOSTATO A MANO CHE 2\\PI/L = 0.13484487571168569\n",
      "WARNING:root:HO IMPOSTATO A MANO CHE 2\\PI/L = 0.13484487571168569\n",
      "WARNING:root:HO IMPOSTATO A MANO CHE 2\\PI/L = 0.13484487571168569\n"
     ]
    },
    {
     "name": "stdout",
     "output_type": "stream",
     "text": [
      "model average prediction 0.5143758432764789 0.00925837420279761\n",
      "0 [1. 7. 3.] 72\n"
     ]
    },
    {
     "name": "stderr",
     "output_type": "stream",
     "text": [
      "WARNING:root:HO IMPOSTATO A MANO CHE 2\\PI/L = 0.13484487571168569\n",
      "WARNING:root:HO IMPOSTATO A MANO CHE 2\\PI/L = 0.13484487571168569\n",
      "WARNING:root:HO IMPOSTATO A MANO CHE 2\\PI/L = 0.13484487571168569\n",
      "WARNING:root:HO IMPOSTATO A MANO CHE 2\\PI/L = 0.13484487571168569\n",
      "WARNING:root:HO IMPOSTATO A MANO CHE 2\\PI/L = 0.13484487571168569\n",
      "WARNING:root:HO IMPOSTATO A MANO CHE 2\\PI/L = 0.13484487571168569\n",
      "WARNING:root:HO IMPOSTATO A MANO CHE 2\\PI/L = 0.13484487571168569\n",
      "WARNING:root:HO IMPOSTATO A MANO CHE 2\\PI/L = 0.13484487571168569\n",
      "WARNING:root:HO IMPOSTATO A MANO CHE 2\\PI/L = 0.13484487571168569\n",
      "WARNING:root:HO IMPOSTATO A MANO CHE 2\\PI/L = 0.13484487571168569\n",
      "WARNING:root:HO IMPOSTATO A MANO CHE 2\\PI/L = 0.13484487571168569\n",
      "WARNING:root:HO IMPOSTATO A MANO CHE 2\\PI/L = 0.13484487571168569\n",
      "WARNING:root:HO IMPOSTATO A MANO CHE 2\\PI/L = 0.13484487571168569\n"
     ]
    },
    {
     "name": "stdout",
     "output_type": "stream",
     "text": [
      "model average prediction 0.501141883529095 0.009078976779564648\n",
      "0 [3. 5. 5.] 73\n"
     ]
    },
    {
     "name": "stderr",
     "output_type": "stream",
     "text": [
      "WARNING:root:HO IMPOSTATO A MANO CHE 2\\PI/L = 0.13484487571168569\n",
      "WARNING:root:HO IMPOSTATO A MANO CHE 2\\PI/L = 0.13484487571168569\n",
      "WARNING:root:HO IMPOSTATO A MANO CHE 2\\PI/L = 0.13484487571168569\n",
      "WARNING:root:HO IMPOSTATO A MANO CHE 2\\PI/L = 0.13484487571168569\n",
      "WARNING:root:HO IMPOSTATO A MANO CHE 2\\PI/L = 0.13484487571168569\n",
      "WARNING:root:HO IMPOSTATO A MANO CHE 2\\PI/L = 0.13484487571168569\n",
      "WARNING:root:HO IMPOSTATO A MANO CHE 2\\PI/L = 0.13484487571168569\n",
      "WARNING:root:HO IMPOSTATO A MANO CHE 2\\PI/L = 0.13484487571168569\n",
      "WARNING:root:HO IMPOSTATO A MANO CHE 2\\PI/L = 0.13484487571168569\n",
      "WARNING:root:HO IMPOSTATO A MANO CHE 2\\PI/L = 0.13484487571168569\n",
      "WARNING:root:HO IMPOSTATO A MANO CHE 2\\PI/L = 0.13484487571168569\n",
      "WARNING:root:HO IMPOSTATO A MANO CHE 2\\PI/L = 0.13484487571168569\n",
      "WARNING:root:HO IMPOSTATO A MANO CHE 2\\PI/L = 0.13484487571168569\n",
      "WARNING:root:HO IMPOSTATO A MANO CHE 2\\PI/L = 0.13484487571168569\n"
     ]
    },
    {
     "name": "stdout",
     "output_type": "stream",
     "text": [
      "model average prediction 0.514504207735218 0.009345852178696623\n",
      "0 [4. 6. 3.] 74\n"
     ]
    },
    {
     "name": "stderr",
     "output_type": "stream",
     "text": [
      "WARNING:root:HO IMPOSTATO A MANO CHE 2\\PI/L = 0.13484487571168569\n",
      "WARNING:root:HO IMPOSTATO A MANO CHE 2\\PI/L = 0.13484487571168569\n",
      "WARNING:root:HO IMPOSTATO A MANO CHE 2\\PI/L = 0.13484487571168569\n",
      "WARNING:root:HO IMPOSTATO A MANO CHE 2\\PI/L = 0.13484487571168569\n",
      "WARNING:root:HO IMPOSTATO A MANO CHE 2\\PI/L = 0.13484487571168569\n",
      "WARNING:root:HO IMPOSTATO A MANO CHE 2\\PI/L = 0.13484487571168569\n",
      "WARNING:root:HO IMPOSTATO A MANO CHE 2\\PI/L = 0.13484487571168569\n",
      "WARNING:root:HO IMPOSTATO A MANO CHE 2\\PI/L = 0.13484487571168569\n",
      "WARNING:root:HO IMPOSTATO A MANO CHE 2\\PI/L = 0.13484487571168569\n",
      "WARNING:root:HO IMPOSTATO A MANO CHE 2\\PI/L = 0.13484487571168569\n",
      "WARNING:root:HO IMPOSTATO A MANO CHE 2\\PI/L = 0.13484487571168569\n",
      "WARNING:root:HO IMPOSTATO A MANO CHE 2\\PI/L = 0.13484487571168569\n",
      "WARNING:root:HO IMPOSTATO A MANO CHE 2\\PI/L = 0.13484487571168569\n"
     ]
    },
    {
     "name": "stdout",
     "output_type": "stream",
     "text": [
      "model average prediction 0.4995124692568507 0.009207724297961281\n",
      "0 [0. 6. 5.] 75\n"
     ]
    },
    {
     "name": "stderr",
     "output_type": "stream",
     "text": [
      "WARNING:root:HO IMPOSTATO A MANO CHE 2\\PI/L = 0.13484487571168569\n",
      "WARNING:root:HO IMPOSTATO A MANO CHE 2\\PI/L = 0.13484487571168569\n",
      "WARNING:root:HO IMPOSTATO A MANO CHE 2\\PI/L = 0.13484487571168569\n",
      "WARNING:root:HO IMPOSTATO A MANO CHE 2\\PI/L = 0.13484487571168569\n",
      "WARNING:root:HO IMPOSTATO A MANO CHE 2\\PI/L = 0.13484487571168569\n",
      "WARNING:root:HO IMPOSTATO A MANO CHE 2\\PI/L = 0.13484487571168569\n",
      "WARNING:root:HO IMPOSTATO A MANO CHE 2\\PI/L = 0.13484487571168569\n",
      "WARNING:root:HO IMPOSTATO A MANO CHE 2\\PI/L = 0.13484487571168569\n",
      "WARNING:root:HO IMPOSTATO A MANO CHE 2\\PI/L = 0.13484487571168569\n",
      "WARNING:root:HO IMPOSTATO A MANO CHE 2\\PI/L = 0.13484487571168569\n",
      "WARNING:root:HO IMPOSTATO A MANO CHE 2\\PI/L = 0.13484487571168569\n",
      "WARNING:root:HO IMPOSTATO A MANO CHE 2\\PI/L = 0.13484487571168569\n",
      "WARNING:root:HO IMPOSTATO A MANO CHE 2\\PI/L = 0.13484487571168569\n",
      "WARNING:root:HO IMPOSTATO A MANO CHE 2\\PI/L = 0.13484487571168569\n"
     ]
    },
    {
     "name": "stdout",
     "output_type": "stream",
     "text": [
      "model average prediction 0.514328631470654 0.009481179281054956\n",
      "0 [7. 3. 2.] 76\n"
     ]
    },
    {
     "name": "stderr",
     "output_type": "stream",
     "text": [
      "WARNING:root:HO IMPOSTATO A MANO CHE 2\\PI/L = 0.13484487571168569\n",
      "WARNING:root:HO IMPOSTATO A MANO CHE 2\\PI/L = 0.13484487571168569\n",
      "WARNING:root:HO IMPOSTATO A MANO CHE 2\\PI/L = 0.13484487571168569\n",
      "WARNING:root:HO IMPOSTATO A MANO CHE 2\\PI/L = 0.13484487571168569\n",
      "WARNING:root:HO IMPOSTATO A MANO CHE 2\\PI/L = 0.13484487571168569\n",
      "WARNING:root:HO IMPOSTATO A MANO CHE 2\\PI/L = 0.13484487571168569\n",
      "WARNING:root:HO IMPOSTATO A MANO CHE 2\\PI/L = 0.13484487571168569\n",
      "WARNING:root:HO IMPOSTATO A MANO CHE 2\\PI/L = 0.13484487571168569\n",
      "WARNING:root:HO IMPOSTATO A MANO CHE 2\\PI/L = 0.13484487571168569\n",
      "WARNING:root:HO IMPOSTATO A MANO CHE 2\\PI/L = 0.13484487571168569\n",
      "WARNING:root:HO IMPOSTATO A MANO CHE 2\\PI/L = 0.13484487571168569\n"
     ]
    },
    {
     "name": "stdout",
     "output_type": "stream",
     "text": [
      "model average prediction 0.47692832285234615 0.009134385835767046\n",
      "0 [1. 5. 6.] 77\n"
     ]
    },
    {
     "name": "stderr",
     "output_type": "stream",
     "text": [
      "WARNING:root:HO IMPOSTATO A MANO CHE 2\\PI/L = 0.13484487571168569\n",
      "WARNING:root:HO IMPOSTATO A MANO CHE 2\\PI/L = 0.13484487571168569\n",
      "WARNING:root:HO IMPOSTATO A MANO CHE 2\\PI/L = 0.13484487571168569\n",
      "WARNING:root:HO IMPOSTATO A MANO CHE 2\\PI/L = 0.13484487571168569\n",
      "WARNING:root:HO IMPOSTATO A MANO CHE 2\\PI/L = 0.13484487571168569\n",
      "WARNING:root:HO IMPOSTATO A MANO CHE 2\\PI/L = 0.13484487571168569\n",
      "WARNING:root:HO IMPOSTATO A MANO CHE 2\\PI/L = 0.13484487571168569\n",
      "WARNING:root:HO IMPOSTATO A MANO CHE 2\\PI/L = 0.13484487571168569\n",
      "WARNING:root:HO IMPOSTATO A MANO CHE 2\\PI/L = 0.13484487571168569\n",
      "WARNING:root:HO IMPOSTATO A MANO CHE 2\\PI/L = 0.13484487571168569\n",
      "WARNING:root:HO IMPOSTATO A MANO CHE 2\\PI/L = 0.13484487571168569\n",
      "WARNING:root:HO IMPOSTATO A MANO CHE 2\\PI/L = 0.13484487571168569\n",
      "WARNING:root:HO IMPOSTATO A MANO CHE 2\\PI/L = 0.13484487571168569\n"
     ]
    },
    {
     "name": "stdout",
     "output_type": "stream",
     "text": [
      "model average prediction 0.4987942333205418 0.009182079954222096\n",
      "0 [6. 5. 2.] 78\n"
     ]
    },
    {
     "name": "stderr",
     "output_type": "stream",
     "text": [
      "WARNING:root:HO IMPOSTATO A MANO CHE 2\\PI/L = 0.13484487571168569\n",
      "WARNING:root:HO IMPOSTATO A MANO CHE 2\\PI/L = 0.13484487571168569\n",
      "WARNING:root:HO IMPOSTATO A MANO CHE 2\\PI/L = 0.13484487571168569\n",
      "WARNING:root:HO IMPOSTATO A MANO CHE 2\\PI/L = 0.13484487571168569\n",
      "WARNING:root:HO IMPOSTATO A MANO CHE 2\\PI/L = 0.13484487571168569\n",
      "WARNING:root:HO IMPOSTATO A MANO CHE 2\\PI/L = 0.13484487571168569\n",
      "WARNING:root:HO IMPOSTATO A MANO CHE 2\\PI/L = 0.13484487571168569\n",
      "WARNING:root:HO IMPOSTATO A MANO CHE 2\\PI/L = 0.13484487571168569\n",
      "WARNING:root:HO IMPOSTATO A MANO CHE 2\\PI/L = 0.13484487571168569\n",
      "WARNING:root:HO IMPOSTATO A MANO CHE 2\\PI/L = 0.13484487571168569\n",
      "WARNING:root:HO IMPOSTATO A MANO CHE 2\\PI/L = 0.13484487571168569\n",
      "WARNING:root:HO IMPOSTATO A MANO CHE 2\\PI/L = 0.13484487571168569\n",
      "WARNING:root:HO IMPOSTATO A MANO CHE 2\\PI/L = 0.13484487571168569\n"
     ]
    },
    {
     "name": "stdout",
     "output_type": "stream",
     "text": [
      "model average prediction 0.49226067381689775 0.009002142570771695\n",
      "0 [0. 7. 4.] 79\n"
     ]
    },
    {
     "name": "stderr",
     "output_type": "stream",
     "text": [
      "WARNING:root:HO IMPOSTATO A MANO CHE 2\\PI/L = 0.13484487571168569\n",
      "WARNING:root:HO IMPOSTATO A MANO CHE 2\\PI/L = 0.13484487571168569\n",
      "WARNING:root:HO IMPOSTATO A MANO CHE 2\\PI/L = 0.13484487571168569\n",
      "WARNING:root:HO IMPOSTATO A MANO CHE 2\\PI/L = 0.13484487571168569\n",
      "WARNING:root:HO IMPOSTATO A MANO CHE 2\\PI/L = 0.13484487571168569\n",
      "WARNING:root:HO IMPOSTATO A MANO CHE 2\\PI/L = 0.13484487571168569\n",
      "WARNING:root:HO IMPOSTATO A MANO CHE 2\\PI/L = 0.13484487571168569\n",
      "WARNING:root:HO IMPOSTATO A MANO CHE 2\\PI/L = 0.13484487571168569\n",
      "WARNING:root:HO IMPOSTATO A MANO CHE 2\\PI/L = 0.13484487571168569\n",
      "WARNING:root:HO IMPOSTATO A MANO CHE 2\\PI/L = 0.13484487571168569\n",
      "WARNING:root:HO IMPOSTATO A MANO CHE 2\\PI/L = 0.13484487571168569\n",
      "WARNING:root:HO IMPOSTATO A MANO CHE 2\\PI/L = 0.13484487571168569\n",
      "WARNING:root:HO IMPOSTATO A MANO CHE 2\\PI/L = 0.13484487571168569\n"
     ]
    },
    {
     "name": "stdout",
     "output_type": "stream",
     "text": [
      "model average prediction 0.48345558451985293 0.008659181491442134\n",
      "0 [5. 4. 5.] 80\n"
     ]
    },
    {
     "name": "stderr",
     "output_type": "stream",
     "text": [
      "WARNING:root:HO IMPOSTATO A MANO CHE 2\\PI/L = 0.13484487571168569\n",
      "WARNING:root:HO IMPOSTATO A MANO CHE 2\\PI/L = 0.13484487571168569\n",
      "WARNING:root:HO IMPOSTATO A MANO CHE 2\\PI/L = 0.13484487571168569\n",
      "WARNING:root:HO IMPOSTATO A MANO CHE 2\\PI/L = 0.13484487571168569\n",
      "WARNING:root:HO IMPOSTATO A MANO CHE 2\\PI/L = 0.13484487571168569\n",
      "WARNING:root:HO IMPOSTATO A MANO CHE 2\\PI/L = 0.13484487571168569\n",
      "WARNING:root:HO IMPOSTATO A MANO CHE 2\\PI/L = 0.13484487571168569\n",
      "WARNING:root:HO IMPOSTATO A MANO CHE 2\\PI/L = 0.13484487571168569\n",
      "WARNING:root:HO IMPOSTATO A MANO CHE 2\\PI/L = 0.13484487571168569\n",
      "WARNING:root:HO IMPOSTATO A MANO CHE 2\\PI/L = 0.13484487571168569\n",
      "WARNING:root:HO IMPOSTATO A MANO CHE 2\\PI/L = 0.13484487571168569\n",
      "WARNING:root:HO IMPOSTATO A MANO CHE 2\\PI/L = 0.13484487571168569\n",
      "WARNING:root:HO IMPOSTATO A MANO CHE 2\\PI/L = 0.13484487571168569\n"
     ]
    },
    {
     "name": "stdout",
     "output_type": "stream",
     "text": [
      "model average prediction 0.48569019475545244 0.00886910086994341\n",
      "0 [4. 1. 7.] 81\n"
     ]
    },
    {
     "name": "stderr",
     "output_type": "stream",
     "text": [
      "WARNING:root:HO IMPOSTATO A MANO CHE 2\\PI/L = 0.13484487571168569\n",
      "WARNING:root:HO IMPOSTATO A MANO CHE 2\\PI/L = 0.13484487571168569\n",
      "WARNING:root:HO IMPOSTATO A MANO CHE 2\\PI/L = 0.13484487571168569\n",
      "WARNING:root:HO IMPOSTATO A MANO CHE 2\\PI/L = 0.13484487571168569\n",
      "WARNING:root:HO IMPOSTATO A MANO CHE 2\\PI/L = 0.13484487571168569\n",
      "WARNING:root:HO IMPOSTATO A MANO CHE 2\\PI/L = 0.13484487571168569\n",
      "WARNING:root:HO IMPOSTATO A MANO CHE 2\\PI/L = 0.13484487571168569\n",
      "WARNING:root:HO IMPOSTATO A MANO CHE 2\\PI/L = 0.13484487571168569\n",
      "WARNING:root:HO IMPOSTATO A MANO CHE 2\\PI/L = 0.13484487571168569\n",
      "WARNING:root:HO IMPOSTATO A MANO CHE 2\\PI/L = 0.13484487571168569\n",
      "WARNING:root:HO IMPOSTATO A MANO CHE 2\\PI/L = 0.13484487571168569\n",
      "WARNING:root:HO IMPOSTATO A MANO CHE 2\\PI/L = 0.13484487571168569\n",
      "WARNING:root:HO IMPOSTATO A MANO CHE 2\\PI/L = 0.13484487571168569\n",
      "WARNING:root:HO IMPOSTATO A MANO CHE 2\\PI/L = 0.13484487571168569\n"
     ]
    },
    {
     "name": "stdout",
     "output_type": "stream",
     "text": [
      "model average prediction 0.49148394479347657 0.008797419787163462\n",
      "0 [3. 3. 7.] 82\n"
     ]
    },
    {
     "name": "stderr",
     "output_type": "stream",
     "text": [
      "WARNING:root:HO IMPOSTATO A MANO CHE 2\\PI/L = 0.13484487571168569\n",
      "WARNING:root:HO IMPOSTATO A MANO CHE 2\\PI/L = 0.13484487571168569\n",
      "WARNING:root:HO IMPOSTATO A MANO CHE 2\\PI/L = 0.13484487571168569\n",
      "WARNING:root:HO IMPOSTATO A MANO CHE 2\\PI/L = 0.13484487571168569\n",
      "WARNING:root:HO IMPOSTATO A MANO CHE 2\\PI/L = 0.13484487571168569\n",
      "WARNING:root:HO IMPOSTATO A MANO CHE 2\\PI/L = 0.13484487571168569\n",
      "WARNING:root:HO IMPOSTATO A MANO CHE 2\\PI/L = 0.13484487571168569\n",
      "WARNING:root:HO IMPOSTATO A MANO CHE 2\\PI/L = 0.13484487571168569\n",
      "WARNING:root:HO IMPOSTATO A MANO CHE 2\\PI/L = 0.13484487571168569\n",
      "WARNING:root:HO IMPOSTATO A MANO CHE 2\\PI/L = 0.13484487571168569\n",
      "WARNING:root:HO IMPOSTATO A MANO CHE 2\\PI/L = 0.13484487571168569\n",
      "WARNING:root:HO IMPOSTATO A MANO CHE 2\\PI/L = 0.13484487571168569\n",
      "WARNING:root:HO IMPOSTATO A MANO CHE 2\\PI/L = 0.13484487571168569\n",
      "WARNING:root:HO IMPOSTATO A MANO CHE 2\\PI/L = 0.13484487571168569\n"
     ]
    },
    {
     "name": "stdout",
     "output_type": "stream",
     "text": [
      "model average prediction 0.48531328977703364 0.00860651066759068\n",
      "0 [4. 4. 6.] 83\n"
     ]
    },
    {
     "name": "stderr",
     "output_type": "stream",
     "text": [
      "WARNING:root:HO IMPOSTATO A MANO CHE 2\\PI/L = 0.13484487571168569\n",
      "WARNING:root:HO IMPOSTATO A MANO CHE 2\\PI/L = 0.13484487571168569\n",
      "WARNING:root:HO IMPOSTATO A MANO CHE 2\\PI/L = 0.13484487571168569\n",
      "WARNING:root:HO IMPOSTATO A MANO CHE 2\\PI/L = 0.13484487571168569\n",
      "WARNING:root:HO IMPOSTATO A MANO CHE 2\\PI/L = 0.13484487571168569\n",
      "WARNING:root:HO IMPOSTATO A MANO CHE 2\\PI/L = 0.13484487571168569\n",
      "WARNING:root:HO IMPOSTATO A MANO CHE 2\\PI/L = 0.13484487571168569\n",
      "WARNING:root:HO IMPOSTATO A MANO CHE 2\\PI/L = 0.13484487571168569\n",
      "WARNING:root:HO IMPOSTATO A MANO CHE 2\\PI/L = 0.13484487571168569\n",
      "WARNING:root:HO IMPOSTATO A MANO CHE 2\\PI/L = 0.13484487571168569\n",
      "WARNING:root:HO IMPOSTATO A MANO CHE 2\\PI/L = 0.13484487571168569\n",
      "WARNING:root:HO IMPOSTATO A MANO CHE 2\\PI/L = 0.13484487571168569\n",
      "WARNING:root:HO IMPOSTATO A MANO CHE 2\\PI/L = 0.13484487571168569\n",
      "WARNING:root:HO IMPOSTATO A MANO CHE 2\\PI/L = 0.13484487571168569\n"
     ]
    },
    {
     "name": "stdout",
     "output_type": "stream",
     "text": [
      "model average prediction 0.4850246012170348 0.008681923755285231\n",
      "0 [4. 7. 2.] 84\n"
     ]
    },
    {
     "name": "stderr",
     "output_type": "stream",
     "text": [
      "WARNING:root:HO IMPOSTATO A MANO CHE 2\\PI/L = 0.13484487571168569\n",
      "WARNING:root:HO IMPOSTATO A MANO CHE 2\\PI/L = 0.13484487571168569\n",
      "WARNING:root:HO IMPOSTATO A MANO CHE 2\\PI/L = 0.13484487571168569\n",
      "WARNING:root:HO IMPOSTATO A MANO CHE 2\\PI/L = 0.13484487571168569\n",
      "WARNING:root:HO IMPOSTATO A MANO CHE 2\\PI/L = 0.13484487571168569\n",
      "WARNING:root:HO IMPOSTATO A MANO CHE 2\\PI/L = 0.13484487571168569\n",
      "WARNING:root:HO IMPOSTATO A MANO CHE 2\\PI/L = 0.13484487571168569\n",
      "WARNING:root:HO IMPOSTATO A MANO CHE 2\\PI/L = 0.13484487571168569\n",
      "WARNING:root:HO IMPOSTATO A MANO CHE 2\\PI/L = 0.13484487571168569\n",
      "WARNING:root:HO IMPOSTATO A MANO CHE 2\\PI/L = 0.13484487571168569\n",
      "WARNING:root:HO IMPOSTATO A MANO CHE 2\\PI/L = 0.13484487571168569\n",
      "WARNING:root:HO IMPOSTATO A MANO CHE 2\\PI/L = 0.13484487571168569\n",
      "WARNING:root:HO IMPOSTATO A MANO CHE 2\\PI/L = 0.13484487571168569\n",
      "WARNING:root:HO IMPOSTATO A MANO CHE 2\\PI/L = 0.13484487571168569\n"
     ]
    },
    {
     "name": "stdout",
     "output_type": "stream",
     "text": [
      "model average prediction 0.4814403164600101 0.008563876496524106\n",
      "0 [5. 6. 3.] 85\n"
     ]
    },
    {
     "name": "stderr",
     "output_type": "stream",
     "text": [
      "WARNING:root:HO IMPOSTATO A MANO CHE 2\\PI/L = 0.13484487571168569\n",
      "WARNING:root:HO IMPOSTATO A MANO CHE 2\\PI/L = 0.13484487571168569\n",
      "WARNING:root:HO IMPOSTATO A MANO CHE 2\\PI/L = 0.13484487571168569\n",
      "WARNING:root:HO IMPOSTATO A MANO CHE 2\\PI/L = 0.13484487571168569\n",
      "WARNING:root:HO IMPOSTATO A MANO CHE 2\\PI/L = 0.13484487571168569\n",
      "WARNING:root:HO IMPOSTATO A MANO CHE 2\\PI/L = 0.13484487571168569\n",
      "WARNING:root:HO IMPOSTATO A MANO CHE 2\\PI/L = 0.13484487571168569\n",
      "WARNING:root:HO IMPOSTATO A MANO CHE 2\\PI/L = 0.13484487571168569\n",
      "WARNING:root:HO IMPOSTATO A MANO CHE 2\\PI/L = 0.13484487571168569\n",
      "WARNING:root:HO IMPOSTATO A MANO CHE 2\\PI/L = 0.13484487571168569\n",
      "WARNING:root:HO IMPOSTATO A MANO CHE 2\\PI/L = 0.13484487571168569\n",
      "WARNING:root:HO IMPOSTATO A MANO CHE 2\\PI/L = 0.13484487571168569\n",
      "WARNING:root:HO IMPOSTATO A MANO CHE 2\\PI/L = 0.13484487571168569\n",
      "WARNING:root:HO IMPOSTATO A MANO CHE 2\\PI/L = 0.13484487571168569\n"
     ]
    },
    {
     "name": "stdout",
     "output_type": "stream",
     "text": [
      "model average prediction 0.4867738223377049 0.00896140114255627\n",
      "0 [0. 6. 6.] 86\n"
     ]
    },
    {
     "name": "stderr",
     "output_type": "stream",
     "text": [
      "WARNING:root:HO IMPOSTATO A MANO CHE 2\\PI/L = 0.13484487571168569\n",
      "WARNING:root:HO IMPOSTATO A MANO CHE 2\\PI/L = 0.13484487571168569\n",
      "WARNING:root:HO IMPOSTATO A MANO CHE 2\\PI/L = 0.13484487571168569\n",
      "WARNING:root:HO IMPOSTATO A MANO CHE 2\\PI/L = 0.13484487571168569\n",
      "WARNING:root:HO IMPOSTATO A MANO CHE 2\\PI/L = 0.13484487571168569\n",
      "WARNING:root:HO IMPOSTATO A MANO CHE 2\\PI/L = 0.13484487571168569\n",
      "WARNING:root:HO IMPOSTATO A MANO CHE 2\\PI/L = 0.13484487571168569\n",
      "WARNING:root:HO IMPOSTATO A MANO CHE 2\\PI/L = 0.13484487571168569\n",
      "WARNING:root:HO IMPOSTATO A MANO CHE 2\\PI/L = 0.13484487571168569\n",
      "WARNING:root:HO IMPOSTATO A MANO CHE 2\\PI/L = 0.13484487571168569\n",
      "WARNING:root:HO IMPOSTATO A MANO CHE 2\\PI/L = 0.13484487571168569\n",
      "WARNING:root:HO IMPOSTATO A MANO CHE 2\\PI/L = 0.13484487571168569\n",
      "WARNING:root:HO IMPOSTATO A MANO CHE 2\\PI/L = 0.13484487571168569\n",
      "WARNING:root:HO IMPOSTATO A MANO CHE 2\\PI/L = 0.13484487571168569\n"
     ]
    },
    {
     "name": "stdout",
     "output_type": "stream",
     "text": [
      "model average prediction 0.4849897182264057 0.008790421554155462\n",
      "0 [6. 6. 1.] 87\n"
     ]
    },
    {
     "name": "stderr",
     "output_type": "stream",
     "text": [
      "WARNING:root:HO IMPOSTATO A MANO CHE 2\\PI/L = 0.13484487571168569\n",
      "WARNING:root:HO IMPOSTATO A MANO CHE 2\\PI/L = 0.13484487571168569\n",
      "WARNING:root:HO IMPOSTATO A MANO CHE 2\\PI/L = 0.13484487571168569\n",
      "WARNING:root:HO IMPOSTATO A MANO CHE 2\\PI/L = 0.13484487571168569\n",
      "WARNING:root:HO IMPOSTATO A MANO CHE 2\\PI/L = 0.13484487571168569\n",
      "WARNING:root:HO IMPOSTATO A MANO CHE 2\\PI/L = 0.13484487571168569\n",
      "WARNING:root:HO IMPOSTATO A MANO CHE 2\\PI/L = 0.13484487571168569\n",
      "WARNING:root:HO IMPOSTATO A MANO CHE 2\\PI/L = 0.13484487571168569\n",
      "WARNING:root:HO IMPOSTATO A MANO CHE 2\\PI/L = 0.13484487571168569\n",
      "WARNING:root:HO IMPOSTATO A MANO CHE 2\\PI/L = 0.13484487571168569\n",
      "WARNING:root:HO IMPOSTATO A MANO CHE 2\\PI/L = 0.13484487571168569\n",
      "WARNING:root:HO IMPOSTATO A MANO CHE 2\\PI/L = 0.13484487571168569\n",
      "WARNING:root:HO IMPOSTATO A MANO CHE 2\\PI/L = 0.13484487571168569\n",
      "WARNING:root:HO IMPOSTATO A MANO CHE 2\\PI/L = 0.13484487571168569\n"
     ]
    },
    {
     "name": "stdout",
     "output_type": "stream",
     "text": [
      "model average prediction 0.48133600594551057 0.008607436362802265\n",
      "0 [5. 7. 0.] 88\n"
     ]
    },
    {
     "name": "stderr",
     "output_type": "stream",
     "text": [
      "WARNING:root:HO IMPOSTATO A MANO CHE 2\\PI/L = 0.13484487571168569\n",
      "WARNING:root:HO IMPOSTATO A MANO CHE 2\\PI/L = 0.13484487571168569\n",
      "WARNING:root:HO IMPOSTATO A MANO CHE 2\\PI/L = 0.13484487571168569\n",
      "WARNING:root:HO IMPOSTATO A MANO CHE 2\\PI/L = 0.13484487571168569\n",
      "WARNING:root:HO IMPOSTATO A MANO CHE 2\\PI/L = 0.13484487571168569\n",
      "WARNING:root:HO IMPOSTATO A MANO CHE 2\\PI/L = 0.13484487571168569\n",
      "WARNING:root:HO IMPOSTATO A MANO CHE 2\\PI/L = 0.13484487571168569\n",
      "WARNING:root:HO IMPOSTATO A MANO CHE 2\\PI/L = 0.13484487571168569\n",
      "WARNING:root:HO IMPOSTATO A MANO CHE 2\\PI/L = 0.13484487571168569\n",
      "WARNING:root:HO IMPOSTATO A MANO CHE 2\\PI/L = 0.13484487571168569\n",
      "WARNING:root:HO IMPOSTATO A MANO CHE 2\\PI/L = 0.13484487571168569\n",
      "WARNING:root:HO IMPOSTATO A MANO CHE 2\\PI/L = 0.13484487571168569\n",
      "WARNING:root:HO IMPOSTATO A MANO CHE 2\\PI/L = 0.13484487571168569\n",
      "WARNING:root:HO IMPOSTATO A MANO CHE 2\\PI/L = 0.13484487571168569\n"
     ]
    },
    {
     "name": "stdout",
     "output_type": "stream",
     "text": [
      "model average prediction 0.4875631904476776 0.008611564869711668\n",
      "0 [3. 7. 4.] 89\n"
     ]
    },
    {
     "name": "stderr",
     "output_type": "stream",
     "text": [
      "WARNING:root:HO IMPOSTATO A MANO CHE 2\\PI/L = 0.13484487571168569\n",
      "WARNING:root:HO IMPOSTATO A MANO CHE 2\\PI/L = 0.13484487571168569\n",
      "WARNING:root:HO IMPOSTATO A MANO CHE 2\\PI/L = 0.13484487571168569\n",
      "WARNING:root:HO IMPOSTATO A MANO CHE 2\\PI/L = 0.13484487571168569\n",
      "WARNING:root:HO IMPOSTATO A MANO CHE 2\\PI/L = 0.13484487571168569\n",
      "WARNING:root:HO IMPOSTATO A MANO CHE 2\\PI/L = 0.13484487571168569\n",
      "WARNING:root:HO IMPOSTATO A MANO CHE 2\\PI/L = 0.13484487571168569\n",
      "WARNING:root:HO IMPOSTATO A MANO CHE 2\\PI/L = 0.13484487571168569\n",
      "WARNING:root:HO IMPOSTATO A MANO CHE 2\\PI/L = 0.13484487571168569\n",
      "WARNING:root:HO IMPOSTATO A MANO CHE 2\\PI/L = 0.13484487571168569\n",
      "WARNING:root:HO IMPOSTATO A MANO CHE 2\\PI/L = 0.13484487571168569\n",
      "WARNING:root:HO IMPOSTATO A MANO CHE 2\\PI/L = 0.13484487571168569\n",
      "WARNING:root:HO IMPOSTATO A MANO CHE 2\\PI/L = 0.13484487571168569\n"
     ]
    },
    {
     "name": "stdout",
     "output_type": "stream",
     "text": [
      "model average prediction 0.4776370130782423 0.008759136159805128\n",
      "0 [1. 5. 7.] 90\n"
     ]
    },
    {
     "name": "stderr",
     "output_type": "stream",
     "text": [
      "WARNING:root:HO IMPOSTATO A MANO CHE 2\\PI/L = 0.13484487571168569\n",
      "WARNING:root:HO IMPOSTATO A MANO CHE 2\\PI/L = 0.13484487571168569\n",
      "WARNING:root:HO IMPOSTATO A MANO CHE 2\\PI/L = 0.13484487571168569\n",
      "WARNING:root:HO IMPOSTATO A MANO CHE 2\\PI/L = 0.13484487571168569\n",
      "WARNING:root:HO IMPOSTATO A MANO CHE 2\\PI/L = 0.13484487571168569\n",
      "WARNING:root:HO IMPOSTATO A MANO CHE 2\\PI/L = 0.13484487571168569\n",
      "WARNING:root:HO IMPOSTATO A MANO CHE 2\\PI/L = 0.13484487571168569\n",
      "WARNING:root:HO IMPOSTATO A MANO CHE 2\\PI/L = 0.13484487571168569\n",
      "WARNING:root:HO IMPOSTATO A MANO CHE 2\\PI/L = 0.13484487571168569\n",
      "WARNING:root:HO IMPOSTATO A MANO CHE 2\\PI/L = 0.13484487571168569\n",
      "WARNING:root:HO IMPOSTATO A MANO CHE 2\\PI/L = 0.13484487571168569\n",
      "WARNING:root:HO IMPOSTATO A MANO CHE 2\\PI/L = 0.13484487571168569\n",
      "WARNING:root:HO IMPOSTATO A MANO CHE 2\\PI/L = 0.13484487571168569\n",
      "WARNING:root:HO IMPOSTATO A MANO CHE 2\\PI/L = 0.13484487571168569\n"
     ]
    },
    {
     "name": "stdout",
     "output_type": "stream",
     "text": [
      "model average prediction 0.4702466709988113 0.00819109963497015\n",
      "0 [5. 5. 5.] 91\n"
     ]
    },
    {
     "name": "stderr",
     "output_type": "stream",
     "text": [
      "WARNING:root:HO IMPOSTATO A MANO CHE 2\\PI/L = 0.13484487571168569\n",
      "WARNING:root:HO IMPOSTATO A MANO CHE 2\\PI/L = 0.13484487571168569\n",
      "WARNING:root:HO IMPOSTATO A MANO CHE 2\\PI/L = 0.13484487571168569\n",
      "WARNING:root:HO IMPOSTATO A MANO CHE 2\\PI/L = 0.13484487571168569\n",
      "WARNING:root:HO IMPOSTATO A MANO CHE 2\\PI/L = 0.13484487571168569\n",
      "WARNING:root:HO IMPOSTATO A MANO CHE 2\\PI/L = 0.13484487571168569\n",
      "WARNING:root:HO IMPOSTATO A MANO CHE 2\\PI/L = 0.13484487571168569\n",
      "WARNING:root:HO IMPOSTATO A MANO CHE 2\\PI/L = 0.13484487571168569\n",
      "WARNING:root:HO IMPOSTATO A MANO CHE 2\\PI/L = 0.13484487571168569\n",
      "WARNING:root:HO IMPOSTATO A MANO CHE 2\\PI/L = 0.13484487571168569\n",
      "WARNING:root:HO IMPOSTATO A MANO CHE 2\\PI/L = 0.13484487571168569\n",
      "WARNING:root:HO IMPOSTATO A MANO CHE 2\\PI/L = 0.13484487571168569\n",
      "WARNING:root:HO IMPOSTATO A MANO CHE 2\\PI/L = 0.13484487571168569\n",
      "WARNING:root:HO IMPOSTATO A MANO CHE 2\\PI/L = 0.13484487571168569\n"
     ]
    },
    {
     "name": "stdout",
     "output_type": "stream",
     "text": [
      "model average prediction 0.4723244305956797 0.008396415566134215\n",
      "0 [2. 6. 6.] 92\n"
     ]
    },
    {
     "name": "stderr",
     "output_type": "stream",
     "text": [
      "WARNING:root:HO IMPOSTATO A MANO CHE 2\\PI/L = 0.13484487571168569\n",
      "WARNING:root:HO IMPOSTATO A MANO CHE 2\\PI/L = 0.13484487571168569\n",
      "WARNING:root:HO IMPOSTATO A MANO CHE 2\\PI/L = 0.13484487571168569\n",
      "WARNING:root:HO IMPOSTATO A MANO CHE 2\\PI/L = 0.13484487571168569\n",
      "WARNING:root:HO IMPOSTATO A MANO CHE 2\\PI/L = 0.13484487571168569\n",
      "WARNING:root:HO IMPOSTATO A MANO CHE 2\\PI/L = 0.13484487571168569\n",
      "WARNING:root:HO IMPOSTATO A MANO CHE 2\\PI/L = 0.13484487571168569\n",
      "WARNING:root:HO IMPOSTATO A MANO CHE 2\\PI/L = 0.13484487571168569\n",
      "WARNING:root:HO IMPOSTATO A MANO CHE 2\\PI/L = 0.13484487571168569\n",
      "WARNING:root:HO IMPOSTATO A MANO CHE 2\\PI/L = 0.13484487571168569\n",
      "WARNING:root:HO IMPOSTATO A MANO CHE 2\\PI/L = 0.13484487571168569\n",
      "WARNING:root:HO IMPOSTATO A MANO CHE 2\\PI/L = 0.13484487571168569\n",
      "WARNING:root:HO IMPOSTATO A MANO CHE 2\\PI/L = 0.13484487571168569\n",
      "WARNING:root:HO IMPOSTATO A MANO CHE 2\\PI/L = 0.13484487571168569\n"
     ]
    },
    {
     "name": "stdout",
     "output_type": "stream",
     "text": [
      "model average prediction 0.46301783047764744 0.0079090532291745\n",
      "0 [4. 5. 6.] 93\n"
     ]
    },
    {
     "name": "stderr",
     "output_type": "stream",
     "text": [
      "WARNING:root:HO IMPOSTATO A MANO CHE 2\\PI/L = 0.13484487571168569\n",
      "WARNING:root:HO IMPOSTATO A MANO CHE 2\\PI/L = 0.13484487571168569\n",
      "WARNING:root:HO IMPOSTATO A MANO CHE 2\\PI/L = 0.13484487571168569\n",
      "WARNING:root:HO IMPOSTATO A MANO CHE 2\\PI/L = 0.13484487571168569\n",
      "WARNING:root:HO IMPOSTATO A MANO CHE 2\\PI/L = 0.13484487571168569\n",
      "WARNING:root:HO IMPOSTATO A MANO CHE 2\\PI/L = 0.13484487571168569\n",
      "WARNING:root:HO IMPOSTATO A MANO CHE 2\\PI/L = 0.13484487571168569\n",
      "WARNING:root:HO IMPOSTATO A MANO CHE 2\\PI/L = 0.13484487571168569\n",
      "WARNING:root:HO IMPOSTATO A MANO CHE 2\\PI/L = 0.13484487571168569\n",
      "WARNING:root:HO IMPOSTATO A MANO CHE 2\\PI/L = 0.13484487571168569\n",
      "WARNING:root:HO IMPOSTATO A MANO CHE 2\\PI/L = 0.13484487571168569\n",
      "WARNING:root:HO IMPOSTATO A MANO CHE 2\\PI/L = 0.13484487571168569\n",
      "WARNING:root:HO IMPOSTATO A MANO CHE 2\\PI/L = 0.13484487571168569\n",
      "WARNING:root:HO IMPOSTATO A MANO CHE 2\\PI/L = 0.13484487571168569\n"
     ]
    },
    {
     "name": "stdout",
     "output_type": "stream",
     "text": [
      "model average prediction 0.4618584063970421 0.007858780520174163\n",
      "0 [7. 5. 2.] 94\n"
     ]
    },
    {
     "name": "stderr",
     "output_type": "stream",
     "text": [
      "WARNING:root:HO IMPOSTATO A MANO CHE 2\\PI/L = 0.13484487571168569\n",
      "WARNING:root:HO IMPOSTATO A MANO CHE 2\\PI/L = 0.13484487571168569\n",
      "WARNING:root:HO IMPOSTATO A MANO CHE 2\\PI/L = 0.13484487571168569\n",
      "WARNING:root:HO IMPOSTATO A MANO CHE 2\\PI/L = 0.13484487571168569\n",
      "WARNING:root:HO IMPOSTATO A MANO CHE 2\\PI/L = 0.13484487571168569\n",
      "WARNING:root:HO IMPOSTATO A MANO CHE 2\\PI/L = 0.13484487571168569\n",
      "WARNING:root:HO IMPOSTATO A MANO CHE 2\\PI/L = 0.13484487571168569\n",
      "WARNING:root:HO IMPOSTATO A MANO CHE 2\\PI/L = 0.13484487571168569\n",
      "WARNING:root:HO IMPOSTATO A MANO CHE 2\\PI/L = 0.13484487571168569\n",
      "WARNING:root:HO IMPOSTATO A MANO CHE 2\\PI/L = 0.13484487571168569\n",
      "WARNING:root:HO IMPOSTATO A MANO CHE 2\\PI/L = 0.13484487571168569\n",
      "WARNING:root:HO IMPOSTATO A MANO CHE 2\\PI/L = 0.13484487571168569\n",
      "WARNING:root:HO IMPOSTATO A MANO CHE 2\\PI/L = 0.13484487571168569\n"
     ]
    },
    {
     "name": "stdout",
     "output_type": "stream",
     "text": [
      "model average prediction 0.4583398105187325 0.008186990730769287\n",
      "0 [4. 4. 7.] 95\n"
     ]
    },
    {
     "name": "stderr",
     "output_type": "stream",
     "text": [
      "WARNING:root:HO IMPOSTATO A MANO CHE 2\\PI/L = 0.13484487571168569\n",
      "WARNING:root:HO IMPOSTATO A MANO CHE 2\\PI/L = 0.13484487571168569\n",
      "WARNING:root:HO IMPOSTATO A MANO CHE 2\\PI/L = 0.13484487571168569\n",
      "WARNING:root:HO IMPOSTATO A MANO CHE 2\\PI/L = 0.13484487571168569\n",
      "WARNING:root:HO IMPOSTATO A MANO CHE 2\\PI/L = 0.13484487571168569\n",
      "WARNING:root:HO IMPOSTATO A MANO CHE 2\\PI/L = 0.13484487571168569\n",
      "WARNING:root:HO IMPOSTATO A MANO CHE 2\\PI/L = 0.13484487571168569\n",
      "WARNING:root:HO IMPOSTATO A MANO CHE 2\\PI/L = 0.13484487571168569\n",
      "WARNING:root:HO IMPOSTATO A MANO CHE 2\\PI/L = 0.13484487571168569\n",
      "WARNING:root:HO IMPOSTATO A MANO CHE 2\\PI/L = 0.13484487571168569\n",
      "WARNING:root:HO IMPOSTATO A MANO CHE 2\\PI/L = 0.13484487571168569\n",
      "WARNING:root:HO IMPOSTATO A MANO CHE 2\\PI/L = 0.13484487571168569\n",
      "WARNING:root:HO IMPOSTATO A MANO CHE 2\\PI/L = 0.13484487571168569\n",
      "WARNING:root:HO IMPOSTATO A MANO CHE 2\\PI/L = 0.13484487571168569\n"
     ]
    },
    {
     "name": "stdout",
     "output_type": "stream",
     "text": [
      "model average prediction 0.4728162050797748 0.00845135586384079\n",
      "0 [6. 3. 6.] 96\n"
     ]
    },
    {
     "name": "stderr",
     "output_type": "stream",
     "text": [
      "WARNING:root:HO IMPOSTATO A MANO CHE 2\\PI/L = 0.13484487571168569\n",
      "WARNING:root:HO IMPOSTATO A MANO CHE 2\\PI/L = 0.13484487571168569\n",
      "WARNING:root:HO IMPOSTATO A MANO CHE 2\\PI/L = 0.13484487571168569\n",
      "WARNING:root:HO IMPOSTATO A MANO CHE 2\\PI/L = 0.13484487571168569\n",
      "WARNING:root:HO IMPOSTATO A MANO CHE 2\\PI/L = 0.13484487571168569\n",
      "WARNING:root:HO IMPOSTATO A MANO CHE 2\\PI/L = 0.13484487571168569\n",
      "WARNING:root:HO IMPOSTATO A MANO CHE 2\\PI/L = 0.13484487571168569\n",
      "WARNING:root:HO IMPOSTATO A MANO CHE 2\\PI/L = 0.13484487571168569\n",
      "WARNING:root:HO IMPOSTATO A MANO CHE 2\\PI/L = 0.13484487571168569\n",
      "WARNING:root:HO IMPOSTATO A MANO CHE 2\\PI/L = 0.13484487571168569\n",
      "WARNING:root:HO IMPOSTATO A MANO CHE 2\\PI/L = 0.13484487571168569\n",
      "WARNING:root:HO IMPOSTATO A MANO CHE 2\\PI/L = 0.13484487571168569\n",
      "WARNING:root:HO IMPOSTATO A MANO CHE 2\\PI/L = 0.13484487571168569\n",
      "WARNING:root:HO IMPOSTATO A MANO CHE 2\\PI/L = 0.13484487571168569\n"
     ]
    },
    {
     "name": "stdout",
     "output_type": "stream",
     "text": [
      "model average prediction 0.4716922213686456 0.008408064386816842\n",
      "0 [5. 7. 3.] 97\n"
     ]
    },
    {
     "name": "stderr",
     "output_type": "stream",
     "text": [
      "WARNING:root:HO IMPOSTATO A MANO CHE 2\\PI/L = 0.13484487571168569\n",
      "WARNING:root:HO IMPOSTATO A MANO CHE 2\\PI/L = 0.13484487571168569\n",
      "WARNING:root:HO IMPOSTATO A MANO CHE 2\\PI/L = 0.13484487571168569\n",
      "WARNING:root:HO IMPOSTATO A MANO CHE 2\\PI/L = 0.13484487571168569\n",
      "WARNING:root:HO IMPOSTATO A MANO CHE 2\\PI/L = 0.13484487571168569\n",
      "WARNING:root:HO IMPOSTATO A MANO CHE 2\\PI/L = 0.13484487571168569\n",
      "WARNING:root:HO IMPOSTATO A MANO CHE 2\\PI/L = 0.13484487571168569\n",
      "WARNING:root:HO IMPOSTATO A MANO CHE 2\\PI/L = 0.13484487571168569\n",
      "WARNING:root:HO IMPOSTATO A MANO CHE 2\\PI/L = 0.13484487571168569\n",
      "WARNING:root:HO IMPOSTATO A MANO CHE 2\\PI/L = 0.13484487571168569\n",
      "WARNING:root:HO IMPOSTATO A MANO CHE 2\\PI/L = 0.13484487571168569\n",
      "WARNING:root:HO IMPOSTATO A MANO CHE 2\\PI/L = 0.13484487571168569\n",
      "WARNING:root:HO IMPOSTATO A MANO CHE 2\\PI/L = 0.13484487571168569\n",
      "WARNING:root:HO IMPOSTATO A MANO CHE 2\\PI/L = 0.13484487571168569\n"
     ]
    },
    {
     "name": "stdout",
     "output_type": "stream",
     "text": [
      "model average prediction 0.46466844917408395 0.00813886961184045\n",
      "0 [0. 7. 6.] 98\n"
     ]
    },
    {
     "name": "stderr",
     "output_type": "stream",
     "text": [
      "WARNING:root:HO IMPOSTATO A MANO CHE 2\\PI/L = 0.13484487571168569\n",
      "WARNING:root:HO IMPOSTATO A MANO CHE 2\\PI/L = 0.13484487571168569\n",
      "WARNING:root:HO IMPOSTATO A MANO CHE 2\\PI/L = 0.13484487571168569\n",
      "WARNING:root:HO IMPOSTATO A MANO CHE 2\\PI/L = 0.13484487571168569\n",
      "WARNING:root:HO IMPOSTATO A MANO CHE 2\\PI/L = 0.13484487571168569\n",
      "WARNING:root:HO IMPOSTATO A MANO CHE 2\\PI/L = 0.13484487571168569\n",
      "WARNING:root:HO IMPOSTATO A MANO CHE 2\\PI/L = 0.13484487571168569\n",
      "WARNING:root:HO IMPOSTATO A MANO CHE 2\\PI/L = 0.13484487571168569\n",
      "WARNING:root:HO IMPOSTATO A MANO CHE 2\\PI/L = 0.13484487571168569\n",
      "WARNING:root:HO IMPOSTATO A MANO CHE 2\\PI/L = 0.13484487571168569\n",
      "WARNING:root:HO IMPOSTATO A MANO CHE 2\\PI/L = 0.13484487571168569\n",
      "WARNING:root:HO IMPOSTATO A MANO CHE 2\\PI/L = 0.13484487571168569\n",
      "WARNING:root:HO IMPOSTATO A MANO CHE 2\\PI/L = 0.13484487571168569\n",
      "WARNING:root:HO IMPOSTATO A MANO CHE 2\\PI/L = 0.13484487571168569\n"
     ]
    },
    {
     "name": "stdout",
     "output_type": "stream",
     "text": [
      "model average prediction 0.46404564928720027 0.008230981478111049\n",
      "0 [6. 1. 7.] 99\n"
     ]
    },
    {
     "name": "stderr",
     "output_type": "stream",
     "text": [
      "WARNING:root:HO IMPOSTATO A MANO CHE 2\\PI/L = 0.13484487571168569\n",
      "WARNING:root:HO IMPOSTATO A MANO CHE 2\\PI/L = 0.13484487571168569\n",
      "WARNING:root:HO IMPOSTATO A MANO CHE 2\\PI/L = 0.13484487571168569\n",
      "WARNING:root:HO IMPOSTATO A MANO CHE 2\\PI/L = 0.13484487571168569\n",
      "WARNING:root:HO IMPOSTATO A MANO CHE 2\\PI/L = 0.13484487571168569\n",
      "WARNING:root:HO IMPOSTATO A MANO CHE 2\\PI/L = 0.13484487571168569\n",
      "WARNING:root:HO IMPOSTATO A MANO CHE 2\\PI/L = 0.13484487571168569\n",
      "WARNING:root:HO IMPOSTATO A MANO CHE 2\\PI/L = 0.13484487571168569\n",
      "WARNING:root:HO IMPOSTATO A MANO CHE 2\\PI/L = 0.13484487571168569\n",
      "WARNING:root:HO IMPOSTATO A MANO CHE 2\\PI/L = 0.13484487571168569\n",
      "WARNING:root:HO IMPOSTATO A MANO CHE 2\\PI/L = 0.13484487571168569\n",
      "WARNING:root:HO IMPOSTATO A MANO CHE 2\\PI/L = 0.13484487571168569\n",
      "WARNING:root:HO IMPOSTATO A MANO CHE 2\\PI/L = 0.13484487571168569\n",
      "WARNING:root:HO IMPOSTATO A MANO CHE 2\\PI/L = 0.13484487571168569\n"
     ]
    },
    {
     "name": "stdout",
     "output_type": "stream",
     "text": [
      "model average prediction 0.45671842061019136 0.007972753400092746\n",
      "0 [5. 5. 6.] 100\n"
     ]
    },
    {
     "name": "stderr",
     "output_type": "stream",
     "text": [
      "WARNING:root:HO IMPOSTATO A MANO CHE 2\\PI/L = 0.13484487571168569\n",
      "WARNING:root:HO IMPOSTATO A MANO CHE 2\\PI/L = 0.13484487571168569\n",
      "WARNING:root:HO IMPOSTATO A MANO CHE 2\\PI/L = 0.13484487571168569\n",
      "WARNING:root:HO IMPOSTATO A MANO CHE 2\\PI/L = 0.13484487571168569\n",
      "WARNING:root:HO IMPOSTATO A MANO CHE 2\\PI/L = 0.13484487571168569\n",
      "WARNING:root:HO IMPOSTATO A MANO CHE 2\\PI/L = 0.13484487571168569\n",
      "WARNING:root:HO IMPOSTATO A MANO CHE 2\\PI/L = 0.13484487571168569\n",
      "WARNING:root:HO IMPOSTATO A MANO CHE 2\\PI/L = 0.13484487571168569\n",
      "WARNING:root:HO IMPOSTATO A MANO CHE 2\\PI/L = 0.13484487571168569\n",
      "WARNING:root:HO IMPOSTATO A MANO CHE 2\\PI/L = 0.13484487571168569\n",
      "WARNING:root:HO IMPOSTATO A MANO CHE 2\\PI/L = 0.13484487571168569\n",
      "WARNING:root:HO IMPOSTATO A MANO CHE 2\\PI/L = 0.13484487571168569\n",
      "WARNING:root:HO IMPOSTATO A MANO CHE 2\\PI/L = 0.13484487571168569\n"
     ]
    },
    {
     "name": "stdout",
     "output_type": "stream",
     "text": [
      "model average prediction 0.4511950379019361 0.008215258125920631\n",
      "0 [6. 4. 6.] 101\n"
     ]
    },
    {
     "name": "stderr",
     "output_type": "stream",
     "text": [
      "WARNING:root:HO IMPOSTATO A MANO CHE 2\\PI/L = 0.13484487571168569\n",
      "WARNING:root:HO IMPOSTATO A MANO CHE 2\\PI/L = 0.13484487571168569\n",
      "WARNING:root:HO IMPOSTATO A MANO CHE 2\\PI/L = 0.13484487571168569\n",
      "WARNING:root:HO IMPOSTATO A MANO CHE 2\\PI/L = 0.13484487571168569\n",
      "WARNING:root:HO IMPOSTATO A MANO CHE 2\\PI/L = 0.13484487571168569\n",
      "WARNING:root:HO IMPOSTATO A MANO CHE 2\\PI/L = 0.13484487571168569\n",
      "WARNING:root:HO IMPOSTATO A MANO CHE 2\\PI/L = 0.13484487571168569\n",
      "WARNING:root:HO IMPOSTATO A MANO CHE 2\\PI/L = 0.13484487571168569\n",
      "WARNING:root:HO IMPOSTATO A MANO CHE 2\\PI/L = 0.13484487571168569\n",
      "WARNING:root:HO IMPOSTATO A MANO CHE 2\\PI/L = 0.13484487571168569\n",
      "WARNING:root:HO IMPOSTATO A MANO CHE 2\\PI/L = 0.13484487571168569\n",
      "WARNING:root:HO IMPOSTATO A MANO CHE 2\\PI/L = 0.13484487571168569\n",
      "WARNING:root:HO IMPOSTATO A MANO CHE 2\\PI/L = 0.13484487571168569\n",
      "WARNING:root:HO IMPOSTATO A MANO CHE 2\\PI/L = 0.13484487571168569\n"
     ]
    },
    {
     "name": "stdout",
     "output_type": "stream",
     "text": [
      "model average prediction 0.4560004835111207 0.008097171018733935\n",
      "0 [2. 7. 6.] 102\n"
     ]
    },
    {
     "name": "stderr",
     "output_type": "stream",
     "text": [
      "WARNING:root:HO IMPOSTATO A MANO CHE 2\\PI/L = 0.13484487571168569\n",
      "WARNING:root:HO IMPOSTATO A MANO CHE 2\\PI/L = 0.13484487571168569\n",
      "WARNING:root:HO IMPOSTATO A MANO CHE 2\\PI/L = 0.13484487571168569\n",
      "WARNING:root:HO IMPOSTATO A MANO CHE 2\\PI/L = 0.13484487571168569\n",
      "WARNING:root:HO IMPOSTATO A MANO CHE 2\\PI/L = 0.13484487571168569\n",
      "WARNING:root:HO IMPOSTATO A MANO CHE 2\\PI/L = 0.13484487571168569\n",
      "WARNING:root:HO IMPOSTATO A MANO CHE 2\\PI/L = 0.13484487571168569\n",
      "WARNING:root:HO IMPOSTATO A MANO CHE 2\\PI/L = 0.13484487571168569\n",
      "WARNING:root:HO IMPOSTATO A MANO CHE 2\\PI/L = 0.13484487571168569\n",
      "WARNING:root:HO IMPOSTATO A MANO CHE 2\\PI/L = 0.13484487571168569\n",
      "WARNING:root:HO IMPOSTATO A MANO CHE 2\\PI/L = 0.13484487571168569\n",
      "WARNING:root:HO IMPOSTATO A MANO CHE 2\\PI/L = 0.13484487571168569\n",
      "WARNING:root:HO IMPOSTATO A MANO CHE 2\\PI/L = 0.13484487571168569\n"
     ]
    },
    {
     "name": "stdout",
     "output_type": "stream",
     "text": [
      "model average prediction 0.45824983049917106 0.008312595077220082\n",
      "0 [4. 7. 5.] 103\n"
     ]
    },
    {
     "name": "stderr",
     "output_type": "stream",
     "text": [
      "WARNING:root:HO IMPOSTATO A MANO CHE 2\\PI/L = 0.13484487571168569\n",
      "WARNING:root:HO IMPOSTATO A MANO CHE 2\\PI/L = 0.13484487571168569\n",
      "WARNING:root:HO IMPOSTATO A MANO CHE 2\\PI/L = 0.13484487571168569\n",
      "WARNING:root:HO IMPOSTATO A MANO CHE 2\\PI/L = 0.13484487571168569\n",
      "WARNING:root:HO IMPOSTATO A MANO CHE 2\\PI/L = 0.13484487571168569\n",
      "WARNING:root:HO IMPOSTATO A MANO CHE 2\\PI/L = 0.13484487571168569\n",
      "WARNING:root:HO IMPOSTATO A MANO CHE 2\\PI/L = 0.13484487571168569\n",
      "WARNING:root:HO IMPOSTATO A MANO CHE 2\\PI/L = 0.13484487571168569\n",
      "WARNING:root:HO IMPOSTATO A MANO CHE 2\\PI/L = 0.13484487571168569\n",
      "WARNING:root:HO IMPOSTATO A MANO CHE 2\\PI/L = 0.13484487571168569\n",
      "WARNING:root:HO IMPOSTATO A MANO CHE 2\\PI/L = 0.13484487571168569\n",
      "WARNING:root:HO IMPOSTATO A MANO CHE 2\\PI/L = 0.13484487571168569\n",
      "WARNING:root:HO IMPOSTATO A MANO CHE 2\\PI/L = 0.13484487571168569\n"
     ]
    },
    {
     "name": "stdout",
     "output_type": "stream",
     "text": [
      "model average prediction 0.45002781522562546 0.008264088728741074\n",
      "0 [6. 3. 7.] 104\n"
     ]
    },
    {
     "name": "stderr",
     "output_type": "stream",
     "text": [
      "WARNING:root:HO IMPOSTATO A MANO CHE 2\\PI/L = 0.13484487571168569\n",
      "WARNING:root:HO IMPOSTATO A MANO CHE 2\\PI/L = 0.13484487571168569\n",
      "WARNING:root:HO IMPOSTATO A MANO CHE 2\\PI/L = 0.13484487571168569\n",
      "WARNING:root:HO IMPOSTATO A MANO CHE 2\\PI/L = 0.13484487571168569\n",
      "WARNING:root:HO IMPOSTATO A MANO CHE 2\\PI/L = 0.13484487571168569\n",
      "WARNING:root:HO IMPOSTATO A MANO CHE 2\\PI/L = 0.13484487571168569\n",
      "WARNING:root:HO IMPOSTATO A MANO CHE 2\\PI/L = 0.13484487571168569\n",
      "WARNING:root:HO IMPOSTATO A MANO CHE 2\\PI/L = 0.13484487571168569\n",
      "WARNING:root:HO IMPOSTATO A MANO CHE 2\\PI/L = 0.13484487571168569\n",
      "WARNING:root:HO IMPOSTATO A MANO CHE 2\\PI/L = 0.13484487571168569\n",
      "WARNING:root:HO IMPOSTATO A MANO CHE 2\\PI/L = 0.13484487571168569\n",
      "WARNING:root:HO IMPOSTATO A MANO CHE 2\\PI/L = 0.13484487571168569\n",
      "WARNING:root:HO IMPOSTATO A MANO CHE 2\\PI/L = 0.13484487571168569\n"
     ]
    },
    {
     "name": "stdout",
     "output_type": "stream",
     "text": [
      "model average prediction 0.4470567998959386 0.008092134124871489\n",
      "0 [6. 6. 5.] 105\n"
     ]
    },
    {
     "name": "stderr",
     "output_type": "stream",
     "text": [
      "WARNING:root:HO IMPOSTATO A MANO CHE 2\\PI/L = 0.13484487571168569\n",
      "WARNING:root:HO IMPOSTATO A MANO CHE 2\\PI/L = 0.13484487571168569\n",
      "WARNING:root:HO IMPOSTATO A MANO CHE 2\\PI/L = 0.13484487571168569\n",
      "WARNING:root:HO IMPOSTATO A MANO CHE 2\\PI/L = 0.13484487571168569\n",
      "WARNING:root:HO IMPOSTATO A MANO CHE 2\\PI/L = 0.13484487571168569\n",
      "WARNING:root:HO IMPOSTATO A MANO CHE 2\\PI/L = 0.13484487571168569\n",
      "WARNING:root:HO IMPOSTATO A MANO CHE 2\\PI/L = 0.13484487571168569\n",
      "WARNING:root:HO IMPOSTATO A MANO CHE 2\\PI/L = 0.13484487571168569\n",
      "WARNING:root:HO IMPOSTATO A MANO CHE 2\\PI/L = 0.13484487571168569\n",
      "WARNING:root:HO IMPOSTATO A MANO CHE 2\\PI/L = 0.13484487571168569\n",
      "WARNING:root:HO IMPOSTATO A MANO CHE 2\\PI/L = 0.13484487571168569\n",
      "WARNING:root:HO IMPOSTATO A MANO CHE 2\\PI/L = 0.13484487571168569\n"
     ]
    },
    {
     "name": "stdout",
     "output_type": "stream",
     "text": [
      "model average prediction 0.44022861888930315 0.00815224048857068\n",
      "0 [7. 0. 7.] 106\n"
     ]
    },
    {
     "name": "stderr",
     "output_type": "stream",
     "text": [
      "WARNING:root:HO IMPOSTATO A MANO CHE 2\\PI/L = 0.13484487571168569\n",
      "WARNING:root:HO IMPOSTATO A MANO CHE 2\\PI/L = 0.13484487571168569\n",
      "WARNING:root:HO IMPOSTATO A MANO CHE 2\\PI/L = 0.13484487571168569\n",
      "WARNING:root:HO IMPOSTATO A MANO CHE 2\\PI/L = 0.13484487571168569\n",
      "WARNING:root:HO IMPOSTATO A MANO CHE 2\\PI/L = 0.13484487571168569\n",
      "WARNING:root:HO IMPOSTATO A MANO CHE 2\\PI/L = 0.13484487571168569\n",
      "WARNING:root:HO IMPOSTATO A MANO CHE 2\\PI/L = 0.13484487571168569\n",
      "WARNING:root:HO IMPOSTATO A MANO CHE 2\\PI/L = 0.13484487571168569\n",
      "WARNING:root:HO IMPOSTATO A MANO CHE 2\\PI/L = 0.13484487571168569\n",
      "WARNING:root:HO IMPOSTATO A MANO CHE 2\\PI/L = 0.13484487571168569\n",
      "WARNING:root:HO IMPOSTATO A MANO CHE 2\\PI/L = 0.13484487571168569\n"
     ]
    },
    {
     "name": "stdout",
     "output_type": "stream",
     "text": [
      "model average prediction 0.4243154072181491 0.00785941268560011\n",
      "0 [7. 1. 7.] 107\n"
     ]
    },
    {
     "name": "stderr",
     "output_type": "stream",
     "text": [
      "WARNING:root:HO IMPOSTATO A MANO CHE 2\\PI/L = 0.13484487571168569\n",
      "WARNING:root:HO IMPOSTATO A MANO CHE 2\\PI/L = 0.13484487571168569\n",
      "WARNING:root:HO IMPOSTATO A MANO CHE 2\\PI/L = 0.13484487571168569\n",
      "WARNING:root:HO IMPOSTATO A MANO CHE 2\\PI/L = 0.13484487571168569\n",
      "WARNING:root:HO IMPOSTATO A MANO CHE 2\\PI/L = 0.13484487571168569\n",
      "WARNING:root:HO IMPOSTATO A MANO CHE 2\\PI/L = 0.13484487571168569\n",
      "WARNING:root:HO IMPOSTATO A MANO CHE 2\\PI/L = 0.13484487571168569\n",
      "WARNING:root:HO IMPOSTATO A MANO CHE 2\\PI/L = 0.13484487571168569\n"
     ]
    },
    {
     "name": "stdout",
     "output_type": "stream",
     "text": [
      "model average prediction 0.3962541869066977 0.007651288712396475\n",
      "0 [7. 5. 5.] 108\n"
     ]
    },
    {
     "name": "stderr",
     "output_type": "stream",
     "text": [
      "WARNING:root:HO IMPOSTATO A MANO CHE 2\\PI/L = 0.13484487571168569\n",
      "WARNING:root:HO IMPOSTATO A MANO CHE 2\\PI/L = 0.13484487571168569\n",
      "WARNING:root:HO IMPOSTATO A MANO CHE 2\\PI/L = 0.13484487571168569\n",
      "WARNING:root:HO IMPOSTATO A MANO CHE 2\\PI/L = 0.13484487571168569\n",
      "WARNING:root:HO IMPOSTATO A MANO CHE 2\\PI/L = 0.13484487571168569\n",
      "WARNING:root:HO IMPOSTATO A MANO CHE 2\\PI/L = 0.13484487571168569\n",
      "WARNING:root:HO IMPOSTATO A MANO CHE 2\\PI/L = 0.13484487571168569\n"
     ]
    },
    {
     "name": "stdout",
     "output_type": "stream",
     "text": [
      "model average prediction 0.3847267166401209 0.0071710936213891735\n",
      "0 [4. 6. 7.] 109\n"
     ]
    },
    {
     "name": "stderr",
     "output_type": "stream",
     "text": [
      "WARNING:root:HO IMPOSTATO A MANO CHE 2\\PI/L = 0.13484487571168569\n",
      "WARNING:root:HO IMPOSTATO A MANO CHE 2\\PI/L = 0.13484487571168569\n",
      "WARNING:root:HO IMPOSTATO A MANO CHE 2\\PI/L = 0.13484487571168569\n",
      "WARNING:root:HO IMPOSTATO A MANO CHE 2\\PI/L = 0.13484487571168569\n",
      "WARNING:root:HO IMPOSTATO A MANO CHE 2\\PI/L = 0.13484487571168569\n",
      "WARNING:root:HO IMPOSTATO A MANO CHE 2\\PI/L = 0.13484487571168569\n",
      "WARNING:root:HO IMPOSTATO A MANO CHE 2\\PI/L = 0.13484487571168569\n",
      "WARNING:root:HO IMPOSTATO A MANO CHE 2\\PI/L = 0.13484487571168569\n",
      "WARNING:root:HO IMPOSTATO A MANO CHE 2\\PI/L = 0.13484487571168569\n"
     ]
    },
    {
     "name": "stdout",
     "output_type": "stream",
     "text": [
      "model average prediction 0.1077577543099497 0.0076124027951666616\n",
      "0 [2. 7. 7.] 110\n"
     ]
    },
    {
     "name": "stderr",
     "output_type": "stream",
     "text": [
      "WARNING:root:HO IMPOSTATO A MANO CHE 2\\PI/L = 0.13484487571168569\n",
      "WARNING:root:HO IMPOSTATO A MANO CHE 2\\PI/L = 0.13484487571168569\n",
      "WARNING:root:HO IMPOSTATO A MANO CHE 2\\PI/L = 0.13484487571168569\n",
      "WARNING:root:HO IMPOSTATO A MANO CHE 2\\PI/L = 0.13484487571168569\n",
      "WARNING:root:HO IMPOSTATO A MANO CHE 2\\PI/L = 0.13484487571168569\n",
      "WARNING:root:HO IMPOSTATO A MANO CHE 2\\PI/L = 0.13484487571168569\n",
      "WARNING:root:HO IMPOSTATO A MANO CHE 2\\PI/L = 0.13484487571168569\n"
     ]
    },
    {
     "name": "stdout",
     "output_type": "stream",
     "text": [
      "model average prediction 0.10638835740349985 0.007921568329606981\n",
      "0 [3. 7. 7.] 111\n"
     ]
    },
    {
     "name": "stderr",
     "output_type": "stream",
     "text": [
      "WARNING:root:HO IMPOSTATO A MANO CHE 2\\PI/L = 0.13484487571168569\n",
      "WARNING:root:HO IMPOSTATO A MANO CHE 2\\PI/L = 0.13484487571168569\n",
      "WARNING:root:HO IMPOSTATO A MANO CHE 2\\PI/L = 0.13484487571168569\n",
      "WARNING:root:HO IMPOSTATO A MANO CHE 2\\PI/L = 0.13484487571168569\n",
      "WARNING:root:HO IMPOSTATO A MANO CHE 2\\PI/L = 0.13484487571168569\n",
      "WARNING:root:HO IMPOSTATO A MANO CHE 2\\PI/L = 0.13484487571168569\n",
      "WARNING:root:HO IMPOSTATO A MANO CHE 2\\PI/L = 0.13484487571168569\n",
      "WARNING:root:HO IMPOSTATO A MANO CHE 2\\PI/L = 0.13484487571168569\n",
      "WARNING:root:HO IMPOSTATO A MANO CHE 2\\PI/L = 0.13484487571168569\n",
      "WARNING:root:HO IMPOSTATO A MANO CHE 2\\PI/L = 0.13484487571168569\n"
     ]
    },
    {
     "name": "stdout",
     "output_type": "stream",
     "text": [
      "model average prediction 0.10512141753744268 0.008110386763504578\n",
      "0 [6. 6. 6.] 112\n"
     ]
    },
    {
     "name": "stderr",
     "output_type": "stream",
     "text": [
      "WARNING:root:HO IMPOSTATO A MANO CHE 2\\PI/L = 0.13484487571168569\n",
      "WARNING:root:HO IMPOSTATO A MANO CHE 2\\PI/L = 0.13484487571168569\n",
      "WARNING:root:HO IMPOSTATO A MANO CHE 2\\PI/L = 0.13484487571168569\n",
      "WARNING:root:HO IMPOSTATO A MANO CHE 2\\PI/L = 0.13484487571168569\n",
      "WARNING:root:HO IMPOSTATO A MANO CHE 2\\PI/L = 0.13484487571168569\n",
      "WARNING:root:HO IMPOSTATO A MANO CHE 2\\PI/L = 0.13484487571168569\n",
      "WARNING:root:HO IMPOSTATO A MANO CHE 2\\PI/L = 0.13484487571168569\n",
      "WARNING:root:HO IMPOSTATO A MANO CHE 2\\PI/L = 0.13484487571168569\n"
     ]
    },
    {
     "name": "stdout",
     "output_type": "stream",
     "text": [
      "model average prediction 0.10416344699860568 0.00744471459183007\n",
      "0 [7. 5. 6.] 113\n"
     ]
    },
    {
     "name": "stderr",
     "output_type": "stream",
     "text": [
      "WARNING:root:HO IMPOSTATO A MANO CHE 2\\PI/L = 0.13484487571168569\n"
     ]
    },
    {
     "name": "stdout",
     "output_type": "stream",
     "text": [
      "model average prediction 0.09998813149139206 0.007771481364834194\n",
      "0 [4. 7. 7.] 114\n"
     ]
    }
   ],
   "source": [
    "#Calcolo il model averaging includendo sempre piu' punti \n",
    "preda=[]\n",
    "spreda=[]\n",
    "Npointsa=[]\n",
    "r=0\n",
    "for N in range(10, 114):\n",
    "    \n",
    "    mr, sr, logevidence= bayesianL.bayesianmodelprediction(gplot, sd, N+1, gplot, False, True)\n",
    "    Npointsa.append(np.linalg.norm(gplot[N+1]))\n",
    "    print(r, gplot[N+1], N+1)\n",
    "    preda.append(mr)\n",
    "    spreda.append(sr)"
   ]
  },
  {
   "cell_type": "code",
   "execution_count": 20,
   "id": "464c6ad1",
   "metadata": {},
   "outputs": [
    {
     "data": {
      "application/vnd.jupyter.widget-view+json": {
       "model_id": "d9e7dce97acf4641a8907259b97d77ad",
       "version_major": 2,
       "version_minor": 0
      },
      "text/plain": [
       "Canvas(toolbar=Toolbar(toolitems=[('Home', 'Reset original view', 'home', 'home'), ('Back', 'Back to previous …"
      ]
     },
     "metadata": {},
     "output_type": "display_data"
    }
   ],
   "source": [
    "%matplotlib widget\n",
    "fig, ax=plt.subplots(3,constrained_layout=True, figsize=[9,9])\n",
    "\n",
    "\n",
    "ax[0].set_title('Bayesian model averaging prediction at k=0 with data in range $[: k_{max}]$')\n",
    "\n",
    "ax[0].errorbar(np.array(Npointsa), np.array(preda), np.sqrt(np.array(spreda)), fmt='.')\n",
    "ax[0].plot(np.array(Npointsa), np.ones(len(Npointsa))*0.816, label='GK result')\n",
    "    \n",
    "ax[0].set_xlabel('$k_{max} (nm^{-1})$')\n",
    "ax[0].set_ylabel('prediction at k=0')\n",
    "ax[0].legend()\n",
    "ax[1].set_title('Bayesian best model prediction at k=0 with data in range $[: k_{max}]$')\n",
    "\n",
    "ax[1].errorbar(np.array(Npointsb), np.array(predb), np.sqrt(np.array(spredb)), fmt='.')\n",
    "ax[1].plot(np.array(Npointsb), np.ones(len(Npointsb))*0.816, label='GK result')    \n",
    "ax[1].set_xlabel('$k_{max} (nm^{-1})$')\n",
    "ax[1].set_ylabel('prediction at k=0')\n",
    "ax[1].legend()\n",
    "ax[2].set_title('Data')\n",
    "\n",
    "ax[2].errorbar(np.linalg.norm(gplot, axis=1), dataplot,datasigmaplot, fmt='.', label='3375 water molecules at 300k 30ns') \n",
    "\n",
    "ax[2].legend()\n",
    "\n",
    "ax[2].set_xlabel(r'k ($nm^{-1}$)')\n",
    "plt.savefig('nlttcubic.pdf')"
   ]
  },
  {
   "cell_type": "code",
   "execution_count": null,
   "id": "10fcd31a",
   "metadata": {},
   "outputs": [],
   "source": []
  }
 ],
 "metadata": {
  "kernelspec": {
   "display_name": "Python 3 (ipykernel)",
   "language": "python",
   "name": "python3"
  },
  "language_info": {
   "codemirror_mode": {
    "name": "ipython",
    "version": 3
   },
   "file_extension": ".py",
   "mimetype": "text/x-python",
   "name": "python",
   "nbconvert_exporter": "python",
   "pygments_lexer": "ipython3",
   "version": "3.9.7"
  }
 },
 "nbformat": 4,
 "nbformat_minor": 5
}
