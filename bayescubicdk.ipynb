{
 "cells": [
  {
   "cell_type": "code",
   "execution_count": 18,
   "id": "b6d1cc29",
   "metadata": {},
   "outputs": [],
   "source": [
    "import numpy as np\n",
    "from modules import bayesianL\n",
    "from modules import cubicharmonics\n",
    "import matplotlib.pyplot as plt\n",
    "import copy\n"
   ]
  },
  {
   "cell_type": "code",
   "execution_count": 19,
   "id": "98f0de22",
   "metadata": {},
   "outputs": [
    {
     "name": "stdout",
     "output_type": "stream",
     "text": [
      "[0. 0. 1.] [1. 0. 0.] [0. 1. 0.]\n"
     ]
    }
   ],
   "source": [
    "#Carico i dati in data e li ordino in sdata e grid\n",
    "\n",
    "data=np.transpose(np.loadtxt('../nlttk.out'))\n",
    "\n",
    "sdata, grid = bayesianL.generatesorteddata(data, 500)"
   ]
  },
  {
   "cell_type": "code",
   "execution_count": 57,
   "id": "c2a2d795",
   "metadata": {},
   "outputs": [
    {
     "name": "stdout",
     "output_type": "stream",
     "text": [
      "numero di elementi:  499\n",
      "numero cicli teornicamente necessari 373501\n",
      "numero cicli compiuti 381\n",
      "numero di elementi non equivalenti per simmetria cubica:  118\n"
     ]
    }
   ],
   "source": [
    "#Medio i dati su tutti i punti equivalenti per simmetria cubica e \n",
    "#ritorno la lista dei nuovi dati 'simmetrizzati' in gplot e sd\n",
    "C=bayesianL.cubicarray(list(grid), True)\n",
    "dic, dics=bayesianL.datadicG(data[1], data[2],cubicharmonics.Gvecgenerateall(500)[1:])\n",
    "gplot, dataplot1, datasigmaplot1=bayesianL.datiplot(C, dic, dics)\n",
    "dataplot=np.log(dataplot1)\n",
    "datasigmaplot=datasigmaplot1*np.sqrt(10)/dataplot1\n",
    "sd=np.array([dataplot, datasigmaplot/max(datasigmaplot)])\n"
   ]
  },
  {
   "cell_type": "code",
   "execution_count": 58,
   "id": "6e3d9226",
   "metadata": {},
   "outputs": [
    {
     "name": "stderr",
     "output_type": "stream",
     "text": [
      "WARNING:root:HO IMPOSTATO A MANO CHE 2\\PI/L = 0.13484487571168569\n"
     ]
    },
    {
     "name": "stdout",
     "output_type": "stream",
     "text": [
      "parametri ottimali [-9.86060340e-02 -6.10536439e+01  3.46843303e+02 -8.79559539e+02\n",
      "  5.95410870e+02  5.14782755e+02  1.96946575e+02  3.70643166e+01]\n",
      "numero di armoniche cubiche 8\n",
      "valore a kmin inferito -0.3808963201359431 bias -0.0986060340077897 dato a kmin -0.33587062547763863\n",
      "determinante matrice delle armoniche cubiche ridotte: 6.455871081411576e-18\n"
     ]
    }
   ],
   "source": [
    "#Calcolo il fit bayesiano con glot e sd come test\n",
    "N=20\n",
    "mN, SN, y_infer, sy_infer, conta=\\\n",
    "bayesianL.bayesianpol(gplot, sd, 8, N, 0.0001, gplot,bethapar=10000, ifprint= True, ifwarning= True, nLbp=0)"
   ]
  },
  {
   "cell_type": "code",
   "execution_count": 59,
   "id": "fc2d6465",
   "metadata": {},
   "outputs": [
    {
     "data": {
      "application/vnd.jupyter.widget-view+json": {
       "model_id": "22d8e1a8d37b4b838b3b4e70edd8c239",
       "version_major": 2,
       "version_minor": 0
      },
      "text/plain": [
       "Canvas(toolbar=Toolbar(toolitems=[('Home', 'Reset original view', 'home', 'home'), ('Back', 'Back to previous …"
      ]
     },
     "metadata": {},
     "output_type": "display_data"
    },
    {
     "data": {
      "text/plain": [
       "<ErrorbarContainer object of 3 artists>"
      ]
     },
     "execution_count": 59,
     "metadata": {},
     "output_type": "execute_result"
    }
   ],
   "source": [
    "#Plotto il fit e i dati (gplot e sd)\n",
    "%matplotlib widget\n",
    "plt.fill_between(np.linalg.norm(gplot[:N], axis=1), y_infer+np.sqrt(sy_infer),y_infer-np.sqrt(sy_infer),  alpha=0.3, color='red')\n",
    "plt.plot(np.linalg.norm(gplot[:N], axis=1), y_infer, '.-', color='red')\n",
    "plt.errorbar(np.linalg.norm(gplot, axis=1), dataplot,datasigmaplot, fmt='.')"
   ]
  },
  {
   "cell_type": "code",
   "execution_count": 68,
   "id": "29958e29",
   "metadata": {
    "scrolled": false
   },
   "outputs": [
    {
     "name": "stdout",
     "output_type": "stream",
     "text": [
      "numero di polinomi cubici fino al grado massimo  2 : 1\n",
      "best alpha: 0.6829397019188246 deltalpha: -4.940825526489334e-11\n",
      "best betha: 1.7404388543278626 deltbetha: 6.610045844013257e-12\n",
      "logevidence: 488.94900079988565\n",
      "contributi alla evidence:\n",
      "dalla normalizzazione  -0.19067435373423483 501.4517158229199\n",
      "dalla likelihood: -9.501235714668638\n",
      "dalla derivata seconda della likelihood (log(det(A))): -2.8108049546313874\n",
      "determinante della matrice delle armoniche cubiche ridotte 158.38014500713888 \n",
      "\n",
      "numero di polinomi cubici fino al grado massimo  4 : 2\n",
      "best alpha: 0.03129777663981996 deltalpha: -3.8106462429965404e-12\n",
      "best betha: 6.732818335494417 deltbetha: 8.924239125462918e-11\n",
      "logevidence: 756.1291482002283\n",
      "contributi alla evidence:\n",
      "dalla normalizzazione  -3.4642082178306213 772.0230221088937\n",
      "dalla likelihood: -9.018240933314392\n",
      "dalla derivata seconda della likelihood (log(det(A))): -3.411424757520261\n",
      "determinante della matrice delle armoniche cubiche ridotte 19.52506441469954 \n",
      "\n",
      "numero di polinomi cubici fino al grado massimo  6 : 3\n",
      "best alpha: 0.0010991735344164123 deltalpha: -5.555735125423178e-12\n",
      "best betha: 31.79230447166898 deltbetha: 2.7914236255810465e-08\n",
      "logevidence: 1060.5089190585984\n",
      "contributi alla evidence:\n",
      "dalla normalizzazione  -10.2197950708772 1082.4691090623578\n",
      "dalla likelihood: -8.519982357928946\n",
      "dalla derivata seconda della likelihood (log(det(A))): -3.2204125749532677\n",
      "determinante della matrice delle armoniche cubiche ridotte 0.01873011304941199 \n",
      "\n",
      "numero di polinomi cubici fino al grado massimo  8 : 4\n",
      "best alpha: 6.489104439750145e-05 deltalpha: -9.032702049435043e-12\n",
      "best betha: 72.64453938287187 deltbetha: 2.4038486401423143e-06\n",
      "logevidence: 1219.698116000873\n",
      "contributi alla evidence:\n",
      "dalla normalizzazione  -19.285601869138684 1247.7399012805827\n",
      "dalla likelihood: -8.079352444086176\n",
      "dalla derivata seconda della likelihood (log(det(A))): -0.6768309664849252\n",
      "determinante della matrice delle armoniche cubiche ridotte 1.1697478436316136e-07 \n",
      "\n",
      "numero di polinomi cubici fino al grado massimo  10 : 5\n",
      "best alpha: 9.245502399787532e-05 deltalpha: -8.241187002570524e-12\n",
      "best betha: 68.46863042868395 deltbetha: 1.461436866634358e-06\n",
      "logevidence: 1208.4584870523654\n",
      "contributi alla evidence:\n",
      "dalla normalizzazione  -23.221970646856484 1235.8993945977907\n",
      "dalla likelihood: -8.068043520902005\n",
      "dalla derivata seconda della likelihood (log(det(A))): 3.8491066223332795\n",
      "determinante della matrice delle armoniche cubiche ridotte 5.999987200529645e-15 \n",
      "\n",
      "numero di polinomi cubici fino al grado massimo  12 : 6\n",
      "best alpha: 9.809048305806496e-05 deltalpha: -9.222018588768248e-12\n",
      "best betha: 67.58959975550111 deltbetha: 1.5298548703412962e-06\n",
      "logevidence: 1205.9740813868018\n",
      "contributi alla evidence:\n",
      "dalla normalizzazione  -27.688860626276632 1233.3150808000462\n",
      "dalla likelihood: -8.0596235598694\n",
      "dalla derivata seconda della likelihood (log(det(A))): 8.407484772901562\n",
      "determinante della matrice delle armoniche cubiche ridotte 1.98758739976541e-24 \n",
      "\n",
      "numero di polinomi cubici fino al grado massimo  14 : 7\n",
      "best alpha: 9.861106459001642e-05 deltalpha: -8.643300227558111e-12\n",
      "best betha: 67.50356951287202 deltbetha: 1.4278309663495747e-06\n",
      "logevidence: 1205.7252981718873\n",
      "contributi alla evidence:\n",
      "dalla normalizzazione  -32.28514479999986 1233.0603521421142\n",
      "dalla likelihood: -8.055930669620004\n",
      "dalla derivata seconda della likelihood (log(det(A))): 13.00602149939296\n",
      "determinante della matrice delle armoniche cubiche ridotte 4.398986172967873e-36 \n",
      "\n",
      "numero di polinomi cubici fino al grado massimo  16 : 8\n",
      "best alpha: 9.858961300012436e-05 deltalpha: -5.067409518258806e-12\n",
      "best betha: 67.50816922121315 deltbetha: 8.379129781133088e-07\n",
      "logevidence: 1205.7373734306316\n",
      "contributi alla evidence:\n",
      "dalla normalizzazione  -36.89817858692466 1233.0739797226079\n",
      "dalla likelihood: -8.05487779964066\n",
      "dalla derivata seconda della likelihood (log(det(A))): 17.616450094589126\n",
      "determinante della matrice delle armoniche cubiche ridotte 6.455872188065934e-50 \n",
      "\n",
      "numero di polinomi cubici fino al grado massimo  18 : 9\n",
      "best alpha: 9.857242941271886e-05 deltalpha: -5.233871590792048e-12\n",
      "best betha: 67.51156940645711 deltbetha: 8.657593895122773e-07\n",
      "logevidence: 1205.746876601308\n",
      "contributi alla evidence:\n",
      "dalla normalizzazione  -41.51123530207859 1233.084052872739\n",
      "dalla likelihood: -8.054649013110671\n",
      "dalla derivata seconda della likelihood (log(det(A))): 22.228708043758346\n",
      "determinante della matrice delle armoniche cubiche ridotte 6.123449430353027e-66 \n",
      "\n",
      "numero di polinomi cubici fino al grado massimo  20 : 10\n",
      "best alpha: 9.856850903483305e-05 deltalpha: -5.261773994486886e-12\n",
      "best betha: 67.51236217022596 deltbetha: 8.704431877504248e-07\n",
      "logevidence: 1205.7491079682954\n",
      "contributi alla evidence:\n",
      "dalla normalizzazione  -46.1237936417706 1233.0864013861012\n",
      "dalla likelihood: -8.054606842499032\n",
      "dalla derivata seconda della likelihood (log(det(A))): 26.841107066463906\n",
      "determinante della matrice delle armoniche cubiche ridotte 3.0902282660034572e-84 \n",
      "\n",
      "determinante della martice delle armoniche cubiche minore di 1.0e-5, salto\n",
      "determinante della martice delle armoniche cubiche minore di 1.0e-5, salto\n",
      "determinante della martice delle armoniche cubiche minore di 1.0e-5, salto\n",
      "determinante della martice delle armoniche cubiche minore di 1.0e-5, salto\n",
      "parametri ottimali [  -0.23579005  -41.67685496  149.86509678 -187.08157241]\n",
      "numero di armoniche cubiche 4\n",
      "valore a kmin inferito -0.4359056769863674 bias -0.23579005068425407 dato a kmin -0.33587062547763863\n",
      "determinante matrice delle armoniche cubiche ridotte: 3.257647964626124\n",
      "grado ottimale 8 grado massimo tentato 28\n",
      "numero di polinomi nella base ottimale:  4 numero di dati 20\n",
      "best alpha 6.489104439750145e-05\n",
      "best betha 72.64453938287187\n"
     ]
    },
    {
     "data": {
      "application/vnd.jupyter.widget-view+json": {
       "model_id": "ce226a1c3f1b4b6e8c4c52985599d5b8",
       "version_major": 2,
       "version_minor": 0
      },
      "text/plain": [
       "Canvas(toolbar=Toolbar(toolitems=[('Home', 'Reset original view', 'home', 'home'), ('Back', 'Back to previous …"
      ]
     },
     "metadata": {},
     "output_type": "display_data"
    },
    {
     "data": {
      "text/plain": [
       "<ErrorbarContainer object of 3 artists>"
      ]
     },
     "execution_count": 68,
     "metadata": {},
     "output_type": "execute_result"
    }
   ],
   "source": [
    "#Calcolo il best fit su gplot e sd con 50 dati\n",
    "N=20\n",
    "mN, SN, y_infer, sy_infer, spar, log_evidence_vP=\\\n",
    "bayesianL.bestfit(gplot, sd, N, gplot, ifbetha=True, ifprintbestfit= True, ifprintfinal= True, nLbf=0)\n",
    "#Plotto il best fit e i dati (gplot e sd)\n",
    "\n",
    "\n",
    "\n",
    "%matplotlib widget\n",
    "\n",
    "plt.fill_between(np.linalg.norm(gplot[:N], axis=1), y_infer+np.sqrt(sy_infer), y_infer-np.sqrt(sy_infer),  alpha=0.3, color='red')\n",
    "plt.plot(np.linalg.norm(gplot[:N], axis=1), y_infer, '.-', color='red')\n",
    "plt.errorbar(np.linalg.norm(gplot, axis=1), dataplot,datasigmaplot*np.sqrt(10.), fmt='.')"
   ]
  },
  {
   "cell_type": "code",
   "execution_count": 61,
   "id": "d95e4d7f",
   "metadata": {},
   "outputs": [
    {
     "data": {
      "application/vnd.jupyter.widget-view+json": {
       "model_id": "a05701e5b7d0489fbd427118ee75ab5a",
       "version_major": 2,
       "version_minor": 0
      },
      "text/plain": [
       "Canvas(toolbar=Toolbar(toolitems=[('Home', 'Reset original view', 'home', 'home'), ('Back', 'Back to previous …"
      ]
     },
     "metadata": {},
     "output_type": "display_data"
    },
    {
     "data": {
      "text/plain": [
       "[<matplotlib.lines.Line2D at 0x7ff12d49cd00>]"
      ]
     },
     "execution_count": 61,
     "metadata": {},
     "output_type": "execute_result"
    }
   ],
   "source": [
    "#Plotto la funzione di evidence che ho massimizzato per il best fit nella cella precedente\n",
    "%matplotlib widget\n",
    "plt.plot(range(2,(len(log_evidence_vP)+1)*2, 2), log_evidence_vP, '.')"
   ]
  },
  {
   "cell_type": "code",
   "execution_count": 66,
   "id": "50bdcc6a",
   "metadata": {
    "scrolled": false
   },
   "outputs": [
    {
     "name": "stdout",
     "output_type": "stream",
     "text": [
      "0 %\n",
      "20 %\n",
      "40 %\n",
      "60 %\n",
      "80 %\n",
      "100 %\n",
      "0 %\n",
      "20 %\n",
      "40 %\n",
      "60 %\n",
      "80 %\n",
      "100 %\n"
     ]
    }
   ],
   "source": [
    "#Calcolo il best fit includendo sempre piu' punti \n",
    "predbl=[]\n",
    "spredbl=[]\n",
    "Npointsbl=[]\n",
    "for i in range(2):\n",
    "    predb=[]\n",
    "    spredb=[]\n",
    "    Npointsb=[]\n",
    "    for N in range(21, 96):\n",
    "        \n",
    "        mN, SN, y_infer, sy_infer, spar, log_evidence_vP=\\\n",
    "        bayesianL.bestfit(gplot, sd, N, gplot, ifbetha=True, ifprintbestfit=False, ifprintfinal=False, nLbf=i)\n",
    "        Npointsb.append(np.linalg.norm(gplot[N]))\n",
    "        if (N-21)%(70//5)==0: print(int((N-21)/70*100), '%')\n",
    "        predb.append(mN[0])\n",
    "        spredb.append(SN[0,0])\n",
    "    predbl.append(predb)\n",
    "    spredbl.append(spredb)\n",
    "    Npointsbl.append(Npointsb)"
   ]
  },
  {
   "cell_type": "code",
   "execution_count": 67,
   "id": "dcbda2da",
   "metadata": {},
   "outputs": [
    {
     "data": {
      "application/vnd.jupyter.widget-view+json": {
       "model_id": "57bb400141114e75b1d9d1f846fe51e3",
       "version_major": 2,
       "version_minor": 0
      },
      "text/plain": [
       "Canvas(toolbar=Toolbar(toolitems=[('Home', 'Reset original view', 'home', 'home'), ('Back', 'Back to previous …"
      ]
     },
     "metadata": {},
     "output_type": "display_data"
    },
    {
     "data": {
      "text/plain": [
       "Text(0.5, 0, 'k ($nm^{-1}$)')"
      ]
     },
     "execution_count": 67,
     "metadata": {},
     "output_type": "execute_result"
    }
   ],
   "source": [
    "%matplotlib widget\n",
    "fig, ax=plt.subplots(2,constrained_layout=True, figsize=[9,9])\n",
    "\n",
    "\n",
    "ax[0].set_title('Bayesian best model prediction at k=0 with data in range $[: k_{max}]$')\n",
    "L=[0,[0,4],[0,4,6], [0,4,6,8], [0,4,6,8,10]]\n",
    "for i in range(1):\n",
    "    #ax[0].errorbar(np.array(Npointsbl[i]), np.array(predbl[i]), np.sqrt(np.array(spredbl[i])), fmt='.', label=r'$L_{max}$'+'={}'.format(L[i]))\n",
    "    ax[0].errorbar(np.array(Npointsbl[i]), np.exp(np.array(predbl[i])), np.exp(np.array(predbl[i]))*np.sqrt(np.array(spredbl[i])), fmt='.', label=r'$L_{max}$'+'={}'.format(L[i]))\n",
    "ax[0].fill_between(np.array(Npointsbl[0]), np.ones(len(Npointsbl[0]))*0.816-np.ones(len(Npointsbl[0]))*0.021, np.ones(len(Npointsbl[1]))*0.816+np.ones(len(Npointsbl[1]))*0.021, label='GK result', alpha=0.3)    \n",
    "ax[0].set_xlabel('$k_{max} (nm^{-1})$')\n",
    "ax[0].set_ylabel('prediction at k=0')\n",
    "ax[0].legend()\n",
    "ax[1].set_title('Data')\n",
    "\n",
    "ax[1].errorbar(np.linalg.norm(gplot, axis=1), dataplot1,datasigmaplot1*np.sqrt(10.), fmt='.', label='3375 water molecules at 300k 30ns') \n",
    "ax[1].fill_between(np.linalg.norm(gplot, axis=1), np.ones(len(gplot))*0.816-np.ones(len(gplot))*0.021, np.ones(len(gplot))*0.816+np.ones(len(gplot))*0.021, label='GK result', alpha=0.3)    \n",
    "ax[1].legend()\n",
    "\n",
    "ax[1].set_xlabel(r'k ($nm^{-1}$)')"
   ]
  },
  {
   "cell_type": "code",
   "execution_count": null,
   "id": "ceb24129",
   "metadata": {},
   "outputs": [],
   "source": []
  }
 ],
 "metadata": {
  "kernelspec": {
   "display_name": "Python 3 (ipykernel)",
   "language": "python",
   "name": "python3"
  },
  "language_info": {
   "codemirror_mode": {
    "name": "ipython",
    "version": 3
   },
   "file_extension": ".py",
   "mimetype": "text/x-python",
   "name": "python",
   "nbconvert_exporter": "python",
   "pygments_lexer": "ipython3",
   "version": "3.9.7"
  }
 },
 "nbformat": 4,
 "nbformat_minor": 5
}
