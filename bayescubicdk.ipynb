{
 "cells": [
  {
   "cell_type": "code",
   "execution_count": 1,
   "metadata": {},
   "outputs": [],
   "source": [
    "import numpy as np\n",
    "from modules import bayesianL\n",
    "from modules import cubicharmonics\n",
    "import matplotlib.pyplot as plt\n",
    "import copy\n",
    "\n",
    "def cubicarray(MM, pr=False):\n",
    "    if pr: print('numero di elementi: ', len(MM))\n",
    "    # In input bisogna fornire la lista dei monomi M. Ogni elemento della lista M e'\n",
    "    # una lista [a,b,c] tale per cui M_i=x^{2a}y^{2b}z^{2c} e a+b+c=n, dove n e' il grado del monomio.\n",
    "    # I monomi in input comprendono tutte le permutazioni.\n",
    "    # Voglio ora applicare le permutazioni x,y,z in modo da simmetrizzare i monomi e ottenere le armoniche cubiche.\n",
    "    lenM = len(MM)\n",
    "    M=[]\n",
    "    #Converto M a una lista di liste\n",
    "    for i in range(len(MM)):\n",
    "        M.append(list(MM[i]))\n",
    "    Mt = copy.copy(M)\n",
    "    # devo prima capire nella base dei monomi quali sono legati da permutazione. posso nominarli.\n",
    "    nameC = []\n",
    "    conta = 0\n",
    "    contaci = 0\n",
    "    if pr: print('numero cicli teornicamente necessari', int(len(M) ** 2 * 3 / 2))\n",
    "    for i in range(lenM):\n",
    "        rep = M[i]\n",
    "        # rep (M[i]) e' il mio rappresentante nella lista,\n",
    "        # voglio vedere quali altri elementi sono equivalenti per permutazione a rep\n",
    "        nameC_i = []\n",
    "        if not (rep in Mt): continue\n",
    "        # se rep non sta nella lista temporanea Mt significa che e' equivalente a un elemento precedente: salto il ciclo\n",
    "        nameC_i.append(np.array(rep))\n",
    "        # in nameC_i inserisco gli elementi equivalenti per simmetria a rep\n",
    "        for j in range(i + 1, lenM):\n",
    "            # parto a cercare dall'elemento successivo nella lista, gli altri li ho gia' sicuramente controllati.\n",
    "            Mjt = list(copy.copy(M[j]))\n",
    "        \n",
    "            if rep[0] in Mjt:\n",
    "                Mjt.remove(rep[0])\n",
    "                if rep[1] in Mjt:\n",
    "                    Mjt.remove(rep[1])\n",
    "                    if rep[2] in Mjt:\n",
    "                        # rep e M[j] sono simmetrici per permutazione!\n",
    "                        nameC_i.append(np.array(M[j]))\n",
    "                        Mt.remove(M[j])\n",
    "                        \n",
    "                        # rimuovo da Mt l'elemento M[j] che e' simmetrico per permutazione a rep\n",
    "                        conta += 1\n",
    "        contaci += len(nameC_i)\n",
    "        nameC.append(nameC_i)\n",
    "        # aggiungo la lista degli elementi associati a M[i], nameC_i, alla lista degli elementi NON equivalenti, nameC!\n",
    "    if contaci != len(M): raise ValueError\n",
    "    if pr: print('numero cicli compiuti', conta)\n",
    "    if pr: print('numero di elementi non equivalenti per simmetria cubica: ', len(nameC))\n",
    "    # in output c'e' la lista degli elementi che formano una classe di equivalenza.\n",
    "    return nameC\n",
    "\n",
    "def datadicG(data, sigmadata, G):\n",
    "\n",
    "    dicdata = {}\n",
    "    \n",
    "    dicsigma = {}\n",
    "    \n",
    "    for i in range(len(G)):\n",
    "        dicdata[tuple(G[i])] = data[i]\n",
    "        dicsigma[tuple(G[i])] = sigmadata[i]\n",
    "        \n",
    "    return dicdata, dicsigma\n",
    "\n",
    "def datiplot(C, dic, dics):\n",
    "    gplot=[]\n",
    "    dataplot=[]\n",
    "    datasigmaplot=[]\n",
    "    for i in range(len(C)):\n",
    "        gplot.append(np.linalg.norm(C[i][0]))\n",
    "        dataav=0\n",
    "        datasigma=0\n",
    "        for j in range(len(C[i])):\n",
    "            dataav+=dic[tuple(C[i][j])]/len(C[i])  \n",
    "            datasigma+=(dics[tuple(C[i][j])]/len(C[i])  )**2\n",
    "        dataplot.append(dataav)\n",
    "        datasigmaplot.append(np.sqrt(datasigma))\n",
    "    return np.array(gplot), np.array(dataplot), np.array(datasigmaplot)\n",
    "\n"
   ]
  },
  {
   "cell_type": "code",
   "execution_count": 2,
   "metadata": {},
   "outputs": [
    {
     "name": "stdout",
     "output_type": "stream",
     "text": [
      "[0. 0. 1.] [1. 0. 0.] [0. 1. 0.]\n"
     ]
    }
   ],
   "source": [
    "data=np.transpose(np.loadtxt('/Users/enricodrigo/Documents/LAMMPS/tpc30ns3375/nlttk.out'))\n",
    "\n",
    "sdata, grid = bayesianL.generatesorteddata(data, 500)"
   ]
  },
  {
   "cell_type": "code",
   "execution_count": 3,
   "metadata": {},
   "outputs": [
    {
     "name": "stderr",
     "output_type": "stream",
     "text": [
      "WARNING:root:HO IMPOSTATO A MANO CHE 2\\PI/L = 0.13484487571168569\n"
     ]
    },
    {
     "name": "stdout",
     "output_type": "stream",
     "text": [
      "parametri ottimali [  0.5554527  -18.21726707  15.21825071  74.64502826   8.5390216\n",
      "  56.00742766  17.53189879 -14.66491996  85.06745701 -34.37627479\n",
      "  -3.2738066  156.10455046  13.42204688  26.66743393  88.17314559\n",
      "   4.52328597 -26.01742919 -13.72720063 -16.14700532  11.58826412\n",
      " -55.38757744  19.41485723  27.84690006  -8.21900877  10.28867548\n",
      " -50.71972949 -88.35945138 -30.2997949   21.66233925  60.4489216\n",
      "  13.86817726]\n",
      "numero di armoniche cubiche 19\n",
      "valore a kmin inferito 0.5137340503310085 bias 0.5554526955835611 dato a kmin 0.7160646415940555\n",
      "determinante matrice delle armoniche cubiche ridotte: 0.006478899954671001\n"
     ]
    }
   ],
   "source": [
    "mN, SN, y_infer, sy_infer=bayesianL.bayesianpol(grid,sdata,12,200,0.001,grid,True)"
   ]
  },
  {
   "cell_type": "code",
   "execution_count": 4,
   "metadata": {
    "scrolled": false
   },
   "outputs": [
    {
     "name": "stderr",
     "output_type": "stream",
     "text": [
      "WARNING:root:HO IMPOSTATO A MANO CHE 2\\PI/L = 0.13484487571168569\n"
     ]
    },
    {
     "name": "stdout",
     "output_type": "stream",
     "text": [
      "parametri ottimali [   0.8368631   -34.49955449   25.698178    538.58331262 -105.34921635\n",
      "  125.27979778 -164.57441702  112.16088156   16.7047552   272.33519646\n",
      " -163.96819618 -189.6619525  -262.12672468  226.87013708 -165.47661183\n",
      "  225.89138642  -98.02588754   99.02825421 -101.33199162 -103.61132244\n",
      "  294.8317675   -57.42855976   79.28061217 -177.98627394   56.86518567]\n",
      "numero di armoniche cubiche 14\n",
      "valore a kmin inferito 0.6726150930788569 bias 0.8368631023892266 dato a kmin 0.7160646415940555\n",
      "determinante matrice delle armoniche cubiche ridotte: 3.998813775295752e-05\n",
      "grado ottimale 20 grado massimo tentato 28\n"
     ]
    }
   ],
   "source": [
    "N=100\n",
    "mN, SN, y_infer, sy_infer, spar, log_evidence_vP=bayesianL.bestfit(grid, sdata, N, grid, False, True)"
   ]
  },
  {
   "cell_type": "code",
   "execution_count": 5,
   "metadata": {},
   "outputs": [
    {
     "data": {
      "application/vnd.jupyter.widget-view+json": {
       "model_id": "6ee5fee23cf749b1ad2a7a563a929559",
       "version_major": 2,
       "version_minor": 0
      },
      "text/plain": [
       "Canvas(toolbar=Toolbar(toolitems=[('Home', 'Reset original view', 'home', 'home'), ('Back', 'Back to previous …"
      ]
     },
     "metadata": {},
     "output_type": "display_data"
    },
    {
     "data": {
      "text/plain": [
       "[<matplotlib.lines.Line2D at 0x7f84e9339bb0>]"
      ]
     },
     "execution_count": 5,
     "metadata": {},
     "output_type": "execute_result"
    }
   ],
   "source": [
    "%matplotlib widget\n",
    "plt.plot(log_evidence_vP, '.')"
   ]
  },
  {
   "cell_type": "code",
   "execution_count": 6,
   "metadata": {},
   "outputs": [
    {
     "name": "stdout",
     "output_type": "stream",
     "text": [
      "numero di elementi:  499\n",
      "numero cicli teornicamente necessari 373501\n",
      "numero cicli compiuti 381\n",
      "numero di elementi non equivalenti per simmetria cubica:  118\n",
      "numero di elementi:  100\n",
      "numero cicli teornicamente necessari 15000\n",
      "numero cicli compiuti 72\n",
      "numero di elementi non equivalenti per simmetria cubica:  28\n"
     ]
    },
    {
     "data": {
      "application/vnd.jupyter.widget-view+json": {
       "model_id": "e63fa0c91fa84ec5933c734eb97f50bc",
       "version_major": 2,
       "version_minor": 0
      },
      "text/plain": [
       "Canvas(toolbar=Toolbar(toolitems=[('Home', 'Reset original view', 'home', 'home'), ('Back', 'Back to previous …"
      ]
     },
     "metadata": {},
     "output_type": "display_data"
    },
    {
     "data": {
      "text/plain": [
       "<ErrorbarContainer object of 3 artists>"
      ]
     },
     "execution_count": 6,
     "metadata": {},
     "output_type": "execute_result"
    }
   ],
   "source": [
    "C=cubicarray(list(grid), True)\n",
    "dic, dics=datadicG(data[1], data[2],cubicharmonics.Gvecgenerateall(500)[1:])\n",
    "gplot, dataplot, datasigmaplot=datiplot(C, dic, dics)\n",
    "C=cubicarray(grid[:N], True)\n",
    "dic, dics=datadicG(y_infer, np.sqrt(sy_infer), grid[:N])\n",
    "gplotfit, dataplotfit, datasigmaplotfit=datiplot(C, dic, dics)\n",
    "%matplotlib widget\n",
    "\n",
    "plt.fill_between(gplotfit, dataplotfit+datasigmaplotfit, dataplotfit-datasigmaplotfit,  alpha=0.3, color='red')\n",
    "plt.plot(gplotfit, dataplotfit, '.-', color='red')\n",
    "plt.errorbar(gplot, dataplot,datasigmaplot, fmt='.')"
   ]
  },
  {
   "cell_type": "code",
   "execution_count": 7,
   "metadata": {
    "scrolled": true
   },
   "outputs": [
    {
     "name": "stderr",
     "output_type": "stream",
     "text": [
      "WARNING:root:HO IMPOSTATO A MANO CHE 2\\PI/L = 0.13484487571168569\n"
     ]
    },
    {
     "name": "stdout",
     "output_type": "stream",
     "text": [
      "parametri ottimali [  0.77774206 -12.70621291   8.81686641   3.68644101   2.06169697\n",
      "   0.39058681   6.24996406  -4.81184883  -0.84418387  -4.3141487\n",
      "  -1.5952245   -0.10416086  -3.25248243   1.73842055   4.62723516\n",
      "   1.75159095]\n",
      "numero di armoniche cubiche 8\n",
      "valore a kmin inferito 0.6533096846667465 bias 0.7777420573248567 dato a kmin 0.7160646415940555\n",
      "determinante matrice delle armoniche cubiche ridotte: 388.24889336821275\n",
      "grado ottimale 14 grado massimo tentato 28\n",
      "4.123105625617661 [1. 4. 0.] 61\n"
     ]
    },
    {
     "name": "stderr",
     "output_type": "stream",
     "text": [
      "WARNING:root:HO IMPOSTATO A MANO CHE 2\\PI/L = 0.13484487571168569\n"
     ]
    },
    {
     "name": "stdout",
     "output_type": "stream",
     "text": [
      "parametri ottimali [ 9.08798871e-01 -2.62320489e+01  8.78174835e+01 -1.13415148e+03\n",
      " -4.80911659e+01 -2.93553946e+02 -3.47946237e+01  3.92889044e+01\n",
      " -9.82089125e+01  1.23191873e+01 -5.97259329e+00 -1.01022966e+01\n",
      " -1.47663964e-02]\n",
      "numero di armoniche cubiche 7\n",
      "valore a kmin inferito 0.6902957247979573 bias 0.9087988709361281 dato a kmin 0.7160646415940555\n",
      "determinante matrice delle armoniche cubiche ridotte: 2.7633319219381736e+16\n",
      "grado ottimale 12 grado massimo tentato 28\n",
      "4.242640687119285 [3. 3. 0.] 63\n"
     ]
    },
    {
     "name": "stderr",
     "output_type": "stream",
     "text": [
      "WARNING:root:HO IMPOSTATO A MANO CHE 2\\PI/L = 0.13484487571168569\n"
     ]
    },
    {
     "name": "stdout",
     "output_type": "stream",
     "text": [
      "parametri ottimali [  0.76502504 -13.64874781   8.556546     5.74472098   4.96268448\n",
      "   0.91152911   9.14365079  -5.48491982  -0.68483766  -6.46383913\n",
      "  -8.90241062   2.02568356  -7.84779349  13.15363175  15.57792172\n",
      "   8.55297922  -4.74250992  -9.57906867  -2.26788078]\n",
      "numero di armoniche cubiche 10\n",
      "valore a kmin inferito 0.6488017565693986 bias 0.7650250427240255 dato a kmin 0.7160646415940555\n",
      "determinante matrice delle armoniche cubiche ridotte: 6657047.564805969\n",
      "grado ottimale 16 grado massimo tentato 28\n",
      "4.358898943540674 [1. 3. 3.] 69\n"
     ]
    },
    {
     "name": "stderr",
     "output_type": "stream",
     "text": [
      "WARNING:root:HO IMPOSTATO A MANO CHE 2\\PI/L = 0.13484487571168569\n"
     ]
    },
    {
     "name": "stdout",
     "output_type": "stream",
     "text": [
      "parametri ottimali [  0.77549754 -15.12148793   9.11902026  -1.0079349   11.62898746\n",
      "   2.76235302  15.40098411 -13.70987655   9.42230826 -17.99258139\n",
      " -15.4747426   14.05919758  -8.59091757  24.39450319   2.58980212\n",
      "  21.39763334  -7.23310538   8.70032155  -7.57717263]\n",
      "numero di armoniche cubiche 10\n",
      "valore a kmin inferito 0.653632376299565 bias 0.7754975413150287 dato a kmin 0.7160646415940555\n",
      "determinante matrice delle armoniche cubiche ridotte: 800275.3273902357\n",
      "grado ottimale 16 grado massimo tentato 28\n",
      "4.47213595499958 [0. 2. 4.] 72\n"
     ]
    },
    {
     "name": "stderr",
     "output_type": "stream",
     "text": [
      "WARNING:root:HO IMPOSTATO A MANO CHE 2\\PI/L = 0.13484487571168569\n"
     ]
    },
    {
     "name": "stdout",
     "output_type": "stream",
     "text": [
      "parametri ottimali [  0.78429282 -17.52394318  11.22419075  -4.63248663  15.09631044\n",
      "   1.23607008  26.54102393 -23.45525056  -6.86042688 -36.65144675\n",
      "  -5.25970813 -11.20475508  -6.05275377  20.1768002  -20.00786242\n",
      "  18.57277404   8.97442327  -9.26154484   8.55403839 -10.93657002\n",
      "   9.81250772 -10.41942886]\n",
      "numero di armoniche cubiche 12\n",
      "valore a kmin inferito 0.6564745148862464 bias 0.7842928234959039 dato a kmin 0.7160646415940555\n",
      "determinante matrice delle armoniche cubiche ridotte: 6.519775643415926\n",
      "grado ottimale 18 grado massimo tentato 28\n",
      "4.58257569495584 [4. 1. 2.] 78\n"
     ]
    },
    {
     "name": "stderr",
     "output_type": "stream",
     "text": [
      "WARNING:root:HO IMPOSTATO A MANO CHE 2\\PI/L = 0.13484487571168569\n"
     ]
    },
    {
     "name": "stdout",
     "output_type": "stream",
     "text": [
      "parametri ottimali [ 8.28898471e-01 -2.55675513e+01  4.57151923e+01 -1.00461174e+03\n",
      " -3.40836297e+01  6.73715573e+02  2.85079523e+01 -1.32847842e+01\n",
      " -9.73359135e+01 -4.26667613e+01  9.65751168e+00  1.74387289e+02\n",
      "  3.19382824e+01  2.93258255e+00  1.73255696e+02  1.79751819e+01\n",
      " -1.48172490e+00 -1.70241896e+02 -1.85719376e+01]\n",
      "numero di armoniche cubiche 10\n",
      "valore a kmin inferito 0.6689088718604687 bias 0.8288984712278942 dato a kmin 0.7160646415940555\n",
      "determinante matrice delle armoniche cubiche ridotte: 34413.07797551152\n",
      "grado ottimale 16 grado massimo tentato 28\n",
      "4.69041575982343 [3. 3. 2.] 84\n"
     ]
    },
    {
     "name": "stderr",
     "output_type": "stream",
     "text": [
      "WARNING:root:HO IMPOSTATO A MANO CHE 2\\PI/L = 0.13484487571168569\n"
     ]
    },
    {
     "name": "stdout",
     "output_type": "stream",
     "text": [
      "parametri ottimali [  0.73285244 -16.52306701  12.66953931   3.27732237   6.33769216\n",
      "  -3.24027642   8.66670238 -16.54413325   0.94899059  -7.38251574\n",
      "   3.09743073   3.65683441  -2.83537613   6.73200996  14.8843305\n",
      "   1.65625549  -0.63205443  12.8907259   -0.04219233  -0.69030857\n",
      "  -6.04110016   0.27750638]\n",
      "numero di armoniche cubiche 12\n",
      "valore a kmin inferito 0.6282539968216532 bias 0.732852435086601 dato a kmin 0.7160646415940555\n",
      "determinante matrice delle armoniche cubiche ridotte: 0.001812547979104987\n",
      "grado ottimale 18 grado massimo tentato 28\n",
      "4.898979485566356 [4. 2. 2.] 87\n"
     ]
    },
    {
     "name": "stderr",
     "output_type": "stream",
     "text": [
      "WARNING:root:HO IMPOSTATO A MANO CHE 2\\PI/L = 0.13484487571168569\n"
     ]
    },
    {
     "name": "stdout",
     "output_type": "stream",
     "text": [
      "parametri ottimali [  0.7920804  -24.21405683  24.09682612  71.97423323 -22.75250041\n",
      "  70.02798671 -12.47527651 -35.64078651  60.48010102 -65.28188249\n",
      "  26.24582264  35.10118228  37.78831228   4.36604013   1.02565687\n",
      "   3.17748816  -6.32448239 -29.40255877  -6.83856279]\n",
      "numero di armoniche cubiche 10\n",
      "valore a kmin inferito 0.6530803867584143 bias 0.7920804002750534 dato a kmin 0.7160646415940555\n",
      "determinante matrice delle armoniche cubiche ridotte: 0.4954251495157662\n",
      "grado ottimale 16 grado massimo tentato 28\n",
      "5.0 [5. 0. 0.] 90\n"
     ]
    },
    {
     "name": "stderr",
     "output_type": "stream",
     "text": [
      "WARNING:root:HO IMPOSTATO A MANO CHE 2\\PI/L = 0.13484487571168569\n"
     ]
    },
    {
     "name": "stdout",
     "output_type": "stream",
     "text": [
      "parametri ottimali [ 0.57333643 -8.13120478  3.54819001 -0.22024721  1.58423973 -0.12625561\n",
      "  1.91660556 -1.77297706 -0.02983393 -1.3592266 ]\n",
      "numero di armoniche cubiche 5\n",
      "valore a kmin inferito 0.5287385756800729 bias 0.5733364272220283 dato a kmin 0.7160646415940555\n",
      "determinante matrice delle armoniche cubiche ridotte: 339353054.9997778\n",
      "grado ottimale 10 grado massimo tentato 28\n",
      "5.0990195135927845 [1. 0. 5.] 99\n"
     ]
    },
    {
     "name": "stderr",
     "output_type": "stream",
     "text": [
      "WARNING:root:HO IMPOSTATO A MANO CHE 2\\PI/L = 0.13484487571168569\n"
     ]
    },
    {
     "name": "stdout",
     "output_type": "stream",
     "text": [
      "parametri ottimali [   0.7297934   -22.23061995   13.03590703 -329.23876597    3.50175328\n",
      "  -18.0890063     6.53670398  -22.51886867  -11.32775903  -11.12428763\n",
      "   -2.76115414  184.27750914  -25.67679305   30.10537188  345.63495663\n",
      "   40.99901921   21.1912678   -15.8587664    31.54864087  -21.33185535\n",
      "  -61.61587352  -28.52845765]\n",
      "numero di armoniche cubiche 12\n",
      "valore a kmin inferito 0.6276319086352652 bias 0.7297933997593941 dato a kmin 0.7160646415940555\n",
      "determinante matrice delle armoniche cubiche ridotte: 17178.535992239857\n",
      "grado ottimale 18 grado massimo tentato 28\n",
      "5.196152422706632 [1. 1. 5.] 111\n"
     ]
    },
    {
     "name": "stderr",
     "output_type": "stream",
     "text": [
      "WARNING:root:HO IMPOSTATO A MANO CHE 2\\PI/L = 0.13484487571168569\n"
     ]
    },
    {
     "name": "stdout",
     "output_type": "stream",
     "text": [
      "parametri ottimali [  0.67162351 -17.13013597  10.66781118 -24.2956638   17.50424996\n",
      "  41.9895286   34.75997425 -33.79113526  73.54887098 -66.43908668\n",
      "   8.76974271  58.47281805  24.80838519  23.52718149  48.50948794\n",
      "  25.507995     2.97205163  44.43026514   5.73397376 -20.44998199\n",
      "  -2.8637906  -31.85387898   8.91306718  -9.29165022  13.4752961 ]\n",
      "numero di armoniche cubiche 14\n",
      "valore a kmin inferito 0.5941353997284272 bias 0.6716235093392084 dato a kmin 0.7160646415940555\n",
      "determinante matrice delle armoniche cubiche ridotte: 982.9242177673337\n",
      "grado ottimale 20 grado massimo tentato 28\n",
      "5.385164807134504 [3. 4. 2.] 115\n"
     ]
    },
    {
     "name": "stderr",
     "output_type": "stream",
     "text": [
      "WARNING:root:HO IMPOSTATO A MANO CHE 2\\PI/L = 0.13484487571168569\n"
     ]
    },
    {
     "name": "stdout",
     "output_type": "stream",
     "text": [
      "parametri ottimali [   0.69246128  -21.87690919    7.81978189  228.18893076   26.1942159\n",
      "  -32.38724782   37.34206687  -67.76123971   13.01510214 -103.4232656\n",
      "   43.30629482 -112.78139971   68.51707855   39.87810284 -174.09726024\n",
      "   37.05934492   -4.27320678   21.54706735  -21.6311372   -45.0526406\n",
      "   98.53276445  -47.51342133   25.18557581  -56.90137826   30.75600372]\n",
      "numero di armoniche cubiche 14\n",
      "valore a kmin inferito 0.6058634163046077 bias 0.692461283809694 dato a kmin 0.7160646415940555\n",
      "determinante matrice delle armoniche cubiche ridotte: 534.0275765977916\n",
      "grado ottimale 20 grado massimo tentato 28\n",
      "5.477225575051661 [5. 1. 2.] 127\n"
     ]
    },
    {
     "name": "stderr",
     "output_type": "stream",
     "text": [
      "WARNING:root:HO IMPOSTATO A MANO CHE 2\\PI/L = 0.13484487571168569\n"
     ]
    },
    {
     "name": "stdout",
     "output_type": "stream",
     "text": [
      "parametri ottimali [ 7.17934487e-01 -2.90705907e+01  1.01845280e+02 -3.07994446e+03\n",
      " -5.36657802e+01 -2.86509692e+02 -5.49181806e+01  4.90927822e+01\n",
      " -3.40658733e+02  4.23184151e+01 -1.87657979e+01  1.41380057e+02\n",
      " -1.81385817e+01  3.17251046e+00 -2.26539027e+01  3.04241755e+00]\n",
      "numero di armoniche cubiche 8\n",
      "valore a kmin inferito 0.6151448258676274 bias 0.7179344870770352 dato a kmin 0.7160646415940555\n",
      "determinante matrice delle armoniche cubiche ridotte: 3.408515139252462e+18\n",
      "grado ottimale 14 grado massimo tentato 28\n",
      "5.656854249492381 [0. 4. 4.] 133\n"
     ]
    },
    {
     "name": "stderr",
     "output_type": "stream",
     "text": [
      "WARNING:root:HO IMPOSTATO A MANO CHE 2\\PI/L = 0.13484487571168569\n"
     ]
    },
    {
     "name": "stdout",
     "output_type": "stream",
     "text": [
      "parametri ottimali [ 7.14627389e-01 -2.93727781e+01  9.60904310e+01 -2.93276504e+03\n",
      " -4.52106682e+01 -8.22664084e+02 -7.05779246e+01  5.99816964e+01\n",
      " -6.89496521e+02  4.68121918e+01 -3.19013040e+01  5.89902708e+02\n",
      " -1.79323576e+01  5.06658536e+00 -9.00920573e+01  3.97747819e+00]\n",
      "numero di armoniche cubiche 8\n",
      "valore a kmin inferito 0.613762826552636 bias 0.7146273889300574 dato a kmin 0.7160646415940555\n",
      "determinante matrice delle armoniche cubiche ridotte: 771976160481300.4\n",
      "grado ottimale 14 grado massimo tentato 28\n",
      "5.744562646538029 [2. 5. 2.] 136\n"
     ]
    }
   ],
   "source": [
    "pred=[]\n",
    "spred=[]\n",
    "Npoints=[]\n",
    "r=0\n",
    "for N in range(60, 140):\n",
    "    \n",
    "    if r==np.linalg.norm(grid[N]): continue\n",
    "    r=np.linalg.norm(grid[N+1])\n",
    "    mN, SN, y_infer, sy_infer, spar, log_evidence_vP=bayesianL.bestfit(grid, sdata, N+1, grid, False, True)\n",
    "    Npoints.append(np.linalg.norm(grid[N+1]))\n",
    "    print(r, grid[N+1], N+1)\n",
    "    pred.append(mN[0])\n",
    "    spred.append(SN[0,0])"
   ]
  },
  {
   "cell_type": "code",
   "execution_count": 8,
   "metadata": {
    "scrolled": false
   },
   "outputs": [
    {
     "data": {
      "application/vnd.jupyter.widget-view+json": {
       "model_id": "224a3d96adce4c85b978c7187fb54393",
       "version_major": 2,
       "version_minor": 0
      },
      "text/plain": [
       "Canvas(toolbar=Toolbar(toolitems=[('Home', 'Reset original view', 'home', 'home'), ('Back', 'Back to previous …"
      ]
     },
     "metadata": {},
     "output_type": "display_data"
    },
    {
     "name": "stderr",
     "output_type": "stream",
     "text": [
      "WARNING:matplotlib.legend:No handles with labels found to put in legend.\n"
     ]
    },
    {
     "data": {
      "text/plain": [
       "Text(0, 0.5, '$\\\\frac{E}{\\\\triangledown(T)}$ (V/K)')"
      ]
     },
     "execution_count": 8,
     "metadata": {},
     "output_type": "execute_result"
    }
   ],
   "source": [
    "%matplotlib widget\n",
    "fig, ax=plt.subplots(2,constrained_layout=True, figsize=[9,9])\n",
    "\n",
    "\n",
    "ax[0].set_title('Bayesian best model prediction at k=0 with data in range $[: k_{max}]$')\n",
    "\n",
    "ax[0].errorbar(np.array(Npoints), np.array(pred), np.sqrt(np.array(spred)), fmt='.')\n",
    "    \n",
    "ax[0].set_xlabel('$k_{max} (nm^{-1})$')\n",
    "ax[0].set_ylabel('prediction at k=0')\n",
    "ax[0].legend()\n",
    "#ax[1].set_title('Best fit at k=0 with data in range $[k_{min}: k_{max}]$')\n",
    "#\n",
    "#for i in range(1,len(Ndat)):\n",
    "#    #ax.plot(sdata[0][Ndat[i]]*10, mNs[Ndat[i]][0], 'o-')\n",
    "#    ax[1].errorbar(sdata[0][Ndat[i]]*10,resN[i][1], resN[i][2], fmt='o')\n",
    "#    \n",
    "#ax[1].set_xlabel('$k_{max} (nm^{-1})$')\n",
    "#ax[1].set_ylabel('prediction at k=0')\n",
    "#ax[1].legend()\n",
    "ax[1].set_title('Data')\n",
    "\n",
    "ax[1].errorbar(gplot, dataplot,datasigmaplot, fmt='.', label='3375 water molecules at 300k 30ns') \n",
    "\n",
    "ax[1].legend()\n",
    "\n",
    "ax[1].set_xlabel(r'k ($nm^{-1}$)')\n",
    "ax[1].set_ylabel(r'$\\frac{E}{\\triangledown(T)}$ (V/K)')"
   ]
  },
  {
   "cell_type": "code",
   "execution_count": 39,
   "metadata": {
    "scrolled": false
   },
   "outputs": [
    {
     "name": "stderr",
     "output_type": "stream",
     "text": [
      "WARNING:root:HO IMPOSTATO A MANO CHE 2\\PI/L = 0.13484487571168569\n",
      "WARNING:root:HO IMPOSTATO A MANO CHE 2\\PI/L = 0.13484487571168569\n",
      "WARNING:root:HO IMPOSTATO A MANO CHE 2\\PI/L = 0.13484487571168569\n",
      "WARNING:root:HO IMPOSTATO A MANO CHE 2\\PI/L = 0.13484487571168569\n",
      "WARNING:root:HO IMPOSTATO A MANO CHE 2\\PI/L = 0.13484487571168569\n",
      "WARNING:root:HO IMPOSTATO A MANO CHE 2\\PI/L = 0.13484487571168569\n",
      "WARNING:root:HO IMPOSTATO A MANO CHE 2\\PI/L = 0.13484487571168569\n",
      "WARNING:root:HO IMPOSTATO A MANO CHE 2\\PI/L = 0.13484487571168569\n",
      "WARNING:root:HO IMPOSTATO A MANO CHE 2\\PI/L = 0.13484487571168569\n",
      "WARNING:root:HO IMPOSTATO A MANO CHE 2\\PI/L = 0.13484487571168569\n",
      "WARNING:root:HO IMPOSTATO A MANO CHE 2\\PI/L = 0.13484487571168569\n",
      "WARNING:root:HO IMPOSTATO A MANO CHE 2\\PI/L = 0.13484487571168569\n",
      "WARNING:root:HO IMPOSTATO A MANO CHE 2\\PI/L = 0.13484487571168569\n",
      "WARNING:root:HO IMPOSTATO A MANO CHE 2\\PI/L = 0.13484487571168569\n"
     ]
    },
    {
     "name": "stdout",
     "output_type": "stream",
     "text": [
      "model average prediction 0.0028915591787525984 4.835424546097271e-05\n"
     ]
    }
   ],
   "source": [
    "mr, sr, logevidence= bayesianL.bayesianmodelprediction(grid, sdata, N, grid, False, True)"
   ]
  },
  {
   "cell_type": "code",
   "execution_count": 46,
   "metadata": {},
   "outputs": [
    {
     "name": "stdout",
     "output_type": "stream",
     "text": [
      "[0. 0. 1.] 1.0 0\n",
      "[1. 0. 0.] 1.0 1\n",
      "[0. 1. 0.] 1.0 2\n",
      "[0. 1. 1.] 1.4142135623730951 3\n",
      "[1. 0. 1.] 1.4142135623730951 4\n",
      "[1. 1. 0.] 1.4142135623730951 5\n",
      "[1. 1. 1.] 1.7320508075688772 6\n",
      "[0. 0. 2.] 2.0 7\n",
      "[0. 2. 0.] 2.0 8\n",
      "[2. 0. 0.] 2.0 9\n",
      "[2. 0. 1.] 2.23606797749979 10\n",
      "[0. 1. 2.] 2.23606797749979 11\n",
      "[1. 2. 0.] 2.23606797749979 12\n",
      "[1. 0. 2.] 2.23606797749979 13\n",
      "[2. 1. 0.] 2.23606797749979 14\n",
      "[0. 2. 1.] 2.23606797749979 15\n",
      "[1. 1. 2.] 2.449489742783178 16\n",
      "[2. 1. 1.] 2.449489742783178 17\n",
      "[1. 2. 1.] 2.449489742783178 18\n",
      "[2. 2. 0.] 2.8284271247461903 19\n",
      "[2. 0. 2.] 2.8284271247461903 20\n",
      "[0. 2. 2.] 2.8284271247461903 21\n",
      "[1. 2. 2.] 3.0 22\n",
      "[2. 2. 1.] 3.0 23\n",
      "[0. 3. 0.] 3.0 24\n",
      "[0. 0. 3.] 3.0 25\n",
      "[3. 0. 0.] 3.0 26\n",
      "[2. 1. 2.] 3.0 27\n",
      "[1. 3. 0.] 3.1622776601683795 28\n",
      "[3. 1. 0.] 3.1622776601683795 29\n",
      "[1. 0. 3.] 3.1622776601683795 30\n",
      "[0. 3. 1.] 3.1622776601683795 31\n",
      "[0. 1. 3.] 3.1622776601683795 32\n",
      "[3. 0. 1.] 3.1622776601683795 33\n",
      "[1. 1. 3.] 3.3166247903554 34\n",
      "[1. 3. 1.] 3.3166247903554 35\n",
      "[3. 1. 1.] 3.3166247903554 36\n",
      "[2. 2. 2.] 3.4641016151377544 37\n",
      "[0. 3. 2.] 3.605551275463989 38\n",
      "[3. 0. 2.] 3.605551275463989 39\n",
      "[3. 2. 0.] 3.605551275463989 40\n",
      "[2. 3. 0.] 3.605551275463989 41\n",
      "[2. 0. 3.] 3.605551275463989 42\n",
      "[0. 2. 3.] 3.605551275463989 43\n",
      "[2. 3. 1.] 3.7416573867739413 44\n",
      "[3. 2. 1.] 3.7416573867739413 45\n",
      "[1. 2. 3.] 3.7416573867739413 46\n",
      "[2. 1. 3.] 3.7416573867739413 47\n",
      "[1. 3. 2.] 3.7416573867739413 48\n",
      "[3. 1. 2.] 3.7416573867739413 49\n",
      "[0. 0. 4.] 4.0 50\n",
      "[0. 4. 0.] 4.0 51\n",
      "[4. 0. 0.] 4.0 52\n",
      "[3. 2. 2.] 4.123105625617661 53\n",
      "[2. 3. 2.] 4.123105625617661 54\n",
      "[1. 4. 0.] 4.123105625617661 55\n",
      "[2. 2. 3.] 4.123105625617661 56\n",
      "[0. 4. 1.] 4.123105625617661 57\n",
      "[1. 0. 4.] 4.123105625617661 58\n",
      "[0. 1. 4.] 4.123105625617661 59\n",
      "[4. 1. 0.] 4.123105625617661 60\n",
      "[4. 0. 1.] 4.123105625617661 61\n",
      "[0. 3. 3.] 4.242640687119285 62\n",
      "[1. 4. 1.] 4.242640687119285 63\n",
      "[3. 0. 3.] 4.242640687119285 64\n",
      "[4. 1. 1.] 4.242640687119285 65\n",
      "[1. 1. 4.] 4.242640687119285 66\n",
      "[3. 3. 0.] 4.242640687119285 67\n",
      "[3. 1. 3.] 4.358898943540674 68\n",
      "[3. 3. 1.] 4.358898943540674 69\n",
      "[1. 3. 3.] 4.358898943540674 70\n",
      "[2. 4. 0.] 4.47213595499958 71\n",
      "[0. 2. 4.] 4.47213595499958 72\n",
      "[4. 2. 0.] 4.47213595499958 73\n",
      "[0. 4. 2.] 4.47213595499958 74\n",
      "[2. 0. 4.] 4.47213595499958 75\n",
      "[4. 0. 2.] 4.47213595499958 76\n",
      "[2. 4. 1.] 4.58257569495584 77\n",
      "[2. 1. 4.] 4.58257569495584 78\n",
      "[1. 2. 4.] 4.58257569495584 79\n",
      "[4. 1. 2.] 4.58257569495584 80\n",
      "[4. 2. 1.] 4.58257569495584 81\n",
      "[1. 4. 2.] 4.58257569495584 82\n",
      "[3. 2. 3.] 4.69041575982343 83\n",
      "[3. 3. 2.] 4.69041575982343 84\n",
      "[2. 3. 3.] 4.69041575982343 85\n",
      "[2. 4. 2.] 4.898979485566356 86\n",
      "[4. 2. 2.] 4.898979485566356 87\n",
      "[2. 2. 4.] 4.898979485566356 88\n",
      "[4. 3. 0.] 5.0 89\n",
      "[0. 5. 0.] 5.0 90\n",
      "[5. 0. 0.] 5.0 91\n",
      "[0. 3. 4.] 5.0 92\n",
      "[0. 0. 5.] 5.0 93\n",
      "[4. 0. 3.] 5.0 94\n",
      "[0. 4. 3.] 5.0 95\n",
      "[3. 0. 4.] 5.0 96\n",
      "[3. 4. 0.] 5.0 97\n",
      "[0. 1. 5.] 5.0990195135927845 98\n",
      "[5. 1. 0.] 5.0990195135927845 99\n",
      "[1. 0. 5.] 5.0990195135927845 100\n",
      "[1. 3. 4.] 5.0990195135927845 101\n",
      "[1. 4. 3.] 5.0990195135927845 102\n",
      "[5. 0. 1.] 5.0990195135927845 103\n",
      "[4. 3. 1.] 5.0990195135927845 104\n",
      "[0. 5. 1.] 5.0990195135927845 105\n",
      "[1. 5. 0.] 5.0990195135927845 106\n",
      "[3. 1. 4.] 5.0990195135927845 107\n",
      "[4. 1. 3.] 5.0990195135927845 108\n",
      "[3. 4. 1.] 5.0990195135927845 109\n",
      "[5. 1. 1.] 5.196152422706632 110\n",
      "[1. 5. 1.] 5.196152422706632 111\n",
      "[3. 3. 3.] 5.196152422706632 112\n",
      "[1. 1. 5.] 5.196152422706632 113\n",
      "[0. 2. 5.] 5.385164807134504 114\n",
      "[4. 2. 3.] 5.385164807134504 115\n",
      "[4. 3. 2.] 5.385164807134504 116\n",
      "[2. 5. 0.] 5.385164807134504 117\n",
      "[5. 2. 0.] 5.385164807134504 118\n",
      "[3. 4. 2.] 5.385164807134504 119\n",
      "[2. 4. 3.] 5.385164807134504 120\n",
      "[2. 0. 5.] 5.385164807134504 121\n",
      "[3. 2. 4.] 5.385164807134504 122\n",
      "[5. 0. 2.] 5.385164807134504 123\n",
      "[2. 3. 4.] 5.385164807134504 124\n",
      "[0. 5. 2.] 5.385164807134504 125\n",
      "[2. 5. 1.] 5.477225575051661 126\n",
      "[5. 1. 2.] 5.477225575051661 127\n",
      "[1. 2. 5.] 5.477225575051661 128\n",
      "[5. 2. 1.] 5.477225575051661 129\n",
      "[2. 1. 5.] 5.477225575051661 130\n",
      "[1. 5. 2.] 5.477225575051661 131\n",
      "[4. 0. 4.] 5.656854249492381 132\n",
      "[0. 4. 4.] 5.656854249492381 133\n",
      "[4. 4. 0.] 5.656854249492381 134\n",
      "[2. 2. 5.] 5.744562646538029 135\n",
      "[4. 1. 4.] 5.744562646538029 136\n",
      "[1. 4. 4.] 5.744562646538029 137\n",
      "[2. 5. 2.] 5.744562646538029 138\n",
      "[4. 4. 1.] 5.744562646538029 139\n",
      "[5. 2. 2.] 5.744562646538029 140\n",
      "[5. 3. 0.] 5.830951894845301 141\n",
      "[5. 0. 3.] 5.830951894845301 142\n",
      "[4. 3. 3.] 5.830951894845301 143\n",
      "[0. 5. 3.] 5.830951894845301 144\n",
      "[0. 3. 5.] 5.830951894845301 145\n",
      "[3. 0. 5.] 5.830951894845301 146\n",
      "[3. 3. 4.] 5.830951894845301 147\n",
      "[3. 4. 3.] 5.830951894845301 148\n",
      "[3. 5. 0.] 5.830951894845301 149\n",
      "[3. 5. 1.] 5.916079783099616 150\n",
      "[5. 1. 3.] 5.916079783099616 151\n",
      "[5. 3. 1.] 5.916079783099616 152\n",
      "[3. 1. 5.] 5.916079783099616 153\n",
      "[1. 5. 3.] 5.916079783099616 154\n",
      "[1. 3. 5.] 5.916079783099616 155\n",
      "[0. 0. 6.] 6.0 156\n",
      "[6. 0. 0.] 6.0 157\n",
      "[4. 4. 2.] 6.0 158\n",
      "[2. 4. 4.] 6.0 159\n",
      "[0. 6. 0.] 6.0 160\n",
      "[4. 2. 4.] 6.0 161\n",
      "[1. 6. 0.] 6.082762530298219 162\n",
      "[0. 1. 6.] 6.082762530298219 163\n",
      "[1. 0. 6.] 6.082762530298219 164\n",
      "[6. 1. 0.] 6.082762530298219 165\n",
      "[0. 6. 1.] 6.082762530298219 166\n",
      "[6. 0. 1.] 6.082762530298219 167\n",
      "[5. 2. 3.] 6.164414002968976 168\n",
      "[3. 5. 2.] 6.164414002968976 169\n",
      "[6. 1. 1.] 6.164414002968976 170\n",
      "[3. 2. 5.] 6.164414002968976 171\n",
      "[2. 3. 5.] 6.164414002968976 172\n",
      "[1. 6. 1.] 6.164414002968976 173\n",
      "[2. 5. 3.] 6.164414002968976 174\n",
      "[1. 1. 6.] 6.164414002968976 175\n",
      "[5. 3. 2.] 6.164414002968976 176\n",
      "[2. 0. 6.] 6.324555320336759 177\n",
      "[6. 2. 0.] 6.324555320336759 178\n",
      "[6. 0. 2.] 6.324555320336759 179\n",
      "[0. 6. 2.] 6.324555320336759 180\n",
      "[0. 2. 6.] 6.324555320336759 181\n",
      "[2. 6. 0.] 6.324555320336759 182\n",
      "[2. 1. 6.] 6.4031242374328485 183\n",
      "[1. 2. 6.] 6.4031242374328485 184\n",
      "[4. 4. 3.] 6.4031242374328485 185\n",
      "[4. 0. 5.] 6.4031242374328485 186\n",
      "[6. 1. 2.] 6.4031242374328485 187\n",
      "[2. 6. 1.] 6.4031242374328485 188\n",
      "[3. 4. 4.] 6.4031242374328485 189\n",
      "[4. 5. 0.] 6.4031242374328485 190\n",
      "[1. 6. 2.] 6.4031242374328485 191\n",
      "[4. 3. 4.] 6.4031242374328485 192\n",
      "[6. 2. 1.] 6.4031242374328485 193\n",
      "[5. 4. 0.] 6.4031242374328485 194\n",
      "[5. 0. 4.] 6.4031242374328485 195\n",
      "[0. 5. 4.] 6.4031242374328485 196\n",
      "[0. 4. 5.] 6.4031242374328485 197\n",
      "[4. 1. 5.] 6.48074069840786 198\n",
      "[5. 4. 1.] 6.48074069840786 199\n",
      "[4. 5. 1.] 6.48074069840786 200\n",
      "[5. 1. 4.] 6.48074069840786 201\n",
      "[1. 4. 5.] 6.48074069840786 202\n",
      "[1. 5. 4.] 6.48074069840786 203\n",
      "[3. 5. 3.] 6.557438524302 204\n",
      "[3. 3. 5.] 6.557438524302 205\n",
      "[5. 3. 3.] 6.557438524302 206\n",
      "[2. 6. 2.] 6.6332495807108 207\n",
      "[6. 2. 2.] 6.6332495807108 208\n",
      "[2. 2. 6.] 6.6332495807108 209\n",
      "[5. 4. 2.] 6.708203932499369 210\n",
      "[2. 4. 5.] 6.708203932499369 211\n",
      "[3. 0. 6.] 6.708203932499369 212\n",
      "[3. 6. 0.] 6.708203932499369 213\n",
      "[2. 5. 4.] 6.708203932499369 214\n",
      "[6. 3. 0.] 6.708203932499369 215\n",
      "[5. 2. 4.] 6.708203932499369 216\n",
      "[6. 0. 3.] 6.708203932499369 217\n",
      "[4. 2. 5.] 6.708203932499369 218\n",
      "[0. 3. 6.] 6.708203932499369 219\n",
      "[0. 6. 3.] 6.708203932499369 220\n",
      "[4. 5. 2.] 6.708203932499369 221\n",
      "[6. 3. 1.] 6.782329983125268 222\n",
      "[3. 1. 6.] 6.782329983125268 223\n",
      "[3. 6. 1.] 6.782329983125268 224\n",
      "[1. 6. 3.] 6.782329983125268 225\n",
      "[1. 3. 6.] 6.782329983125268 226\n",
      "[6. 1. 3.] 6.782329983125268 227\n",
      "[4. 4. 4.] 6.928203230275509 228\n",
      "[3. 6. 2.] 7.0 229\n",
      "[3. 2. 6.] 7.0 230\n",
      "[2. 6. 3.] 7.0 231\n",
      "[7. 0. 0.] 7.0 232\n",
      "[6. 2. 3.] 7.0 233\n",
      "[2. 3. 6.] 7.0 234\n",
      "[6. 3. 2.] 7.0 235\n",
      "[0. 7. 0.] 7.0 236\n",
      "[0. 0. 7.] 7.0 237\n",
      "[1. 0. 7.] 7.0710678118654755 238\n",
      "[3. 5. 4.] 7.0710678118654755 239\n",
      "[7. 0. 1.] 7.0710678118654755 240\n",
      "[4. 3. 5.] 7.0710678118654755 241\n",
      "[5. 4. 3.] 7.0710678118654755 242\n",
      "[5. 5. 0.] 7.0710678118654755 243\n",
      "[5. 3. 4.] 7.0710678118654755 244\n",
      "[5. 0. 5.] 7.0710678118654755 245\n",
      "[3. 4. 5.] 7.0710678118654755 246\n",
      "[0. 5. 5.] 7.0710678118654755 247\n",
      "[7. 1. 0.] 7.0710678118654755 248\n",
      "[0. 7. 1.] 7.0710678118654755 249\n",
      "[4. 5. 3.] 7.0710678118654755 250\n",
      "[1. 7. 0.] 7.0710678118654755 251\n",
      "[0. 1. 7.] 7.0710678118654755 252\n",
      "[1. 1. 7.] 7.14142842854285 253\n",
      "[5. 5. 1.] 7.14142842854285 254\n",
      "[5. 1. 5.] 7.14142842854285 255\n",
      "[7. 1. 1.] 7.14142842854285 256\n",
      "[1. 5. 5.] 7.14142842854285 257\n",
      "[1. 7. 1.] 7.14142842854285 258\n",
      "[0. 6. 4.] 7.211102550927978 259\n",
      "[0. 4. 6.] 7.211102550927978 260\n",
      "[4. 0. 6.] 7.211102550927978 261\n",
      "[6. 0. 4.] 7.211102550927978 262\n",
      "[6. 4. 0.] 7.211102550927978 263\n",
      "[4. 6. 0.] 7.211102550927978 264\n",
      "[0. 7. 2.] 7.280109889280518 265\n",
      "[2. 7. 0.] 7.280109889280518 266\n",
      "[4. 1. 6.] 7.280109889280518 267\n",
      "[6. 4. 1.] 7.280109889280518 268\n",
      "[1. 4. 6.] 7.280109889280518 269\n",
      "[2. 0. 7.] 7.280109889280518 270\n",
      "[6. 1. 4.] 7.280109889280518 271\n",
      "[0. 2. 7.] 7.280109889280518 272\n",
      "[4. 6. 1.] 7.280109889280518 273\n",
      "[7. 0. 2.] 7.280109889280518 274\n",
      "[1. 6. 4.] 7.280109889280518 275\n",
      "[7. 2. 0.] 7.280109889280518 276\n",
      "[1. 2. 7.] 7.3484692283495345 277\n",
      "[3. 6. 3.] 7.3484692283495345 278\n",
      "[7. 2. 1.] 7.3484692283495345 279\n",
      "[2. 5. 5.] 7.3484692283495345 280\n",
      "[2. 1. 7.] 7.3484692283495345 281\n",
      "[3. 3. 6.] 7.3484692283495345 282\n",
      "[5. 2. 5.] 7.3484692283495345 283\n",
      "[5. 5. 2.] 7.3484692283495345 284\n",
      "[1. 7. 2.] 7.3484692283495345 285\n",
      "[7. 1. 2.] 7.3484692283495345 286\n",
      "[6. 3. 3.] 7.3484692283495345 287\n",
      "[2. 7. 1.] 7.3484692283495345 288\n",
      "[2. 6. 4.] 7.483314773547883 289\n",
      "[6. 4. 2.] 7.483314773547883 290\n",
      "[2. 4. 6.] 7.483314773547883 291\n",
      "[4. 2. 6.] 7.483314773547883 292\n",
      "[6. 2. 4.] 7.483314773547883 293\n",
      "[4. 6. 2.] 7.483314773547883 294\n",
      "[2. 2. 7.] 7.54983443527075 295\n",
      "[2. 7. 2.] 7.54983443527075 296\n",
      "[5. 4. 4.] 7.54983443527075 297\n",
      "[4. 5. 4.] 7.54983443527075 298\n",
      "[4. 4. 5.] 7.54983443527075 299\n",
      "[7. 2. 2.] 7.54983443527075 300\n",
      "[0. 3. 7.] 7.615773105863909 301\n",
      "[3. 7. 0.] 7.615773105863909 302\n",
      "[3. 0. 7.] 7.615773105863909 303\n",
      "[0. 7. 3.] 7.615773105863909 304\n",
      "[7. 0. 3.] 7.615773105863909 305\n",
      "[7. 3. 0.] 7.615773105863909 306\n",
      "[5. 3. 5.] 7.681145747868608 307\n",
      "[5. 5. 3.] 7.681145747868608 308\n",
      "[7. 1. 3.] 7.681145747868608 309\n",
      "[3. 1. 7.] 7.681145747868608 310\n",
      "[3. 7. 1.] 7.681145747868608 311\n",
      "[1. 3. 7.] 7.681145747868608 312\n",
      "[1. 7. 3.] 7.681145747868608 313\n",
      "[7. 3. 1.] 7.681145747868608 314\n",
      "[3. 5. 5.] 7.681145747868608 315\n",
      "[3. 4. 6.] 7.810249675906654 316\n",
      "[0. 6. 5.] 7.810249675906654 317\n",
      "[3. 6. 4.] 7.810249675906654 318\n",
      "[4. 6. 3.] 7.810249675906654 319\n",
      "[6. 0. 5.] 7.810249675906654 320\n",
      "[0. 5. 6.] 7.810249675906654 321\n",
      "[4. 3. 6.] 7.810249675906654 322\n",
      "[6. 4. 3.] 7.810249675906654 323\n",
      "[6. 3. 4.] 7.810249675906654 324\n",
      "[5. 6. 0.] 7.810249675906654 325\n",
      "[5. 0. 6.] 7.810249675906654 326\n",
      "[6. 5. 0.] 7.810249675906654 327\n",
      "[6. 1. 5.] 7.874007874011811 328\n",
      "[1. 6. 5.] 7.874007874011811 329\n",
      "[6. 5. 1.] 7.874007874011811 330\n",
      "[3. 2. 7.] 7.874007874011811 331\n",
      "[2. 7. 3.] 7.874007874011811 332\n",
      "[7. 2. 3.] 7.874007874011811 333\n",
      "[5. 1. 6.] 7.874007874011811 334\n",
      "[1. 5. 6.] 7.874007874011811 335\n",
      "[7. 3. 2.] 7.874007874011811 336\n",
      "[2. 3. 7.] 7.874007874011811 337\n",
      "[5. 6. 1.] 7.874007874011811 338\n",
      "[3. 7. 2.] 7.874007874011811 339\n",
      "[4. 7. 0.] 8.06225774829855 340\n",
      "[6. 5. 2.] 8.06225774829855 341\n",
      "[4. 0. 7.] 8.06225774829855 342\n",
      "[7. 4. 0.] 8.06225774829855 343\n",
      "[2. 5. 6.] 8.06225774829855 344\n",
      "[7. 0. 4.] 8.06225774829855 345\n",
      "[0. 7. 4.] 8.06225774829855 346\n",
      "[0. 4. 7.] 8.06225774829855 347\n",
      "[5. 2. 6.] 8.06225774829855 348\n",
      "[6. 2. 5.] 8.06225774829855 349\n",
      "[5. 6. 2.] 8.06225774829855 350\n",
      "[2. 6. 5.] 8.06225774829855 351\n",
      "[4. 7. 1.] 8.12403840463596 352\n",
      "[5. 4. 5.] 8.12403840463596 353\n",
      "[4. 1. 7.] 8.12403840463596 354\n",
      "[4. 5. 5.] 8.12403840463596 355\n",
      "[5. 5. 4.] 8.12403840463596 356\n",
      "[1. 4. 7.] 8.12403840463596 357\n",
      "[7. 4. 1.] 8.12403840463596 358\n",
      "[1. 7. 4.] 8.12403840463596 359\n",
      "[7. 1. 4.] 8.12403840463596 360\n",
      "[3. 7. 3.] 8.18535277187245 361\n",
      "[3. 3. 7.] 8.18535277187245 362\n",
      "[7. 3. 3.] 8.18535277187245 363\n",
      "[4. 6. 4.] 8.246211251235321 364\n",
      "[6. 4. 4.] 8.246211251235321 365\n",
      "[4. 4. 6.] 8.246211251235321 366\n",
      "[2. 4. 7.] 8.306623862918075 367\n",
      "[4. 7. 2.] 8.306623862918075 368\n",
      "[4. 2. 7.] 8.306623862918075 369\n",
      "[7. 2. 4.] 8.306623862918075 370\n",
      "[2. 7. 4.] 8.306623862918075 371\n",
      "[7. 4. 2.] 8.306623862918075 372\n",
      "[6. 3. 5.] 8.366600265340756 373\n",
      "[5. 3. 6.] 8.366600265340756 374\n",
      "[3. 5. 6.] 8.366600265340756 375\n",
      "[3. 6. 5.] 8.366600265340756 376\n",
      "[5. 6. 3.] 8.366600265340756 377\n",
      "[6. 5. 3.] 8.366600265340756 378\n",
      "[6. 0. 6.] 8.48528137423857 379\n",
      "[0. 6. 6.] 8.48528137423857 380\n",
      "[6. 6. 0.] 8.48528137423857 381\n",
      "[6. 1. 6.] 8.54400374531753 382\n",
      "[1. 6. 6.] 8.54400374531753 383\n",
      "[6. 6. 1.] 8.54400374531753 384\n",
      "[3. 7. 4.] 8.602325267042627 385\n",
      "[0. 5. 7.] 8.602325267042627 386\n",
      "[7. 3. 4.] 8.602325267042627 387\n",
      "[7. 4. 3.] 8.602325267042627 388\n",
      "[3. 4. 7.] 8.602325267042627 389\n",
      "[4. 3. 7.] 8.602325267042627 390\n",
      "[7. 5. 0.] 8.602325267042627 391\n",
      "[5. 7. 0.] 8.602325267042627 392\n",
      "[7. 0. 5.] 8.602325267042627 393\n",
      "[4. 7. 3.] 8.602325267042627 394\n",
      "[5. 0. 7.] 8.602325267042627 395\n",
      "[0. 7. 5.] 8.602325267042627 396\n",
      "[7. 1. 5.] 8.660254037844387 397\n",
      "[5. 5. 5.] 8.660254037844387 398\n",
      "[1. 5. 7.] 8.660254037844387 399\n",
      "[5. 7. 1.] 8.660254037844387 400\n",
      "[7. 5. 1.] 8.660254037844387 401\n",
      "[5. 1. 7.] 8.660254037844387 402\n",
      "[1. 7. 5.] 8.660254037844387 403\n",
      "[2. 6. 6.] 8.717797887081348 404\n",
      "[6. 2. 6.] 8.717797887081348 405\n",
      "[6. 6. 2.] 8.717797887081348 406\n",
      "[6. 5. 4.] 8.774964387392123 407\n",
      "[5. 6. 4.] 8.774964387392123 408\n",
      "[6. 4. 5.] 8.774964387392123 409\n",
      "[5. 4. 6.] 8.774964387392123 410\n",
      "[4. 6. 5.] 8.774964387392123 411\n",
      "[4. 5. 6.] 8.774964387392123 412\n",
      "[2. 5. 7.] 8.831760866327848 413\n",
      "[2. 7. 5.] 8.831760866327848 414\n",
      "[5. 7. 2.] 8.831760866327848 415\n",
      "[5. 2. 7.] 8.831760866327848 416\n",
      "[7. 5. 2.] 8.831760866327848 417\n",
      "[7. 2. 5.] 8.831760866327848 418\n",
      "[4. 4. 7.] 9.0 419\n",
      "[6. 3. 6.] 9.0 420\n",
      "[4. 7. 4.] 9.0 421\n",
      "[7. 4. 4.] 9.0 422\n",
      "[3. 6. 6.] 9.0 423\n",
      "[6. 6. 3.] 9.0 424\n",
      "[5. 3. 7.] 9.1104335791443 425\n",
      "[3. 7. 5.] 9.1104335791443 426\n",
      "[7. 5. 3.] 9.1104335791443 427\n",
      "[3. 5. 7.] 9.1104335791443 428\n",
      "[7. 3. 5.] 9.1104335791443 429\n",
      "[5. 7. 3.] 9.1104335791443 430\n",
      "[0. 7. 6.] 9.219544457292887 431\n",
      "[6. 0. 7.] 9.219544457292887 432\n",
      "[6. 7. 0.] 9.219544457292887 433\n",
      "[7. 0. 6.] 9.219544457292887 434\n",
      "[0. 6. 7.] 9.219544457292887 435\n",
      "[7. 6. 0.] 9.219544457292887 436\n",
      "[6. 1. 7.] 9.273618495495704 437\n",
      "[1. 7. 6.] 9.273618495495704 438\n",
      "[7. 6. 1.] 9.273618495495704 439\n",
      "[1. 6. 7.] 9.273618495495704 440\n",
      "[6. 5. 5.] 9.273618495495704 441\n",
      "[6. 7. 1.] 9.273618495495704 442\n",
      "[5. 6. 5.] 9.273618495495704 443\n",
      "[5. 5. 6.] 9.273618495495704 444\n",
      "[7. 1. 6.] 9.273618495495704 445\n",
      "[4. 6. 6.] 9.38083151964686 446\n",
      "[6. 6. 4.] 9.38083151964686 447\n",
      "[6. 4. 6.] 9.38083151964686 448\n",
      "[2. 7. 6.] 9.433981132056603 449\n",
      "[7. 6. 2.] 9.433981132056603 450\n",
      "[7. 2. 6.] 9.433981132056603 451\n",
      "[2. 6. 7.] 9.433981132056603 452\n",
      "[6. 7. 2.] 9.433981132056603 453\n",
      "[6. 2. 7.] 9.433981132056603 454\n",
      "[5. 4. 7.] 9.486832980505138 455\n",
      "[5. 7. 4.] 9.486832980505138 456\n",
      "[4. 7. 5.] 9.486832980505138 457\n",
      "[4. 5. 7.] 9.486832980505138 458\n",
      "[7. 5. 4.] 9.486832980505138 459\n",
      "[7. 4. 5.] 9.486832980505138 460\n",
      "[3. 7. 6.] 9.695359714832659 461\n",
      "[6. 3. 7.] 9.695359714832659 462\n",
      "[3. 6. 7.] 9.695359714832659 463\n",
      "[6. 7. 3.] 9.695359714832659 464\n",
      "[7. 3. 6.] 9.695359714832659 465\n",
      "[7. 6. 3.] 9.695359714832659 466\n",
      "[6. 5. 6.] 9.848857801796104 467\n",
      "[6. 6. 5.] 9.848857801796104 468\n",
      "[5. 6. 6.] 9.848857801796104 469\n",
      "[7. 0. 7.] 9.899494936611665 470\n",
      "[0. 7. 7.] 9.899494936611665 471\n",
      "[7. 1. 7.] 9.9498743710662 472\n",
      "[5. 7. 5.] 9.9498743710662 473\n",
      "[7. 5. 5.] 9.9498743710662 474\n",
      "[5. 5. 7.] 9.9498743710662 475\n",
      "[1. 7. 7.] 9.9498743710662 476\n",
      "[6. 7. 4.] 10.04987562112089 477\n",
      "[4. 6. 7.] 10.04987562112089 478\n",
      "[7. 4. 6.] 10.04987562112089 479\n",
      "[4. 7. 6.] 10.04987562112089 480\n",
      "[6. 4. 7.] 10.04987562112089 481\n",
      "[2. 7. 7.] 10.099504938362077 482\n",
      "[7. 2. 7.] 10.099504938362077 483\n",
      "[3. 7. 7.] 10.344080432788601 484\n",
      "[7. 3. 7.] 10.344080432788601 485\n",
      "[6. 6. 6.] 10.392304845413264 486\n",
      "[5. 6. 7.] 10.488088481701515 487\n",
      "[5. 7. 6.] 10.488088481701515 488\n",
      "[6. 7. 5.] 10.488088481701515 489\n",
      "[6. 5. 7.] 10.488088481701515 490\n",
      "[7. 5. 6.] 10.488088481701515 491\n",
      "[4. 7. 7.] 10.677078252031311 492\n",
      "[7. 4. 7.] 10.677078252031311 493\n",
      "[6. 6. 7.] 11.0 494\n",
      "[6. 7. 6.] 11.0 495\n",
      "[7. 5. 7.] 11.090536506409418 496\n",
      "[5. 7. 7.] 11.090536506409418 497\n",
      "[6. 7. 7.] 11.575836902790225 498\n"
     ]
    }
   ],
   "source": [
    "for i in range(len(grid)):\n",
    "    print(grid[i],np.linalg.norm(grid[i]), i)"
   ]
  },
  {
   "cell_type": "code",
   "execution_count": 51,
   "metadata": {},
   "outputs": [
    {
     "data": {
      "text/plain": [
       "[[array([0., 0., 1.]), array([1., 0., 0.]), array([0., 1., 0.])],\n",
       " [array([0., 1., 1.]), array([1., 0., 1.]), array([1., 1., 0.])],\n",
       " [array([1., 1., 1.])],\n",
       " [array([0., 0., 2.]), array([0., 2., 0.]), array([2., 0., 0.])],\n",
       " [array([2., 0., 1.]),\n",
       "  array([0., 1., 2.]),\n",
       "  array([1., 2., 0.]),\n",
       "  array([1., 0., 2.]),\n",
       "  array([2., 1., 0.]),\n",
       "  array([0., 2., 1.])],\n",
       " [array([1., 1., 2.]), array([2., 1., 1.]), array([1., 2., 1.])],\n",
       " [array([2., 2., 0.]), array([2., 0., 2.]), array([0., 2., 2.])],\n",
       " [array([1., 2., 2.]), array([2., 2., 1.]), array([2., 1., 2.])],\n",
       " [array([0., 3., 0.]), array([0., 0., 3.]), array([3., 0., 0.])],\n",
       " [array([1., 3., 0.]),\n",
       "  array([3., 1., 0.]),\n",
       "  array([1., 0., 3.]),\n",
       "  array([0., 3., 1.]),\n",
       "  array([0., 1., 3.]),\n",
       "  array([3., 0., 1.])],\n",
       " [array([1., 1., 3.]), array([1., 3., 1.]), array([3., 1., 1.])],\n",
       " [array([2., 2., 2.])],\n",
       " [array([0., 3., 2.]),\n",
       "  array([3., 0., 2.]),\n",
       "  array([3., 2., 0.]),\n",
       "  array([2., 3., 0.]),\n",
       "  array([2., 0., 3.]),\n",
       "  array([0., 2., 3.])],\n",
       " [array([2., 3., 1.]),\n",
       "  array([3., 2., 1.]),\n",
       "  array([1., 2., 3.]),\n",
       "  array([2., 1., 3.]),\n",
       "  array([1., 3., 2.]),\n",
       "  array([3., 1., 2.])],\n",
       " [array([0., 0., 4.]), array([0., 4., 0.]), array([4., 0., 0.])],\n",
       " [array([3., 2., 2.]), array([2., 3., 2.]), array([2., 2., 3.])],\n",
       " [array([1., 4., 0.]),\n",
       "  array([0., 4., 1.]),\n",
       "  array([1., 0., 4.]),\n",
       "  array([0., 1., 4.]),\n",
       "  array([4., 1., 0.]),\n",
       "  array([4., 0., 1.])],\n",
       " [array([0., 3., 3.]), array([3., 0., 3.]), array([3., 3., 0.])],\n",
       " [array([1., 4., 1.]), array([4., 1., 1.]), array([1., 1., 4.])],\n",
       " [array([3., 1., 3.]), array([3., 3., 1.]), array([1., 3., 3.])],\n",
       " [array([2., 4., 0.]),\n",
       "  array([0., 2., 4.]),\n",
       "  array([4., 2., 0.]),\n",
       "  array([0., 4., 2.]),\n",
       "  array([2., 0., 4.]),\n",
       "  array([4., 0., 2.])],\n",
       " [array([2., 4., 1.]),\n",
       "  array([2., 1., 4.]),\n",
       "  array([1., 2., 4.]),\n",
       "  array([4., 1., 2.]),\n",
       "  array([4., 2., 1.]),\n",
       "  array([1., 4., 2.])],\n",
       " [array([3., 2., 3.]), array([3., 3., 2.]), array([2., 3., 3.])],\n",
       " [array([2., 4., 2.]), array([4., 2., 2.]), array([2., 2., 4.])],\n",
       " [array([4., 3., 0.]),\n",
       "  array([0., 3., 4.]),\n",
       "  array([4., 0., 3.]),\n",
       "  array([0., 4., 3.]),\n",
       "  array([3., 0., 4.]),\n",
       "  array([3., 4., 0.])],\n",
       " [array([0., 5., 0.]), array([5., 0., 0.]), array([0., 0., 5.])],\n",
       " [array([0., 1., 5.]), array([5., 1., 0.])]]"
      ]
     },
     "execution_count": 51,
     "metadata": {},
     "output_type": "execute_result"
    }
   ],
   "source": [
    "C"
   ]
  },
  {
   "cell_type": "code",
   "execution_count": null,
   "metadata": {},
   "outputs": [],
   "source": []
  }
 ],
 "metadata": {
  "kernelspec": {
   "display_name": "Python 3",
   "language": "python",
   "name": "python3"
  },
  "language_info": {
   "codemirror_mode": {
    "name": "ipython",
    "version": 3
   },
   "file_extension": ".py",
   "mimetype": "text/x-python",
   "name": "python",
   "nbconvert_exporter": "python",
   "pygments_lexer": "ipython3",
   "version": "3.8.5"
  }
 },
 "nbformat": 4,
 "nbformat_minor": 5
}
