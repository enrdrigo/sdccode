{
 "cells": [
  {
   "cell_type": "code",
   "execution_count": 1,
   "id": "b6d1cc29",
   "metadata": {},
   "outputs": [],
   "source": [
    "import numpy as np\n",
    "from modules import bayesianL\n",
    "from modules import cubicharmonics\n",
    "import matplotlib.pyplot as plt\n",
    "import copy"
   ]
  },
  {
   "cell_type": "code",
   "execution_count": 39,
   "id": "98f0de22",
   "metadata": {},
   "outputs": [
    {
     "name": "stdout",
     "output_type": "stream",
     "text": [
      "[1. 0. 0.] [0. 1. 0.] [0. 0. 1.]\n"
     ]
    }
   ],
   "source": [
    "#Carico i dati in data e li ordino in sdata e grid\n",
    "\n",
    "data=np.transpose(np.loadtxt('../nlttk.out'))\n",
    "\n",
    "sdata, grid = bayesianL.generatesorteddata(data, 500)"
   ]
  },
  {
   "cell_type": "code",
   "execution_count": 40,
   "id": "c2a2d795",
   "metadata": {},
   "outputs": [
    {
     "name": "stdout",
     "output_type": "stream",
     "text": [
      "numero di elementi:  499\n",
      "numero cicli teornicamente necessari 373501\n",
      "numero cicli compiuti 381\n",
      "numero di elementi non equivalenti per simmetria cubica:  118\n"
     ]
    }
   ],
   "source": [
    "#Medio i dati su tutti i punti equivalenti per simmetria cubica e \n",
    "#ritorno la lista dei nuovi dati 'simmetrizzati' in gplot e sd\n",
    "C=bayesianL.cubicarray(list(grid), True)\n",
    "dic, dics=bayesianL.datadicG(data[1], data[2],cubicharmonics.Gvecgenerateall(500)[1:])\n",
    "gplot, dataplot, datasigmaplot=bayesianL.datiplot(C, dic, dics)\n",
    "sd=np.array([dataplot, datasigmaplot*np.sqrt(10.0)])"
   ]
  },
  {
   "cell_type": "code",
   "execution_count": 41,
   "id": "6e3d9226",
   "metadata": {},
   "outputs": [
    {
     "name": "stderr",
     "output_type": "stream",
     "text": [
      "WARNING:root:HO IMPOSTATO A MANO CHE 2\\PI/L = 0.13484487571168569\n"
     ]
    },
    {
     "name": "stdout",
     "output_type": "stream",
     "text": [
      "parametri ottimali [  0.57055612  -9.80528729  28.7674318  -29.64846911  -6.21045818\n",
      "  11.67212788  11.68188406   4.31951931  -2.42731439  -5.82661815\n",
      "  -6.08924568  -4.3805157   -1.83946851   0.73949238   2.91765241\n",
      "   4.52099906]\n",
      "numero di armoniche cubiche 30\n",
      "valore a kmin inferito 0.5228938011693693 bias 0.5705561239624863 dato a kmin 0.7147155658198961\n",
      "determinante matrice delle armoniche cubiche ridotte: -1.9231635169287893e-87\n"
     ]
    }
   ],
   "source": [
    "#Calcolo il fit bayesiano con glot e sd come test\n",
    "N=50\n",
    "mN, SN, y_infer, sy_infer, conta=\\\n",
    "bayesianL.bayesianpol(gplot, sd, 16, N, 0.005, gplot, ifprint= True, ifwarning= True, nLbp=0)"
   ]
  },
  {
   "cell_type": "code",
   "execution_count": 42,
   "id": "fc2d6465",
   "metadata": {},
   "outputs": [
    {
     "name": "stdout",
     "output_type": "stream",
     "text": [
      "numero di elementi:  499\n",
      "numero cicli teornicamente necessari 373501\n",
      "numero cicli compiuti 381\n",
      "numero di elementi non equivalenti per simmetria cubica:  118\n"
     ]
    },
    {
     "data": {
      "application/vnd.jupyter.widget-view+json": {
       "model_id": "5db90e8eb5d04600b5394dda34b2dd13",
       "version_major": 2,
       "version_minor": 0
      },
      "text/plain": [
       "Canvas(toolbar=Toolbar(toolitems=[('Home', 'Reset original view', 'home', 'home'), ('Back', 'Back to previous …"
      ]
     },
     "metadata": {},
     "output_type": "display_data"
    },
    {
     "data": {
      "text/plain": [
       "<ErrorbarContainer object of 3 artists>"
      ]
     },
     "execution_count": 42,
     "metadata": {},
     "output_type": "execute_result"
    }
   ],
   "source": [
    "#Plotto il fit e i dati (gplot e sd)\n",
    "C=bayesianL.cubicarray(list(grid), True)\n",
    "dic, dics=bayesianL.datadicG(data[1], data[2],cubicharmonics.Gvecgenerateall(500)[1:])\n",
    "gplot, dataplot, datasigmaplot=bayesianL.datiplot(C, dic, dics)\n",
    "%matplotlib widget\n",
    "\n",
    "plt.fill_between(np.linalg.norm(gplot[:N], axis=1), y_infer+np.sqrt(sy_infer), y_infer-np.sqrt(sy_infer),  alpha=0.3, color='red')\n",
    "plt.plot(np.linalg.norm(gplot[:N], axis=1), y_infer, '.-', color='red')\n",
    "plt.errorbar(np.linalg.norm(gplot, axis=1), dataplot,datasigmaplot*np.sqrt(10.), fmt='.')"
   ]
  },
  {
   "cell_type": "code",
   "execution_count": 43,
   "id": "29958e29",
   "metadata": {
    "scrolled": false
   },
   "outputs": [
    {
     "name": "stdout",
     "output_type": "stream",
     "text": [
      "parametri ottimali [ 0.50291966 -4.55400344  0.18573122 -0.29509677  0.18308196 -0.21607441\n",
      "  5.65641415 -0.98115281  1.50636261 -1.30742512  1.26423444 -0.49544001\n",
      "  1.63144454 -2.30461759  2.74760712 -2.33068399 -2.1760961  -0.87713116\n",
      "  1.08208982 -1.80138455  1.36948841]\n",
      "numero di armoniche cubiche 5\n",
      "valore a kmin inferito 0.4729027008714883 bias 0.5029196611986521 dato a kmin 0.7147155658198961\n",
      "determinante matrice delle armoniche cubiche ridotte: 5.408130296567605e+44\n",
      "grado ottimale 10 grado massimo tentato 28\n",
      "numero di polinomi nella base ottimale:  21 numero di dati 50\n",
      "best alpha 0.19003311677969964\n",
      "numero di elementi:  499\n",
      "numero cicli teornicamente necessari 373501\n",
      "numero cicli compiuti 381\n",
      "numero di elementi non equivalenti per simmetria cubica:  118\n"
     ]
    },
    {
     "data": {
      "application/vnd.jupyter.widget-view+json": {
       "model_id": "830141c93abd47abb0eb86e33ea52d61",
       "version_major": 2,
       "version_minor": 0
      },
      "text/plain": [
       "Canvas(toolbar=Toolbar(toolitems=[('Home', 'Reset original view', 'home', 'home'), ('Back', 'Back to previous …"
      ]
     },
     "metadata": {},
     "output_type": "display_data"
    },
    {
     "data": {
      "text/plain": [
       "<ErrorbarContainer object of 3 artists>"
      ]
     },
     "execution_count": 43,
     "metadata": {},
     "output_type": "execute_result"
    }
   ],
   "source": [
    "#Calcolo il best fit su gplot e sd con 50 dati\n",
    "N=50\n",
    "mN, SN, y_infer, sy_infer, spar, log_evidence_vP=\\\n",
    "bayesianL.bestfit(gplot, sd, N, gplot, ifprintbestfit= False, ifprintfinal= True, nLbf=4)\n",
    "#Plotto il best fit e i dati (gplot e sd)\n",
    "C=bayesianL.cubicarray(list(grid), True)\n",
    "dic, dics=bayesianL.datadicG(data[1], data[2],cubicharmonics.Gvecgenerateall(500)[1:])\n",
    "gplot, dataplot, datasigmaplot=bayesianL.datiplot(C, dic, dics)\n",
    "%matplotlib widget\n",
    "\n",
    "plt.fill_between(np.linalg.norm(gplot[:N], axis=1), y_infer+np.sqrt(sy_infer), y_infer-np.sqrt(sy_infer),  alpha=0.3, color='red')\n",
    "plt.plot(np.linalg.norm(gplot[:N], axis=1), y_infer, '.-', color='red')\n",
    "plt.errorbar(np.linalg.norm(gplot, axis=1), dataplot,datasigmaplot*np.sqrt(10.), fmt='.')"
   ]
  },
  {
   "cell_type": "code",
   "execution_count": 44,
   "id": "d95e4d7f",
   "metadata": {},
   "outputs": [
    {
     "data": {
      "application/vnd.jupyter.widget-view+json": {
       "model_id": "3122f22d264f41fb8fe53e0238c278d7",
       "version_major": 2,
       "version_minor": 0
      },
      "text/plain": [
       "Canvas(toolbar=Toolbar(toolitems=[('Home', 'Reset original view', 'home', 'home'), ('Back', 'Back to previous …"
      ]
     },
     "metadata": {},
     "output_type": "display_data"
    },
    {
     "data": {
      "text/plain": [
       "[<matplotlib.lines.Line2D at 0x7fd37669fd90>]"
      ]
     },
     "execution_count": 44,
     "metadata": {},
     "output_type": "execute_result"
    }
   ],
   "source": [
    "#Plotto la funzione di evidence che ho massimizzato per il best fit nella cella precedente\n",
    "%matplotlib widget\n",
    "plt.plot(range(2,(len(log_evidence_vP)+1)*2, 2), log_evidence_vP, '.')"
   ]
  },
  {
   "cell_type": "code",
   "execution_count": 45,
   "id": "50bdcc6a",
   "metadata": {
    "scrolled": true
   },
   "outputs": [
    {
     "name": "stdout",
     "output_type": "stream",
     "text": [
      "0 %\n",
      "20 %\n",
      "40 %\n",
      "60 %\n",
      "80 %\n",
      "100 %\n",
      "0 %\n",
      "20 %\n",
      "40 %\n",
      "60 %\n",
      "80 %\n",
      "100 %\n",
      "0 %\n",
      "20 %\n",
      "40 %\n",
      "60 %\n",
      "80 %\n",
      "100 %\n",
      "0 %\n",
      "20 %\n",
      "40 %\n",
      "60 %\n",
      "80 %\n",
      "100 %\n",
      "0 %\n",
      "20 %\n",
      "40 %\n",
      "60 %\n",
      "80 %\n",
      "100 %\n"
     ]
    }
   ],
   "source": [
    "#Calcolo il best fit includendo sempre piu' punti \n",
    "predbl=[]\n",
    "spredbl=[]\n",
    "Npointsbl=[]\n",
    "for i in range(5):\n",
    "    predb=[]\n",
    "    spredb=[]\n",
    "    Npointsb=[]\n",
    "    for N in range(5, 56):\n",
    "        mN, SN, y_infer, sy_infer, spar, log_evidence_vP=\\\n",
    "        bayesianL.bestfit(gplot, sd, N, gplot, ifprintbestfit=False, ifprintfinal=False, nLbf=i)\n",
    "        Npointsb.append(np.linalg.norm(gplot[N]))\n",
    "        if (N-5)%(50//5)==0: print(int((N-5)/50*100), '%')\n",
    "        predb.append(mN[0])\n",
    "        spredb.append(SN[0,0])\n",
    "    predbl.append(predb)\n",
    "    spredbl.append(spredb)\n",
    "    Npointsbl.append(Npointsb)"
   ]
  },
  {
   "cell_type": "code",
   "execution_count": 50,
   "id": "eec44ad6",
   "metadata": {},
   "outputs": [
    {
     "data": {
      "application/vnd.jupyter.widget-view+json": {
       "model_id": "9758c5dde5ae4bcf88d9cd76ee041fa0",
       "version_major": 2,
       "version_minor": 0
      },
      "text/plain": [
       "Canvas(toolbar=Toolbar(toolitems=[('Home', 'Reset original view', 'home', 'home'), ('Back', 'Back to previous …"
      ]
     },
     "metadata": {},
     "output_type": "display_data"
    }
   ],
   "source": [
    "%matplotlib widget\n",
    "fig, ax=plt.subplots(2,constrained_layout=True, figsize=[9,9])\n",
    "\n",
    "\n",
    "#ax[0].set_title('Bayesian model averaging prediction at k=0 with data in range $[: k_{max}]$')\n",
    "#\n",
    "#ax[0].errorbar(np.array(Npointsa), np.array(preda), np.sqrt(np.array(spreda)), fmt='.')\n",
    "#ax[0].plot(np.array(Npointsa), np.ones(len(Npointsa))*0.816, label='GK result')\n",
    "#    \n",
    "#ax[0].set_xlabel('$k_{max} (nm^{-1})$')\n",
    "#ax[0].set_ylabel('prediction at k=0')\n",
    "#ax[0].legend()\n",
    "ax[0].set_title('Bayesian best model prediction at k=0 with data in range $[: k_{max}]$')\n",
    "L=[0,[0,4],[0,4,6], [0,4,6,8], [0,4,6,8,10]]\n",
    "for i in range(5):\n",
    "    ax[0].errorbar(np.array(Npointsbl[i]), np.array(predbl[i]), np.sqrt(np.array(spredbl[i])), fmt='.', label=r'$L_{max}$'+'={}'.format(L[i]))\n",
    "ax[0].plot(np.array(Npointsbl[1]), np.ones(len(Npointsbl[1]))*0.816, label='GK result')    \n",
    "ax[0].set_xlabel('$k_{max} (nm^{-1})$')\n",
    "ax[0].set_ylabel('prediction at k=0')\n",
    "ax[0].legend()\n",
    "ax[1].set_title('Data')\n",
    "\n",
    "ax[1].errorbar(np.linalg.norm(gplot, axis=1), dataplot,datasigmaplot*np.sqrt(10.), fmt='.', label='3375 water molecules at 300k 30ns') \n",
    "ax[1].plot(np.linalg.norm(gplot, axis=1), np.ones(len(gplot))*0.816, label='GK result') \n",
    "ax[1].legend()\n",
    "\n",
    "ax[1].set_xlabel(r'k ($nm^{-1}$)')\n",
    "plt.savefig('testLnltt.pdf')"
   ]
  },
  {
   "cell_type": "code",
   "execution_count": 28,
   "id": "9822ce14",
   "metadata": {},
   "outputs": [
    {
     "name": "stdout",
     "output_type": "stream",
     "text": [
      "0 %\n",
      "20 %\n",
      "40 %\n",
      "60 %\n",
      "80 %\n",
      "100 %\n",
      "0 %\n",
      "20 %\n",
      "40 %\n",
      "60 %\n",
      "80 %\n",
      "100 %\n",
      "0 %\n",
      "20 %\n",
      "40 %\n",
      "60 %\n",
      "80 %\n",
      "100 %\n",
      "0 %\n",
      "20 %\n",
      "40 %\n",
      "60 %\n",
      "80 %\n",
      "100 %\n",
      "0 %\n",
      "20 %\n",
      "40 %\n",
      "60 %\n",
      "80 %\n",
      "100 %\n"
     ]
    }
   ],
   "source": [
    "#Calcolo il best fit includendo sempre piu' punti \n",
    "predbl=[]\n",
    "spredbl=[]\n",
    "Npointsbl=[]\n",
    "for i in range(5):\n",
    "    predb=[]\n",
    "    spredb=[]\n",
    "    Npointsb=[]\n",
    "    for N in range(5, 56):\n",
    "        mN, SN,log_evidence_vP=\\\n",
    "        bayesianL.bayesianmodelprediction(gplot, sd, N, gplot, ifprintmodpred=False, ifprintfinal=False, nLbmp=i)\n",
    "        Npointsb.append(np.linalg.norm(gplot[N]))\n",
    "        if (N-5)%(50//5)==0: print(int((N-5)/50*100), '%')\n",
    "        predb.append(mN)\n",
    "        spredb.append(SN)\n",
    "    predbl.append(predb)\n",
    "    spredbl.append(spredb)\n",
    "    Npointsbl.append(Npointsb)"
   ]
  },
  {
   "cell_type": "code",
   "execution_count": 29,
   "id": "dcbda2da",
   "metadata": {},
   "outputs": [
    {
     "data": {
      "application/vnd.jupyter.widget-view+json": {
       "model_id": "78a263b50d644d088c8154adf2bee814",
       "version_major": 2,
       "version_minor": 0
      },
      "text/plain": [
       "Canvas(toolbar=Toolbar(toolitems=[('Home', 'Reset original view', 'home', 'home'), ('Back', 'Back to previous …"
      ]
     },
     "metadata": {},
     "output_type": "display_data"
    },
    {
     "data": {
      "text/plain": [
       "Text(0.5, 0, 'k ($nm^{-1}$)')"
      ]
     },
     "execution_count": 29,
     "metadata": {},
     "output_type": "execute_result"
    }
   ],
   "source": [
    "%matplotlib widget\n",
    "fig, ax=plt.subplots(2,constrained_layout=True, figsize=[9,9])\n",
    "\n",
    "\n",
    "#ax[0].set_title('Bayesian model averaging prediction at k=0 with data in range $[: k_{max}]$')\n",
    "#\n",
    "#ax[0].errorbar(np.array(Npointsa), np.array(preda), np.sqrt(np.array(spreda)), fmt='.')\n",
    "#ax[0].plot(np.array(Npointsa), np.ones(len(Npointsa))*0.816, label='GK result')\n",
    "#    \n",
    "#ax[0].set_xlabel('$k_{max} (nm^{-1})$')\n",
    "#ax[0].set_ylabel('prediction at k=0')\n",
    "#ax[0].legend()\n",
    "ax[0].set_title('Bayesian best model prediction at k=0 with data in range $[: k_{max}]$')\n",
    "L=[0,[0,4],[0,4,6], [0,4,6,8], [0,4,6,8,10]]\n",
    "for i in range(5):\n",
    "    ax[0].errorbar(np.array(Npointsbl[i]), np.array(predbl[i]), np.sqrt(np.array(spredbl[i])), fmt='.', label=r'$L_{max}$'+'={}'.format(L[i]))\n",
    "ax[0].plot(np.array(Npointsbl[1]), np.ones(len(Npointsbl[1]))*0.816, label='GK result')    \n",
    "ax[0].set_xlabel('$k_{max} (nm^{-1})$')\n",
    "ax[0].set_ylabel('prediction at k=0')\n",
    "ax[0].legend()\n",
    "ax[1].set_title('Data')\n",
    "\n",
    "ax[1].errorbar(np.linalg.norm(gplot, axis=1), dataplot,datasigmaplot*np.sqrt(10.), fmt='.', label='3375 water molecules at 300k 30ns') \n",
    "\n",
    "ax[1].legend()\n",
    "\n",
    "ax[1].set_xlabel(r'k ($nm^{-1}$)')"
   ]
  },
  {
   "cell_type": "code",
   "execution_count": null,
   "id": "ceb24129",
   "metadata": {},
   "outputs": [],
   "source": []
  }
 ],
 "metadata": {
  "kernelspec": {
   "display_name": "Python 3 (ipykernel)",
   "language": "python",
   "name": "python3"
  },
  "language_info": {
   "codemirror_mode": {
    "name": "ipython",
    "version": 3
   },
   "file_extension": ".py",
   "mimetype": "text/x-python",
   "name": "python",
   "nbconvert_exporter": "python",
   "pygments_lexer": "ipython3",
   "version": "3.9.7"
  }
 },
 "nbformat": 4,
 "nbformat_minor": 5
}
