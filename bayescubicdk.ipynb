{
 "cells": [
  {
   "cell_type": "code",
   "execution_count": 1,
   "id": "03d6a98f",
   "metadata": {},
   "outputs": [],
   "source": [
    "import numpy as np\n",
    "from sdccode.modules import bayesianL\n",
    "from sdccode.modules import cubicharmonics\n",
    "import matplotlib.pyplot as plt\n",
    "import copy"
   ]
  },
  {
   "cell_type": "code",
   "execution_count": 38,
   "id": "c5aa33fe",
   "metadata": {},
   "outputs": [
    {
     "name": "stderr",
     "output_type": "stream",
     "text": [
      "WARNING:root:HO IMPOSTATO A MANO CHE 2\\PI/L = 0.13484487571168569\n"
     ]
    },
    {
     "name": "stdout",
     "output_type": "stream",
     "text": [
      "[0. 1. 0.] [0. 0. 1.] [1. 0. 0.]\n",
      "parametri ottimali [ 8.55660904e-01 -2.43249610e+01  7.73733404e+01 -7.40904098e+02\n",
      "  2.79165796e+01 -1.05581422e+03 -9.63653596e+01  2.83340128e+00\n",
      "  2.16499691e+02  4.35943198e+01 -8.42982987e+00  7.31869581e+01\n",
      " -1.83876069e+00  9.71124335e-01 -1.42868502e+01 -1.27322313e+00]\n",
      "numero di armoniche cubiche 8\n",
      "valore a 0 inferito 0.6753076943224323 bias 0.8556609042120915 dato a kmin 0.6900529719009865\n",
      "determinante matrice delle armoniche cubiche : 436169552821.62476\n"
     ]
    }
   ],
   "source": [
    "data=np.transpose(np.loadtxt('nlttk.out'))\n",
    "sdata, grid = bayesianL.generatesorteddata(data, 500)\n",
    "mN, SN, y_infer, sy_infer=bayesianL.bayesianpol(grid,sdata,7,70,0.00001,grid,True)"
   ]
  },
  {
   "cell_type": "code",
   "execution_count": 39,
   "id": "99c37493",
   "metadata": {
    "scrolled": false
   },
   "outputs": [
    {
     "name": "stderr",
     "output_type": "stream",
     "text": [
      "WARNING:root:HO IMPOSTATO A MANO CHE 2\\PI/L = 0.13484487571168569\n"
     ]
    },
    {
     "name": "stdout",
     "output_type": "stream",
     "text": [
      "parametri ottimali [ 5.41925303e-01 -6.18974435e+01 -4.27492757e+01  1.91490427e+03\n",
      "  9.93931319e+02 -1.25088038e+04 -3.70804461e+02 -8.35487106e+02\n",
      " -1.21135329e+03 -6.56054301e+02  7.03857775e+02  4.74392254e+03\n",
      "  6.98453269e+02  2.07173724e+02 -5.66868908e+02  5.93976653e+01\n",
      " -1.70401563e+03 -2.12935143e+03 -6.86764358e+02  1.56644198e+03\n",
      " -1.12232852e+03  3.21628250e+02  6.05076618e+02  2.50254391e+03\n",
      "  3.73432724e+02 -4.69748775e+02 -1.10411959e+03 -2.12440056e+02\n",
      " -2.44755504e+03  1.38067197e+03 -5.51688037e+02  2.88763097e+03\n",
      " -1.48241951e+03  6.70271482e+02 -9.14831624e+02  4.50399326e+02\n",
      " -2.17650381e+02]\n",
      "numero di armoniche cubiche 24\n",
      "valore a 0 inferito 0.5017492135602546 bias 0.5419253026709899 dato a kmin 0.6900529719009865\n",
      "determinante matrice delle armoniche cubiche : 8.261862720646216e-21\n",
      "grado ottimale 28 grado massimo tentato 28\n"
     ]
    }
   ],
   "source": [
    "N=499\n",
    "mN, SN, y_infer, sy_infer, spar, log_evidence_vP=bayesianL.bestfit(grid, sdata, N, grid, False, True)"
   ]
  },
  {
   "cell_type": "code",
   "execution_count": 40,
   "id": "219a9410",
   "metadata": {},
   "outputs": [
    {
     "data": {
      "application/vnd.jupyter.widget-view+json": {
       "model_id": "0e9c7c05e07445f1bc209995a1a21789",
       "version_major": 2,
       "version_minor": 0
      },
      "text/plain": [
       "Canvas(toolbar=Toolbar(toolitems=[('Home', 'Reset original view', 'home', 'home'), ('Back', 'Back to previous …"
      ]
     },
     "metadata": {},
     "output_type": "display_data"
    },
    {
     "data": {
      "text/plain": [
       "[<matplotlib.lines.Line2D at 0x7fbbdc3024f0>]"
      ]
     },
     "execution_count": 40,
     "metadata": {},
     "output_type": "execute_result"
    }
   ],
   "source": [
    "%matplotlib widget\n",
    "plt.plot(log_evidence_vP, '.')"
   ]
  },
  {
   "cell_type": "code",
   "execution_count": 41,
   "id": "f409b83b",
   "metadata": {},
   "outputs": [
    {
     "data": {
      "application/vnd.jupyter.widget-view+json": {
       "model_id": "d77b6fb215ff4103910ba7245cd27317",
       "version_major": 2,
       "version_minor": 0
      },
      "text/plain": [
       "Canvas(toolbar=Toolbar(toolitems=[('Home', 'Reset original view', 'home', 'home'), ('Back', 'Back to previous …"
      ]
     },
     "metadata": {},
     "output_type": "display_data"
    },
    {
     "data": {
      "text/plain": [
       "[<matplotlib.lines.Line2D at 0x7fbbda1a9430>]"
      ]
     },
     "execution_count": 41,
     "metadata": {},
     "output_type": "execute_result"
    }
   ],
   "source": [
    "%matplotlib widget\n",
    "plt.plot(sdata[0], '.')\n",
    "plt.plot(y_infer, '.')"
   ]
  },
  {
   "cell_type": "code",
   "execution_count": 42,
   "id": "f307313c",
   "metadata": {
    "scrolled": false
   },
   "outputs": [
    {
     "name": "stderr",
     "output_type": "stream",
     "text": [
      "WARNING:root:HO IMPOSTATO A MANO CHE 2\\PI/L = 0.13484487571168569\n",
      "WARNING:root:HO IMPOSTATO A MANO CHE 2\\PI/L = 0.13484487571168569\n",
      "WARNING:root:HO IMPOSTATO A MANO CHE 2\\PI/L = 0.13484487571168569\n",
      "WARNING:root:HO IMPOSTATO A MANO CHE 2\\PI/L = 0.13484487571168569\n",
      "WARNING:root:HO IMPOSTATO A MANO CHE 2\\PI/L = 0.13484487571168569\n",
      "WARNING:root:HO IMPOSTATO A MANO CHE 2\\PI/L = 0.13484487571168569\n",
      "WARNING:root:HO IMPOSTATO A MANO CHE 2\\PI/L = 0.13484487571168569\n",
      "WARNING:root:HO IMPOSTATO A MANO CHE 2\\PI/L = 0.13484487571168569\n",
      "WARNING:root:HO IMPOSTATO A MANO CHE 2\\PI/L = 0.13484487571168569\n",
      "WARNING:root:HO IMPOSTATO A MANO CHE 2\\PI/L = 0.13484487571168569\n",
      "WARNING:root:HO IMPOSTATO A MANO CHE 2\\PI/L = 0.13484487571168569\n"
     ]
    },
    {
     "name": "stdout",
     "output_type": "stream",
     "text": [
      "model average prediction 0.36549811972920415 0.01271172911144589\n"
     ]
    }
   ],
   "source": [
    "mr, sr, logevidence= bayesianL.bayesianmodelprediction(grid, sdata, N, grid, False, True)"
   ]
  },
  {
   "cell_type": "code",
   "execution_count": 43,
   "id": "8863394a",
   "metadata": {},
   "outputs": [],
   "source": [
    "def cubicarray(MM, pr=False):\n",
    "    if pr: print('numero di elementi: ', len(MM))\n",
    "    # In input bisogna fornire la lista dei monomi M. Ogni elemento della lista M e'\n",
    "    # una lista [a,b,c] tale per cui M_i=x^{2a}y^{2b}z^{2c} e a+b+c=n, dove n e' il grado del monomio.\n",
    "    # I monomi in input comprendono tutte le permutazioni.\n",
    "    # Voglio ora applicare le permutazioni x,y,z in modo da simmetrizzare i monomi e ottenere le armoniche cubiche.\n",
    "    lenM = len(MM)\n",
    "    M=[]\n",
    "    #Converto M a una lista di liste\n",
    "    for i in range(len(MM)):\n",
    "        M.append(list(MM[i]))\n",
    "    Mt = copy.copy(M)\n",
    "    # devo prima capire nella base dei monomi quali sono legati da permutazione. posso nominarli.\n",
    "    nameC = []\n",
    "    conta = 0\n",
    "    contaci = 0\n",
    "    if pr: print('numero cicli teornicamente necessari', int(len(M) ** 2 * 3 / 2))\n",
    "    for i in range(lenM):\n",
    "        rep = M[i]\n",
    "        # rep (M[i]) e' il mio rappresentante nella lista,\n",
    "        # voglio vedere quali altri elementi sono equivalenti per permutazione a rep\n",
    "        nameC_i = []\n",
    "        if not (rep in Mt): continue\n",
    "        # se rep non sta nella lista temporanea Mt significa che e' equivalente a un elemento precedente: salto il ciclo\n",
    "        nameC_i.append(np.array(rep))\n",
    "        # in nameC_i inserisco gli elementi equivalenti per simmetria a rep\n",
    "        for j in range(i + 1, lenM):\n",
    "            # parto a cercare dall'elemento successivo nella lista, gli altri li ho gia' sicuramente controllati.\n",
    "            Mjt = list(copy.copy(M[j]))\n",
    "        \n",
    "            if rep[0] in Mjt:\n",
    "                Mjt.remove(rep[0])\n",
    "                if rep[1] in Mjt:\n",
    "                    Mjt.remove(rep[1])\n",
    "                    if rep[2] in Mjt:\n",
    "                        # rep e M[j] sono simmetrici per permutazione!\n",
    "                        nameC_i.append(np.array(M[j]))\n",
    "                        Mt.remove(M[j])\n",
    "                        \n",
    "                        # rimuovo da Mt l'elemento M[j] che e' simmetrico per permutazione a rep\n",
    "                        conta += 1\n",
    "        contaci += len(nameC_i)\n",
    "        nameC.append(nameC_i)\n",
    "        # aggiungo la lista degli elementi associati a M[i], nameC_i, alla lista degli elementi NON equivalenti, nameC!\n",
    "    if contaci != len(M): raise ValueError\n",
    "    if pr: print('numero cicli compiuti', conta)\n",
    "    if pr: print('numero di elementi non equivalenti per simmetria cubica: ', len(nameC))\n",
    "    # in output c'e' la lista degli elementi che formano una classe di equivalenza.\n",
    "    return nameC\n",
    "\n",
    "def datadicG(data, sigmadata, G):\n",
    "\n",
    "    dicdata = {}\n",
    "    \n",
    "    dicsigma = {}\n",
    "    \n",
    "    for i in range(len(G)):\n",
    "        dicdata[tuple(G[i])] = data[i]\n",
    "        dicsigma[tuple(G[i])] = sigmadata[i]\n",
    "        \n",
    "    return dicdata, dicsigma\n",
    "\n",
    "def datiplot(C, dic, dics):\n",
    "    gplot=[]\n",
    "    dataplot=[]\n",
    "    datasigmaplot=[]\n",
    "    for i in range(len(C)):\n",
    "        gplot.append(np.linalg.norm(C[i][0]))\n",
    "        dataav=0\n",
    "        datasigma=0\n",
    "        for j in range(len(C[i])):\n",
    "            dataav+=dic[tuple(C[i][j])]/len(C[i])  \n",
    "            datasigma+=(dics[tuple(C[i][j])]/len(C[i])  )**2\n",
    "        dataplot.append(dataav)\n",
    "        datasigmaplot.append(np.sqrt(datasigma))\n",
    "    return np.array(gplot), np.array(dataplot), np.array(datasigmaplot)\n"
   ]
  },
  {
   "cell_type": "code",
   "execution_count": 44,
   "id": "21ea9680",
   "metadata": {},
   "outputs": [
    {
     "name": "stdout",
     "output_type": "stream",
     "text": [
      "numero di elementi:  499\n",
      "numero cicli teornicamente necessari 373501\n",
      "numero cicli compiuti 381\n",
      "numero di elementi non equivalenti per simmetria cubica:  118\n",
      "numero di elementi:  499\n",
      "numero cicli teornicamente necessari 373501\n",
      "numero cicli compiuti 381\n",
      "numero di elementi non equivalenti per simmetria cubica:  118\n"
     ]
    },
    {
     "data": {
      "application/vnd.jupyter.widget-view+json": {
       "model_id": "626660051c544f61a4855862f9c1b68d",
       "version_major": 2,
       "version_minor": 0
      },
      "text/plain": [
       "Canvas(toolbar=Toolbar(toolitems=[('Home', 'Reset original view', 'home', 'home'), ('Back', 'Back to previous …"
      ]
     },
     "metadata": {},
     "output_type": "display_data"
    },
    {
     "data": {
      "text/plain": [
       "<ErrorbarContainer object of 3 artists>"
      ]
     },
     "execution_count": 44,
     "metadata": {},
     "output_type": "execute_result"
    }
   ],
   "source": [
    "C=cubicarray(list(grid), True)\n",
    "dic, dics=datadicG(data[1], data[2],cubicharmonics.Gvecgenerateall(500)[1:])\n",
    "gplot, dataplot, datasigmaplot=datiplot(C, dic, dics)\n",
    "C=cubicarray(grid[:N], True)\n",
    "dic, dics=datadicG(y_infer, np.sqrt(sy_infer), grid[:N])\n",
    "gplotfit, dataplotfit, datasigmaplotfit=datiplot(C, dic, dics)\n",
    "%matplotlib widget\n",
    "\n",
    "plt.fill_between(gplotfit, dataplotfit+datasigmaplotfit, dataplotfit-datasigmaplotfit,  alpha=0.3, color='red')\n",
    "plt.plot(gplotfit, dataplotfit, color='red')\n",
    "plt.errorbar(gplot, dataplot,datasigmaplot, fmt='.')"
   ]
  },
  {
   "cell_type": "code",
   "execution_count": null,
   "id": "5a4d4925",
   "metadata": {},
   "outputs": [],
   "source": []
  }
 ],
 "metadata": {
  "kernelspec": {
   "display_name": "Python 3 (ipykernel)",
   "language": "python",
   "name": "python3"
  },
  "language_info": {
   "codemirror_mode": {
    "name": "ipython",
    "version": 3
   },
   "file_extension": ".py",
   "mimetype": "text/x-python",
   "name": "python",
   "nbconvert_exporter": "python",
   "pygments_lexer": "ipython3",
   "version": "3.9.7"
  }
 },
 "nbformat": 4,
 "nbformat_minor": 5
}
