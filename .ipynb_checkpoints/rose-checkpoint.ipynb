{
 "cells": [
  {
   "cell_type": "code",
   "execution_count": 1,
   "id": "9562daf8",
   "metadata": {},
   "outputs": [],
   "source": [
    "import numpy as np\n",
    "from modules import bayesianL\n",
    "from modules import cubicharmonics\n",
    "import matplotlib.pyplot as plt\n",
    "import copy"
   ]
  },
  {
   "cell_type": "code",
   "execution_count": 2,
   "id": "dfcda566",
   "metadata": {},
   "outputs": [
    {
     "name": "stdout",
     "output_type": "stream",
     "text": [
      "[1. 0. 0.] [0. 0. 1.] [0. 1. 0.]\n"
     ]
    }
   ],
   "source": [
    "#Carico i dati in data e li ordino in sdata e grid\n",
    "\n",
    "data=np.transpose(np.loadtxt('../nlttk.out'))\n",
    "\n",
    "sdata, grid = bayesianL.generatesorteddata(data, 500)"
   ]
  },
  {
   "cell_type": "code",
   "execution_count": 3,
   "id": "284223d1",
   "metadata": {},
   "outputs": [
    {
     "name": "stdout",
     "output_type": "stream",
     "text": [
      "numero di elementi:  499\n",
      "numero cicli teornicamente necessari 373501\n",
      "numero cicli compiuti 381\n",
      "numero di elementi non equivalenti per simmetria cubica:  118\n"
     ]
    }
   ],
   "source": [
    "#Medio i dati su tutti i punti equivalenti per simmetria cubica e \n",
    "#ritorno la lista dei nuovi dati 'simmetrizzati' in gplot e sd\n",
    "C=bayesianL.cubicarray(list(grid), True)\n",
    "dic, dics=bayesianL.datadicG(data[1], data[2],cubicharmonics.Gvecgenerateall(500)[1:])\n",
    "gplot, dataplot, datasigmaplot=bayesianL.datiplot(C, dic, dics)\n",
    "sd=np.array([dataplot, datasigmaplot])"
   ]
  },
  {
   "cell_type": "code",
   "execution_count": 29,
   "id": "e7a4d091",
   "metadata": {},
   "outputs": [],
   "source": [
    "rosa=[]\n",
    "for i in range(len(C)):\n",
    "    rosai=[]\n",
    "    for j in range(len(C[i])):\n",
    "        rosai.append([C[i][j], dic[tuple(C[i][j])], dics[tuple(C[i][j])]*3.333])\n",
    "    rosa.append(rosai)\n",
    "        "
   ]
  },
  {
   "cell_type": "code",
   "execution_count": 32,
   "id": "299050a8",
   "metadata": {},
   "outputs": [
    {
     "data": {
      "text/plain": [
       "[[array([0., 4., 1.]), 0.24625895577802828, 0.015562386022656688],\n",
       " [array([1., 4., 0.]), 0.2536899318460588, 0.024772880087869594],\n",
       " [array([0., 1., 4.]), 0.25653834883504845, 0.019035357959061763],\n",
       " [array([4., 0., 1.]), 0.2682324436419557, 0.03414574948042741],\n",
       " [array([1., 0., 4.]), 0.22329812504988997, 0.009713109129143515],\n",
       " [array([4., 1., 0.]), 0.2709961328985923, 0.023891778955071323]]"
      ]
     },
     "execution_count": 32,
     "metadata": {},
     "output_type": "execute_result"
    }
   ],
   "source": [
    "rosa[15]"
   ]
  },
  {
   "cell_type": "code",
   "execution_count": null,
   "id": "bbe36ed0",
   "metadata": {},
   "outputs": [],
   "source": []
  }
 ],
 "metadata": {
  "kernelspec": {
   "display_name": "Python 3 (ipykernel)",
   "language": "python",
   "name": "python3"
  },
  "language_info": {
   "codemirror_mode": {
    "name": "ipython",
    "version": 3
   },
   "file_extension": ".py",
   "mimetype": "text/x-python",
   "name": "python",
   "nbconvert_exporter": "python",
   "pygments_lexer": "ipython3",
   "version": "3.9.7"
  }
 },
 "nbformat": 4,
 "nbformat_minor": 5
}
