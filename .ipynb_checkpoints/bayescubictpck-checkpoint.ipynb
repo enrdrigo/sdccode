{
 "cells": [
  {
   "cell_type": "code",
   "execution_count": 12,
   "id": "b6d1cc29",
   "metadata": {},
   "outputs": [],
   "source": [
    "import numpy as np\n",
    "from modules import bayesianL\n",
    "from modules import cubicharmonics\n",
    "import matplotlib.pyplot as plt\n",
    "import copy"
   ]
  },
  {
   "cell_type": "code",
   "execution_count": 13,
   "id": "98f0de22",
   "metadata": {},
   "outputs": [
    {
     "name": "stdout",
     "output_type": "stream",
     "text": [
      "[1. 0. 0.] [0. 1. 0.] [0. 0. 1.]\n"
     ]
    }
   ],
   "source": [
    "#Carico i dati in data e li ordino in sdata e grid\n",
    "\n",
    "data=np.transpose(np.loadtxt('../nlttk.out'))\n",
    "\n",
    "sdata, grid = bayesianL.generatesorteddata(data, 500)"
   ]
  },
  {
   "cell_type": "code",
   "execution_count": 14,
   "id": "7848d670",
   "metadata": {},
   "outputs": [
    {
     "name": "stdout",
     "output_type": "stream",
     "text": [
      "numero di elementi:  499\n",
      "numero cicli teornicamente necessari 373501\n",
      "numero cicli compiuti 381\n",
      "numero di elementi non equivalenti per simmetria cubica:  118\n"
     ]
    }
   ],
   "source": [
    "#Medio i dati su tutti i punti equivalenti per simmetria cubica e \n",
    "#ritorno la lista dei nuovi dati 'simmetrizzati' in gplot e sd\n",
    "C=bayesianL.cubicarray(list(grid), True)\n",
    "dic, dics=bayesianL.datadicG(data[1], data[2],cubicharmonics.Gvecgenerateall(500)[1:])\n",
    "gplot, dataplot, datasigmaplot=bayesianL.datiplot(C, dic, dics)\n",
    "sd=np.array([dataplot, datasigmaplot*np.sqrt(10.0)])"
   ]
  },
  {
   "cell_type": "code",
   "execution_count": 34,
   "id": "6e3d9226",
   "metadata": {},
   "outputs": [
    {
     "name": "stderr",
     "output_type": "stream",
     "text": [
      "WARNING:root:HO IMPOSTATO A MANO CHE 2\\PI/L = 0.13484487571168569\n"
     ]
    },
    {
     "name": "stdout",
     "output_type": "stream",
     "text": [
      "parametri ottimali [   0.81670085  -24.37911194  -12.01120299  156.50296284  199.43268423\n",
      " -648.13562511   89.99967438  141.85700442  -29.16955229  181.4248278\n",
      " -140.88999295  100.3058208  -208.80109409   72.5553748   -10.73686847\n",
      "  101.44872849   -7.88087689  -81.22081163   -8.80855156  -15.06053876\n",
      "   63.58159576  -10.91126429    9.53919977  -17.81275937    5.14526211]\n",
      "numero di armoniche cubiche 14\n",
      "valore a kmin inferito 0.6590132955674483 bias 0.8167008522313445 dato a kmin 0.7147155658198961\n",
      "determinante matrice delle armoniche cubiche ridotte: 1485.1102470113951\n"
     ]
    }
   ],
   "source": [
    "#Calcolo il fit bayesiano con glot e sd come test\n",
    "N=35\n",
    "mN, SN, y_infer, sy_infer=\\\n",
    "bayesianL.bayesianpol(gplot, sd, 10, N, 0.000005, gplot, ifprint= True, ifwarning= True)"
   ]
  },
  {
   "cell_type": "code",
   "execution_count": 35,
   "id": "9c2cc8fb",
   "metadata": {},
   "outputs": [
    {
     "name": "stdout",
     "output_type": "stream",
     "text": [
      "numero di elementi:  499\n",
      "numero cicli teornicamente necessari 373501\n",
      "numero cicli compiuti 381\n",
      "numero di elementi non equivalenti per simmetria cubica:  118\n"
     ]
    },
    {
     "data": {
      "application/vnd.jupyter.widget-view+json": {
       "model_id": "154b1782f4ea4210a80cebcab81c34af",
       "version_major": 2,
       "version_minor": 0
      },
      "text/plain": [
       "Canvas(toolbar=Toolbar(toolitems=[('Home', 'Reset original view', 'home', 'home'), ('Back', 'Back to previous …"
      ]
     },
     "metadata": {},
     "output_type": "display_data"
    },
    {
     "data": {
      "text/plain": [
       "<ErrorbarContainer object of 3 artists>"
      ]
     },
     "execution_count": 35,
     "metadata": {},
     "output_type": "execute_result"
    }
   ],
   "source": [
    "#Plotto il fit e i dati (gplot e sd)\n",
    "C=bayesianL.cubicarray(list(grid), True)\n",
    "dic, dics=bayesianL.datadicG(data[1], data[2],cubicharmonics.Gvecgenerateall(500)[1:])\n",
    "gplot, dataplot, datasigmaplot=bayesianL.datiplot(C, dic, dics)\n",
    "%matplotlib widget\n",
    "\n",
    "plt.fill_between(np.linalg.norm(gplot[:N], axis=1), y_infer+np.sqrt(sy_infer), y_infer-np.sqrt(sy_infer),  alpha=0.3, color='red')\n",
    "plt.plot(np.linalg.norm(gplot[:N], axis=1), y_infer, '.-', color='red')\n",
    "plt.errorbar(np.linalg.norm(gplot, axis=1), dataplot,datasigmaplot*np.sqrt(10.), fmt='.')"
   ]
  },
  {
   "cell_type": "code",
   "execution_count": 36,
   "id": "29958e29",
   "metadata": {
    "scrolled": true
   },
   "outputs": [
    {
     "name": "stdout",
     "output_type": "stream",
     "text": [
      "parametri ottimali [ 0.5657229  -6.03833154  2.55557005  2.88699343  0.70352368  0.36214841\n",
      "  0.6455823  -2.07107819 -0.8588599  -0.43353364 -0.33024889  1.01993569\n",
      "  0.20817425  0.08987359  0.43732661 -0.55894255]\n",
      "numero di armoniche cubiche 8\n",
      "valore a kmin inferito 0.5215632695559207 bias 0.5657229001256775 dato a kmin 0.7147155658198961\n",
      "determinante matrice delle armoniche cubiche ridotte: 4791018936458415.0\n",
      "grado ottimale 14 grado massimo tentato 28\n"
     ]
    }
   ],
   "source": [
    "#Calcolo il best fit su gplot e sd con 30 dati\n",
    "\n",
    "mN, SN, y_infer, sy_infer, spar, log_evidence_vP=\\\n",
    "bayesianL.bestfit(gplot, sd, N, gplot, ifprintbestfit= False, ifprintfinal= True)"
   ]
  },
  {
   "cell_type": "code",
   "execution_count": 37,
   "id": "d95e4d7f",
   "metadata": {},
   "outputs": [
    {
     "data": {
      "application/vnd.jupyter.widget-view+json": {
       "model_id": "abce082efe9b49a8af8d1c01e0cc5e7b",
       "version_major": 2,
       "version_minor": 0
      },
      "text/plain": [
       "Canvas(toolbar=Toolbar(toolitems=[('Home', 'Reset original view', 'home', 'home'), ('Back', 'Back to previous …"
      ]
     },
     "metadata": {},
     "output_type": "display_data"
    },
    {
     "data": {
      "text/plain": [
       "[<matplotlib.lines.Line2D at 0x7fbc0d551130>]"
      ]
     },
     "execution_count": 37,
     "metadata": {},
     "output_type": "execute_result"
    }
   ],
   "source": [
    "#Plotto la funzione di evidence che ho massimizzato per il best fit nella cella precedente\n",
    "%matplotlib widget\n",
    "plt.plot(range(2,(len(log_evidence_vP)+1)*2, 2), log_evidence_vP, '.')"
   ]
  },
  {
   "cell_type": "code",
   "execution_count": 38,
   "id": "dc981405",
   "metadata": {},
   "outputs": [
    {
     "name": "stdout",
     "output_type": "stream",
     "text": [
      "numero di elementi:  499\n",
      "numero cicli teornicamente necessari 373501\n",
      "numero cicli compiuti 381\n",
      "numero di elementi non equivalenti per simmetria cubica:  118\n"
     ]
    },
    {
     "data": {
      "application/vnd.jupyter.widget-view+json": {
       "model_id": "9a455913d61644c594ed5dbf448b8e79",
       "version_major": 2,
       "version_minor": 0
      },
      "text/plain": [
       "Canvas(toolbar=Toolbar(toolitems=[('Home', 'Reset original view', 'home', 'home'), ('Back', 'Back to previous …"
      ]
     },
     "metadata": {},
     "output_type": "display_data"
    },
    {
     "data": {
      "text/plain": [
       "<ErrorbarContainer object of 3 artists>"
      ]
     },
     "execution_count": 38,
     "metadata": {},
     "output_type": "execute_result"
    }
   ],
   "source": [
    "#Plotto il best fit e i dati (gplot e sd)\n",
    "C=bayesianL.cubicarray(list(grid), True)\n",
    "dic, dics=bayesianL.datadicG(data[1], data[2],cubicharmonics.Gvecgenerateall(500)[1:])\n",
    "gplot, dataplot, datasigmaplot=bayesianL.datiplot(C, dic, dics)\n",
    "%matplotlib widget\n",
    "\n",
    "plt.fill_between(np.linalg.norm(gplot[:N], axis=1), y_infer+np.sqrt(sy_infer), y_infer-np.sqrt(sy_infer),  alpha=0.3, color='red')\n",
    "plt.plot(np.linalg.norm(gplot[:N], axis=1), y_infer, '.-', color='red')\n",
    "plt.errorbar(np.linalg.norm(gplot, axis=1), dataplot,datasigmaplot*np.sqrt(10.), fmt='.')"
   ]
  },
  {
   "cell_type": "code",
   "execution_count": 19,
   "id": "50bdcc6a",
   "metadata": {
    "scrolled": true
   },
   "outputs": [
    {
     "name": "stdout",
     "output_type": "stream",
     "text": [
      "0 %\n",
      "10 %\n",
      "20 %\n",
      "30 %\n",
      "40 %\n",
      "50 %\n",
      "60 %\n",
      "70 %\n",
      "80 %\n",
      "90 %\n",
      "100 %\n"
     ]
    }
   ],
   "source": [
    "#Calcolo il best fit includendo sempre piu' punti \n",
    "predb=[]\n",
    "spredb=[]\n",
    "Npointsb=[]\n",
    "for N in range(10, 101):\n",
    "    mN, SN, y_infer, sy_infer, spar, log_evidence_vP=\\\n",
    "    bayesianL.bestfit(gplot, sd, N, gplot, ifprintbestfit=False, ifprintfinal=False)\n",
    "    Npointsb.append(np.linalg.norm(gplot[N]))\n",
    "    if (N-10)%(90//10)==0: print(int((N-10)/90*100), '%')\n",
    "    predb.append(mN[0])\n",
    "    spredb.append(SN[0,0])"
   ]
  },
  {
   "cell_type": "code",
   "execution_count": 20,
   "id": "6c580235",
   "metadata": {
    "scrolled": false
   },
   "outputs": [
    {
     "name": "stdout",
     "output_type": "stream",
     "text": [
      "model average prediction 0.5668613790629051 0.010253221411993555\n"
     ]
    }
   ],
   "source": [
    "#Calcolo il model averaging su gplot  e sd con 30 punti\n",
    "N=20\n",
    "mr, sr, logevidence=\\\n",
    "bayesianL.bayesianmodelprediction(gplot, sd, N, gplot, ifprintmodpred=False, ifprintfinal=True)"
   ]
  },
  {
   "cell_type": "code",
   "execution_count": 21,
   "id": "668790b9",
   "metadata": {
    "scrolled": true
   },
   "outputs": [
    {
     "name": "stdout",
     "output_type": "stream",
     "text": [
      "0 %\n",
      "10 %\n",
      "20 %\n",
      "30 %\n",
      "40 %\n",
      "50 %\n",
      "60 %\n",
      "70 %\n",
      "80 %\n",
      "90 %\n",
      "100 %\n"
     ]
    }
   ],
   "source": [
    "#Calcolo il model averaging includendo sempre piu' punti \n",
    "preda=[]\n",
    "spreda=[]\n",
    "Npointsa=[]\n",
    "for N in range(10, 101):\n",
    "    \n",
    "    mr, sr, logevidence=\\\n",
    "    bayesianL.bayesianmodelprediction(gplot, sd, N, gplot, ifprintmodpred=False, ifprintfinal=False)\n",
    "    Npointsa.append(np.linalg.norm(gplot[N]))\n",
    "    if (N-10)%(90//10)==0: print(int((N-10)/90*100), '%')\n",
    "    preda.append(mr)\n",
    "    spreda.append(sr)"
   ]
  },
  {
   "cell_type": "code",
   "execution_count": 22,
   "id": "def85678",
   "metadata": {},
   "outputs": [
    {
     "data": {
      "application/vnd.jupyter.widget-view+json": {
       "model_id": "1039eab27bb64b719e0b6070e0e247a8",
       "version_major": 2,
       "version_minor": 0
      },
      "text/plain": [
       "Canvas(toolbar=Toolbar(toolitems=[('Home', 'Reset original view', 'home', 'home'), ('Back', 'Back to previous …"
      ]
     },
     "metadata": {},
     "output_type": "display_data"
    }
   ],
   "source": [
    "%matplotlib widget\n",
    "fig, ax=plt.subplots(3,constrained_layout=True, figsize=[9,9])\n",
    "\n",
    "\n",
    "ax[0].set_title('Bayesian model averaging prediction at k=0 with data in range $[: k_{max}]$')\n",
    "\n",
    "ax[0].errorbar(np.array(Npointsa), np.array(preda), np.sqrt(np.array(spreda)), fmt='.')\n",
    "ax[0].plot(np.array(Npointsa), np.ones(len(Npointsa))*0.816, label='GK result')\n",
    "    \n",
    "ax[0].set_xlabel('$k_{max} (nm^{-1})$')\n",
    "ax[0].set_ylabel('prediction at k=0')\n",
    "ax[0].legend()\n",
    "ax[1].set_title('Bayesian best model prediction at k=0 with data in range $[: k_{max}]$')\n",
    "\n",
    "ax[1].errorbar(np.array(Npointsb), np.array(predb), np.sqrt(np.array(spredb)), fmt='.')\n",
    "ax[1].plot(np.array(Npointsb), np.ones(len(Npointsb))*0.816, label='GK result')    \n",
    "ax[1].set_xlabel('$k_{max} (nm^{-1})$')\n",
    "ax[1].set_ylabel('prediction at k=0')\n",
    "ax[1].legend()\n",
    "ax[2].set_title('Data')\n",
    "\n",
    "ax[2].errorbar(np.linalg.norm(gplot, axis=1), dataplot,datasigmaplot*np.sqrt(10.), fmt='.', label='3375 water molecules at 300k 30ns') \n",
    "\n",
    "ax[2].legend()\n",
    "\n",
    "ax[2].set_xlabel(r'k ($nm^{-1}$)')\n",
    "plt.savefig('testnlttcubic.pdf')"
   ]
  },
  {
   "cell_type": "code",
   "execution_count": null,
   "id": "f50589ff",
   "metadata": {},
   "outputs": [],
   "source": []
  }
 ],
 "metadata": {
  "kernelspec": {
   "display_name": "Python 3 (ipykernel)",
   "language": "python",
   "name": "python3"
  },
  "language_info": {
   "codemirror_mode": {
    "name": "ipython",
    "version": 3
   },
   "file_extension": ".py",
   "mimetype": "text/x-python",
   "name": "python",
   "nbconvert_exporter": "python",
   "pygments_lexer": "ipython3",
   "version": "3.9.7"
  }
 },
 "nbformat": 4,
 "nbformat_minor": 5
}
