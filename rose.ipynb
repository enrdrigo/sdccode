{
 "cells": [
  {
   "cell_type": "code",
   "execution_count": 1,
   "id": "21a0c1e6",
   "metadata": {},
   "outputs": [],
   "source": [
    "import numpy as np\n",
    "from modules import bayesianL\n",
    "from modules import cubicharmonics\n",
    "import matplotlib.pyplot as plt\n",
    "import copy"
   ]
  },
  {
   "cell_type": "code",
   "execution_count": 2,
   "id": "2189e1f8",
   "metadata": {},
   "outputs": [
    {
     "name": "stdout",
     "output_type": "stream",
     "text": [
      "[1. 0. 0.] [0. 0. 1.] [0. 1. 0.]\n"
     ]
    }
   ],
   "source": [
    "#Carico i dati in data e li ordino in sdata e grid\n",
    "\n",
    "data=np.transpose(np.loadtxt('../nlttk.out'))\n",
    "\n",
    "sdata, grid = bayesianL.generatesorteddata(data, 500)"
   ]
  },
  {
   "cell_type": "code",
   "execution_count": 3,
   "id": "edd7e281",
   "metadata": {},
   "outputs": [
    {
     "name": "stdout",
     "output_type": "stream",
     "text": [
      "numero di elementi:  499\n",
      "numero cicli teornicamente necessari 373501\n",
      "numero cicli compiuti 381\n",
      "numero di elementi non equivalenti per simmetria cubica:  118\n"
     ]
    }
   ],
   "source": [
    "#Medio i dati su tutti i punti equivalenti per simmetria cubica e \n",
    "#ritorno la lista dei nuovi dati 'simmetrizzati' in gplot e sd\n",
    "C=bayesianL.cubicarray(list(grid), True)\n",
    "dic, dics=bayesianL.datadicG(data[1], data[2],cubicharmonics.Gvecgenerateall(500)[1:])\n",
    "gplot, dataplot, datasigmaplot=bayesianL.datiplot(C, dic, dics)\n",
    "sd=np.array([dataplot, datasigmaplot])"
   ]
  },
  {
   "cell_type": "code",
   "execution_count": 4,
   "id": "6db19332",
   "metadata": {},
   "outputs": [],
   "source": [
    "rosa=[]\n",
    "for i in range(len(C)):\n",
    "    rosai=[]\n",
    "    for j in range(len(C[i])):\n",
    "        rosai.append([C[i][j], dic[tuple(C[i][j])], dics[tuple(C[i][j])]*3.333])\n",
    "    rosa.append(rosai)\n",
    "        "
   ]
  },
  {
   "cell_type": "code",
   "execution_count": 5,
   "id": "c92df6ce",
   "metadata": {},
   "outputs": [
    {
     "data": {
      "text/plain": [
       "[[array([1., 1., 0.]), 0.5384008669805042, 0.05229368460568331],\n",
       " [array([0., 1., 1.]), 0.5261838273834636, 0.043855471618202635],\n",
       " [array([1., 0., 1.]), 0.4978480496187918, 0.04239486747340705]]"
      ]
     },
     "execution_count": 5,
     "metadata": {},
     "output_type": "execute_result"
    }
   ],
   "source": [
    "rosa[1]"
   ]
  },
  {
   "cell_type": "code",
   "execution_count": null,
   "id": "bfcf8679",
   "metadata": {},
   "outputs": [],
   "source": []
  }
 ],
 "metadata": {
  "kernelspec": {
   "display_name": "Python 3 (ipykernel)",
   "language": "python",
   "name": "python3"
  },
  "language_info": {
   "codemirror_mode": {
    "name": "ipython",
    "version": 3
   },
   "file_extension": ".py",
   "mimetype": "text/x-python",
   "name": "python",
   "nbconvert_exporter": "python",
   "pygments_lexer": "ipython3",
   "version": "3.9.7"
  }
 },
 "nbformat": 4,
 "nbformat_minor": 5
}
