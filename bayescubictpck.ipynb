{
 "cells": [
  {
   "cell_type": "code",
   "execution_count": 1,
   "id": "b6d1cc29",
   "metadata": {},
   "outputs": [],
   "source": [
    "import numpy as np\n",
    "from modules import bayesianL\n",
    "from modules import cubicharmonics\n",
    "import matplotlib.pyplot as plt\n",
    "import copy"
   ]
  },
  {
   "cell_type": "code",
   "execution_count": 2,
   "id": "98f0de22",
   "metadata": {},
   "outputs": [
    {
     "name": "stdout",
     "output_type": "stream",
     "text": [
      "[0. 1. 0.] [0. 0. 1.] [1. 0. 0.]\n"
     ]
    }
   ],
   "source": [
    "#Carico i dati in data e li ordino in sdata e grid\n",
    "\n",
    "data=np.transpose(np.loadtxt('../thermopolarizationresponse.out'))\n",
    "\n",
    "sdata, grid = bayesianL.generatesorteddata(data, 500)"
   ]
  },
  {
   "cell_type": "code",
   "execution_count": 3,
   "id": "7848d670",
   "metadata": {},
   "outputs": [
    {
     "name": "stdout",
     "output_type": "stream",
     "text": [
      "numero di elementi:  499\n",
      "numero cicli teornicamente necessari 373501\n",
      "numero cicli compiuti 381\n",
      "numero di elementi non equivalenti per simmetria cubica:  118\n"
     ]
    }
   ],
   "source": [
    "#Medio i dati su tutti i punti equivalenti per simmetria cubica e \n",
    "#ritorno la lista dei nuovi dati 'simmetrizzati' in gplot e sd\n",
    "C=bayesianL.cubicarray(list(grid), True)\n",
    "dic, dics=bayesianL.datadicG(data[1], data[2],cubicharmonics.Gvecgenerateall(500)[1:])\n",
    "gplot, dataplot, datasigmaplot=bayesianL.datiplot(C, dic, dics)\n",
    "sd=np.array([dataplot, datasigmaplot])"
   ]
  },
  {
   "cell_type": "code",
   "execution_count": 4,
   "id": "6e3d9226",
   "metadata": {},
   "outputs": [
    {
     "name": "stderr",
     "output_type": "stream",
     "text": [
      "WARNING:root:HO IMPOSTATO A MANO CHE 2\\PI/L = 0.13484487571168569\n"
     ]
    },
    {
     "name": "stdout",
     "output_type": "stream",
     "text": [
      "parametri ottimali [ 0.00277506  0.01147751 -0.15971614  0.54601284  0.11702633  0.33892295\n",
      "  0.166861   -0.30763027 -0.11112603 -0.28677292  0.30907324  0.05568825\n",
      "  0.31167945 -0.18556506 -0.08065821 -0.18297158  0.05108597  0.1673547\n",
      "  0.05984718  0.02241794 -0.15179457 -0.00602741 -0.01944471  0.0536847\n",
      " -0.00345853]\n",
      "numero di armoniche cubiche 14\n",
      "valore a kmin inferito 0.0028384367993449823 bias 0.002775063061096094 dato a kmin 0.0029604125925925813\n",
      "determinante matrice delle armoniche cubiche ridotte: 7.853103235256358e+145\n"
     ]
    }
   ],
   "source": [
    "#Calcolo il fit bayesiano con glot e sd come test\n",
    "N=35\n",
    "mN, SN, y_infer, sy_infer=\\\n",
    "bayesianL.bayesianpol(gplot, sd, 10, N, 0.000005, gplot, ifprint= True, ifwarning= True)"
   ]
  },
  {
   "cell_type": "code",
   "execution_count": 5,
   "id": "9c2cc8fb",
   "metadata": {},
   "outputs": [
    {
     "name": "stdout",
     "output_type": "stream",
     "text": [
      "numero di elementi:  499\n",
      "numero cicli teornicamente necessari 373501\n",
      "numero cicli compiuti 381\n",
      "numero di elementi non equivalenti per simmetria cubica:  118\n"
     ]
    },
    {
     "data": {
      "application/vnd.jupyter.widget-view+json": {
       "model_id": "6dec56a7e8fa441291aeb02f726673db",
       "version_major": 2,
       "version_minor": 0
      },
      "text/plain": [
       "Canvas(toolbar=Toolbar(toolitems=[('Home', 'Reset original view', 'home', 'home'), ('Back', 'Back to previous …"
      ]
     },
     "metadata": {},
     "output_type": "display_data"
    },
    {
     "data": {
      "text/plain": [
       "<ErrorbarContainer object of 3 artists>"
      ]
     },
     "execution_count": 5,
     "metadata": {},
     "output_type": "execute_result"
    }
   ],
   "source": [
    "#Plotto il fit e i dati (gplot e sd)\n",
    "C=bayesianL.cubicarray(list(grid), True)\n",
    "dic, dics=bayesianL.datadicG(data[1], data[2],cubicharmonics.Gvecgenerateall(500)[1:])\n",
    "gplot, dataplot, datasigmaplot=bayesianL.datiplot(C, dic, dics)\n",
    "%matplotlib widget\n",
    "\n",
    "plt.fill_between(np.linalg.norm(gplot[:N], axis=1), y_infer+np.sqrt(sy_infer), y_infer-np.sqrt(sy_infer),  alpha=0.3, color='red')\n",
    "plt.plot(np.linalg.norm(gplot[:N], axis=1), y_infer, '.-', color='red')\n",
    "plt.errorbar(np.linalg.norm(gplot, axis=1), dataplot,datasigmaplot, fmt='.')"
   ]
  },
  {
   "cell_type": "code",
   "execution_count": 6,
   "id": "29958e29",
   "metadata": {
    "scrolled": true
   },
   "outputs": [
    {
     "name": "stdout",
     "output_type": "stream",
     "text": [
      "parametri ottimali [0.00282806 0.0015248 ]\n",
      "numero di armoniche cubiche 2\n",
      "valore a kmin inferito 0.002839632503261264 bias 0.0028280641703593273 dato a kmin 0.0029604125925925813\n",
      "determinante matrice delle armoniche cubiche ridotte: 4.082301903684676e+19\n",
      "grado ottimale 4 grado massimo tentato 28\n"
     ]
    }
   ],
   "source": [
    "#Calcolo il best fit su gplot e sd con 30 dati\n",
    "\n",
    "mN, SN, y_infer, sy_infer, spar, log_evidence_vP=\\\n",
    "bayesianL.bestfit(gplot, sd, N, gplot, ifprintbestfit= False, ifprintfinal= True)"
   ]
  },
  {
   "cell_type": "code",
   "execution_count": 7,
   "id": "d95e4d7f",
   "metadata": {},
   "outputs": [
    {
     "data": {
      "application/vnd.jupyter.widget-view+json": {
       "model_id": "c40287db05eb43ffae2953b61fe1737d",
       "version_major": 2,
       "version_minor": 0
      },
      "text/plain": [
       "Canvas(toolbar=Toolbar(toolitems=[('Home', 'Reset original view', 'home', 'home'), ('Back', 'Back to previous …"
      ]
     },
     "metadata": {},
     "output_type": "display_data"
    },
    {
     "data": {
      "text/plain": [
       "[<matplotlib.lines.Line2D at 0x7fd59303ed30>]"
      ]
     },
     "execution_count": 7,
     "metadata": {},
     "output_type": "execute_result"
    }
   ],
   "source": [
    "#Plotto la funzione di evidence che ho massimizzato per il best fit nella cella precedente\n",
    "%matplotlib widget\n",
    "plt.plot(range(2,(len(log_evidence_vP)+1)*2, 2), log_evidence_vP, '.')"
   ]
  },
  {
   "cell_type": "code",
   "execution_count": 8,
   "id": "dc981405",
   "metadata": {},
   "outputs": [
    {
     "name": "stdout",
     "output_type": "stream",
     "text": [
      "numero di elementi:  499\n",
      "numero cicli teornicamente necessari 373501\n",
      "numero cicli compiuti 381\n",
      "numero di elementi non equivalenti per simmetria cubica:  118\n"
     ]
    },
    {
     "data": {
      "application/vnd.jupyter.widget-view+json": {
       "model_id": "cfdf12bcfd1341f7b122e1ce1855e4e3",
       "version_major": 2,
       "version_minor": 0
      },
      "text/plain": [
       "Canvas(toolbar=Toolbar(toolitems=[('Home', 'Reset original view', 'home', 'home'), ('Back', 'Back to previous …"
      ]
     },
     "metadata": {},
     "output_type": "display_data"
    },
    {
     "data": {
      "text/plain": [
       "<ErrorbarContainer object of 3 artists>"
      ]
     },
     "execution_count": 8,
     "metadata": {},
     "output_type": "execute_result"
    }
   ],
   "source": [
    "#Plotto il best fit e i dati (gplot e sd)\n",
    "C=bayesianL.cubicarray(list(grid), True)\n",
    "dic, dics=bayesianL.datadicG(data[1], data[2],cubicharmonics.Gvecgenerateall(500)[1:])\n",
    "gplot, dataplot, datasigmaplot=bayesianL.datiplot(C, dic, dics)\n",
    "%matplotlib widget\n",
    "\n",
    "plt.fill_between(np.linalg.norm(gplot[:N], axis=1), y_infer+np.sqrt(sy_infer), y_infer-np.sqrt(sy_infer),  alpha=0.3, color='red')\n",
    "plt.plot(np.linalg.norm(gplot[:N], axis=1), y_infer, '.-', color='red')\n",
    "plt.errorbar(np.linalg.norm(gplot, axis=1), dataplot,datasigmaplot, fmt='.')"
   ]
  },
  {
   "cell_type": "code",
   "execution_count": 9,
   "id": "50bdcc6a",
   "metadata": {
    "scrolled": true
   },
   "outputs": [
    {
     "name": "stdout",
     "output_type": "stream",
     "text": [
      "0 %\n",
      "10 %\n",
      "20 %\n",
      "30 %\n",
      "40 %\n",
      "50 %\n",
      "60 %\n",
      "70 %\n",
      "80 %\n",
      "90 %\n",
      "100 %\n"
     ]
    }
   ],
   "source": [
    "#Calcolo il best fit includendo sempre piu' punti \n",
    "predb=[]\n",
    "spredb=[]\n",
    "Npointsb=[]\n",
    "for N in range(10, 101):\n",
    "    mN, SN, y_infer, sy_infer, spar, log_evidence_vP=\\\n",
    "    bayesianL.bestfit(gplot, sd, N, gplot, ifprintbestfit=False, ifprintfinal=False)\n",
    "    Npointsb.append(np.linalg.norm(gplot[N]))\n",
    "    if (N-10)%(90//10)==0: print(int((N-10)/90*100), '%')\n",
    "    predb.append(mN[0])\n",
    "    spredb.append(SN[0,0])"
   ]
  },
  {
   "cell_type": "code",
   "execution_count": 10,
   "id": "6c580235",
   "metadata": {
    "scrolled": false
   },
   "outputs": [
    {
     "name": "stdout",
     "output_type": "stream",
     "text": [
      "model average prediction 0.002877225790819467 7.419861103438519e-06\n"
     ]
    }
   ],
   "source": [
    "#Calcolo il model averaging su gplot  e sd con 30 punti\n",
    "N=20\n",
    "mr, sr, logevidence=\\\n",
    "bayesianL.bayesianmodelprediction(gplot, sd, N, gplot, ifprintmodpred=False, ifprintfinal=True)"
   ]
  },
  {
   "cell_type": "code",
   "execution_count": 11,
   "id": "668790b9",
   "metadata": {
    "scrolled": true
   },
   "outputs": [
    {
     "name": "stdout",
     "output_type": "stream",
     "text": [
      "0 %\n",
      "10 %\n",
      "20 %\n",
      "30 %\n",
      "40 %\n",
      "50 %\n",
      "60 %\n",
      "70 %\n",
      "80 %\n",
      "90 %\n",
      "100 %\n"
     ]
    }
   ],
   "source": [
    "#Calcolo il model averaging includendo sempre piu' punti \n",
    "preda=[]\n",
    "spreda=[]\n",
    "Npointsa=[]\n",
    "for N in range(10, 101):\n",
    "    \n",
    "    mr, sr, logevidence=\\\n",
    "    bayesianL.bayesianmodelprediction(gplot, sd, N, gplot, ifprintmodpred=False, ifprintfinal=False)\n",
    "    Npointsa.append(np.linalg.norm(gplot[N]))\n",
    "    if (N-10)%(90//10)==0: print(int((N-10)/90*100), '%')\n",
    "    preda.append(mr)\n",
    "    spreda.append(sr)"
   ]
  },
  {
   "cell_type": "code",
   "execution_count": 32,
   "id": "def85678",
   "metadata": {},
   "outputs": [
    {
     "data": {
      "application/vnd.jupyter.widget-view+json": {
       "model_id": "fb49e98e41784c44894ff08274f0b144",
       "version_major": 2,
       "version_minor": 0
      },
      "text/plain": [
       "Canvas(toolbar=Toolbar(toolitems=[('Home', 'Reset original view', 'home', 'home'), ('Back', 'Back to previous …"
      ]
     },
     "metadata": {},
     "output_type": "display_data"
    },
    {
     "name": "stderr",
     "output_type": "stream",
     "text": [
      "WARNING:matplotlib.legend:No handles with labels found to put in legend.\n"
     ]
    },
    {
     "data": {
      "text/plain": [
       "Text(0.5, 0, 'k ($nm^{-1}$)')"
      ]
     },
     "execution_count": 32,
     "metadata": {},
     "output_type": "execute_result"
    }
   ],
   "source": [
    "%matplotlib widget\n",
    "fig, ax=plt.subplots(2,constrained_layout=True, figsize=[9,9])\n",
    "\n",
    "\n",
    "#ax[0].set_title('Bayesian model averaging prediction at k=0 with data in range $[: k_{max}]$')\n",
    "#\n",
    "#ax[0].errorbar(np.array(Npointsa), np.array(preda), np.sqrt(np.array(spreda)), fmt='.')\n",
    "#    \n",
    "#ax[0].set_xlabel('$k_{max} (nm^{-1})$')\n",
    "#ax[0].set_ylabel('prediction at k=0')\n",
    "#ax[0].legend()\n",
    "ax[0].set_title('Bayesian best model prediction at k=0 with data in range $[: k_{max}]$')\n",
    "\n",
    "ax[0].errorbar(np.array(Npointsb), np.array(predb), np.sqrt(np.array(spredb)), fmt='.')\n",
    "\n",
    "ax[0].set_xlabel('$k_{max} (nm^{-1})$')\n",
    "ax[0].set_ylabel('prediction at k=0')\n",
    "ax[0].legend()\n",
    "ax[1].set_title('Data')\n",
    "\n",
    "ax[1].errorbar(np.linalg.norm(gplot, axis=1), dataplot,datasigmaplot, fmt='.', label='3375 water molecules at 300k 30ns') \n",
    "\n",
    "ax[1].legend()\n",
    "\n",
    "ax[1].set_xlabel(r'k ($nm^{-1}$)')"
   ]
  },
  {
   "cell_type": "code",
   "execution_count": null,
   "id": "0f252e61",
   "metadata": {},
   "outputs": [],
   "source": []
  }
 ],
 "metadata": {
  "kernelspec": {
   "display_name": "Python 3 (ipykernel)",
   "language": "python",
   "name": "python3"
  },
  "language_info": {
   "codemirror_mode": {
    "name": "ipython",
    "version": 3
   },
   "file_extension": ".py",
   "mimetype": "text/x-python",
   "name": "python",
   "nbconvert_exporter": "python",
   "pygments_lexer": "ipython3",
   "version": "3.9.7"
  }
 },
 "nbformat": 4,
 "nbformat_minor": 5
}
